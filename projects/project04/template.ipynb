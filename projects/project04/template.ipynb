{
 "cells": [
  {
   "cell_type": "markdown",
   "metadata": {},
   "source": [
    "# Your Title Here\n",
    "\n",
    "**Name(s)**: Jacob Doan, Vanessa Feng\n",
    "\n",
    "**Website Link**: (your website link)"
   ]
  },
  {
   "cell_type": "code",
   "execution_count": 20,
   "metadata": {
    "ExecuteTime": {
     "end_time": "2019-10-31T23:36:28.652554Z",
     "start_time": "2019-10-31T23:36:27.180520Z"
    }
   },
   "outputs": [],
   "source": [
    "import pandas as pd\n",
    "import numpy as np\n",
    "from pathlib import Path\n",
    "\n",
    "import plotly.express as px\n",
    "pd.options.plotting.backend = 'plotly'\n",
    "\n",
    "# from dsc80_utils import * # Feel free to uncomment and use this."
   ]
  },
  {
   "cell_type": "markdown",
   "metadata": {},
   "source": [
    "## Step 1: Introduction"
   ]
  },
  {
   "cell_type": "code",
   "execution_count": 11,
   "metadata": {},
   "outputs": [
    {
     "name": "stderr",
     "output_type": "stream",
     "text": [
      "C:\\Users\\Jacob Doan\\AppData\\Local\\Temp\\ipykernel_5900\\3418044876.py:1: DtypeWarning: Columns (2) have mixed types. Specify dtype option on import or set low_memory=False.\n",
      "  df = pd.read_csv('2024_LoL_esports_match_data_from_OraclesElixir.csv')\n"
     ]
    },
    {
     "data": {
      "text/html": [
       "<div>\n",
       "<style scoped>\n",
       "    .dataframe tbody tr th:only-of-type {\n",
       "        vertical-align: middle;\n",
       "    }\n",
       "\n",
       "    .dataframe tbody tr th {\n",
       "        vertical-align: top;\n",
       "    }\n",
       "\n",
       "    .dataframe thead th {\n",
       "        text-align: right;\n",
       "    }\n",
       "</style>\n",
       "<table border=\"1\" class=\"dataframe\">\n",
       "  <thead>\n",
       "    <tr style=\"text-align: right;\">\n",
       "      <th></th>\n",
       "      <th>gameid</th>\n",
       "      <th>datacompleteness</th>\n",
       "      <th>url</th>\n",
       "      <th>league</th>\n",
       "      <th>year</th>\n",
       "      <th>split</th>\n",
       "      <th>playoffs</th>\n",
       "      <th>date</th>\n",
       "      <th>game</th>\n",
       "      <th>patch</th>\n",
       "      <th>...</th>\n",
       "      <th>opp_csat25</th>\n",
       "      <th>golddiffat25</th>\n",
       "      <th>xpdiffat25</th>\n",
       "      <th>csdiffat25</th>\n",
       "      <th>killsat25</th>\n",
       "      <th>assistsat25</th>\n",
       "      <th>deathsat25</th>\n",
       "      <th>opp_killsat25</th>\n",
       "      <th>opp_assistsat25</th>\n",
       "      <th>opp_deathsat25</th>\n",
       "    </tr>\n",
       "  </thead>\n",
       "  <tbody>\n",
       "    <tr>\n",
       "      <th>0</th>\n",
       "      <td>10660-10660_game_1</td>\n",
       "      <td>partial</td>\n",
       "      <td>https://lpl.qq.com/es/stats.shtml?bmid=10660</td>\n",
       "      <td>DCup</td>\n",
       "      <td>2023</td>\n",
       "      <td>NaN</td>\n",
       "      <td>0</td>\n",
       "      <td>2024-01-01 05:13:15</td>\n",
       "      <td>1</td>\n",
       "      <td>13.24</td>\n",
       "      <td>...</td>\n",
       "      <td>NaN</td>\n",
       "      <td>NaN</td>\n",
       "      <td>NaN</td>\n",
       "      <td>NaN</td>\n",
       "      <td>NaN</td>\n",
       "      <td>NaN</td>\n",
       "      <td>NaN</td>\n",
       "      <td>NaN</td>\n",
       "      <td>NaN</td>\n",
       "      <td>NaN</td>\n",
       "    </tr>\n",
       "    <tr>\n",
       "      <th>1</th>\n",
       "      <td>10660-10660_game_1</td>\n",
       "      <td>partial</td>\n",
       "      <td>https://lpl.qq.com/es/stats.shtml?bmid=10660</td>\n",
       "      <td>DCup</td>\n",
       "      <td>2023</td>\n",
       "      <td>NaN</td>\n",
       "      <td>0</td>\n",
       "      <td>2024-01-01 05:13:15</td>\n",
       "      <td>1</td>\n",
       "      <td>13.24</td>\n",
       "      <td>...</td>\n",
       "      <td>NaN</td>\n",
       "      <td>NaN</td>\n",
       "      <td>NaN</td>\n",
       "      <td>NaN</td>\n",
       "      <td>NaN</td>\n",
       "      <td>NaN</td>\n",
       "      <td>NaN</td>\n",
       "      <td>NaN</td>\n",
       "      <td>NaN</td>\n",
       "      <td>NaN</td>\n",
       "    </tr>\n",
       "    <tr>\n",
       "      <th>2</th>\n",
       "      <td>10660-10660_game_1</td>\n",
       "      <td>partial</td>\n",
       "      <td>https://lpl.qq.com/es/stats.shtml?bmid=10660</td>\n",
       "      <td>DCup</td>\n",
       "      <td>2023</td>\n",
       "      <td>NaN</td>\n",
       "      <td>0</td>\n",
       "      <td>2024-01-01 05:13:15</td>\n",
       "      <td>1</td>\n",
       "      <td>13.24</td>\n",
       "      <td>...</td>\n",
       "      <td>NaN</td>\n",
       "      <td>NaN</td>\n",
       "      <td>NaN</td>\n",
       "      <td>NaN</td>\n",
       "      <td>NaN</td>\n",
       "      <td>NaN</td>\n",
       "      <td>NaN</td>\n",
       "      <td>NaN</td>\n",
       "      <td>NaN</td>\n",
       "      <td>NaN</td>\n",
       "    </tr>\n",
       "    <tr>\n",
       "      <th>3</th>\n",
       "      <td>10660-10660_game_1</td>\n",
       "      <td>partial</td>\n",
       "      <td>https://lpl.qq.com/es/stats.shtml?bmid=10660</td>\n",
       "      <td>DCup</td>\n",
       "      <td>2023</td>\n",
       "      <td>NaN</td>\n",
       "      <td>0</td>\n",
       "      <td>2024-01-01 05:13:15</td>\n",
       "      <td>1</td>\n",
       "      <td>13.24</td>\n",
       "      <td>...</td>\n",
       "      <td>NaN</td>\n",
       "      <td>NaN</td>\n",
       "      <td>NaN</td>\n",
       "      <td>NaN</td>\n",
       "      <td>NaN</td>\n",
       "      <td>NaN</td>\n",
       "      <td>NaN</td>\n",
       "      <td>NaN</td>\n",
       "      <td>NaN</td>\n",
       "      <td>NaN</td>\n",
       "    </tr>\n",
       "    <tr>\n",
       "      <th>4</th>\n",
       "      <td>10660-10660_game_1</td>\n",
       "      <td>partial</td>\n",
       "      <td>https://lpl.qq.com/es/stats.shtml?bmid=10660</td>\n",
       "      <td>DCup</td>\n",
       "      <td>2023</td>\n",
       "      <td>NaN</td>\n",
       "      <td>0</td>\n",
       "      <td>2024-01-01 05:13:15</td>\n",
       "      <td>1</td>\n",
       "      <td>13.24</td>\n",
       "      <td>...</td>\n",
       "      <td>NaN</td>\n",
       "      <td>NaN</td>\n",
       "      <td>NaN</td>\n",
       "      <td>NaN</td>\n",
       "      <td>NaN</td>\n",
       "      <td>NaN</td>\n",
       "      <td>NaN</td>\n",
       "      <td>NaN</td>\n",
       "      <td>NaN</td>\n",
       "      <td>NaN</td>\n",
       "    </tr>\n",
       "    <tr>\n",
       "      <th>...</th>\n",
       "      <td>...</td>\n",
       "      <td>...</td>\n",
       "      <td>...</td>\n",
       "      <td>...</td>\n",
       "      <td>...</td>\n",
       "      <td>...</td>\n",
       "      <td>...</td>\n",
       "      <td>...</td>\n",
       "      <td>...</td>\n",
       "      <td>...</td>\n",
       "      <td>...</td>\n",
       "      <td>...</td>\n",
       "      <td>...</td>\n",
       "      <td>...</td>\n",
       "      <td>...</td>\n",
       "      <td>...</td>\n",
       "      <td>...</td>\n",
       "      <td>...</td>\n",
       "      <td>...</td>\n",
       "      <td>...</td>\n",
       "      <td>...</td>\n",
       "    </tr>\n",
       "    <tr>\n",
       "      <th>117643</th>\n",
       "      <td>LOLTMNT02_194401</td>\n",
       "      <td>complete</td>\n",
       "      <td>NaN</td>\n",
       "      <td>KeSPA</td>\n",
       "      <td>2025</td>\n",
       "      <td>NaN</td>\n",
       "      <td>0</td>\n",
       "      <td>2024-12-08 09:03:13</td>\n",
       "      <td>4</td>\n",
       "      <td>14.23</td>\n",
       "      <td>...</td>\n",
       "      <td>211.0</td>\n",
       "      <td>-1050.0</td>\n",
       "      <td>1845.0</td>\n",
       "      <td>36.0</td>\n",
       "      <td>0.0</td>\n",
       "      <td>2.0</td>\n",
       "      <td>2.0</td>\n",
       "      <td>4.0</td>\n",
       "      <td>1.0</td>\n",
       "      <td>2.0</td>\n",
       "    </tr>\n",
       "    <tr>\n",
       "      <th>117644</th>\n",
       "      <td>LOLTMNT02_194401</td>\n",
       "      <td>complete</td>\n",
       "      <td>NaN</td>\n",
       "      <td>KeSPA</td>\n",
       "      <td>2025</td>\n",
       "      <td>NaN</td>\n",
       "      <td>0</td>\n",
       "      <td>2024-12-08 09:03:13</td>\n",
       "      <td>4</td>\n",
       "      <td>14.23</td>\n",
       "      <td>...</td>\n",
       "      <td>253.0</td>\n",
       "      <td>-827.0</td>\n",
       "      <td>-702.0</td>\n",
       "      <td>-3.0</td>\n",
       "      <td>1.0</td>\n",
       "      <td>0.0</td>\n",
       "      <td>0.0</td>\n",
       "      <td>1.0</td>\n",
       "      <td>5.0</td>\n",
       "      <td>0.0</td>\n",
       "    </tr>\n",
       "    <tr>\n",
       "      <th>117645</th>\n",
       "      <td>LOLTMNT02_194401</td>\n",
       "      <td>complete</td>\n",
       "      <td>NaN</td>\n",
       "      <td>KeSPA</td>\n",
       "      <td>2025</td>\n",
       "      <td>NaN</td>\n",
       "      <td>0</td>\n",
       "      <td>2024-12-08 09:03:13</td>\n",
       "      <td>4</td>\n",
       "      <td>14.23</td>\n",
       "      <td>...</td>\n",
       "      <td>35.0</td>\n",
       "      <td>-146.0</td>\n",
       "      <td>-383.0</td>\n",
       "      <td>-5.0</td>\n",
       "      <td>0.0</td>\n",
       "      <td>4.0</td>\n",
       "      <td>2.0</td>\n",
       "      <td>0.0</td>\n",
       "      <td>5.0</td>\n",
       "      <td>2.0</td>\n",
       "    </tr>\n",
       "    <tr>\n",
       "      <th>117646</th>\n",
       "      <td>LOLTMNT02_194401</td>\n",
       "      <td>complete</td>\n",
       "      <td>NaN</td>\n",
       "      <td>KeSPA</td>\n",
       "      <td>2025</td>\n",
       "      <td>NaN</td>\n",
       "      <td>0</td>\n",
       "      <td>2024-12-08 09:03:13</td>\n",
       "      <td>4</td>\n",
       "      <td>14.23</td>\n",
       "      <td>...</td>\n",
       "      <td>847.0</td>\n",
       "      <td>3278.0</td>\n",
       "      <td>3672.0</td>\n",
       "      <td>85.0</td>\n",
       "      <td>8.0</td>\n",
       "      <td>16.0</td>\n",
       "      <td>7.0</td>\n",
       "      <td>7.0</td>\n",
       "      <td>9.0</td>\n",
       "      <td>8.0</td>\n",
       "    </tr>\n",
       "    <tr>\n",
       "      <th>117647</th>\n",
       "      <td>LOLTMNT02_194401</td>\n",
       "      <td>complete</td>\n",
       "      <td>NaN</td>\n",
       "      <td>KeSPA</td>\n",
       "      <td>2025</td>\n",
       "      <td>NaN</td>\n",
       "      <td>0</td>\n",
       "      <td>2024-12-08 09:03:13</td>\n",
       "      <td>4</td>\n",
       "      <td>14.23</td>\n",
       "      <td>...</td>\n",
       "      <td>932.0</td>\n",
       "      <td>-3278.0</td>\n",
       "      <td>-3672.0</td>\n",
       "      <td>-85.0</td>\n",
       "      <td>7.0</td>\n",
       "      <td>9.0</td>\n",
       "      <td>8.0</td>\n",
       "      <td>8.0</td>\n",
       "      <td>16.0</td>\n",
       "      <td>7.0</td>\n",
       "    </tr>\n",
       "  </tbody>\n",
       "</table>\n",
       "<p>117648 rows × 161 columns</p>\n",
       "</div>"
      ],
      "text/plain": [
       "                    gameid datacompleteness  \\\n",
       "0       10660-10660_game_1          partial   \n",
       "1       10660-10660_game_1          partial   \n",
       "2       10660-10660_game_1          partial   \n",
       "3       10660-10660_game_1          partial   \n",
       "4       10660-10660_game_1          partial   \n",
       "...                    ...              ...   \n",
       "117643    LOLTMNT02_194401         complete   \n",
       "117644    LOLTMNT02_194401         complete   \n",
       "117645    LOLTMNT02_194401         complete   \n",
       "117646    LOLTMNT02_194401         complete   \n",
       "117647    LOLTMNT02_194401         complete   \n",
       "\n",
       "                                                 url league  year split  \\\n",
       "0       https://lpl.qq.com/es/stats.shtml?bmid=10660   DCup  2023   NaN   \n",
       "1       https://lpl.qq.com/es/stats.shtml?bmid=10660   DCup  2023   NaN   \n",
       "2       https://lpl.qq.com/es/stats.shtml?bmid=10660   DCup  2023   NaN   \n",
       "3       https://lpl.qq.com/es/stats.shtml?bmid=10660   DCup  2023   NaN   \n",
       "4       https://lpl.qq.com/es/stats.shtml?bmid=10660   DCup  2023   NaN   \n",
       "...                                              ...    ...   ...   ...   \n",
       "117643                                           NaN  KeSPA  2025   NaN   \n",
       "117644                                           NaN  KeSPA  2025   NaN   \n",
       "117645                                           NaN  KeSPA  2025   NaN   \n",
       "117646                                           NaN  KeSPA  2025   NaN   \n",
       "117647                                           NaN  KeSPA  2025   NaN   \n",
       "\n",
       "        playoffs                 date  game  patch  ...  opp_csat25  \\\n",
       "0              0  2024-01-01 05:13:15     1  13.24  ...         NaN   \n",
       "1              0  2024-01-01 05:13:15     1  13.24  ...         NaN   \n",
       "2              0  2024-01-01 05:13:15     1  13.24  ...         NaN   \n",
       "3              0  2024-01-01 05:13:15     1  13.24  ...         NaN   \n",
       "4              0  2024-01-01 05:13:15     1  13.24  ...         NaN   \n",
       "...          ...                  ...   ...    ...  ...         ...   \n",
       "117643         0  2024-12-08 09:03:13     4  14.23  ...       211.0   \n",
       "117644         0  2024-12-08 09:03:13     4  14.23  ...       253.0   \n",
       "117645         0  2024-12-08 09:03:13     4  14.23  ...        35.0   \n",
       "117646         0  2024-12-08 09:03:13     4  14.23  ...       847.0   \n",
       "117647         0  2024-12-08 09:03:13     4  14.23  ...       932.0   \n",
       "\n",
       "       golddiffat25 xpdiffat25 csdiffat25 killsat25 assistsat25 deathsat25  \\\n",
       "0               NaN        NaN        NaN       NaN         NaN        NaN   \n",
       "1               NaN        NaN        NaN       NaN         NaN        NaN   \n",
       "2               NaN        NaN        NaN       NaN         NaN        NaN   \n",
       "3               NaN        NaN        NaN       NaN         NaN        NaN   \n",
       "4               NaN        NaN        NaN       NaN         NaN        NaN   \n",
       "...             ...        ...        ...       ...         ...        ...   \n",
       "117643      -1050.0     1845.0       36.0       0.0         2.0        2.0   \n",
       "117644       -827.0     -702.0       -3.0       1.0         0.0        0.0   \n",
       "117645       -146.0     -383.0       -5.0       0.0         4.0        2.0   \n",
       "117646       3278.0     3672.0       85.0       8.0        16.0        7.0   \n",
       "117647      -3278.0    -3672.0      -85.0       7.0         9.0        8.0   \n",
       "\n",
       "       opp_killsat25 opp_assistsat25 opp_deathsat25  \n",
       "0                NaN             NaN            NaN  \n",
       "1                NaN             NaN            NaN  \n",
       "2                NaN             NaN            NaN  \n",
       "3                NaN             NaN            NaN  \n",
       "4                NaN             NaN            NaN  \n",
       "...              ...             ...            ...  \n",
       "117643           4.0             1.0            2.0  \n",
       "117644           1.0             5.0            0.0  \n",
       "117645           0.0             5.0            2.0  \n",
       "117646           7.0             9.0            8.0  \n",
       "117647           8.0            16.0            7.0  \n",
       "\n",
       "[117648 rows x 161 columns]"
      ]
     },
     "execution_count": 11,
     "metadata": {},
     "output_type": "execute_result"
    }
   ],
   "source": [
    "df = pd.read_csv('2024_LoL_esports_match_data_from_OraclesElixir.csv')\n",
    "df"
   ]
  },
  {
   "cell_type": "code",
   "execution_count": 12,
   "metadata": {},
   "outputs": [],
   "source": [
    "# TODO"
   ]
  },
  {
   "cell_type": "markdown",
   "metadata": {},
   "source": [
    "## Step 2: Data Cleaning and Exploratory Data Analysis"
   ]
  },
  {
   "cell_type": "code",
   "execution_count": 13,
   "metadata": {
    "ExecuteTime": {
     "end_time": "2019-10-31T23:36:28.657068Z",
     "start_time": "2019-10-31T23:36:28.654650Z"
    }
   },
   "outputs": [],
   "source": [
    "# TODO"
   ]
  },
  {
   "cell_type": "markdown",
   "metadata": {},
   "source": [
    "## Step 3: Assessment of Missingness"
   ]
  },
  {
   "cell_type": "code",
   "execution_count": 14,
   "metadata": {
    "ExecuteTime": {
     "end_time": "2019-10-31T23:36:28.662099Z",
     "start_time": "2019-10-31T23:36:28.660016Z"
    }
   },
   "outputs": [],
   "source": [
    "# TODO"
   ]
  },
  {
   "cell_type": "markdown",
   "metadata": {},
   "source": [
    "## Step 4: Hypothesis Testing"
   ]
  },
  {
   "cell_type": "code",
   "execution_count": 15,
   "metadata": {
    "ExecuteTime": {
     "end_time": "2019-10-31T23:36:28.666489Z",
     "start_time": "2019-10-31T23:36:28.664381Z"
    }
   },
   "outputs": [],
   "source": [
    "# TODO"
   ]
  },
  {
   "cell_type": "markdown",
   "metadata": {},
   "source": [
    "## Step 5: Framing a Prediction Problem"
   ]
  },
  {
   "cell_type": "code",
   "execution_count": 16,
   "metadata": {
    "ExecuteTime": {
     "end_time": "2019-10-31T23:36:28.657068Z",
     "start_time": "2019-10-31T23:36:28.654650Z"
    }
   },
   "outputs": [],
   "source": [
    "# TODO"
   ]
  },
  {
   "cell_type": "markdown",
   "metadata": {},
   "source": [
    "## Step 6: Baseline Model"
   ]
  },
  {
   "cell_type": "code",
   "execution_count": 17,
   "metadata": {
    "ExecuteTime": {
     "end_time": "2019-10-31T23:36:28.662099Z",
     "start_time": "2019-10-31T23:36:28.660016Z"
    }
   },
   "outputs": [],
   "source": [
    "# TODO"
   ]
  },
  {
   "cell_type": "markdown",
   "metadata": {},
   "source": [
    "## Step 7: Final Model"
   ]
  },
  {
   "cell_type": "code",
   "execution_count": 18,
   "metadata": {
    "ExecuteTime": {
     "end_time": "2019-10-31T23:36:28.662099Z",
     "start_time": "2019-10-31T23:36:28.660016Z"
    }
   },
   "outputs": [],
   "source": [
    "# TODO"
   ]
  },
  {
   "cell_type": "markdown",
   "metadata": {},
   "source": [
    "## Step 8: Fairness Analysis"
   ]
  },
  {
   "cell_type": "code",
   "execution_count": 19,
   "metadata": {
    "ExecuteTime": {
     "end_time": "2019-10-31T23:36:28.666489Z",
     "start_time": "2019-10-31T23:36:28.664381Z"
    }
   },
   "outputs": [],
   "source": [
    "# TODO"
   ]
  },
  {
   "cell_type": "code",
   "execution_count": null,
   "metadata": {},
   "outputs": [],
   "source": []
  }
 ],
 "metadata": {
  "kernelspec": {
   "display_name": "dsc80",
   "language": "python",
   "name": "python3"
  },
  "language_info": {
   "codemirror_mode": {
    "name": "ipython",
    "version": 3
   },
   "file_extension": ".py",
   "mimetype": "text/x-python",
   "name": "python",
   "nbconvert_exporter": "python",
   "pygments_lexer": "ipython3",
   "version": "3.12.10"
  }
 },
 "nbformat": 4,
 "nbformat_minor": 4
}
