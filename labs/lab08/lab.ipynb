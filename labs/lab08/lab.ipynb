{
 "cells": [
  {
   "cell_type": "code",
   "execution_count": 1,
   "id": "7492232f",
   "metadata": {
    "deletable": false,
    "editable": false
   },
   "outputs": [],
   "source": [
    "# Initialize Otter\n",
    "import otter\n",
    "grader = otter.Notebook(\"lab.ipynb\")"
   ]
  },
  {
   "cell_type": "markdown",
   "id": "ae18822e",
   "metadata": {},
   "source": [
    "# Lab 8 – Feature Engineering ⚙️\n",
    "\n",
    "## DSC 80, Spring 2025\n",
    "\n",
    "### Due Date: Wednesday, May 28th at 11:59pm"
   ]
  },
  {
   "cell_type": "markdown",
   "id": "5acc3c63",
   "metadata": {},
   "source": [
    "## Instructions\n",
    "\n",
    "Welcome to the eight DSC 80 lab this quarter!\n",
    "\n",
    "Much like in DSC 10, this Jupyter Notebook contains the statements of the problems and provides code and Markdown cells to display your answers to the problems. Unlike DSC 10, the notebook is *only* for displaying a readable version of your final answers. The coding will be done in an accompanying `lab.py` file that is imported into the current notebook, and **you will only submit that `lab.py` file**, not this notebook!\n",
    "\n",
    "Some additional guidelines:\n",
    "- **Unlike in DSC 10, labs will have both public tests and hidden tests.** The bulk of your grade will come from your scores on hidden tests, which you will only see on Gradescope after the assignment deadline.\n",
    "- **Do not change the function names in the `lab.py` file!** The functions in the `lab.py` file are how your assignment is graded, and they are graded by their name. If you changed something you weren't supposed to, you can find the original code in the [course GitHub repository](https://github.com/dsc-courses/dsc80-2025-sp).\n",
    "- Notebooks are nice for testing and experimenting with different implementations before designing your function in your `lab.py` file. You can write code here, but make sure that all of your real work is in the `lab.py` file, since that's all you're submitting.\n",
    "- You are encouraged to write your own additional helper functions to solve the lab, as long as they also end up in `lab.py`.\n",
    "\n",
    "**To ensure that all of the work you want to submit is in `lab.py`, we've included a script named `lab-validation.py` in the lab folder. You shouldn't edit it, but instead, you should call it from the command line (e.g. the Terminal) to test your work.** More details on its usage are given at the bottom of this notebook.\n",
    "\n",
    "**Importing code from `lab.py`**:\n",
    "\n",
    "* Below, we import the `.py` file that's contained in the same directory as this notebook.\n",
    "* We use the `autoreload` notebook extension to make changes to our `lab.py` file immediately available in our notebook. Without this extension, we would need to restart the notebook kernel to see any changes to `lab.py` in the notebook.\n",
    "    - `autoreload` is necessary because, upon import, `lab.py` is compiled to bytecode (in the directory `__pycache__`). Subsequent imports of `lab` merely import the existing compiled python."
   ]
  },
  {
   "cell_type": "code",
   "execution_count": 2,
   "id": "0680e608",
   "metadata": {
    "scrolled": true
   },
   "outputs": [],
   "source": [
    "%load_ext autoreload\n",
    "%autoreload 2"
   ]
  },
  {
   "cell_type": "code",
   "execution_count": 3,
   "id": "6e34f136",
   "metadata": {},
   "outputs": [],
   "source": [
    "from lab import *"
   ]
  },
  {
   "cell_type": "code",
   "execution_count": 4,
   "id": "9c545fe2",
   "metadata": {},
   "outputs": [],
   "source": [
    "import pandas as pd\n",
    "import numpy as np\n",
    "import plotly.express as px\n",
    "import statsmodels.api as sm\n",
    "from pathlib import Path\n",
    "from sklearn.preprocessing import Binarizer, QuantileTransformer, FunctionTransformer\n",
    "\n",
    "import warnings\n",
    "warnings.filterwarnings('ignore')"
   ]
  },
  {
   "cell_type": "markdown",
   "id": "f73e8b87",
   "metadata": {},
   "source": [
    "## Part 1: Scaling Transformations 📐\n",
    "\n",
    "A scaling transformation transforms the scale of the data of a particular quantitative column. Mathematically, each data point $d_i$ is replaced with a transformed value $t_i = f(d_i)$, where $f$ is a transformation function. We can transform any column in a dataset, whether it corresponds to a feature or a target.\n",
    "\n",
    "Generally, the goal of a scaling transformation is to change the data from a complicated, non-linear relationship into a **linear** relationship. Linear relationships are very easy to understand and are easily used by models, like linear regression.\n",
    "\n",
    "However, non-linear growth is a commonly seen relationship in data. Sometimes this growth is by a **fixed power** and sometimes it is **exponential**. The scaling transformations that turn these types of growth linear are **root** and **log** transformations respectively. (Generally, it is more difficult to determine which transformation is appropriate for a given dataset, though the [Tukey-Mosteller bulge diagram](https://freakonometrics.hypotheses.org/files/2014/06/Selection_005.png) is useful.)\n",
    "\n",
    "Let's start by looking at some examples of transformations."
   ]
  },
  {
   "cell_type": "markdown",
   "id": "217e6143",
   "metadata": {},
   "source": [
    "#### Example 1\n",
    "\n",
    "Run the cell below to generate a scatter plot."
   ]
  },
  {
   "cell_type": "code",
   "execution_count": 5,
   "id": "ee2653dd",
   "metadata": {},
   "outputs": [
    {
     "data": {
      "application/vnd.plotly.v1+json": {
       "config": {
        "plotlyServerURL": "https://plot.ly"
       },
       "data": [
        {
         "hovertemplate": "x=%{x}<br>y=%{y}<extra></extra>",
         "legendgroup": "",
         "marker": {
          "color": "#636efa",
          "symbol": "circle"
         },
         "mode": "markers",
         "name": "",
         "orientation": "v",
         "showlegend": false,
         "type": "scatter",
         "x": [
          1.3334940281767342,
          2.012906540533137,
          2.611190293404091,
          4.474316911247471,
          5.350835897323757,
          5.474459218046441,
          6.816225941941417,
          7.431270154637486,
          8.33892623870457,
          10.886129139153715,
          10.826270504489068,
          12.335070081448576,
          13.161135760174652,
          14.030171467085244,
          14.478274999126636,
          15.495029061706077,
          17.220868186191105,
          18.5644384267234,
          18.080966116121026,
          19.530615684439937,
          20.89907973878431,
          22.52268563867706,
          23.26908098290725,
          24.406059334886127,
          25.120553150314763,
          25.523745234498506,
          26.931866621840683,
          28.633624104278088,
          29.08681682229509,
          29.38837261289643,
          31.707659990558877,
          32.22885548989133,
          33.36443792144573,
          34.98421736545491,
          34.72610599608749,
          35.66029086417425,
          35.74688484148996,
          38.07348024745351,
          39.30309774522677,
          39.9887305549735,
          41.00671112869007,
          42.46797244687282,
          43.21031133008538,
          44.205809820452664,
          44.96433803761893,
          45.97728121222439,
          47.52044298649494,
          47.95298263267223,
          48.789578023359766,
          49.72400571756281,
          50.939451226027174,
          52.095070679515,
          53.256068697373195,
          54.06576923333343,
          54.83419143789176,
          55.18380685969189,
          57.30955703637515,
          57.503713109716045,
          58.919326806597496,
          60.596202165340415,
          61.12536827598895,
          61.593191876264754,
          63.35181181506139,
          63.8659289304322,
          64.75872026067347,
          66.62230524012053,
          67.3384300585266,
          69.59375134328317,
          68.4597176226692,
          70.00511465072638,
          71.21891484021818,
          72.66389381148909,
          72.87442748457717,
          74.79655531358348,
          75.08540885355,
          75.64537304892008,
          76.93348770446904,
          77.99132153025484,
          78.94945354330945,
          79.71798018622445,
          80.9104822024308,
          82.50552941405732,
          83.460497917877,
          84.96654491707238,
          84.60231839055565,
          85.49423240163344,
          88.07538997279127,
          88.21257004190318,
          89.22057575353669,
          89.59128033656711,
          91.2189462398995,
          92.0498616389471,
          93.03270303426204,
          94.61221533571333,
          94.61520047551814,
          96.09605983956332,
          96.13837346912635,
          98.23062960130152,
          98.45731661056149,
          100.91168911732761
         ],
         "xaxis": "x",
         "y": [
          22.920753043397713,
          -12.779724936945986,
          138.82899499135644,
          126.69779702313319,
          79.8022686364038,
          -59.8096355143432,
          -101.70830514795452,
          -84.88263937407467,
          273.49378113560925,
          -52.757347963372155,
          547.4787294329273,
          1083.8563487112756,
          -169.59280973833006,
          227.03733524935456,
          817.6370902087476,
          656.5826326094747,
          191.59587710718733,
          618.4855987790022,
          664.2859770119368,
          1121.7285220895,
          372.03616139554674,
          990.739868305774,
          963.2374704318458,
          1400.1628062515333,
          908.131612728823,
          378.77972661038916,
          604.3852788304825,
          2640.3525633248028,
          1290.1206834808847,
          1819.5201380007156,
          2224.0613071635353,
          2256.9597049883705,
          3694.815261425011,
          2197.9369224377365,
          3349.325473083215,
          3005.466884408579,
          3044.7420558137314,
          1738.5577761651173,
          2486.226718360496,
          4219.211150473849,
          2803.8932025297518,
          3472.937440762097,
          3578.536340828953,
          2222.433801498799,
          2712.523270087474,
          4610.759622032107,
          3275.3940189067316,
          2690.143803430548,
          5851.178825808349,
          6314.1032554386975,
          5098.997721340042,
          4007.988478933152,
          7258.8857604283,
          6600.850986586598,
          3313.5948364311184,
          4698.650718386465,
          4112.723229636089,
          2975.411149941616,
          9215.114987457786,
          9860.193032006418,
          3495.7132325463886,
          8663.88697341136,
          7864.076901369791,
          8156.182901121289,
          9820.51303700965,
          10470.951313609272,
          8645.407924154239,
          8498.623177425507,
          10463.251725677303,
          13221.310770766959,
          6755.064820387253,
          8340.680730944634,
          10083.033185115151,
          9624.85794735366,
          10067.571217450648,
          12681.821021908298,
          12922.923413471495,
          11633.433084486482,
          12592.534320137474,
          10523.392327764599,
          14997.859965551079,
          12247.141142240125,
          10553.883385243027,
          12698.174422349659,
          14094.596906850538,
          17872.05401895161,
          15563.806114015837,
          14032.834543760842,
          21667.282037066718,
          15623.84655347914,
          20190.39440608535,
          18197.371428074384,
          18178.161901581436,
          14356.219351696664,
          18923.068886245568,
          16650.691613126874,
          15536.731654479374,
          20563.644688474044,
          18205.58247167097,
          20374.95811153422
         ],
         "yaxis": "y"
        },
        {
         "hovertemplate": "<b>OLS trendline</b><br>y = 200.569 * x + -3485.84<br>R<sup>2</sup>=0.872782<br><br>x=%{x}<br>y=%{y} <b>(trend)</b><extra></extra>",
         "legendgroup": "",
         "line": {
          "color": "red"
         },
         "marker": {
          "color": "#636efa",
          "symbol": "circle"
         },
         "mode": "lines",
         "name": "",
         "showlegend": false,
         "type": "scatter",
         "x": [
          1.3334940281767342,
          2.012906540533137,
          2.611190293404091,
          4.474316911247471,
          5.350835897323757,
          5.474459218046441,
          6.816225941941417,
          7.431270154637486,
          8.33892623870457,
          10.826270504489068,
          10.886129139153715,
          12.335070081448576,
          13.161135760174652,
          14.030171467085244,
          14.478274999126636,
          15.495029061706077,
          17.220868186191105,
          18.080966116121026,
          18.5644384267234,
          19.530615684439937,
          20.89907973878431,
          22.52268563867706,
          23.26908098290725,
          24.406059334886127,
          25.120553150314763,
          25.523745234498506,
          26.931866621840683,
          28.633624104278088,
          29.08681682229509,
          29.38837261289643,
          31.707659990558877,
          32.22885548989133,
          33.36443792144573,
          34.72610599608749,
          34.98421736545491,
          35.66029086417425,
          35.74688484148996,
          38.07348024745351,
          39.30309774522677,
          39.9887305549735,
          41.00671112869007,
          42.46797244687282,
          43.21031133008538,
          44.205809820452664,
          44.96433803761893,
          45.97728121222439,
          47.52044298649494,
          47.95298263267223,
          48.789578023359766,
          49.72400571756281,
          50.939451226027174,
          52.095070679515,
          53.256068697373195,
          54.06576923333343,
          54.83419143789176,
          55.18380685969189,
          57.30955703637515,
          57.503713109716045,
          58.919326806597496,
          60.596202165340415,
          61.12536827598895,
          61.593191876264754,
          63.35181181506139,
          63.8659289304322,
          64.75872026067347,
          66.62230524012053,
          67.3384300585266,
          68.4597176226692,
          69.59375134328317,
          70.00511465072638,
          71.21891484021818,
          72.66389381148909,
          72.87442748457717,
          74.79655531358348,
          75.08540885355,
          75.64537304892008,
          76.93348770446904,
          77.99132153025484,
          78.94945354330945,
          79.71798018622445,
          80.9104822024308,
          82.50552941405732,
          83.460497917877,
          84.60231839055565,
          84.96654491707238,
          85.49423240163344,
          88.07538997279127,
          88.21257004190318,
          89.22057575353669,
          89.59128033656711,
          91.2189462398995,
          92.0498616389471,
          93.03270303426204,
          94.61221533571333,
          94.61520047551814,
          96.09605983956332,
          96.13837346912635,
          98.23062960130152,
          98.45731661056149,
          100.91168911732761
         ],
         "xaxis": "x",
         "y": [
          -3218.381533006661,
          -3082.1121758220434,
          -2962.114764919257,
          -2588.428584653732,
          -2412.625701102963,
          -2387.830646343843,
          -2118.713305065082,
          -1995.3542588598111,
          -1813.3062263742888,
          -1314.421089537871,
          -1302.415279342516,
          -1011.8020698209648,
          -846.118575647653,
          -671.8166088786561,
          -581.9407541469654,
          -378.0110060149973,
          -31.860495359890592,
          140.64882687921454,
          237.61857616135148,
          431.4041650943436,
          705.8761738140483,
          1031.5218283696086,
          1181.225891680242,
          1409.268952912108,
          1552.5745458620513,
          1633.4425386269877,
          1915.868594669908,
          2257.1890649267325,
          2348.0856546152827,
          2408.568517372728,
          2873.746585678112,
          2978.2824521360617,
          3206.0455344516367,
          3479.154477627697,
          3530.9237190621097,
          3666.5233722985686,
          3683.891474019193,
          4150.535309146305,
          4397.158947888805,
          4534.675906363451,
          4738.851655093283,
          5031.935954964191,
          5180.82641633894,
          5380.492947192356,
          5532.6304934985665,
          5735.795894131671,
          6045.306919005779,
          6132.06113455152,
          6299.856566692165,
          6487.274164850495,
          6731.055336258308,
          6962.83723195913,
          7195.69790306664,
          7358.099050441243,
          7512.221027821933,
          7582.343181777115,
          8008.703610593827,
          8047.645376938238,
          8331.574160979504,
          8667.90403871769,
          8774.03856587243,
          8867.869662777422,
          9220.595001556812,
          9323.711160819475,
          9502.777778609638,
          9876.555892185126,
          10020.188614416998,
          10245.084583811018,
          10472.537042108816,
          10555.04393218684,
          10798.495102962228,
          11088.313662348846,
          11130.54027398119,
          11516.060291528283,
          11573.995471549068,
          11686.307151951933,
          11944.663530292615,
          12156.832621715464,
          12349.004580786575,
          12503.147505305373,
          12742.326914330675,
          13062.244570032377,
          13253.782025967248,
          13482.796268422844,
          13555.848962824777,
          13661.686922838355,
          14179.388137662874,
          14206.902261257073,
          14409.07735792451,
          14483.429352208135,
          14809.889319201022,
          14976.545518849609,
          15173.673423794258,
          15490.475251946424,
          15491.073979633813,
          15788.089047724585,
          15796.575866845276,
          16216.21841538804,
          16261.684891898494,
          16753.956902946138
         ],
         "yaxis": "y"
        }
       ],
       "layout": {
        "legend": {
         "tracegroupgap": 0
        },
        "margin": {
         "t": 60
        },
        "template": {
         "data": {
          "bar": [
           {
            "error_x": {
             "color": "#2a3f5f"
            },
            "error_y": {
             "color": "#2a3f5f"
            },
            "marker": {
             "line": {
              "color": "#E5ECF6",
              "width": 0.5
             },
             "pattern": {
              "fillmode": "overlay",
              "size": 10,
              "solidity": 0.2
             }
            },
            "type": "bar"
           }
          ],
          "barpolar": [
           {
            "marker": {
             "line": {
              "color": "#E5ECF6",
              "width": 0.5
             },
             "pattern": {
              "fillmode": "overlay",
              "size": 10,
              "solidity": 0.2
             }
            },
            "type": "barpolar"
           }
          ],
          "carpet": [
           {
            "aaxis": {
             "endlinecolor": "#2a3f5f",
             "gridcolor": "white",
             "linecolor": "white",
             "minorgridcolor": "white",
             "startlinecolor": "#2a3f5f"
            },
            "baxis": {
             "endlinecolor": "#2a3f5f",
             "gridcolor": "white",
             "linecolor": "white",
             "minorgridcolor": "white",
             "startlinecolor": "#2a3f5f"
            },
            "type": "carpet"
           }
          ],
          "choropleth": [
           {
            "colorbar": {
             "outlinewidth": 0,
             "ticks": ""
            },
            "type": "choropleth"
           }
          ],
          "contour": [
           {
            "colorbar": {
             "outlinewidth": 0,
             "ticks": ""
            },
            "colorscale": [
             [
              0,
              "#0d0887"
             ],
             [
              0.1111111111111111,
              "#46039f"
             ],
             [
              0.2222222222222222,
              "#7201a8"
             ],
             [
              0.3333333333333333,
              "#9c179e"
             ],
             [
              0.4444444444444444,
              "#bd3786"
             ],
             [
              0.5555555555555556,
              "#d8576b"
             ],
             [
              0.6666666666666666,
              "#ed7953"
             ],
             [
              0.7777777777777778,
              "#fb9f3a"
             ],
             [
              0.8888888888888888,
              "#fdca26"
             ],
             [
              1,
              "#f0f921"
             ]
            ],
            "type": "contour"
           }
          ],
          "contourcarpet": [
           {
            "colorbar": {
             "outlinewidth": 0,
             "ticks": ""
            },
            "type": "contourcarpet"
           }
          ],
          "heatmap": [
           {
            "colorbar": {
             "outlinewidth": 0,
             "ticks": ""
            },
            "colorscale": [
             [
              0,
              "#0d0887"
             ],
             [
              0.1111111111111111,
              "#46039f"
             ],
             [
              0.2222222222222222,
              "#7201a8"
             ],
             [
              0.3333333333333333,
              "#9c179e"
             ],
             [
              0.4444444444444444,
              "#bd3786"
             ],
             [
              0.5555555555555556,
              "#d8576b"
             ],
             [
              0.6666666666666666,
              "#ed7953"
             ],
             [
              0.7777777777777778,
              "#fb9f3a"
             ],
             [
              0.8888888888888888,
              "#fdca26"
             ],
             [
              1,
              "#f0f921"
             ]
            ],
            "type": "heatmap"
           }
          ],
          "heatmapgl": [
           {
            "colorbar": {
             "outlinewidth": 0,
             "ticks": ""
            },
            "colorscale": [
             [
              0,
              "#0d0887"
             ],
             [
              0.1111111111111111,
              "#46039f"
             ],
             [
              0.2222222222222222,
              "#7201a8"
             ],
             [
              0.3333333333333333,
              "#9c179e"
             ],
             [
              0.4444444444444444,
              "#bd3786"
             ],
             [
              0.5555555555555556,
              "#d8576b"
             ],
             [
              0.6666666666666666,
              "#ed7953"
             ],
             [
              0.7777777777777778,
              "#fb9f3a"
             ],
             [
              0.8888888888888888,
              "#fdca26"
             ],
             [
              1,
              "#f0f921"
             ]
            ],
            "type": "heatmapgl"
           }
          ],
          "histogram": [
           {
            "marker": {
             "pattern": {
              "fillmode": "overlay",
              "size": 10,
              "solidity": 0.2
             }
            },
            "type": "histogram"
           }
          ],
          "histogram2d": [
           {
            "colorbar": {
             "outlinewidth": 0,
             "ticks": ""
            },
            "colorscale": [
             [
              0,
              "#0d0887"
             ],
             [
              0.1111111111111111,
              "#46039f"
             ],
             [
              0.2222222222222222,
              "#7201a8"
             ],
             [
              0.3333333333333333,
              "#9c179e"
             ],
             [
              0.4444444444444444,
              "#bd3786"
             ],
             [
              0.5555555555555556,
              "#d8576b"
             ],
             [
              0.6666666666666666,
              "#ed7953"
             ],
             [
              0.7777777777777778,
              "#fb9f3a"
             ],
             [
              0.8888888888888888,
              "#fdca26"
             ],
             [
              1,
              "#f0f921"
             ]
            ],
            "type": "histogram2d"
           }
          ],
          "histogram2dcontour": [
           {
            "colorbar": {
             "outlinewidth": 0,
             "ticks": ""
            },
            "colorscale": [
             [
              0,
              "#0d0887"
             ],
             [
              0.1111111111111111,
              "#46039f"
             ],
             [
              0.2222222222222222,
              "#7201a8"
             ],
             [
              0.3333333333333333,
              "#9c179e"
             ],
             [
              0.4444444444444444,
              "#bd3786"
             ],
             [
              0.5555555555555556,
              "#d8576b"
             ],
             [
              0.6666666666666666,
              "#ed7953"
             ],
             [
              0.7777777777777778,
              "#fb9f3a"
             ],
             [
              0.8888888888888888,
              "#fdca26"
             ],
             [
              1,
              "#f0f921"
             ]
            ],
            "type": "histogram2dcontour"
           }
          ],
          "mesh3d": [
           {
            "colorbar": {
             "outlinewidth": 0,
             "ticks": ""
            },
            "type": "mesh3d"
           }
          ],
          "parcoords": [
           {
            "line": {
             "colorbar": {
              "outlinewidth": 0,
              "ticks": ""
             }
            },
            "type": "parcoords"
           }
          ],
          "pie": [
           {
            "automargin": true,
            "type": "pie"
           }
          ],
          "scatter": [
           {
            "fillpattern": {
             "fillmode": "overlay",
             "size": 10,
             "solidity": 0.2
            },
            "type": "scatter"
           }
          ],
          "scatter3d": [
           {
            "line": {
             "colorbar": {
              "outlinewidth": 0,
              "ticks": ""
             }
            },
            "marker": {
             "colorbar": {
              "outlinewidth": 0,
              "ticks": ""
             }
            },
            "type": "scatter3d"
           }
          ],
          "scattercarpet": [
           {
            "marker": {
             "colorbar": {
              "outlinewidth": 0,
              "ticks": ""
             }
            },
            "type": "scattercarpet"
           }
          ],
          "scattergeo": [
           {
            "marker": {
             "colorbar": {
              "outlinewidth": 0,
              "ticks": ""
             }
            },
            "type": "scattergeo"
           }
          ],
          "scattergl": [
           {
            "marker": {
             "colorbar": {
              "outlinewidth": 0,
              "ticks": ""
             }
            },
            "type": "scattergl"
           }
          ],
          "scattermapbox": [
           {
            "marker": {
             "colorbar": {
              "outlinewidth": 0,
              "ticks": ""
             }
            },
            "type": "scattermapbox"
           }
          ],
          "scatterpolar": [
           {
            "marker": {
             "colorbar": {
              "outlinewidth": 0,
              "ticks": ""
             }
            },
            "type": "scatterpolar"
           }
          ],
          "scatterpolargl": [
           {
            "marker": {
             "colorbar": {
              "outlinewidth": 0,
              "ticks": ""
             }
            },
            "type": "scatterpolargl"
           }
          ],
          "scatterternary": [
           {
            "marker": {
             "colorbar": {
              "outlinewidth": 0,
              "ticks": ""
             }
            },
            "type": "scatterternary"
           }
          ],
          "surface": [
           {
            "colorbar": {
             "outlinewidth": 0,
             "ticks": ""
            },
            "colorscale": [
             [
              0,
              "#0d0887"
             ],
             [
              0.1111111111111111,
              "#46039f"
             ],
             [
              0.2222222222222222,
              "#7201a8"
             ],
             [
              0.3333333333333333,
              "#9c179e"
             ],
             [
              0.4444444444444444,
              "#bd3786"
             ],
             [
              0.5555555555555556,
              "#d8576b"
             ],
             [
              0.6666666666666666,
              "#ed7953"
             ],
             [
              0.7777777777777778,
              "#fb9f3a"
             ],
             [
              0.8888888888888888,
              "#fdca26"
             ],
             [
              1,
              "#f0f921"
             ]
            ],
            "type": "surface"
           }
          ],
          "table": [
           {
            "cells": {
             "fill": {
              "color": "#EBF0F8"
             },
             "line": {
              "color": "white"
             }
            },
            "header": {
             "fill": {
              "color": "#C8D4E3"
             },
             "line": {
              "color": "white"
             }
            },
            "type": "table"
           }
          ]
         },
         "layout": {
          "annotationdefaults": {
           "arrowcolor": "#2a3f5f",
           "arrowhead": 0,
           "arrowwidth": 1
          },
          "autotypenumbers": "strict",
          "coloraxis": {
           "colorbar": {
            "outlinewidth": 0,
            "ticks": ""
           }
          },
          "colorscale": {
           "diverging": [
            [
             0,
             "#8e0152"
            ],
            [
             0.1,
             "#c51b7d"
            ],
            [
             0.2,
             "#de77ae"
            ],
            [
             0.3,
             "#f1b6da"
            ],
            [
             0.4,
             "#fde0ef"
            ],
            [
             0.5,
             "#f7f7f7"
            ],
            [
             0.6,
             "#e6f5d0"
            ],
            [
             0.7,
             "#b8e186"
            ],
            [
             0.8,
             "#7fbc41"
            ],
            [
             0.9,
             "#4d9221"
            ],
            [
             1,
             "#276419"
            ]
           ],
           "sequential": [
            [
             0,
             "#0d0887"
            ],
            [
             0.1111111111111111,
             "#46039f"
            ],
            [
             0.2222222222222222,
             "#7201a8"
            ],
            [
             0.3333333333333333,
             "#9c179e"
            ],
            [
             0.4444444444444444,
             "#bd3786"
            ],
            [
             0.5555555555555556,
             "#d8576b"
            ],
            [
             0.6666666666666666,
             "#ed7953"
            ],
            [
             0.7777777777777778,
             "#fb9f3a"
            ],
            [
             0.8888888888888888,
             "#fdca26"
            ],
            [
             1,
             "#f0f921"
            ]
           ],
           "sequentialminus": [
            [
             0,
             "#0d0887"
            ],
            [
             0.1111111111111111,
             "#46039f"
            ],
            [
             0.2222222222222222,
             "#7201a8"
            ],
            [
             0.3333333333333333,
             "#9c179e"
            ],
            [
             0.4444444444444444,
             "#bd3786"
            ],
            [
             0.5555555555555556,
             "#d8576b"
            ],
            [
             0.6666666666666666,
             "#ed7953"
            ],
            [
             0.7777777777777778,
             "#fb9f3a"
            ],
            [
             0.8888888888888888,
             "#fdca26"
            ],
            [
             1,
             "#f0f921"
            ]
           ]
          },
          "colorway": [
           "#636efa",
           "#EF553B",
           "#00cc96",
           "#ab63fa",
           "#FFA15A",
           "#19d3f3",
           "#FF6692",
           "#B6E880",
           "#FF97FF",
           "#FECB52"
          ],
          "font": {
           "color": "#2a3f5f"
          },
          "geo": {
           "bgcolor": "white",
           "lakecolor": "white",
           "landcolor": "#E5ECF6",
           "showlakes": true,
           "showland": true,
           "subunitcolor": "white"
          },
          "hoverlabel": {
           "align": "left"
          },
          "hovermode": "closest",
          "mapbox": {
           "style": "light"
          },
          "paper_bgcolor": "white",
          "plot_bgcolor": "#E5ECF6",
          "polar": {
           "angularaxis": {
            "gridcolor": "white",
            "linecolor": "white",
            "ticks": ""
           },
           "bgcolor": "#E5ECF6",
           "radialaxis": {
            "gridcolor": "white",
            "linecolor": "white",
            "ticks": ""
           }
          },
          "scene": {
           "xaxis": {
            "backgroundcolor": "#E5ECF6",
            "gridcolor": "white",
            "gridwidth": 2,
            "linecolor": "white",
            "showbackground": true,
            "ticks": "",
            "zerolinecolor": "white"
           },
           "yaxis": {
            "backgroundcolor": "#E5ECF6",
            "gridcolor": "white",
            "gridwidth": 2,
            "linecolor": "white",
            "showbackground": true,
            "ticks": "",
            "zerolinecolor": "white"
           },
           "zaxis": {
            "backgroundcolor": "#E5ECF6",
            "gridcolor": "white",
            "gridwidth": 2,
            "linecolor": "white",
            "showbackground": true,
            "ticks": "",
            "zerolinecolor": "white"
           }
          },
          "shapedefaults": {
           "line": {
            "color": "#2a3f5f"
           }
          },
          "ternary": {
           "aaxis": {
            "gridcolor": "white",
            "linecolor": "white",
            "ticks": ""
           },
           "baxis": {
            "gridcolor": "white",
            "linecolor": "white",
            "ticks": ""
           },
           "bgcolor": "#E5ECF6",
           "caxis": {
            "gridcolor": "white",
            "linecolor": "white",
            "ticks": ""
           }
          },
          "title": {
           "x": 0.05
          },
          "xaxis": {
           "automargin": true,
           "gridcolor": "white",
           "linecolor": "white",
           "ticks": "",
           "title": {
            "standoff": 15
           },
           "zerolinecolor": "white",
           "zerolinewidth": 2
          },
          "yaxis": {
           "automargin": true,
           "gridcolor": "white",
           "linecolor": "white",
           "ticks": "",
           "title": {
            "standoff": 15
           },
           "zerolinecolor": "white",
           "zerolinewidth": 2
          }
         }
        },
        "xaxis": {
         "anchor": "y",
         "domain": [
          0,
          1
         ],
         "title": {
          "text": "x"
         }
        },
        "yaxis": {
         "anchor": "x",
         "domain": [
          0,
          1
         ],
         "title": {
          "text": "y"
         }
        }
       }
      }
     },
     "metadata": {},
     "output_type": "display_data"
    }
   ],
   "source": [
    "# By setting a seed, we guarantee that we will see the same results each time we run this cell.\n",
    "np.random.seed(23)\n",
    "\n",
    "# Generates a random scatter plot\n",
    "x = np.arange(1, 101) + np.random.normal(0, 0.5, 100)\n",
    "y = 2 * ((x + np.random.normal(0, 1, 100)) ** 2) + np.abs(x) * np.random.normal(0, 30, 100)\n",
    "df_1 = pd.DataFrame().assign(x=x, y=y)\n",
    "\n",
    "px.scatter(df_1, x='x', y='y', trendline=\"ols\", trendline_color_override=\"red\")"
   ]
  },
  {
   "cell_type": "markdown",
   "id": "5efc4b16",
   "metadata": {},
   "source": [
    "It doesn't appear to be the case that `'x'` and `'y'` are linearly associated here, and they aren't – there is a **quadratic** relationship between them. Note that if we were to create a **residual plot** above, there would be a pattern – the residuals for smaller `'x'` would mostly be positive, and the residuals for larger `'x'` would mostly be negative. From [DSC 10](https://inferentialthinking.com/chapters/15/5/Visual_Diagnostics.html), we know that patterns in a residual plot imply that the relationship between the two variables is non-linear.\n",
    "\n",
    "To linearize the relationship, we can take the square root of each `'y'` value:"
   ]
  },
  {
   "cell_type": "code",
   "execution_count": 6,
   "id": "c701ebab",
   "metadata": {},
   "outputs": [
    {
     "data": {
      "application/vnd.plotly.v1+json": {
       "config": {
        "plotlyServerURL": "https://plot.ly"
       },
       "data": [
        {
         "hovertemplate": "x=%{x}<br>root y=%{y}<extra></extra>",
         "legendgroup": "",
         "marker": {
          "color": "#636efa",
          "symbol": "circle"
         },
         "mode": "markers",
         "name": "",
         "orientation": "v",
         "showlegend": false,
         "type": "scatter",
         "x": [
          1.3334940281767342,
          2.012906540533137,
          2.611190293404091,
          4.474316911247471,
          5.350835897323757,
          5.474459218046441,
          6.816225941941417,
          7.431270154637486,
          8.33892623870457,
          10.886129139153715,
          10.826270504489068,
          12.335070081448576,
          13.161135760174652,
          14.030171467085244,
          14.478274999126636,
          15.495029061706077,
          17.220868186191105,
          18.5644384267234,
          18.080966116121026,
          19.530615684439937,
          20.89907973878431,
          22.52268563867706,
          23.26908098290725,
          24.406059334886127,
          25.120553150314763,
          25.523745234498506,
          26.931866621840683,
          28.633624104278088,
          29.08681682229509,
          29.38837261289643,
          31.707659990558877,
          32.22885548989133,
          33.36443792144573,
          34.98421736545491,
          34.72610599608749,
          35.66029086417425,
          35.74688484148996,
          38.07348024745351,
          39.30309774522677,
          39.9887305549735,
          41.00671112869007,
          42.46797244687282,
          43.21031133008538,
          44.205809820452664,
          44.96433803761893,
          45.97728121222439,
          47.52044298649494,
          47.95298263267223,
          48.789578023359766,
          49.72400571756281,
          50.939451226027174,
          52.095070679515,
          53.256068697373195,
          54.06576923333343,
          54.83419143789176,
          55.18380685969189,
          57.30955703637515,
          57.503713109716045,
          58.919326806597496,
          60.596202165340415,
          61.12536827598895,
          61.593191876264754,
          63.35181181506139,
          63.8659289304322,
          64.75872026067347,
          66.62230524012053,
          67.3384300585266,
          69.59375134328317,
          68.4597176226692,
          70.00511465072638,
          71.21891484021818,
          72.66389381148909,
          72.87442748457717,
          74.79655531358348,
          75.08540885355,
          75.64537304892008,
          76.93348770446904,
          77.99132153025484,
          78.94945354330945,
          79.71798018622445,
          80.9104822024308,
          82.50552941405732,
          83.460497917877,
          84.96654491707238,
          84.60231839055565,
          85.49423240163344,
          88.07538997279127,
          88.21257004190318,
          89.22057575353669,
          89.59128033656711,
          91.2189462398995,
          92.0498616389471,
          93.03270303426204,
          94.61221533571333,
          94.61520047551814,
          96.09605983956332,
          96.13837346912635,
          98.23062960130152,
          98.45731661056149,
          100.91168911732761
         ],
         "xaxis": "x",
         "y": [
          4.787562327886469,
          null,
          11.782571662899251,
          11.256011594838252,
          8.933211552202478,
          null,
          null,
          null,
          16.537647388174936,
          null,
          23.398263384980673,
          32.92197364544349,
          null,
          15.067758136144692,
          28.59435416666632,
          25.62386841617547,
          13.84181625030427,
          24.869370695274984,
          25.77374588630719,
          33.4922158432299,
          19.288238939715225,
          31.47602052842408,
          31.036067251374583,
          37.41874939454195,
          30.135222128413506,
          19.462264169679464,
          24.584248591943634,
          51.38436107732393,
          35.91825000582413,
          42.65583357526513,
          47.1599544864447,
          47.5074699914484,
          60.78499207390761,
          46.882159959175695,
          57.873357195545644,
          54.822138634027944,
          55.17918136230123,
          41.69601631049563,
          49.86207695594414,
          64.95545512483035,
          52.95180074869741,
          58.93163361694717,
          59.820868773605696,
          47.142696162807646,
          52.081890039508686,
          67.90257448751193,
          57.2310581669318,
          51.86659621982676,
          76.49299854109753,
          79.46133182522614,
          71.4072665863919,
          63.30867617422712,
          85.199094833386,
          81.2456213379318,
          57.56383271144407,
          68.5467046500885,
          64.13051714773621,
          54.54732944830219,
          95.9953904490095,
          99.29850468162357,
          59.12455693319307,
          93.08000308020708,
          88.67963070158666,
          90.31158785627285,
          99.0985016890248,
          102.32766641338632,
          92.98068575867914,
          92.18797740174966,
          102.29003727478694,
          114.98395875411039,
          82.18920136117185,
          91.32732740502502,
          100.41430767134308,
          98.10636038174925,
          100.33728727372815,
          112.61359163932343,
          113.67903682505185,
          107.85839366728248,
          112.21646189457888,
          102.58358702913736,
          122.46575017347128,
          110.6668023493953,
          102.73209520516471,
          112.68617671369306,
          118.72066756403679,
          133.68640177277422,
          124.75498432534003,
          118.46026567487024,
          147.19810473327,
          124.99538612876533,
          142.09290765581986,
          134.8976331448198,
          134.82641396099444,
          119.81744176745164,
          137.56114599059418,
          129.03755892424064,
          124.64642656121103,
          143.40029528726237,
          134.9280640625625,
          142.74087750723064
         ],
         "yaxis": "y"
        },
        {
         "hovertemplate": "<b>OLS trendline</b><br>root y = 1.38582 * x + 0.49141<br>R<sup>2</sup>=0.942240<br><br>x=%{x}<br>root y=%{y} <b>(trend)</b><extra></extra>",
         "legendgroup": "",
         "line": {
          "color": "red"
         },
         "marker": {
          "color": "#636efa",
          "symbol": "circle"
         },
         "mode": "lines",
         "name": "",
         "showlegend": false,
         "type": "scatter",
         "x": [
          1.3334940281767342,
          2.611190293404091,
          4.474316911247471,
          5.350835897323757,
          8.33892623870457,
          10.826270504489068,
          12.335070081448576,
          14.030171467085244,
          14.478274999126636,
          15.495029061706077,
          17.220868186191105,
          18.080966116121026,
          18.5644384267234,
          19.530615684439937,
          20.89907973878431,
          22.52268563867706,
          23.26908098290725,
          24.406059334886127,
          25.120553150314763,
          25.523745234498506,
          26.931866621840683,
          28.633624104278088,
          29.08681682229509,
          29.38837261289643,
          31.707659990558877,
          32.22885548989133,
          33.36443792144573,
          34.72610599608749,
          34.98421736545491,
          35.66029086417425,
          35.74688484148996,
          38.07348024745351,
          39.30309774522677,
          39.9887305549735,
          41.00671112869007,
          42.46797244687282,
          43.21031133008538,
          44.205809820452664,
          44.96433803761893,
          45.97728121222439,
          47.52044298649494,
          47.95298263267223,
          48.789578023359766,
          49.72400571756281,
          50.939451226027174,
          52.095070679515,
          53.256068697373195,
          54.06576923333343,
          54.83419143789176,
          55.18380685969189,
          57.30955703637515,
          57.503713109716045,
          58.919326806597496,
          60.596202165340415,
          61.12536827598895,
          61.593191876264754,
          63.35181181506139,
          63.8659289304322,
          64.75872026067347,
          66.62230524012053,
          67.3384300585266,
          68.4597176226692,
          69.59375134328317,
          70.00511465072638,
          71.21891484021818,
          72.66389381148909,
          72.87442748457717,
          74.79655531358348,
          75.08540885355,
          75.64537304892008,
          76.93348770446904,
          77.99132153025484,
          78.94945354330945,
          79.71798018622445,
          80.9104822024308,
          82.50552941405732,
          83.460497917877,
          84.60231839055565,
          84.96654491707238,
          85.49423240163344,
          88.07538997279127,
          88.21257004190318,
          89.22057575353669,
          89.59128033656711,
          91.2189462398995,
          92.0498616389471,
          93.03270303426204,
          94.61221533571333,
          94.61520047551814,
          96.09605983956332,
          96.13837346912635,
          98.23062960130152,
          98.45731661056149,
          100.91168911732761
         ],
         "xaxis": "x",
         "y": [
          2.33938899793507,
          4.110042709603737,
          6.6919959883088636,
          7.906691247489151,
          12.047638824592505,
          15.494643778954954,
          17.58556448038792,
          19.93466546926667,
          20.555655139358365,
          21.96469060714235,
          24.356388489243184,
          25.548327163148564,
          26.218331501859524,
          27.55727675361012,
          29.453718046470005,
          31.703739347440692,
          32.73810700006761,
          34.31375137957128,
          35.30390933861322,
          35.862659942966225,
          37.814059057789336,
          40.17238418140667,
          40.800426533956895,
          41.21832779455769,
          44.43243658977558,
          45.1547183796764,
          46.72842826837184,
          48.61545157433426,
          48.97314680021252,
          49.910061215983475,
          50.030064656171135,
          53.25430104414209,
          54.95832636347535,
          55.90848823876567,
          57.31922342702037,
          59.34426478244589,
          60.37301092082676,
          61.752590046868676,
          62.803771645878726,
          64.20752591881264,
          66.34606635105781,
          66.94548731736343,
          68.10485576352711,
          69.39980191783258,
          71.08418744783995,
          72.68566499010281,
          74.29459624043778,
          75.4166933290467,
          76.48158618790444,
          76.96608932148514,
          79.91199089673532,
          80.18105576078804,
          82.1428378485099,
          84.46668089225201,
          85.20000849397461,
          85.84832657768378,
          88.28545268252583,
          88.9979251247942,
          90.23517088159855,
          92.8177593657879,
          93.81017759712954,
          95.36407740988646,
          96.93564106801867,
          97.50571549571453,
          99.18782091406709,
          101.19029790988795,
          101.48205913658161,
          104.14577732012506,
          104.54607558082269,
          105.32208370412822,
          107.10717540234707,
          108.57313992062245,
          109.90093593236224,
          110.96597352371153,
          112.61856356301357,
          114.82900773696652,
          116.15241970257487,
          117.73477437717976,
          118.23952583385736,
          118.97080432982516,
          122.54781739478786,
          122.73792392100263,
          124.13483577185593,
          124.64856463194506,
          126.90421235631185,
          128.05570937124952,
          129.41774807477998,
          131.60666369996056,
          131.61080055863275,
          133.66300122694992,
          133.72164019090323,
          136.62112513659824,
          136.93527193756884,
          140.33658405469367
         ],
         "yaxis": "y"
        }
       ],
       "layout": {
        "legend": {
         "tracegroupgap": 0
        },
        "margin": {
         "t": 60
        },
        "template": {
         "data": {
          "bar": [
           {
            "error_x": {
             "color": "#2a3f5f"
            },
            "error_y": {
             "color": "#2a3f5f"
            },
            "marker": {
             "line": {
              "color": "#E5ECF6",
              "width": 0.5
             },
             "pattern": {
              "fillmode": "overlay",
              "size": 10,
              "solidity": 0.2
             }
            },
            "type": "bar"
           }
          ],
          "barpolar": [
           {
            "marker": {
             "line": {
              "color": "#E5ECF6",
              "width": 0.5
             },
             "pattern": {
              "fillmode": "overlay",
              "size": 10,
              "solidity": 0.2
             }
            },
            "type": "barpolar"
           }
          ],
          "carpet": [
           {
            "aaxis": {
             "endlinecolor": "#2a3f5f",
             "gridcolor": "white",
             "linecolor": "white",
             "minorgridcolor": "white",
             "startlinecolor": "#2a3f5f"
            },
            "baxis": {
             "endlinecolor": "#2a3f5f",
             "gridcolor": "white",
             "linecolor": "white",
             "minorgridcolor": "white",
             "startlinecolor": "#2a3f5f"
            },
            "type": "carpet"
           }
          ],
          "choropleth": [
           {
            "colorbar": {
             "outlinewidth": 0,
             "ticks": ""
            },
            "type": "choropleth"
           }
          ],
          "contour": [
           {
            "colorbar": {
             "outlinewidth": 0,
             "ticks": ""
            },
            "colorscale": [
             [
              0,
              "#0d0887"
             ],
             [
              0.1111111111111111,
              "#46039f"
             ],
             [
              0.2222222222222222,
              "#7201a8"
             ],
             [
              0.3333333333333333,
              "#9c179e"
             ],
             [
              0.4444444444444444,
              "#bd3786"
             ],
             [
              0.5555555555555556,
              "#d8576b"
             ],
             [
              0.6666666666666666,
              "#ed7953"
             ],
             [
              0.7777777777777778,
              "#fb9f3a"
             ],
             [
              0.8888888888888888,
              "#fdca26"
             ],
             [
              1,
              "#f0f921"
             ]
            ],
            "type": "contour"
           }
          ],
          "contourcarpet": [
           {
            "colorbar": {
             "outlinewidth": 0,
             "ticks": ""
            },
            "type": "contourcarpet"
           }
          ],
          "heatmap": [
           {
            "colorbar": {
             "outlinewidth": 0,
             "ticks": ""
            },
            "colorscale": [
             [
              0,
              "#0d0887"
             ],
             [
              0.1111111111111111,
              "#46039f"
             ],
             [
              0.2222222222222222,
              "#7201a8"
             ],
             [
              0.3333333333333333,
              "#9c179e"
             ],
             [
              0.4444444444444444,
              "#bd3786"
             ],
             [
              0.5555555555555556,
              "#d8576b"
             ],
             [
              0.6666666666666666,
              "#ed7953"
             ],
             [
              0.7777777777777778,
              "#fb9f3a"
             ],
             [
              0.8888888888888888,
              "#fdca26"
             ],
             [
              1,
              "#f0f921"
             ]
            ],
            "type": "heatmap"
           }
          ],
          "heatmapgl": [
           {
            "colorbar": {
             "outlinewidth": 0,
             "ticks": ""
            },
            "colorscale": [
             [
              0,
              "#0d0887"
             ],
             [
              0.1111111111111111,
              "#46039f"
             ],
             [
              0.2222222222222222,
              "#7201a8"
             ],
             [
              0.3333333333333333,
              "#9c179e"
             ],
             [
              0.4444444444444444,
              "#bd3786"
             ],
             [
              0.5555555555555556,
              "#d8576b"
             ],
             [
              0.6666666666666666,
              "#ed7953"
             ],
             [
              0.7777777777777778,
              "#fb9f3a"
             ],
             [
              0.8888888888888888,
              "#fdca26"
             ],
             [
              1,
              "#f0f921"
             ]
            ],
            "type": "heatmapgl"
           }
          ],
          "histogram": [
           {
            "marker": {
             "pattern": {
              "fillmode": "overlay",
              "size": 10,
              "solidity": 0.2
             }
            },
            "type": "histogram"
           }
          ],
          "histogram2d": [
           {
            "colorbar": {
             "outlinewidth": 0,
             "ticks": ""
            },
            "colorscale": [
             [
              0,
              "#0d0887"
             ],
             [
              0.1111111111111111,
              "#46039f"
             ],
             [
              0.2222222222222222,
              "#7201a8"
             ],
             [
              0.3333333333333333,
              "#9c179e"
             ],
             [
              0.4444444444444444,
              "#bd3786"
             ],
             [
              0.5555555555555556,
              "#d8576b"
             ],
             [
              0.6666666666666666,
              "#ed7953"
             ],
             [
              0.7777777777777778,
              "#fb9f3a"
             ],
             [
              0.8888888888888888,
              "#fdca26"
             ],
             [
              1,
              "#f0f921"
             ]
            ],
            "type": "histogram2d"
           }
          ],
          "histogram2dcontour": [
           {
            "colorbar": {
             "outlinewidth": 0,
             "ticks": ""
            },
            "colorscale": [
             [
              0,
              "#0d0887"
             ],
             [
              0.1111111111111111,
              "#46039f"
             ],
             [
              0.2222222222222222,
              "#7201a8"
             ],
             [
              0.3333333333333333,
              "#9c179e"
             ],
             [
              0.4444444444444444,
              "#bd3786"
             ],
             [
              0.5555555555555556,
              "#d8576b"
             ],
             [
              0.6666666666666666,
              "#ed7953"
             ],
             [
              0.7777777777777778,
              "#fb9f3a"
             ],
             [
              0.8888888888888888,
              "#fdca26"
             ],
             [
              1,
              "#f0f921"
             ]
            ],
            "type": "histogram2dcontour"
           }
          ],
          "mesh3d": [
           {
            "colorbar": {
             "outlinewidth": 0,
             "ticks": ""
            },
            "type": "mesh3d"
           }
          ],
          "parcoords": [
           {
            "line": {
             "colorbar": {
              "outlinewidth": 0,
              "ticks": ""
             }
            },
            "type": "parcoords"
           }
          ],
          "pie": [
           {
            "automargin": true,
            "type": "pie"
           }
          ],
          "scatter": [
           {
            "fillpattern": {
             "fillmode": "overlay",
             "size": 10,
             "solidity": 0.2
            },
            "type": "scatter"
           }
          ],
          "scatter3d": [
           {
            "line": {
             "colorbar": {
              "outlinewidth": 0,
              "ticks": ""
             }
            },
            "marker": {
             "colorbar": {
              "outlinewidth": 0,
              "ticks": ""
             }
            },
            "type": "scatter3d"
           }
          ],
          "scattercarpet": [
           {
            "marker": {
             "colorbar": {
              "outlinewidth": 0,
              "ticks": ""
             }
            },
            "type": "scattercarpet"
           }
          ],
          "scattergeo": [
           {
            "marker": {
             "colorbar": {
              "outlinewidth": 0,
              "ticks": ""
             }
            },
            "type": "scattergeo"
           }
          ],
          "scattergl": [
           {
            "marker": {
             "colorbar": {
              "outlinewidth": 0,
              "ticks": ""
             }
            },
            "type": "scattergl"
           }
          ],
          "scattermapbox": [
           {
            "marker": {
             "colorbar": {
              "outlinewidth": 0,
              "ticks": ""
             }
            },
            "type": "scattermapbox"
           }
          ],
          "scatterpolar": [
           {
            "marker": {
             "colorbar": {
              "outlinewidth": 0,
              "ticks": ""
             }
            },
            "type": "scatterpolar"
           }
          ],
          "scatterpolargl": [
           {
            "marker": {
             "colorbar": {
              "outlinewidth": 0,
              "ticks": ""
             }
            },
            "type": "scatterpolargl"
           }
          ],
          "scatterternary": [
           {
            "marker": {
             "colorbar": {
              "outlinewidth": 0,
              "ticks": ""
             }
            },
            "type": "scatterternary"
           }
          ],
          "surface": [
           {
            "colorbar": {
             "outlinewidth": 0,
             "ticks": ""
            },
            "colorscale": [
             [
              0,
              "#0d0887"
             ],
             [
              0.1111111111111111,
              "#46039f"
             ],
             [
              0.2222222222222222,
              "#7201a8"
             ],
             [
              0.3333333333333333,
              "#9c179e"
             ],
             [
              0.4444444444444444,
              "#bd3786"
             ],
             [
              0.5555555555555556,
              "#d8576b"
             ],
             [
              0.6666666666666666,
              "#ed7953"
             ],
             [
              0.7777777777777778,
              "#fb9f3a"
             ],
             [
              0.8888888888888888,
              "#fdca26"
             ],
             [
              1,
              "#f0f921"
             ]
            ],
            "type": "surface"
           }
          ],
          "table": [
           {
            "cells": {
             "fill": {
              "color": "#EBF0F8"
             },
             "line": {
              "color": "white"
             }
            },
            "header": {
             "fill": {
              "color": "#C8D4E3"
             },
             "line": {
              "color": "white"
             }
            },
            "type": "table"
           }
          ]
         },
         "layout": {
          "annotationdefaults": {
           "arrowcolor": "#2a3f5f",
           "arrowhead": 0,
           "arrowwidth": 1
          },
          "autotypenumbers": "strict",
          "coloraxis": {
           "colorbar": {
            "outlinewidth": 0,
            "ticks": ""
           }
          },
          "colorscale": {
           "diverging": [
            [
             0,
             "#8e0152"
            ],
            [
             0.1,
             "#c51b7d"
            ],
            [
             0.2,
             "#de77ae"
            ],
            [
             0.3,
             "#f1b6da"
            ],
            [
             0.4,
             "#fde0ef"
            ],
            [
             0.5,
             "#f7f7f7"
            ],
            [
             0.6,
             "#e6f5d0"
            ],
            [
             0.7,
             "#b8e186"
            ],
            [
             0.8,
             "#7fbc41"
            ],
            [
             0.9,
             "#4d9221"
            ],
            [
             1,
             "#276419"
            ]
           ],
           "sequential": [
            [
             0,
             "#0d0887"
            ],
            [
             0.1111111111111111,
             "#46039f"
            ],
            [
             0.2222222222222222,
             "#7201a8"
            ],
            [
             0.3333333333333333,
             "#9c179e"
            ],
            [
             0.4444444444444444,
             "#bd3786"
            ],
            [
             0.5555555555555556,
             "#d8576b"
            ],
            [
             0.6666666666666666,
             "#ed7953"
            ],
            [
             0.7777777777777778,
             "#fb9f3a"
            ],
            [
             0.8888888888888888,
             "#fdca26"
            ],
            [
             1,
             "#f0f921"
            ]
           ],
           "sequentialminus": [
            [
             0,
             "#0d0887"
            ],
            [
             0.1111111111111111,
             "#46039f"
            ],
            [
             0.2222222222222222,
             "#7201a8"
            ],
            [
             0.3333333333333333,
             "#9c179e"
            ],
            [
             0.4444444444444444,
             "#bd3786"
            ],
            [
             0.5555555555555556,
             "#d8576b"
            ],
            [
             0.6666666666666666,
             "#ed7953"
            ],
            [
             0.7777777777777778,
             "#fb9f3a"
            ],
            [
             0.8888888888888888,
             "#fdca26"
            ],
            [
             1,
             "#f0f921"
            ]
           ]
          },
          "colorway": [
           "#636efa",
           "#EF553B",
           "#00cc96",
           "#ab63fa",
           "#FFA15A",
           "#19d3f3",
           "#FF6692",
           "#B6E880",
           "#FF97FF",
           "#FECB52"
          ],
          "font": {
           "color": "#2a3f5f"
          },
          "geo": {
           "bgcolor": "white",
           "lakecolor": "white",
           "landcolor": "#E5ECF6",
           "showlakes": true,
           "showland": true,
           "subunitcolor": "white"
          },
          "hoverlabel": {
           "align": "left"
          },
          "hovermode": "closest",
          "mapbox": {
           "style": "light"
          },
          "paper_bgcolor": "white",
          "plot_bgcolor": "#E5ECF6",
          "polar": {
           "angularaxis": {
            "gridcolor": "white",
            "linecolor": "white",
            "ticks": ""
           },
           "bgcolor": "#E5ECF6",
           "radialaxis": {
            "gridcolor": "white",
            "linecolor": "white",
            "ticks": ""
           }
          },
          "scene": {
           "xaxis": {
            "backgroundcolor": "#E5ECF6",
            "gridcolor": "white",
            "gridwidth": 2,
            "linecolor": "white",
            "showbackground": true,
            "ticks": "",
            "zerolinecolor": "white"
           },
           "yaxis": {
            "backgroundcolor": "#E5ECF6",
            "gridcolor": "white",
            "gridwidth": 2,
            "linecolor": "white",
            "showbackground": true,
            "ticks": "",
            "zerolinecolor": "white"
           },
           "zaxis": {
            "backgroundcolor": "#E5ECF6",
            "gridcolor": "white",
            "gridwidth": 2,
            "linecolor": "white",
            "showbackground": true,
            "ticks": "",
            "zerolinecolor": "white"
           }
          },
          "shapedefaults": {
           "line": {
            "color": "#2a3f5f"
           }
          },
          "ternary": {
           "aaxis": {
            "gridcolor": "white",
            "linecolor": "white",
            "ticks": ""
           },
           "baxis": {
            "gridcolor": "white",
            "linecolor": "white",
            "ticks": ""
           },
           "bgcolor": "#E5ECF6",
           "caxis": {
            "gridcolor": "white",
            "linecolor": "white",
            "ticks": ""
           }
          },
          "title": {
           "x": 0.05
          },
          "xaxis": {
           "automargin": true,
           "gridcolor": "white",
           "linecolor": "white",
           "ticks": "",
           "title": {
            "standoff": 15
           },
           "zerolinecolor": "white",
           "zerolinewidth": 2
          },
          "yaxis": {
           "automargin": true,
           "gridcolor": "white",
           "linecolor": "white",
           "ticks": "",
           "title": {
            "standoff": 15
           },
           "zerolinecolor": "white",
           "zerolinewidth": 2
          }
         }
        },
        "xaxis": {
         "anchor": "y",
         "domain": [
          0,
          1
         ],
         "title": {
          "text": "x"
         }
        },
        "yaxis": {
         "anchor": "x",
         "domain": [
          0,
          1
         ],
         "title": {
          "text": "root y"
         }
        }
       }
      }
     },
     "metadata": {},
     "output_type": "display_data"
    }
   ],
   "source": [
    "df_1['root y'] = np.sqrt(df_1['y'])\n",
    "\n",
    "px.scatter(df_1, x='x', y='root y', trendline=\"ols\", trendline_color_override=\"red\")"
   ]
  },
  {
   "cell_type": "markdown",
   "id": "934d8b15",
   "metadata": {},
   "source": [
    "That looks much better!"
   ]
  },
  {
   "cell_type": "markdown",
   "id": "e10996af",
   "metadata": {},
   "source": [
    "#### Example 2\n",
    "\n",
    "Run the cell below to generate another scatter plot."
   ]
  },
  {
   "cell_type": "code",
   "execution_count": 7,
   "id": "4dbc769f",
   "metadata": {},
   "outputs": [
    {
     "data": {
      "application/vnd.plotly.v1+json": {
       "config": {
        "plotlyServerURL": "https://plot.ly"
       },
       "data": [
        {
         "hovertemplate": "x=%{x}<br>y=%{y}<extra></extra>",
         "legendgroup": "",
         "marker": {
          "color": "#636efa",
          "symbol": "circle"
         },
         "mode": "markers",
         "name": "",
         "orientation": "v",
         "showlegend": false,
         "type": "scatter",
         "x": [
          2,
          2.0303030303030303,
          2.0606060606060606,
          2.090909090909091,
          2.121212121212121,
          2.1515151515151514,
          2.1818181818181817,
          2.212121212121212,
          2.242424242424242,
          2.2727272727272725,
          2.303030303030303,
          2.3333333333333335,
          2.3636363636363638,
          2.393939393939394,
          2.4242424242424243,
          2.4545454545454546,
          2.484848484848485,
          2.515151515151515,
          2.5454545454545454,
          2.5757575757575757,
          2.606060606060606,
          2.6363636363636362,
          2.666666666666667,
          2.6969696969696972,
          2.7272727272727275,
          2.757575757575758,
          2.787878787878788,
          2.8181818181818183,
          2.8484848484848486,
          2.878787878787879,
          2.909090909090909,
          2.9393939393939394,
          2.9696969696969697,
          3,
          3.0303030303030303,
          3.0606060606060606,
          3.090909090909091,
          3.121212121212121,
          3.1515151515151514,
          3.1818181818181817,
          3.212121212121212,
          3.242424242424242,
          3.2727272727272725,
          3.3030303030303028,
          3.3333333333333335,
          3.3636363636363638,
          3.393939393939394,
          3.4242424242424243,
          3.4545454545454546,
          3.484848484848485,
          3.515151515151515,
          3.5454545454545454,
          3.5757575757575757,
          3.6060606060606064,
          3.6363636363636367,
          3.666666666666667,
          3.6969696969696972,
          3.7272727272727275,
          3.757575757575758,
          3.787878787878788,
          3.8181818181818183,
          3.8484848484848486,
          3.878787878787879,
          3.909090909090909,
          3.9393939393939394,
          3.9696969696969697,
          4,
          4.03030303030303,
          4.0606060606060606,
          4.090909090909091,
          4.121212121212121,
          4.151515151515151,
          4.181818181818182,
          4.212121212121213,
          4.242424242424242,
          4.272727272727273,
          4.303030303030303,
          4.333333333333334,
          4.363636363636363,
          4.3939393939393945,
          4.424242424242424,
          4.454545454545455,
          4.484848484848484,
          4.515151515151516,
          4.545454545454545,
          4.575757575757576,
          4.6060606060606055,
          4.636363636363637,
          4.666666666666667,
          4.696969696969697,
          4.7272727272727275,
          4.757575757575758,
          4.787878787878788,
          4.818181818181818,
          4.848484848484849,
          4.878787878787879,
          4.909090909090909,
          4.9393939393939394,
          4.96969696969697,
          5
         ],
         "xaxis": "x",
         "y": [
          26.208763493567176,
          61.925982380222194,
          53.50984989711234,
          107.24282107554222,
          67.80720271102038,
          120.20400821162806,
          155.71489372002614,
          113.18271717510773,
          82.81211638478487,
          54.43856322223938,
          152.2746595710632,
          125.5471413190048,
          145.46415194418287,
          117.63097776553522,
          96.66291649011706,
          129.4259725342059,
          99.4479763419966,
          184.14720957528434,
          108.84458474509671,
          141.31213770267246,
          142.16320095534817,
          121.86946266129598,
          188.5524937959253,
          86.65949453110437,
          165.12613129653948,
          194.12977205755197,
          144.54230701224208,
          141.36623265694755,
          229.38135262136976,
          183.24187921288205,
          123.04297789531425,
          259.43276247820575,
          288.2813153852144,
          158.1669669776928,
          239.63529912947683,
          200.8374995492895,
          204.55634051336975,
          160.86284647112248,
          268.40264848134404,
          275.48010396241943,
          245.78645639306538,
          224.1601461173096,
          251.54644999768362,
          261.25074586555576,
          268.22747143867576,
          327.4025613573661,
          246.08494669855742,
          339.2889068194531,
          353.80094019143604,
          329.0119957205983,
          368.7103000816962,
          331.47302713175446,
          383.454292545306,
          351.8472059388524,
          329.4846121315459,
          424.65163163667114,
          466.9670248137561,
          432.3066205889843,
          431.0767983105392,
          382.03972699264,
          396.43233049278604,
          443.03177434706856,
          532.5134485228731,
          467.0436459747958,
          541.0742761595185,
          539.0485330172553,
          577.3317983642002,
          558.559515958953,
          606.9197292585355,
          637.9626151820737,
          608.9481586986306,
          609.5096655594825,
          604.7044307344363,
          643.1008532427225,
          674.220989325344,
          687.3902533733154,
          724.154933058414,
          808.3286043528386,
          828.0445554360854,
          810.86276426455,
          856.9981001464332,
          915.3116389123522,
          911.2415986956338,
          921.2551136032771,
          984.9680784915498,
          1002.6761507320138,
          1059.3876906728551,
          984.7502588016507,
          1066.3541077327798,
          1086.888938050981,
          1148.323074604285,
          1235.280666833249,
          1220.1200202712403,
          1248.9550726976313,
          1218.2325134117068,
          1279.926537667901,
          1393.8660180970792,
          1409.1005082461468,
          1442.8440418439284,
          1451.8131678415164
         ],
         "yaxis": "y"
        },
        {
         "hovertemplate": "<b>OLS trendline</b><br>y = 414.144 * x + -971.449<br>R<sup>2</sup>=0.866068<br><br>x=%{x}<br>y=%{y} <b>(trend)</b><extra></extra>",
         "legendgroup": "",
         "line": {
          "color": "red"
         },
         "marker": {
          "color": "#636efa",
          "symbol": "circle"
         },
         "mode": "lines",
         "name": "",
         "showlegend": false,
         "type": "scatter",
         "x": [
          2,
          2.0303030303030303,
          2.0606060606060606,
          2.090909090909091,
          2.121212121212121,
          2.1515151515151514,
          2.1818181818181817,
          2.212121212121212,
          2.242424242424242,
          2.2727272727272725,
          2.303030303030303,
          2.3333333333333335,
          2.3636363636363638,
          2.393939393939394,
          2.4242424242424243,
          2.4545454545454546,
          2.484848484848485,
          2.515151515151515,
          2.5454545454545454,
          2.5757575757575757,
          2.606060606060606,
          2.6363636363636362,
          2.666666666666667,
          2.6969696969696972,
          2.7272727272727275,
          2.757575757575758,
          2.787878787878788,
          2.8181818181818183,
          2.8484848484848486,
          2.878787878787879,
          2.909090909090909,
          2.9393939393939394,
          2.9696969696969697,
          3,
          3.0303030303030303,
          3.0606060606060606,
          3.090909090909091,
          3.121212121212121,
          3.1515151515151514,
          3.1818181818181817,
          3.212121212121212,
          3.242424242424242,
          3.2727272727272725,
          3.3030303030303028,
          3.3333333333333335,
          3.3636363636363638,
          3.393939393939394,
          3.4242424242424243,
          3.4545454545454546,
          3.484848484848485,
          3.515151515151515,
          3.5454545454545454,
          3.5757575757575757,
          3.6060606060606064,
          3.6363636363636367,
          3.666666666666667,
          3.6969696969696972,
          3.7272727272727275,
          3.757575757575758,
          3.787878787878788,
          3.8181818181818183,
          3.8484848484848486,
          3.878787878787879,
          3.909090909090909,
          3.9393939393939394,
          3.9696969696969697,
          4,
          4.03030303030303,
          4.0606060606060606,
          4.090909090909091,
          4.121212121212121,
          4.151515151515151,
          4.181818181818182,
          4.212121212121213,
          4.242424242424242,
          4.272727272727273,
          4.303030303030303,
          4.333333333333334,
          4.363636363636363,
          4.3939393939393945,
          4.424242424242424,
          4.454545454545455,
          4.484848484848484,
          4.515151515151516,
          4.545454545454545,
          4.575757575757576,
          4.6060606060606055,
          4.636363636363637,
          4.666666666666667,
          4.696969696969697,
          4.7272727272727275,
          4.757575757575758,
          4.787878787878788,
          4.818181818181818,
          4.848484848484849,
          4.878787878787879,
          4.909090909090909,
          4.9393939393939394,
          4.96969696969697,
          5
         ],
         "xaxis": "x",
         "y": [
          -143.16062139784992,
          -130.6107939418622,
          -118.06096648587436,
          -105.51113902988664,
          -92.9613115738988,
          -80.41148411791107,
          -67.86165666192323,
          -55.31182920593551,
          -42.76200174994767,
          -30.212174293959947,
          -17.662346837971995,
          -5.112519381984157,
          7.4373080740035675,
          19.987135529991406,
          32.53696298597913,
          45.08679044196697,
          57.63661789795481,
          70.18644535394253,
          82.73627280993026,
          95.28610026591798,
          107.83592772190593,
          120.38575517789366,
          132.9355826338816,
          145.48541008986933,
          158.03523754585706,
          170.585065001845,
          183.13489245783273,
          195.68471991382046,
          208.23454736980818,
          220.78437482579614,
          233.33420228178386,
          245.88402973777158,
          258.4338571937593,
          270.98368464974703,
          283.533512105735,
          296.0833395617227,
          308.63316701771043,
          321.18299447369816,
          333.7328219296861,
          346.28264938567384,
          358.83247684166156,
          371.3823042976493,
          383.93213175363724,
          396.48195920962496,
          409.0317866656129,
          421.58161412160064,
          434.13144157758836,
          446.6812690335763,
          459.23109648956404,
          471.78092394555176,
          484.3307514015395,
          496.88057885752744,
          509.43040631351516,
          521.9802337695031,
          534.5300612254908,
          547.0798886814786,
          559.6297161374665,
          572.1795435934542,
          584.729371049442,
          597.2791985054297,
          609.8290259614176,
          622.3788534174054,
          634.9286808733931,
          647.4785083293808,
          660.0283357853688,
          672.5781632413565,
          685.1279906973442,
          697.6778181533319,
          710.2276456093197,
          722.7774730653076,
          735.3273005212953,
          747.8771279772831,
          760.4269554332708,
          772.976782889259,
          785.5266103452465,
          798.0764378012346,
          810.6262652572219,
          823.1760927132101,
          835.7259201691976,
          848.2757476251858,
          860.825575081173,
          873.3754025371612,
          885.9252299931487,
          898.4750574491369,
          911.0248849051242,
          923.5747123611123,
          936.1245398170998,
          948.674367273088,
          961.2241947290757,
          973.7740221850635,
          986.3238496410512,
          998.8736770970391,
          1011.4235045530269,
          1023.9733320090146,
          1036.5231594650022,
          1049.0729869209904,
          1061.622814376978,
          1074.1726418329658,
          1086.7224692889536,
          1099.2722967449413
         ],
         "yaxis": "y"
        }
       ],
       "layout": {
        "legend": {
         "tracegroupgap": 0
        },
        "margin": {
         "t": 60
        },
        "template": {
         "data": {
          "bar": [
           {
            "error_x": {
             "color": "#2a3f5f"
            },
            "error_y": {
             "color": "#2a3f5f"
            },
            "marker": {
             "line": {
              "color": "#E5ECF6",
              "width": 0.5
             },
             "pattern": {
              "fillmode": "overlay",
              "size": 10,
              "solidity": 0.2
             }
            },
            "type": "bar"
           }
          ],
          "barpolar": [
           {
            "marker": {
             "line": {
              "color": "#E5ECF6",
              "width": 0.5
             },
             "pattern": {
              "fillmode": "overlay",
              "size": 10,
              "solidity": 0.2
             }
            },
            "type": "barpolar"
           }
          ],
          "carpet": [
           {
            "aaxis": {
             "endlinecolor": "#2a3f5f",
             "gridcolor": "white",
             "linecolor": "white",
             "minorgridcolor": "white",
             "startlinecolor": "#2a3f5f"
            },
            "baxis": {
             "endlinecolor": "#2a3f5f",
             "gridcolor": "white",
             "linecolor": "white",
             "minorgridcolor": "white",
             "startlinecolor": "#2a3f5f"
            },
            "type": "carpet"
           }
          ],
          "choropleth": [
           {
            "colorbar": {
             "outlinewidth": 0,
             "ticks": ""
            },
            "type": "choropleth"
           }
          ],
          "contour": [
           {
            "colorbar": {
             "outlinewidth": 0,
             "ticks": ""
            },
            "colorscale": [
             [
              0,
              "#0d0887"
             ],
             [
              0.1111111111111111,
              "#46039f"
             ],
             [
              0.2222222222222222,
              "#7201a8"
             ],
             [
              0.3333333333333333,
              "#9c179e"
             ],
             [
              0.4444444444444444,
              "#bd3786"
             ],
             [
              0.5555555555555556,
              "#d8576b"
             ],
             [
              0.6666666666666666,
              "#ed7953"
             ],
             [
              0.7777777777777778,
              "#fb9f3a"
             ],
             [
              0.8888888888888888,
              "#fdca26"
             ],
             [
              1,
              "#f0f921"
             ]
            ],
            "type": "contour"
           }
          ],
          "contourcarpet": [
           {
            "colorbar": {
             "outlinewidth": 0,
             "ticks": ""
            },
            "type": "contourcarpet"
           }
          ],
          "heatmap": [
           {
            "colorbar": {
             "outlinewidth": 0,
             "ticks": ""
            },
            "colorscale": [
             [
              0,
              "#0d0887"
             ],
             [
              0.1111111111111111,
              "#46039f"
             ],
             [
              0.2222222222222222,
              "#7201a8"
             ],
             [
              0.3333333333333333,
              "#9c179e"
             ],
             [
              0.4444444444444444,
              "#bd3786"
             ],
             [
              0.5555555555555556,
              "#d8576b"
             ],
             [
              0.6666666666666666,
              "#ed7953"
             ],
             [
              0.7777777777777778,
              "#fb9f3a"
             ],
             [
              0.8888888888888888,
              "#fdca26"
             ],
             [
              1,
              "#f0f921"
             ]
            ],
            "type": "heatmap"
           }
          ],
          "heatmapgl": [
           {
            "colorbar": {
             "outlinewidth": 0,
             "ticks": ""
            },
            "colorscale": [
             [
              0,
              "#0d0887"
             ],
             [
              0.1111111111111111,
              "#46039f"
             ],
             [
              0.2222222222222222,
              "#7201a8"
             ],
             [
              0.3333333333333333,
              "#9c179e"
             ],
             [
              0.4444444444444444,
              "#bd3786"
             ],
             [
              0.5555555555555556,
              "#d8576b"
             ],
             [
              0.6666666666666666,
              "#ed7953"
             ],
             [
              0.7777777777777778,
              "#fb9f3a"
             ],
             [
              0.8888888888888888,
              "#fdca26"
             ],
             [
              1,
              "#f0f921"
             ]
            ],
            "type": "heatmapgl"
           }
          ],
          "histogram": [
           {
            "marker": {
             "pattern": {
              "fillmode": "overlay",
              "size": 10,
              "solidity": 0.2
             }
            },
            "type": "histogram"
           }
          ],
          "histogram2d": [
           {
            "colorbar": {
             "outlinewidth": 0,
             "ticks": ""
            },
            "colorscale": [
             [
              0,
              "#0d0887"
             ],
             [
              0.1111111111111111,
              "#46039f"
             ],
             [
              0.2222222222222222,
              "#7201a8"
             ],
             [
              0.3333333333333333,
              "#9c179e"
             ],
             [
              0.4444444444444444,
              "#bd3786"
             ],
             [
              0.5555555555555556,
              "#d8576b"
             ],
             [
              0.6666666666666666,
              "#ed7953"
             ],
             [
              0.7777777777777778,
              "#fb9f3a"
             ],
             [
              0.8888888888888888,
              "#fdca26"
             ],
             [
              1,
              "#f0f921"
             ]
            ],
            "type": "histogram2d"
           }
          ],
          "histogram2dcontour": [
           {
            "colorbar": {
             "outlinewidth": 0,
             "ticks": ""
            },
            "colorscale": [
             [
              0,
              "#0d0887"
             ],
             [
              0.1111111111111111,
              "#46039f"
             ],
             [
              0.2222222222222222,
              "#7201a8"
             ],
             [
              0.3333333333333333,
              "#9c179e"
             ],
             [
              0.4444444444444444,
              "#bd3786"
             ],
             [
              0.5555555555555556,
              "#d8576b"
             ],
             [
              0.6666666666666666,
              "#ed7953"
             ],
             [
              0.7777777777777778,
              "#fb9f3a"
             ],
             [
              0.8888888888888888,
              "#fdca26"
             ],
             [
              1,
              "#f0f921"
             ]
            ],
            "type": "histogram2dcontour"
           }
          ],
          "mesh3d": [
           {
            "colorbar": {
             "outlinewidth": 0,
             "ticks": ""
            },
            "type": "mesh3d"
           }
          ],
          "parcoords": [
           {
            "line": {
             "colorbar": {
              "outlinewidth": 0,
              "ticks": ""
             }
            },
            "type": "parcoords"
           }
          ],
          "pie": [
           {
            "automargin": true,
            "type": "pie"
           }
          ],
          "scatter": [
           {
            "fillpattern": {
             "fillmode": "overlay",
             "size": 10,
             "solidity": 0.2
            },
            "type": "scatter"
           }
          ],
          "scatter3d": [
           {
            "line": {
             "colorbar": {
              "outlinewidth": 0,
              "ticks": ""
             }
            },
            "marker": {
             "colorbar": {
              "outlinewidth": 0,
              "ticks": ""
             }
            },
            "type": "scatter3d"
           }
          ],
          "scattercarpet": [
           {
            "marker": {
             "colorbar": {
              "outlinewidth": 0,
              "ticks": ""
             }
            },
            "type": "scattercarpet"
           }
          ],
          "scattergeo": [
           {
            "marker": {
             "colorbar": {
              "outlinewidth": 0,
              "ticks": ""
             }
            },
            "type": "scattergeo"
           }
          ],
          "scattergl": [
           {
            "marker": {
             "colorbar": {
              "outlinewidth": 0,
              "ticks": ""
             }
            },
            "type": "scattergl"
           }
          ],
          "scattermapbox": [
           {
            "marker": {
             "colorbar": {
              "outlinewidth": 0,
              "ticks": ""
             }
            },
            "type": "scattermapbox"
           }
          ],
          "scatterpolar": [
           {
            "marker": {
             "colorbar": {
              "outlinewidth": 0,
              "ticks": ""
             }
            },
            "type": "scatterpolar"
           }
          ],
          "scatterpolargl": [
           {
            "marker": {
             "colorbar": {
              "outlinewidth": 0,
              "ticks": ""
             }
            },
            "type": "scatterpolargl"
           }
          ],
          "scatterternary": [
           {
            "marker": {
             "colorbar": {
              "outlinewidth": 0,
              "ticks": ""
             }
            },
            "type": "scatterternary"
           }
          ],
          "surface": [
           {
            "colorbar": {
             "outlinewidth": 0,
             "ticks": ""
            },
            "colorscale": [
             [
              0,
              "#0d0887"
             ],
             [
              0.1111111111111111,
              "#46039f"
             ],
             [
              0.2222222222222222,
              "#7201a8"
             ],
             [
              0.3333333333333333,
              "#9c179e"
             ],
             [
              0.4444444444444444,
              "#bd3786"
             ],
             [
              0.5555555555555556,
              "#d8576b"
             ],
             [
              0.6666666666666666,
              "#ed7953"
             ],
             [
              0.7777777777777778,
              "#fb9f3a"
             ],
             [
              0.8888888888888888,
              "#fdca26"
             ],
             [
              1,
              "#f0f921"
             ]
            ],
            "type": "surface"
           }
          ],
          "table": [
           {
            "cells": {
             "fill": {
              "color": "#EBF0F8"
             },
             "line": {
              "color": "white"
             }
            },
            "header": {
             "fill": {
              "color": "#C8D4E3"
             },
             "line": {
              "color": "white"
             }
            },
            "type": "table"
           }
          ]
         },
         "layout": {
          "annotationdefaults": {
           "arrowcolor": "#2a3f5f",
           "arrowhead": 0,
           "arrowwidth": 1
          },
          "autotypenumbers": "strict",
          "coloraxis": {
           "colorbar": {
            "outlinewidth": 0,
            "ticks": ""
           }
          },
          "colorscale": {
           "diverging": [
            [
             0,
             "#8e0152"
            ],
            [
             0.1,
             "#c51b7d"
            ],
            [
             0.2,
             "#de77ae"
            ],
            [
             0.3,
             "#f1b6da"
            ],
            [
             0.4,
             "#fde0ef"
            ],
            [
             0.5,
             "#f7f7f7"
            ],
            [
             0.6,
             "#e6f5d0"
            ],
            [
             0.7,
             "#b8e186"
            ],
            [
             0.8,
             "#7fbc41"
            ],
            [
             0.9,
             "#4d9221"
            ],
            [
             1,
             "#276419"
            ]
           ],
           "sequential": [
            [
             0,
             "#0d0887"
            ],
            [
             0.1111111111111111,
             "#46039f"
            ],
            [
             0.2222222222222222,
             "#7201a8"
            ],
            [
             0.3333333333333333,
             "#9c179e"
            ],
            [
             0.4444444444444444,
             "#bd3786"
            ],
            [
             0.5555555555555556,
             "#d8576b"
            ],
            [
             0.6666666666666666,
             "#ed7953"
            ],
            [
             0.7777777777777778,
             "#fb9f3a"
            ],
            [
             0.8888888888888888,
             "#fdca26"
            ],
            [
             1,
             "#f0f921"
            ]
           ],
           "sequentialminus": [
            [
             0,
             "#0d0887"
            ],
            [
             0.1111111111111111,
             "#46039f"
            ],
            [
             0.2222222222222222,
             "#7201a8"
            ],
            [
             0.3333333333333333,
             "#9c179e"
            ],
            [
             0.4444444444444444,
             "#bd3786"
            ],
            [
             0.5555555555555556,
             "#d8576b"
            ],
            [
             0.6666666666666666,
             "#ed7953"
            ],
            [
             0.7777777777777778,
             "#fb9f3a"
            ],
            [
             0.8888888888888888,
             "#fdca26"
            ],
            [
             1,
             "#f0f921"
            ]
           ]
          },
          "colorway": [
           "#636efa",
           "#EF553B",
           "#00cc96",
           "#ab63fa",
           "#FFA15A",
           "#19d3f3",
           "#FF6692",
           "#B6E880",
           "#FF97FF",
           "#FECB52"
          ],
          "font": {
           "color": "#2a3f5f"
          },
          "geo": {
           "bgcolor": "white",
           "lakecolor": "white",
           "landcolor": "#E5ECF6",
           "showlakes": true,
           "showland": true,
           "subunitcolor": "white"
          },
          "hoverlabel": {
           "align": "left"
          },
          "hovermode": "closest",
          "mapbox": {
           "style": "light"
          },
          "paper_bgcolor": "white",
          "plot_bgcolor": "#E5ECF6",
          "polar": {
           "angularaxis": {
            "gridcolor": "white",
            "linecolor": "white",
            "ticks": ""
           },
           "bgcolor": "#E5ECF6",
           "radialaxis": {
            "gridcolor": "white",
            "linecolor": "white",
            "ticks": ""
           }
          },
          "scene": {
           "xaxis": {
            "backgroundcolor": "#E5ECF6",
            "gridcolor": "white",
            "gridwidth": 2,
            "linecolor": "white",
            "showbackground": true,
            "ticks": "",
            "zerolinecolor": "white"
           },
           "yaxis": {
            "backgroundcolor": "#E5ECF6",
            "gridcolor": "white",
            "gridwidth": 2,
            "linecolor": "white",
            "showbackground": true,
            "ticks": "",
            "zerolinecolor": "white"
           },
           "zaxis": {
            "backgroundcolor": "#E5ECF6",
            "gridcolor": "white",
            "gridwidth": 2,
            "linecolor": "white",
            "showbackground": true,
            "ticks": "",
            "zerolinecolor": "white"
           }
          },
          "shapedefaults": {
           "line": {
            "color": "#2a3f5f"
           }
          },
          "ternary": {
           "aaxis": {
            "gridcolor": "white",
            "linecolor": "white",
            "ticks": ""
           },
           "baxis": {
            "gridcolor": "white",
            "linecolor": "white",
            "ticks": ""
           },
           "bgcolor": "#E5ECF6",
           "caxis": {
            "gridcolor": "white",
            "linecolor": "white",
            "ticks": ""
           }
          },
          "title": {
           "x": 0.05
          },
          "xaxis": {
           "automargin": true,
           "gridcolor": "white",
           "linecolor": "white",
           "ticks": "",
           "title": {
            "standoff": 15
           },
           "zerolinecolor": "white",
           "zerolinewidth": 2
          },
          "yaxis": {
           "automargin": true,
           "gridcolor": "white",
           "linecolor": "white",
           "ticks": "",
           "title": {
            "standoff": 15
           },
           "zerolinecolor": "white",
           "zerolinewidth": 2
          }
         }
        },
        "xaxis": {
         "anchor": "y",
         "domain": [
          0,
          1
         ],
         "title": {
          "text": "x"
         }
        },
        "yaxis": {
         "anchor": "x",
         "domain": [
          0,
          1
         ],
         "title": {
          "text": "y"
         }
        }
       }
      }
     },
     "metadata": {},
     "output_type": "display_data"
    }
   ],
   "source": [
    "# By setting a seed, we guarantee that we will see the same results each time we run this cell\n",
    "np.random.seed(32)\n",
    "\n",
    "# Generates a different random scatter plot\n",
    "x = np.linspace(2, 5, 100)\n",
    "y = 10 * (np.e ** x) + np.abs(x) * np.random.normal(0, 5, 100) + np.random.normal(0, 30, 100)\n",
    "df_2 = pd.DataFrame().assign(x=x, y=y)\n",
    "\n",
    "px.scatter(df_2, x='x', y='y', trendline=\"ols\", trendline_color_override=\"red\")"
   ]
  },
  {
   "cell_type": "markdown",
   "id": "2efd42ab",
   "metadata": {},
   "source": [
    "Again, the relationship between `'x'` and `'y'` is not quite linear. Let's try the square root transformation we tried in Example 1:"
   ]
  },
  {
   "cell_type": "code",
   "execution_count": 8,
   "id": "25f2cea5",
   "metadata": {},
   "outputs": [
    {
     "data": {
      "application/vnd.plotly.v1+json": {
       "config": {
        "plotlyServerURL": "https://plot.ly"
       },
       "data": [
        {
         "hovertemplate": "x=%{x}<br>root y=%{y}<extra></extra>",
         "legendgroup": "",
         "marker": {
          "color": "#636efa",
          "symbol": "circle"
         },
         "mode": "markers",
         "name": "",
         "orientation": "v",
         "showlegend": false,
         "type": "scatter",
         "x": [
          2,
          2.0303030303030303,
          2.0606060606060606,
          2.090909090909091,
          2.121212121212121,
          2.1515151515151514,
          2.1818181818181817,
          2.212121212121212,
          2.242424242424242,
          2.2727272727272725,
          2.303030303030303,
          2.3333333333333335,
          2.3636363636363638,
          2.393939393939394,
          2.4242424242424243,
          2.4545454545454546,
          2.484848484848485,
          2.515151515151515,
          2.5454545454545454,
          2.5757575757575757,
          2.606060606060606,
          2.6363636363636362,
          2.666666666666667,
          2.6969696969696972,
          2.7272727272727275,
          2.757575757575758,
          2.787878787878788,
          2.8181818181818183,
          2.8484848484848486,
          2.878787878787879,
          2.909090909090909,
          2.9393939393939394,
          2.9696969696969697,
          3,
          3.0303030303030303,
          3.0606060606060606,
          3.090909090909091,
          3.121212121212121,
          3.1515151515151514,
          3.1818181818181817,
          3.212121212121212,
          3.242424242424242,
          3.2727272727272725,
          3.3030303030303028,
          3.3333333333333335,
          3.3636363636363638,
          3.393939393939394,
          3.4242424242424243,
          3.4545454545454546,
          3.484848484848485,
          3.515151515151515,
          3.5454545454545454,
          3.5757575757575757,
          3.6060606060606064,
          3.6363636363636367,
          3.666666666666667,
          3.6969696969696972,
          3.7272727272727275,
          3.757575757575758,
          3.787878787878788,
          3.8181818181818183,
          3.8484848484848486,
          3.878787878787879,
          3.909090909090909,
          3.9393939393939394,
          3.9696969696969697,
          4,
          4.03030303030303,
          4.0606060606060606,
          4.090909090909091,
          4.121212121212121,
          4.151515151515151,
          4.181818181818182,
          4.212121212121213,
          4.242424242424242,
          4.272727272727273,
          4.303030303030303,
          4.333333333333334,
          4.363636363636363,
          4.3939393939393945,
          4.424242424242424,
          4.454545454545455,
          4.484848484848484,
          4.515151515151516,
          4.545454545454545,
          4.575757575757576,
          4.6060606060606055,
          4.636363636363637,
          4.666666666666667,
          4.696969696969697,
          4.7272727272727275,
          4.757575757575758,
          4.787878787878788,
          4.818181818181818,
          4.848484848484849,
          4.878787878787879,
          4.909090909090909,
          4.9393939393939394,
          4.96969696969697,
          5
         ],
         "xaxis": "x",
         "y": [
          5.119449530327179,
          7.869306346827667,
          7.3150427132801035,
          10.355810981064797,
          8.234512900652982,
          10.963758854135204,
          12.478577391675149,
          10.638736634352208,
          9.100116284135323,
          7.37824933315752,
          12.339961895040974,
          11.204782073695355,
          12.060852040555961,
          10.845781565453695,
          9.831730086313245,
          11.376553631667452,
          9.972360620334415,
          13.570085098306654,
          10.432860813079829,
          11.887478189366846,
          11.923221081375123,
          11.039450288003293,
          13.731441795963208,
          9.30910814907123,
          12.850141294808376,
          13.933046043760566,
          12.022574891105569,
          11.889753263081095,
          15.145340954279298,
          13.536686419241677,
          11.09247393034188,
          16.106916603689413,
          16.97884905949795,
          12.576444926039027,
          15.480158239807396,
          14.171714770954484,
          14.302319410269432,
          12.683171782764848,
          16.38299876339323,
          16.59759331838262,
          15.67757814182616,
          14.971978697463793,
          15.860215950537484,
          16.16325294813998,
          16.377651584970167,
          18.09426874337192,
          15.68709490946483,
          18.41979660092513,
          18.80959702363227,
          18.138687816945257,
          19.20183064402184,
          18.206400718751482,
          19.581988983382306,
          18.75759062190164,
          18.151710997356307,
          20.607077222077642,
          21.60941981668541,
          20.7919845274323,
          20.762389031865748,
          19.545836564154527,
          19.91060849127384,
          21.048319988708567,
          23.076252913392874,
          21.611192608803332,
          23.261003335185663,
          23.217418741480614,
          24.027729779656674,
          23.633863754345228,
          24.63574089120389,
          25.257921830231275,
          24.67687497838068,
          24.688249544256525,
          24.59073871876232,
          25.359433220060783,
          25.96576571806316,
          26.218128334671707,
          26.91012696102369,
          28.431120349941164,
          28.77576333368214,
          28.475652130628195,
          29.274529887710123,
          30.25411771829336,
          30.186778541202997,
          30.352184659481715,
          31.38420109691419,
          31.6650619884442,
          32.548236368086904,
          31.380730692602597,
          32.65507782463211,
          32.96799869647809,
          33.88691597953825,
          35.14655981505514,
          34.93021643607781,
          35.34055846612545,
          34.903187725646305,
          35.77606095796323,
          37.33451510461973,
          37.53798753591016,
          37.984786979051606,
          38.102666151353716
         ],
         "yaxis": "y"
        },
        {
         "hovertemplate": "<b>OLS trendline</b><br>root y = 9.63148 * x + -13.6349<br>R<sup>2</sup>=0.945913<br><br>x=%{x}<br>root y=%{y} <b>(trend)</b><extra></extra>",
         "legendgroup": "",
         "line": {
          "color": "red"
         },
         "marker": {
          "color": "#636efa",
          "symbol": "circle"
         },
         "mode": "lines",
         "name": "",
         "showlegend": false,
         "type": "scatter",
         "x": [
          2,
          2.0303030303030303,
          2.0606060606060606,
          2.090909090909091,
          2.121212121212121,
          2.1515151515151514,
          2.1818181818181817,
          2.212121212121212,
          2.242424242424242,
          2.2727272727272725,
          2.303030303030303,
          2.3333333333333335,
          2.3636363636363638,
          2.393939393939394,
          2.4242424242424243,
          2.4545454545454546,
          2.484848484848485,
          2.515151515151515,
          2.5454545454545454,
          2.5757575757575757,
          2.606060606060606,
          2.6363636363636362,
          2.666666666666667,
          2.6969696969696972,
          2.7272727272727275,
          2.757575757575758,
          2.787878787878788,
          2.8181818181818183,
          2.8484848484848486,
          2.878787878787879,
          2.909090909090909,
          2.9393939393939394,
          2.9696969696969697,
          3,
          3.0303030303030303,
          3.0606060606060606,
          3.090909090909091,
          3.121212121212121,
          3.1515151515151514,
          3.1818181818181817,
          3.212121212121212,
          3.242424242424242,
          3.2727272727272725,
          3.3030303030303028,
          3.3333333333333335,
          3.3636363636363638,
          3.393939393939394,
          3.4242424242424243,
          3.4545454545454546,
          3.484848484848485,
          3.515151515151515,
          3.5454545454545454,
          3.5757575757575757,
          3.6060606060606064,
          3.6363636363636367,
          3.666666666666667,
          3.6969696969696972,
          3.7272727272727275,
          3.757575757575758,
          3.787878787878788,
          3.8181818181818183,
          3.8484848484848486,
          3.878787878787879,
          3.909090909090909,
          3.9393939393939394,
          3.9696969696969697,
          4,
          4.03030303030303,
          4.0606060606060606,
          4.090909090909091,
          4.121212121212121,
          4.151515151515151,
          4.181818181818182,
          4.212121212121213,
          4.242424242424242,
          4.272727272727273,
          4.303030303030303,
          4.333333333333334,
          4.363636363636363,
          4.3939393939393945,
          4.424242424242424,
          4.454545454545455,
          4.484848484848484,
          4.515151515151516,
          4.545454545454545,
          4.575757575757576,
          4.6060606060606055,
          4.636363636363637,
          4.666666666666667,
          4.696969696969697,
          4.7272727272727275,
          4.757575757575758,
          4.787878787878788,
          4.818181818181818,
          4.848484848484849,
          4.878787878787879,
          4.909090909090909,
          4.9393939393939394,
          4.96969696969697,
          5
         ],
         "xaxis": "x",
         "y": [
          5.628084132349896,
          5.919947087608099,
          6.211810042866302,
          6.503672998124506,
          6.795535953382709,
          7.087398908640912,
          7.379261863899115,
          7.671124819157319,
          7.962987774415522,
          8.254850729673725,
          8.546713684931936,
          8.838576640190139,
          9.130439595448342,
          9.422302550706545,
          9.714165505964749,
          10.006028461222952,
          10.297891416481155,
          10.589754371739359,
          10.881617326997562,
          11.173480282255765,
          11.465343237513968,
          11.757206192772172,
          12.049069148030378,
          12.340932103288585,
          12.632795058546789,
          12.924658013804992,
          13.216520969063195,
          13.508383924321398,
          13.800246879579602,
          14.092109834837805,
          14.383972790096008,
          14.675835745354211,
          14.967698700612415,
          15.259561655870618,
          15.551424611128821,
          15.843287566387025,
          16.13515052164523,
          16.427013476903433,
          16.718876432161636,
          17.01073938741984,
          17.302602342678043,
          17.594465297936246,
          17.88632825319445,
          18.178191208452652,
          18.470054163710863,
          18.761917118969066,
          19.05378007422727,
          19.345643029485473,
          19.637505984743676,
          19.92936894000188,
          20.221231895260082,
          20.513094850518286,
          20.80495780577649,
          21.0968207610347,
          21.388683716292903,
          21.680546671551106,
          21.97240962680931,
          22.264272582067512,
          22.556135537325716,
          22.84799849258392,
          23.139861447842122,
          23.431724403100326,
          23.72358735835853,
          24.015450313616732,
          24.307313268874935,
          24.59917622413314,
          24.891039179391342,
          25.182902134649545,
          25.47476508990775,
          25.76662804516595,
          26.058491000424155,
          26.35035395568236,
          26.64221691094056,
          26.934079866198772,
          27.225942821456968,
          27.51780577671518,
          27.809668731973375,
          28.101531687231585,
          28.39339464248978,
          28.685257597748,
          28.977120553006188,
          29.268983508264405,
          29.560846463522594,
          29.85270941878081,
          30.144572374039,
          30.43643532929722,
          30.728298284555407,
          31.020161239813625,
          31.312024195071828,
          31.60388715033003,
          31.895750105588235,
          32.18761306084644,
          32.47947601610464,
          32.771338971362844,
          33.06320192662105,
          33.35506488187925,
          33.646927837137454,
          33.93879079239566,
          34.23065374765386,
          34.522516702912064
         ],
         "yaxis": "y"
        }
       ],
       "layout": {
        "legend": {
         "tracegroupgap": 0
        },
        "margin": {
         "t": 60
        },
        "template": {
         "data": {
          "bar": [
           {
            "error_x": {
             "color": "#2a3f5f"
            },
            "error_y": {
             "color": "#2a3f5f"
            },
            "marker": {
             "line": {
              "color": "#E5ECF6",
              "width": 0.5
             },
             "pattern": {
              "fillmode": "overlay",
              "size": 10,
              "solidity": 0.2
             }
            },
            "type": "bar"
           }
          ],
          "barpolar": [
           {
            "marker": {
             "line": {
              "color": "#E5ECF6",
              "width": 0.5
             },
             "pattern": {
              "fillmode": "overlay",
              "size": 10,
              "solidity": 0.2
             }
            },
            "type": "barpolar"
           }
          ],
          "carpet": [
           {
            "aaxis": {
             "endlinecolor": "#2a3f5f",
             "gridcolor": "white",
             "linecolor": "white",
             "minorgridcolor": "white",
             "startlinecolor": "#2a3f5f"
            },
            "baxis": {
             "endlinecolor": "#2a3f5f",
             "gridcolor": "white",
             "linecolor": "white",
             "minorgridcolor": "white",
             "startlinecolor": "#2a3f5f"
            },
            "type": "carpet"
           }
          ],
          "choropleth": [
           {
            "colorbar": {
             "outlinewidth": 0,
             "ticks": ""
            },
            "type": "choropleth"
           }
          ],
          "contour": [
           {
            "colorbar": {
             "outlinewidth": 0,
             "ticks": ""
            },
            "colorscale": [
             [
              0,
              "#0d0887"
             ],
             [
              0.1111111111111111,
              "#46039f"
             ],
             [
              0.2222222222222222,
              "#7201a8"
             ],
             [
              0.3333333333333333,
              "#9c179e"
             ],
             [
              0.4444444444444444,
              "#bd3786"
             ],
             [
              0.5555555555555556,
              "#d8576b"
             ],
             [
              0.6666666666666666,
              "#ed7953"
             ],
             [
              0.7777777777777778,
              "#fb9f3a"
             ],
             [
              0.8888888888888888,
              "#fdca26"
             ],
             [
              1,
              "#f0f921"
             ]
            ],
            "type": "contour"
           }
          ],
          "contourcarpet": [
           {
            "colorbar": {
             "outlinewidth": 0,
             "ticks": ""
            },
            "type": "contourcarpet"
           }
          ],
          "heatmap": [
           {
            "colorbar": {
             "outlinewidth": 0,
             "ticks": ""
            },
            "colorscale": [
             [
              0,
              "#0d0887"
             ],
             [
              0.1111111111111111,
              "#46039f"
             ],
             [
              0.2222222222222222,
              "#7201a8"
             ],
             [
              0.3333333333333333,
              "#9c179e"
             ],
             [
              0.4444444444444444,
              "#bd3786"
             ],
             [
              0.5555555555555556,
              "#d8576b"
             ],
             [
              0.6666666666666666,
              "#ed7953"
             ],
             [
              0.7777777777777778,
              "#fb9f3a"
             ],
             [
              0.8888888888888888,
              "#fdca26"
             ],
             [
              1,
              "#f0f921"
             ]
            ],
            "type": "heatmap"
           }
          ],
          "heatmapgl": [
           {
            "colorbar": {
             "outlinewidth": 0,
             "ticks": ""
            },
            "colorscale": [
             [
              0,
              "#0d0887"
             ],
             [
              0.1111111111111111,
              "#46039f"
             ],
             [
              0.2222222222222222,
              "#7201a8"
             ],
             [
              0.3333333333333333,
              "#9c179e"
             ],
             [
              0.4444444444444444,
              "#bd3786"
             ],
             [
              0.5555555555555556,
              "#d8576b"
             ],
             [
              0.6666666666666666,
              "#ed7953"
             ],
             [
              0.7777777777777778,
              "#fb9f3a"
             ],
             [
              0.8888888888888888,
              "#fdca26"
             ],
             [
              1,
              "#f0f921"
             ]
            ],
            "type": "heatmapgl"
           }
          ],
          "histogram": [
           {
            "marker": {
             "pattern": {
              "fillmode": "overlay",
              "size": 10,
              "solidity": 0.2
             }
            },
            "type": "histogram"
           }
          ],
          "histogram2d": [
           {
            "colorbar": {
             "outlinewidth": 0,
             "ticks": ""
            },
            "colorscale": [
             [
              0,
              "#0d0887"
             ],
             [
              0.1111111111111111,
              "#46039f"
             ],
             [
              0.2222222222222222,
              "#7201a8"
             ],
             [
              0.3333333333333333,
              "#9c179e"
             ],
             [
              0.4444444444444444,
              "#bd3786"
             ],
             [
              0.5555555555555556,
              "#d8576b"
             ],
             [
              0.6666666666666666,
              "#ed7953"
             ],
             [
              0.7777777777777778,
              "#fb9f3a"
             ],
             [
              0.8888888888888888,
              "#fdca26"
             ],
             [
              1,
              "#f0f921"
             ]
            ],
            "type": "histogram2d"
           }
          ],
          "histogram2dcontour": [
           {
            "colorbar": {
             "outlinewidth": 0,
             "ticks": ""
            },
            "colorscale": [
             [
              0,
              "#0d0887"
             ],
             [
              0.1111111111111111,
              "#46039f"
             ],
             [
              0.2222222222222222,
              "#7201a8"
             ],
             [
              0.3333333333333333,
              "#9c179e"
             ],
             [
              0.4444444444444444,
              "#bd3786"
             ],
             [
              0.5555555555555556,
              "#d8576b"
             ],
             [
              0.6666666666666666,
              "#ed7953"
             ],
             [
              0.7777777777777778,
              "#fb9f3a"
             ],
             [
              0.8888888888888888,
              "#fdca26"
             ],
             [
              1,
              "#f0f921"
             ]
            ],
            "type": "histogram2dcontour"
           }
          ],
          "mesh3d": [
           {
            "colorbar": {
             "outlinewidth": 0,
             "ticks": ""
            },
            "type": "mesh3d"
           }
          ],
          "parcoords": [
           {
            "line": {
             "colorbar": {
              "outlinewidth": 0,
              "ticks": ""
             }
            },
            "type": "parcoords"
           }
          ],
          "pie": [
           {
            "automargin": true,
            "type": "pie"
           }
          ],
          "scatter": [
           {
            "fillpattern": {
             "fillmode": "overlay",
             "size": 10,
             "solidity": 0.2
            },
            "type": "scatter"
           }
          ],
          "scatter3d": [
           {
            "line": {
             "colorbar": {
              "outlinewidth": 0,
              "ticks": ""
             }
            },
            "marker": {
             "colorbar": {
              "outlinewidth": 0,
              "ticks": ""
             }
            },
            "type": "scatter3d"
           }
          ],
          "scattercarpet": [
           {
            "marker": {
             "colorbar": {
              "outlinewidth": 0,
              "ticks": ""
             }
            },
            "type": "scattercarpet"
           }
          ],
          "scattergeo": [
           {
            "marker": {
             "colorbar": {
              "outlinewidth": 0,
              "ticks": ""
             }
            },
            "type": "scattergeo"
           }
          ],
          "scattergl": [
           {
            "marker": {
             "colorbar": {
              "outlinewidth": 0,
              "ticks": ""
             }
            },
            "type": "scattergl"
           }
          ],
          "scattermapbox": [
           {
            "marker": {
             "colorbar": {
              "outlinewidth": 0,
              "ticks": ""
             }
            },
            "type": "scattermapbox"
           }
          ],
          "scatterpolar": [
           {
            "marker": {
             "colorbar": {
              "outlinewidth": 0,
              "ticks": ""
             }
            },
            "type": "scatterpolar"
           }
          ],
          "scatterpolargl": [
           {
            "marker": {
             "colorbar": {
              "outlinewidth": 0,
              "ticks": ""
             }
            },
            "type": "scatterpolargl"
           }
          ],
          "scatterternary": [
           {
            "marker": {
             "colorbar": {
              "outlinewidth": 0,
              "ticks": ""
             }
            },
            "type": "scatterternary"
           }
          ],
          "surface": [
           {
            "colorbar": {
             "outlinewidth": 0,
             "ticks": ""
            },
            "colorscale": [
             [
              0,
              "#0d0887"
             ],
             [
              0.1111111111111111,
              "#46039f"
             ],
             [
              0.2222222222222222,
              "#7201a8"
             ],
             [
              0.3333333333333333,
              "#9c179e"
             ],
             [
              0.4444444444444444,
              "#bd3786"
             ],
             [
              0.5555555555555556,
              "#d8576b"
             ],
             [
              0.6666666666666666,
              "#ed7953"
             ],
             [
              0.7777777777777778,
              "#fb9f3a"
             ],
             [
              0.8888888888888888,
              "#fdca26"
             ],
             [
              1,
              "#f0f921"
             ]
            ],
            "type": "surface"
           }
          ],
          "table": [
           {
            "cells": {
             "fill": {
              "color": "#EBF0F8"
             },
             "line": {
              "color": "white"
             }
            },
            "header": {
             "fill": {
              "color": "#C8D4E3"
             },
             "line": {
              "color": "white"
             }
            },
            "type": "table"
           }
          ]
         },
         "layout": {
          "annotationdefaults": {
           "arrowcolor": "#2a3f5f",
           "arrowhead": 0,
           "arrowwidth": 1
          },
          "autotypenumbers": "strict",
          "coloraxis": {
           "colorbar": {
            "outlinewidth": 0,
            "ticks": ""
           }
          },
          "colorscale": {
           "diverging": [
            [
             0,
             "#8e0152"
            ],
            [
             0.1,
             "#c51b7d"
            ],
            [
             0.2,
             "#de77ae"
            ],
            [
             0.3,
             "#f1b6da"
            ],
            [
             0.4,
             "#fde0ef"
            ],
            [
             0.5,
             "#f7f7f7"
            ],
            [
             0.6,
             "#e6f5d0"
            ],
            [
             0.7,
             "#b8e186"
            ],
            [
             0.8,
             "#7fbc41"
            ],
            [
             0.9,
             "#4d9221"
            ],
            [
             1,
             "#276419"
            ]
           ],
           "sequential": [
            [
             0,
             "#0d0887"
            ],
            [
             0.1111111111111111,
             "#46039f"
            ],
            [
             0.2222222222222222,
             "#7201a8"
            ],
            [
             0.3333333333333333,
             "#9c179e"
            ],
            [
             0.4444444444444444,
             "#bd3786"
            ],
            [
             0.5555555555555556,
             "#d8576b"
            ],
            [
             0.6666666666666666,
             "#ed7953"
            ],
            [
             0.7777777777777778,
             "#fb9f3a"
            ],
            [
             0.8888888888888888,
             "#fdca26"
            ],
            [
             1,
             "#f0f921"
            ]
           ],
           "sequentialminus": [
            [
             0,
             "#0d0887"
            ],
            [
             0.1111111111111111,
             "#46039f"
            ],
            [
             0.2222222222222222,
             "#7201a8"
            ],
            [
             0.3333333333333333,
             "#9c179e"
            ],
            [
             0.4444444444444444,
             "#bd3786"
            ],
            [
             0.5555555555555556,
             "#d8576b"
            ],
            [
             0.6666666666666666,
             "#ed7953"
            ],
            [
             0.7777777777777778,
             "#fb9f3a"
            ],
            [
             0.8888888888888888,
             "#fdca26"
            ],
            [
             1,
             "#f0f921"
            ]
           ]
          },
          "colorway": [
           "#636efa",
           "#EF553B",
           "#00cc96",
           "#ab63fa",
           "#FFA15A",
           "#19d3f3",
           "#FF6692",
           "#B6E880",
           "#FF97FF",
           "#FECB52"
          ],
          "font": {
           "color": "#2a3f5f"
          },
          "geo": {
           "bgcolor": "white",
           "lakecolor": "white",
           "landcolor": "#E5ECF6",
           "showlakes": true,
           "showland": true,
           "subunitcolor": "white"
          },
          "hoverlabel": {
           "align": "left"
          },
          "hovermode": "closest",
          "mapbox": {
           "style": "light"
          },
          "paper_bgcolor": "white",
          "plot_bgcolor": "#E5ECF6",
          "polar": {
           "angularaxis": {
            "gridcolor": "white",
            "linecolor": "white",
            "ticks": ""
           },
           "bgcolor": "#E5ECF6",
           "radialaxis": {
            "gridcolor": "white",
            "linecolor": "white",
            "ticks": ""
           }
          },
          "scene": {
           "xaxis": {
            "backgroundcolor": "#E5ECF6",
            "gridcolor": "white",
            "gridwidth": 2,
            "linecolor": "white",
            "showbackground": true,
            "ticks": "",
            "zerolinecolor": "white"
           },
           "yaxis": {
            "backgroundcolor": "#E5ECF6",
            "gridcolor": "white",
            "gridwidth": 2,
            "linecolor": "white",
            "showbackground": true,
            "ticks": "",
            "zerolinecolor": "white"
           },
           "zaxis": {
            "backgroundcolor": "#E5ECF6",
            "gridcolor": "white",
            "gridwidth": 2,
            "linecolor": "white",
            "showbackground": true,
            "ticks": "",
            "zerolinecolor": "white"
           }
          },
          "shapedefaults": {
           "line": {
            "color": "#2a3f5f"
           }
          },
          "ternary": {
           "aaxis": {
            "gridcolor": "white",
            "linecolor": "white",
            "ticks": ""
           },
           "baxis": {
            "gridcolor": "white",
            "linecolor": "white",
            "ticks": ""
           },
           "bgcolor": "#E5ECF6",
           "caxis": {
            "gridcolor": "white",
            "linecolor": "white",
            "ticks": ""
           }
          },
          "title": {
           "x": 0.05
          },
          "xaxis": {
           "automargin": true,
           "gridcolor": "white",
           "linecolor": "white",
           "ticks": "",
           "title": {
            "standoff": 15
           },
           "zerolinecolor": "white",
           "zerolinewidth": 2
          },
          "yaxis": {
           "automargin": true,
           "gridcolor": "white",
           "linecolor": "white",
           "ticks": "",
           "title": {
            "standoff": 15
           },
           "zerolinecolor": "white",
           "zerolinewidth": 2
          }
         }
        },
        "xaxis": {
         "anchor": "y",
         "domain": [
          0,
          1
         ],
         "title": {
          "text": "x"
         }
        },
        "yaxis": {
         "anchor": "x",
         "domain": [
          0,
          1
         ],
         "title": {
          "text": "root y"
         }
        }
       }
      }
     },
     "metadata": {},
     "output_type": "display_data"
    }
   ],
   "source": [
    "df_2['root y'] = np.sqrt(df_2['y'])\n",
    "\n",
    "px.scatter(df_2, x='x', y='root y', trendline=\"ols\", trendline_color_override=\"red\")"
   ]
  },
  {
   "cell_type": "markdown",
   "id": "da31bbff",
   "metadata": {},
   "source": [
    "Hmm... the relationship certainly looks _more_ linear than before, but still not quite linear. Let's look at the residual plot:"
   ]
  },
  {
   "cell_type": "code",
   "execution_count": 9,
   "id": "89130965",
   "metadata": {},
   "outputs": [
    {
     "data": {
      "application/vnd.plotly.v1+json": {
       "config": {
        "plotlyServerURL": "https://plot.ly"
       },
       "data": [
        {
         "hovertemplate": "pred=%{x}<br>root y residuals=%{y}<extra></extra>",
         "legendgroup": "",
         "marker": {
          "color": "#636efa",
          "symbol": "circle"
         },
         "mode": "markers",
         "name": "",
         "orientation": "v",
         "showlegend": false,
         "type": "scatter",
         "x": [
          5.628084132349898,
          5.919947087608101,
          6.211810042866304,
          6.503672998124507,
          6.795535953382711,
          7.087398908640914,
          7.379261863899117,
          7.6711248191573205,
          7.962987774415524,
          8.254850729673727,
          8.546713684931937,
          8.83857664019014,
          9.130439595448344,
          9.422302550706547,
          9.71416550596475,
          10.006028461222954,
          10.297891416481157,
          10.58975437173936,
          10.881617326997564,
          11.173480282255767,
          11.46534323751397,
          11.757206192772173,
          12.04906914803038,
          12.340932103288587,
          12.63279505854679,
          12.924658013804994,
          13.216520969063197,
          13.5083839243214,
          13.800246879579603,
          14.092109834837807,
          14.38397279009601,
          14.675835745354213,
          14.967698700612416,
          15.25956165587062,
          15.551424611128823,
          15.843287566387026,
          16.13515052164523,
          16.427013476903433,
          16.718876432161636,
          17.01073938741984,
          17.302602342678043,
          17.594465297936246,
          17.88632825319445,
          18.178191208452652,
          18.470054163710863,
          18.761917118969066,
          19.05378007422727,
          19.345643029485473,
          19.637505984743676,
          19.92936894000188,
          20.221231895260082,
          20.513094850518286,
          20.80495780577649,
          21.0968207610347,
          21.388683716292903,
          21.680546671551106,
          21.97240962680931,
          22.264272582067512,
          22.556135537325716,
          22.84799849258392,
          23.139861447842122,
          23.431724403100326,
          23.72358735835853,
          24.015450313616732,
          24.307313268874935,
          24.59917622413314,
          24.891039179391342,
          25.182902134649545,
          25.47476508990775,
          25.76662804516595,
          26.058491000424155,
          26.35035395568236,
          26.64221691094056,
          26.934079866198772,
          27.225942821456968,
          27.51780577671518,
          27.809668731973375,
          28.101531687231585,
          28.39339464248978,
          28.685257597748,
          28.977120553006188,
          29.268983508264405,
          29.560846463522594,
          29.85270941878081,
          30.144572374039,
          30.43643532929722,
          30.728298284555407,
          31.020161239813625,
          31.312024195071828,
          31.60388715033003,
          31.895750105588235,
          32.18761306084644,
          32.47947601610464,
          32.771338971362844,
          33.06320192662105,
          33.35506488187925,
          33.646927837137454,
          33.93879079239566,
          34.23065374765386,
          34.522516702912064
         ],
         "xaxis": "x",
         "y": [
          -0.5086346020227186,
          1.949359259219566,
          1.1032326704137994,
          3.85213798294029,
          1.4389769472702714,
          3.87635994549429,
          5.099315527776032,
          2.9676118151948874,
          1.1371285097197994,
          -0.8766013965162074,
          3.793248210109036,
          2.3662054335052147,
          2.930412445107617,
          1.4234790147471479,
          0.11756458034849437,
          1.3705251704444983,
          -0.32553079614674196,
          2.980330726567294,
          -0.4487565139177345,
          0.7139979071110787,
          0.45787784386115327,
          -0.7177559047688806,
          1.6823726479328283,
          -3.031823954217357,
          0.21734623626158545,
          1.0083880299555723,
          -1.1939460779576283,
          -1.6186306612403047,
          1.3450940746996949,
          -0.5554234155961293,
          -3.29149885975413,
          1.4310808583352,
          2.0111503588855335,
          -2.6831167298315926,
          -0.07126637132142655,
          -1.6715727954325423,
          -1.832831111375798,
          -3.7438416941385846,
          -0.33587766876840774,
          -0.41314606903721796,
          -1.6250242008518825,
          -2.6224866004724525,
          -2.0261123026569656,
          -2.0149382603126718,
          -2.092402578740696,
          -0.6676483755971461,
          -3.3666851647624387,
          -0.9258464285603409,
          -0.8279089611114046,
          -1.790681123056622,
          -1.0194012512382429,
          -2.306694131766804,
          -1.2229688223941828,
          -2.3392301391330577,
          -3.2369727189365953,
          -1.073469449473464,
          -0.3629898101238993,
          -1.4722880546352108,
          -1.7937465054599677,
          -3.302161928429392,
          -3.2292529565682813,
          -2.3834044143917588,
          -0.6473344449656544,
          -2.4042577048134,
          -1.0463099336892725,
          -1.3817574826525245,
          -0.8633093997346677,
          -1.5490383803043173,
          -0.8390241987038571,
          -0.5087062149346764,
          -1.381616022043474,
          -1.6621044114258332,
          -2.051478192178241,
          -1.5746466461379889,
          -1.2601771033938078,
          -1.2996774420434711,
          -0.8995417709496856,
          0.329588662709579,
          0.38236869119235806,
          -0.209605467119804,
          0.2974093347039357,
          0.9851342100289564,
          0.6259320776804032,
          0.4994752407009031,
          1.2396287228751888,
          1.2286266591469825,
          1.8199380835314969,
          0.36056945278897246,
          1.3430536295602806,
          1.3641115461480595,
          1.9911658739500169,
          2.9589467542087036,
          2.4507404199731653,
          2.5692194947626064,
          1.839985799025257,
          2.4209960760839806,
          3.6875872674822787,
          3.5991967435145042,
          3.754133231397745,
          3.5801494484416523
         ],
         "yaxis": "y"
        },
        {
         "hovertemplate": "<b>OLS trendline</b><br>root y residuals = -1.17961e-16 * pred + 5.75234e-15<br>R<sup>2</sup>=0.000000<br><br>pred=%{x}<br>root y residuals=%{y} <b>(trend)</b><extra></extra>",
         "legendgroup": "",
         "line": {
          "color": "red"
         },
         "marker": {
          "color": "#636efa",
          "symbol": "circle"
         },
         "mode": "lines",
         "name": "",
         "showlegend": false,
         "type": "scatter",
         "x": [
          5.628084132349898,
          5.919947087608101,
          6.211810042866304,
          6.503672998124507,
          6.795535953382711,
          7.087398908640914,
          7.379261863899117,
          7.6711248191573205,
          7.962987774415524,
          8.254850729673727,
          8.546713684931937,
          8.83857664019014,
          9.130439595448344,
          9.422302550706547,
          9.71416550596475,
          10.006028461222954,
          10.297891416481157,
          10.58975437173936,
          10.881617326997564,
          11.173480282255767,
          11.46534323751397,
          11.757206192772173,
          12.04906914803038,
          12.340932103288587,
          12.63279505854679,
          12.924658013804994,
          13.216520969063197,
          13.5083839243214,
          13.800246879579603,
          14.092109834837807,
          14.38397279009601,
          14.675835745354213,
          14.967698700612416,
          15.25956165587062,
          15.551424611128823,
          15.843287566387026,
          16.13515052164523,
          16.427013476903433,
          16.718876432161636,
          17.01073938741984,
          17.302602342678043,
          17.594465297936246,
          17.88632825319445,
          18.178191208452652,
          18.470054163710863,
          18.761917118969066,
          19.05378007422727,
          19.345643029485473,
          19.637505984743676,
          19.92936894000188,
          20.221231895260082,
          20.513094850518286,
          20.80495780577649,
          21.0968207610347,
          21.388683716292903,
          21.680546671551106,
          21.97240962680931,
          22.264272582067512,
          22.556135537325716,
          22.84799849258392,
          23.139861447842122,
          23.431724403100326,
          23.72358735835853,
          24.015450313616732,
          24.307313268874935,
          24.59917622413314,
          24.891039179391342,
          25.182902134649545,
          25.47476508990775,
          25.76662804516595,
          26.058491000424155,
          26.35035395568236,
          26.64221691094056,
          26.934079866198772,
          27.225942821456968,
          27.51780577671518,
          27.809668731973375,
          28.101531687231585,
          28.39339464248978,
          28.685257597748,
          28.977120553006188,
          29.268983508264405,
          29.560846463522594,
          29.85270941878081,
          30.144572374039,
          30.43643532929722,
          30.728298284555407,
          31.020161239813625,
          31.312024195071828,
          31.60388715033003,
          31.895750105588235,
          32.18761306084644,
          32.47947601610464,
          32.771338971362844,
          33.06320192662105,
          33.35506488187925,
          33.646927837137454,
          33.93879079239566,
          34.23065374765386,
          34.522516702912064
         ],
         "xaxis": "x",
         "y": [
          5.088447508836218e-15,
          5.05401900545892e-15,
          5.019590502081622e-15,
          4.9851619987043255e-15,
          4.950733495327028e-15,
          4.91630499194973e-15,
          4.8818764885724325e-15,
          4.847447985195136e-15,
          4.813019481817838e-15,
          4.77859097844054e-15,
          4.744162475063243e-15,
          4.709733971685945e-15,
          4.675305468308647e-15,
          4.6408769649313505e-15,
          4.606448461554053e-15,
          4.572019958176755e-15,
          4.537591454799458e-15,
          4.503162951422161e-15,
          4.468734448044863e-15,
          4.434305944667566e-15,
          4.3998774412902685e-15,
          4.365448937912971e-15,
          4.331020434535673e-15,
          4.2965919311583755e-15,
          4.262163427781078e-15,
          4.22773492440378e-15,
          4.193306421026483e-15,
          4.158877917649186e-15,
          4.124449414271888e-15,
          4.090020910894591e-15,
          4.0555924075172935e-15,
          4.021163904139996e-15,
          3.986735400762699e-15,
          3.9523068973854005e-15,
          3.917878394008104e-15,
          3.883449890630807e-15,
          3.849021387253508e-15,
          3.8145928838762114e-15,
          3.780164380498914e-15,
          3.745735877121616e-15,
          3.711307373744319e-15,
          3.6768788703670216e-15,
          3.642450366989724e-15,
          3.608021863612427e-15,
          3.573593360235129e-15,
          3.5391648568578313e-15,
          3.5047363534805337e-15,
          3.4703078501032364e-15,
          3.435879346725939e-15,
          3.4014508433486415e-15,
          3.3670223399713442e-15,
          3.3325938365940466e-15,
          3.2981653332167493e-15,
          3.2637368298394513e-15,
          3.2293083264621536e-15,
          3.1948798230848563e-15,
          3.160451319707559e-15,
          3.1260228163302614e-15,
          3.091594312952964e-15,
          3.0571658095756665e-15,
          3.0227373061983692e-15,
          2.988308802821072e-15,
          2.9538802994437743e-15,
          2.919451796066477e-15,
          2.8850232926891794e-15,
          2.850594789311882e-15,
          2.816166285934585e-15,
          2.7817377825572872e-15,
          2.74730927917999e-15,
          2.7128807758026927e-15,
          2.678452272425395e-15,
          2.6440237690480977e-15,
          2.6095952656708005e-15,
          2.575166762293502e-15,
          2.5407382589162056e-15,
          2.506309755538907e-15,
          2.4718812521616106e-15,
          2.437452748784312e-15,
          2.4030242454070157e-15,
          2.368595742029717e-15,
          2.3341672386524208e-15,
          2.299738735275122e-15,
          2.2653102318978263e-15,
          2.230881728520527e-15,
          2.1964532251432317e-15,
          2.1620247217659325e-15,
          2.1275962183886364e-15,
          2.093167715011337e-15,
          2.0587392116340403e-15,
          2.0243107082567427e-15,
          1.989882204879445e-15,
          1.955453701502148e-15,
          1.9210251981248505e-15,
          1.886596694747553e-15,
          1.852168191370255e-15,
          1.8177396879929583e-15,
          1.7833111846156606e-15,
          1.748882681238363e-15,
          1.714454177861066e-15,
          1.6800256744837684e-15
         ],
         "yaxis": "y"
        }
       ],
       "layout": {
        "legend": {
         "tracegroupgap": 0
        },
        "margin": {
         "t": 60
        },
        "template": {
         "data": {
          "bar": [
           {
            "error_x": {
             "color": "#2a3f5f"
            },
            "error_y": {
             "color": "#2a3f5f"
            },
            "marker": {
             "line": {
              "color": "#E5ECF6",
              "width": 0.5
             },
             "pattern": {
              "fillmode": "overlay",
              "size": 10,
              "solidity": 0.2
             }
            },
            "type": "bar"
           }
          ],
          "barpolar": [
           {
            "marker": {
             "line": {
              "color": "#E5ECF6",
              "width": 0.5
             },
             "pattern": {
              "fillmode": "overlay",
              "size": 10,
              "solidity": 0.2
             }
            },
            "type": "barpolar"
           }
          ],
          "carpet": [
           {
            "aaxis": {
             "endlinecolor": "#2a3f5f",
             "gridcolor": "white",
             "linecolor": "white",
             "minorgridcolor": "white",
             "startlinecolor": "#2a3f5f"
            },
            "baxis": {
             "endlinecolor": "#2a3f5f",
             "gridcolor": "white",
             "linecolor": "white",
             "minorgridcolor": "white",
             "startlinecolor": "#2a3f5f"
            },
            "type": "carpet"
           }
          ],
          "choropleth": [
           {
            "colorbar": {
             "outlinewidth": 0,
             "ticks": ""
            },
            "type": "choropleth"
           }
          ],
          "contour": [
           {
            "colorbar": {
             "outlinewidth": 0,
             "ticks": ""
            },
            "colorscale": [
             [
              0,
              "#0d0887"
             ],
             [
              0.1111111111111111,
              "#46039f"
             ],
             [
              0.2222222222222222,
              "#7201a8"
             ],
             [
              0.3333333333333333,
              "#9c179e"
             ],
             [
              0.4444444444444444,
              "#bd3786"
             ],
             [
              0.5555555555555556,
              "#d8576b"
             ],
             [
              0.6666666666666666,
              "#ed7953"
             ],
             [
              0.7777777777777778,
              "#fb9f3a"
             ],
             [
              0.8888888888888888,
              "#fdca26"
             ],
             [
              1,
              "#f0f921"
             ]
            ],
            "type": "contour"
           }
          ],
          "contourcarpet": [
           {
            "colorbar": {
             "outlinewidth": 0,
             "ticks": ""
            },
            "type": "contourcarpet"
           }
          ],
          "heatmap": [
           {
            "colorbar": {
             "outlinewidth": 0,
             "ticks": ""
            },
            "colorscale": [
             [
              0,
              "#0d0887"
             ],
             [
              0.1111111111111111,
              "#46039f"
             ],
             [
              0.2222222222222222,
              "#7201a8"
             ],
             [
              0.3333333333333333,
              "#9c179e"
             ],
             [
              0.4444444444444444,
              "#bd3786"
             ],
             [
              0.5555555555555556,
              "#d8576b"
             ],
             [
              0.6666666666666666,
              "#ed7953"
             ],
             [
              0.7777777777777778,
              "#fb9f3a"
             ],
             [
              0.8888888888888888,
              "#fdca26"
             ],
             [
              1,
              "#f0f921"
             ]
            ],
            "type": "heatmap"
           }
          ],
          "heatmapgl": [
           {
            "colorbar": {
             "outlinewidth": 0,
             "ticks": ""
            },
            "colorscale": [
             [
              0,
              "#0d0887"
             ],
             [
              0.1111111111111111,
              "#46039f"
             ],
             [
              0.2222222222222222,
              "#7201a8"
             ],
             [
              0.3333333333333333,
              "#9c179e"
             ],
             [
              0.4444444444444444,
              "#bd3786"
             ],
             [
              0.5555555555555556,
              "#d8576b"
             ],
             [
              0.6666666666666666,
              "#ed7953"
             ],
             [
              0.7777777777777778,
              "#fb9f3a"
             ],
             [
              0.8888888888888888,
              "#fdca26"
             ],
             [
              1,
              "#f0f921"
             ]
            ],
            "type": "heatmapgl"
           }
          ],
          "histogram": [
           {
            "marker": {
             "pattern": {
              "fillmode": "overlay",
              "size": 10,
              "solidity": 0.2
             }
            },
            "type": "histogram"
           }
          ],
          "histogram2d": [
           {
            "colorbar": {
             "outlinewidth": 0,
             "ticks": ""
            },
            "colorscale": [
             [
              0,
              "#0d0887"
             ],
             [
              0.1111111111111111,
              "#46039f"
             ],
             [
              0.2222222222222222,
              "#7201a8"
             ],
             [
              0.3333333333333333,
              "#9c179e"
             ],
             [
              0.4444444444444444,
              "#bd3786"
             ],
             [
              0.5555555555555556,
              "#d8576b"
             ],
             [
              0.6666666666666666,
              "#ed7953"
             ],
             [
              0.7777777777777778,
              "#fb9f3a"
             ],
             [
              0.8888888888888888,
              "#fdca26"
             ],
             [
              1,
              "#f0f921"
             ]
            ],
            "type": "histogram2d"
           }
          ],
          "histogram2dcontour": [
           {
            "colorbar": {
             "outlinewidth": 0,
             "ticks": ""
            },
            "colorscale": [
             [
              0,
              "#0d0887"
             ],
             [
              0.1111111111111111,
              "#46039f"
             ],
             [
              0.2222222222222222,
              "#7201a8"
             ],
             [
              0.3333333333333333,
              "#9c179e"
             ],
             [
              0.4444444444444444,
              "#bd3786"
             ],
             [
              0.5555555555555556,
              "#d8576b"
             ],
             [
              0.6666666666666666,
              "#ed7953"
             ],
             [
              0.7777777777777778,
              "#fb9f3a"
             ],
             [
              0.8888888888888888,
              "#fdca26"
             ],
             [
              1,
              "#f0f921"
             ]
            ],
            "type": "histogram2dcontour"
           }
          ],
          "mesh3d": [
           {
            "colorbar": {
             "outlinewidth": 0,
             "ticks": ""
            },
            "type": "mesh3d"
           }
          ],
          "parcoords": [
           {
            "line": {
             "colorbar": {
              "outlinewidth": 0,
              "ticks": ""
             }
            },
            "type": "parcoords"
           }
          ],
          "pie": [
           {
            "automargin": true,
            "type": "pie"
           }
          ],
          "scatter": [
           {
            "fillpattern": {
             "fillmode": "overlay",
             "size": 10,
             "solidity": 0.2
            },
            "type": "scatter"
           }
          ],
          "scatter3d": [
           {
            "line": {
             "colorbar": {
              "outlinewidth": 0,
              "ticks": ""
             }
            },
            "marker": {
             "colorbar": {
              "outlinewidth": 0,
              "ticks": ""
             }
            },
            "type": "scatter3d"
           }
          ],
          "scattercarpet": [
           {
            "marker": {
             "colorbar": {
              "outlinewidth": 0,
              "ticks": ""
             }
            },
            "type": "scattercarpet"
           }
          ],
          "scattergeo": [
           {
            "marker": {
             "colorbar": {
              "outlinewidth": 0,
              "ticks": ""
             }
            },
            "type": "scattergeo"
           }
          ],
          "scattergl": [
           {
            "marker": {
             "colorbar": {
              "outlinewidth": 0,
              "ticks": ""
             }
            },
            "type": "scattergl"
           }
          ],
          "scattermapbox": [
           {
            "marker": {
             "colorbar": {
              "outlinewidth": 0,
              "ticks": ""
             }
            },
            "type": "scattermapbox"
           }
          ],
          "scatterpolar": [
           {
            "marker": {
             "colorbar": {
              "outlinewidth": 0,
              "ticks": ""
             }
            },
            "type": "scatterpolar"
           }
          ],
          "scatterpolargl": [
           {
            "marker": {
             "colorbar": {
              "outlinewidth": 0,
              "ticks": ""
             }
            },
            "type": "scatterpolargl"
           }
          ],
          "scatterternary": [
           {
            "marker": {
             "colorbar": {
              "outlinewidth": 0,
              "ticks": ""
             }
            },
            "type": "scatterternary"
           }
          ],
          "surface": [
           {
            "colorbar": {
             "outlinewidth": 0,
             "ticks": ""
            },
            "colorscale": [
             [
              0,
              "#0d0887"
             ],
             [
              0.1111111111111111,
              "#46039f"
             ],
             [
              0.2222222222222222,
              "#7201a8"
             ],
             [
              0.3333333333333333,
              "#9c179e"
             ],
             [
              0.4444444444444444,
              "#bd3786"
             ],
             [
              0.5555555555555556,
              "#d8576b"
             ],
             [
              0.6666666666666666,
              "#ed7953"
             ],
             [
              0.7777777777777778,
              "#fb9f3a"
             ],
             [
              0.8888888888888888,
              "#fdca26"
             ],
             [
              1,
              "#f0f921"
             ]
            ],
            "type": "surface"
           }
          ],
          "table": [
           {
            "cells": {
             "fill": {
              "color": "#EBF0F8"
             },
             "line": {
              "color": "white"
             }
            },
            "header": {
             "fill": {
              "color": "#C8D4E3"
             },
             "line": {
              "color": "white"
             }
            },
            "type": "table"
           }
          ]
         },
         "layout": {
          "annotationdefaults": {
           "arrowcolor": "#2a3f5f",
           "arrowhead": 0,
           "arrowwidth": 1
          },
          "autotypenumbers": "strict",
          "coloraxis": {
           "colorbar": {
            "outlinewidth": 0,
            "ticks": ""
           }
          },
          "colorscale": {
           "diverging": [
            [
             0,
             "#8e0152"
            ],
            [
             0.1,
             "#c51b7d"
            ],
            [
             0.2,
             "#de77ae"
            ],
            [
             0.3,
             "#f1b6da"
            ],
            [
             0.4,
             "#fde0ef"
            ],
            [
             0.5,
             "#f7f7f7"
            ],
            [
             0.6,
             "#e6f5d0"
            ],
            [
             0.7,
             "#b8e186"
            ],
            [
             0.8,
             "#7fbc41"
            ],
            [
             0.9,
             "#4d9221"
            ],
            [
             1,
             "#276419"
            ]
           ],
           "sequential": [
            [
             0,
             "#0d0887"
            ],
            [
             0.1111111111111111,
             "#46039f"
            ],
            [
             0.2222222222222222,
             "#7201a8"
            ],
            [
             0.3333333333333333,
             "#9c179e"
            ],
            [
             0.4444444444444444,
             "#bd3786"
            ],
            [
             0.5555555555555556,
             "#d8576b"
            ],
            [
             0.6666666666666666,
             "#ed7953"
            ],
            [
             0.7777777777777778,
             "#fb9f3a"
            ],
            [
             0.8888888888888888,
             "#fdca26"
            ],
            [
             1,
             "#f0f921"
            ]
           ],
           "sequentialminus": [
            [
             0,
             "#0d0887"
            ],
            [
             0.1111111111111111,
             "#46039f"
            ],
            [
             0.2222222222222222,
             "#7201a8"
            ],
            [
             0.3333333333333333,
             "#9c179e"
            ],
            [
             0.4444444444444444,
             "#bd3786"
            ],
            [
             0.5555555555555556,
             "#d8576b"
            ],
            [
             0.6666666666666666,
             "#ed7953"
            ],
            [
             0.7777777777777778,
             "#fb9f3a"
            ],
            [
             0.8888888888888888,
             "#fdca26"
            ],
            [
             1,
             "#f0f921"
            ]
           ]
          },
          "colorway": [
           "#636efa",
           "#EF553B",
           "#00cc96",
           "#ab63fa",
           "#FFA15A",
           "#19d3f3",
           "#FF6692",
           "#B6E880",
           "#FF97FF",
           "#FECB52"
          ],
          "font": {
           "color": "#2a3f5f"
          },
          "geo": {
           "bgcolor": "white",
           "lakecolor": "white",
           "landcolor": "#E5ECF6",
           "showlakes": true,
           "showland": true,
           "subunitcolor": "white"
          },
          "hoverlabel": {
           "align": "left"
          },
          "hovermode": "closest",
          "mapbox": {
           "style": "light"
          },
          "paper_bgcolor": "white",
          "plot_bgcolor": "#E5ECF6",
          "polar": {
           "angularaxis": {
            "gridcolor": "white",
            "linecolor": "white",
            "ticks": ""
           },
           "bgcolor": "#E5ECF6",
           "radialaxis": {
            "gridcolor": "white",
            "linecolor": "white",
            "ticks": ""
           }
          },
          "scene": {
           "xaxis": {
            "backgroundcolor": "#E5ECF6",
            "gridcolor": "white",
            "gridwidth": 2,
            "linecolor": "white",
            "showbackground": true,
            "ticks": "",
            "zerolinecolor": "white"
           },
           "yaxis": {
            "backgroundcolor": "#E5ECF6",
            "gridcolor": "white",
            "gridwidth": 2,
            "linecolor": "white",
            "showbackground": true,
            "ticks": "",
            "zerolinecolor": "white"
           },
           "zaxis": {
            "backgroundcolor": "#E5ECF6",
            "gridcolor": "white",
            "gridwidth": 2,
            "linecolor": "white",
            "showbackground": true,
            "ticks": "",
            "zerolinecolor": "white"
           }
          },
          "shapedefaults": {
           "line": {
            "color": "#2a3f5f"
           }
          },
          "ternary": {
           "aaxis": {
            "gridcolor": "white",
            "linecolor": "white",
            "ticks": ""
           },
           "baxis": {
            "gridcolor": "white",
            "linecolor": "white",
            "ticks": ""
           },
           "bgcolor": "#E5ECF6",
           "caxis": {
            "gridcolor": "white",
            "linecolor": "white",
            "ticks": ""
           }
          },
          "title": {
           "x": 0.05
          },
          "xaxis": {
           "automargin": true,
           "gridcolor": "white",
           "linecolor": "white",
           "ticks": "",
           "title": {
            "standoff": 15
           },
           "zerolinecolor": "white",
           "zerolinewidth": 2
          },
          "yaxis": {
           "automargin": true,
           "gridcolor": "white",
           "linecolor": "white",
           "ticks": "",
           "title": {
            "standoff": 15
           },
           "zerolinecolor": "white",
           "zerolinewidth": 2
          }
         }
        },
        "xaxis": {
         "anchor": "y",
         "domain": [
          0,
          1
         ],
         "title": {
          "text": "pred"
         }
        },
        "yaxis": {
         "anchor": "x",
         "domain": [
          0,
          1
         ],
         "title": {
          "text": "root y residuals"
         }
        }
       }
      }
     },
     "metadata": {},
     "output_type": "display_data"
    }
   ],
   "source": [
    "# Feel free to use this function directly to help you answer Question 1.\n",
    "def create_residual_plot(df, x, y):\n",
    "    df = df.copy()\n",
    "    from sklearn.linear_model import LinearRegression\n",
    "    model = LinearRegression()\n",
    "    model.fit(df[[x]], df[y])\n",
    "    df['pred'] = model.predict(df[[x]])\n",
    "    df[f'{y} residuals'] = df[y] - model.predict(df[[x]])\n",
    "    return px.scatter(df, x='pred', y=f'{y} residuals', trendline='ols', trendline_color_override='red')\n",
    "\n",
    "create_residual_plot(df_2, 'x', 'root y')"
   ]
  },
  {
   "cell_type": "markdown",
   "id": "9f5c118f",
   "metadata": {},
   "source": [
    "There is clearly a pattern in the residual plot. Let's instead try another transformation for the `'y'` values – $\\log$."
   ]
  },
  {
   "cell_type": "code",
   "execution_count": 10,
   "id": "fc763b67",
   "metadata": {},
   "outputs": [
    {
     "data": {
      "application/vnd.plotly.v1+json": {
       "config": {
        "plotlyServerURL": "https://plot.ly"
       },
       "data": [
        {
         "hovertemplate": "x=%{x}<br>log y=%{y}<extra></extra>",
         "legendgroup": "",
         "marker": {
          "color": "#636efa",
          "symbol": "circle"
         },
         "mode": "markers",
         "name": "",
         "orientation": "v",
         "showlegend": false,
         "type": "scatter",
         "x": [
          2,
          2.0303030303030303,
          2.0606060606060606,
          2.090909090909091,
          2.121212121212121,
          2.1515151515151514,
          2.1818181818181817,
          2.212121212121212,
          2.242424242424242,
          2.2727272727272725,
          2.303030303030303,
          2.3333333333333335,
          2.3636363636363638,
          2.393939393939394,
          2.4242424242424243,
          2.4545454545454546,
          2.484848484848485,
          2.515151515151515,
          2.5454545454545454,
          2.5757575757575757,
          2.606060606060606,
          2.6363636363636362,
          2.666666666666667,
          2.6969696969696972,
          2.7272727272727275,
          2.757575757575758,
          2.787878787878788,
          2.8181818181818183,
          2.8484848484848486,
          2.878787878787879,
          2.909090909090909,
          2.9393939393939394,
          2.9696969696969697,
          3,
          3.0303030303030303,
          3.0606060606060606,
          3.090909090909091,
          3.121212121212121,
          3.1515151515151514,
          3.1818181818181817,
          3.212121212121212,
          3.242424242424242,
          3.2727272727272725,
          3.3030303030303028,
          3.3333333333333335,
          3.3636363636363638,
          3.393939393939394,
          3.4242424242424243,
          3.4545454545454546,
          3.484848484848485,
          3.515151515151515,
          3.5454545454545454,
          3.5757575757575757,
          3.6060606060606064,
          3.6363636363636367,
          3.666666666666667,
          3.6969696969696972,
          3.7272727272727275,
          3.757575757575758,
          3.787878787878788,
          3.8181818181818183,
          3.8484848484848486,
          3.878787878787879,
          3.909090909090909,
          3.9393939393939394,
          3.9696969696969697,
          4,
          4.03030303030303,
          4.0606060606060606,
          4.090909090909091,
          4.121212121212121,
          4.151515151515151,
          4.181818181818182,
          4.212121212121213,
          4.242424242424242,
          4.272727272727273,
          4.303030303030303,
          4.333333333333334,
          4.363636363636363,
          4.3939393939393945,
          4.424242424242424,
          4.454545454545455,
          4.484848484848484,
          4.515151515151516,
          4.545454545454545,
          4.575757575757576,
          4.6060606060606055,
          4.636363636363637,
          4.666666666666667,
          4.696969696969697,
          4.7272727272727275,
          4.757575757575758,
          4.787878787878788,
          4.818181818181818,
          4.848484848484849,
          4.878787878787879,
          4.909090909090909,
          4.9393939393939394,
          4.96969696969697,
          5
         ],
         "xaxis": "x",
         "y": [
          3.266093839326883,
          4.125939839282246,
          3.979865747182152,
          4.675095619209207,
          4.216668423979663,
          4.789190367731725,
          5.048026730784274,
          4.729003478981491,
          4.416574383835139,
          3.9970727854849435,
          5.025685861100698,
          4.832681316081167,
          4.979929677864909,
          4.767552417150124,
          4.571229838630043,
          4.863109077028274,
          4.599634656596182,
          5.215735489777539,
          4.689921036742463,
          4.950971186232496,
          4.956975700161192,
          4.802950493711848,
          5.2393764497952375,
          4.461986583512666,
          5.106709613971417,
          5.26852686356234,
          4.973572246791815,
          4.951353917708318,
          5.435385913777346,
          5.210807024439006,
          4.812533708124681,
          5.55849756490244,
          5.6639367929194755,
          5.0636512280799195,
          5.479118180638229,
          5.302496121125299,
          5.320843441271531,
          5.080552116651468,
          5.592488272714058,
          5.618515408062877,
          5.504463095504288,
          5.4123607344322995,
          5.527627664326052,
          5.565480658262718,
          5.591835394530788,
          5.791190488233757,
          5.505676788108724,
          5.826851976942283,
          5.868734439131527,
          5.796094211257514,
          5.91001124106279,
          5.8035464401971275,
          5.949220428685453,
          5.86319700732334,
          5.797529652189065,
          6.051269142528,
          6.146258644498665,
          6.0691351063585,
          6.066286260565806,
          5.945524600562156,
          5.98250535940441,
          6.093641492861409,
          6.277608152706682,
          6.146422713633221,
          6.29355656361754,
          6.289805609559024,
          6.35841714172822,
          6.32536117676897,
          6.408396540566081,
          6.458279684734624,
          6.4117331387969285,
          6.412654806973573,
          6.40473979441362,
          6.466301559905172,
          6.513557934509585,
          6.532902185341274,
          6.585005365428888,
          6.6949686644012125,
          6.719066963850651,
          6.698098821873572,
          6.753435701730017,
          6.819264596263511,
          6.814808063741968,
          6.82573699421083,
          6.892609233024158,
          6.910427855198655,
          6.965446369893268,
          6.8923880646604765,
          6.972000733179268,
          6.991074708995021,
          7.046057961158571,
          7.119053483836025,
          7.1067045101600845,
          7.13006253886023,
          7.105156327761954,
          7.154557962819701,
          7.239836473428035,
          7.250706842389481,
          7.274371473822666,
          7.280568514820295
         ],
         "yaxis": "y"
        },
        {
         "hovertemplate": "<b>OLS trendline</b><br>log y = 1.01038 * x + 2.26617<br>R<sup>2</sup>=0.948153<br><br>x=%{x}<br>log y=%{y} <b>(trend)</b><extra></extra>",
         "legendgroup": "",
         "line": {
          "color": "red"
         },
         "marker": {
          "color": "#636efa",
          "symbol": "circle"
         },
         "mode": "lines",
         "name": "",
         "showlegend": false,
         "type": "scatter",
         "x": [
          2,
          2.0303030303030303,
          2.0606060606060606,
          2.090909090909091,
          2.121212121212121,
          2.1515151515151514,
          2.1818181818181817,
          2.212121212121212,
          2.242424242424242,
          2.2727272727272725,
          2.303030303030303,
          2.3333333333333335,
          2.3636363636363638,
          2.393939393939394,
          2.4242424242424243,
          2.4545454545454546,
          2.484848484848485,
          2.515151515151515,
          2.5454545454545454,
          2.5757575757575757,
          2.606060606060606,
          2.6363636363636362,
          2.666666666666667,
          2.6969696969696972,
          2.7272727272727275,
          2.757575757575758,
          2.787878787878788,
          2.8181818181818183,
          2.8484848484848486,
          2.878787878787879,
          2.909090909090909,
          2.9393939393939394,
          2.9696969696969697,
          3,
          3.0303030303030303,
          3.0606060606060606,
          3.090909090909091,
          3.121212121212121,
          3.1515151515151514,
          3.1818181818181817,
          3.212121212121212,
          3.242424242424242,
          3.2727272727272725,
          3.3030303030303028,
          3.3333333333333335,
          3.3636363636363638,
          3.393939393939394,
          3.4242424242424243,
          3.4545454545454546,
          3.484848484848485,
          3.515151515151515,
          3.5454545454545454,
          3.5757575757575757,
          3.6060606060606064,
          3.6363636363636367,
          3.666666666666667,
          3.6969696969696972,
          3.7272727272727275,
          3.757575757575758,
          3.787878787878788,
          3.8181818181818183,
          3.8484848484848486,
          3.878787878787879,
          3.909090909090909,
          3.9393939393939394,
          3.9696969696969697,
          4,
          4.03030303030303,
          4.0606060606060606,
          4.090909090909091,
          4.121212121212121,
          4.151515151515151,
          4.181818181818182,
          4.212121212121213,
          4.242424242424242,
          4.272727272727273,
          4.303030303030303,
          4.333333333333334,
          4.363636363636363,
          4.3939393939393945,
          4.424242424242424,
          4.454545454545455,
          4.484848484848484,
          4.515151515151516,
          4.545454545454545,
          4.575757575757576,
          4.6060606060606055,
          4.636363636363637,
          4.666666666666667,
          4.696969696969697,
          4.7272727272727275,
          4.757575757575758,
          4.787878787878788,
          4.818181818181818,
          4.848484848484849,
          4.878787878787879,
          4.909090909090909,
          4.9393939393939394,
          4.96969696969697,
          5
         ],
         "xaxis": "x",
         "y": [
          4.286930502750648,
          4.317548037133595,
          4.348165571516542,
          4.378783105899489,
          4.409400640282437,
          4.440018174665383,
          4.47063570904833,
          4.501253243431277,
          4.531870777814224,
          4.562488312197171,
          4.5931058465801184,
          4.623723380963066,
          4.654340915346013,
          4.68495844972896,
          4.715575984111906,
          4.746193518494854,
          4.7768110528778,
          4.807428587260747,
          4.8380461216436945,
          4.868663656026642,
          4.899281190409589,
          4.929898724792535,
          4.960516259175483,
          4.991133793558429,
          5.021751327941377,
          5.0523688623243235,
          5.0829863967072715,
          5.113603931090218,
          5.144221465473165,
          5.174838999856112,
          5.205456534239058,
          5.236074068622006,
          5.266691603004952,
          5.2973091373879,
          5.327926671770847,
          5.358544206153794,
          5.389161740536741,
          5.419779274919687,
          5.450396809302635,
          5.481014343685581,
          5.5116318780685285,
          5.542249412451476,
          5.572866946834423,
          5.60348448121737,
          5.634102015600317,
          5.664719549983264,
          5.695337084366211,
          5.725954618749158,
          5.756572153132105,
          5.787189687515053,
          5.817807221897999,
          5.848424756280946,
          5.879042290663893,
          5.909659825046841,
          5.940277359429787,
          5.970894893812734,
          6.0015124281956815,
          6.032129962578629,
          6.062747496961576,
          6.093365031344522,
          6.12398256572747,
          6.154600100110416,
          6.185217634493363,
          6.2158351688763105,
          6.246452703259258,
          6.277070237642205,
          6.307687772025151,
          6.338305306408099,
          6.368922840791045,
          6.399540375173993,
          6.430157909556939,
          6.460775443939886,
          6.491392978322834,
          6.522010512705782,
          6.552628047088728,
          6.583245581471676,
          6.613863115854622,
          6.644480650237568,
          6.675098184620515,
          6.705715719003463,
          6.736333253386409,
          6.766950787769357,
          6.797568322152303,
          6.828185856535251,
          6.858803390918197,
          6.889420925301145,
          6.920038459684092,
          6.95065599406704,
          6.981273528449986,
          7.011891062832934,
          7.04250859721588,
          7.073126131598826,
          7.103743665981774,
          7.1343612003647205,
          7.1649787347476686,
          7.195596269130615,
          7.226213803513563,
          7.256831337896509,
          7.287448872279455,
          7.318066406662403
         ],
         "yaxis": "y"
        }
       ],
       "layout": {
        "legend": {
         "tracegroupgap": 0
        },
        "margin": {
         "t": 60
        },
        "template": {
         "data": {
          "bar": [
           {
            "error_x": {
             "color": "#2a3f5f"
            },
            "error_y": {
             "color": "#2a3f5f"
            },
            "marker": {
             "line": {
              "color": "#E5ECF6",
              "width": 0.5
             },
             "pattern": {
              "fillmode": "overlay",
              "size": 10,
              "solidity": 0.2
             }
            },
            "type": "bar"
           }
          ],
          "barpolar": [
           {
            "marker": {
             "line": {
              "color": "#E5ECF6",
              "width": 0.5
             },
             "pattern": {
              "fillmode": "overlay",
              "size": 10,
              "solidity": 0.2
             }
            },
            "type": "barpolar"
           }
          ],
          "carpet": [
           {
            "aaxis": {
             "endlinecolor": "#2a3f5f",
             "gridcolor": "white",
             "linecolor": "white",
             "minorgridcolor": "white",
             "startlinecolor": "#2a3f5f"
            },
            "baxis": {
             "endlinecolor": "#2a3f5f",
             "gridcolor": "white",
             "linecolor": "white",
             "minorgridcolor": "white",
             "startlinecolor": "#2a3f5f"
            },
            "type": "carpet"
           }
          ],
          "choropleth": [
           {
            "colorbar": {
             "outlinewidth": 0,
             "ticks": ""
            },
            "type": "choropleth"
           }
          ],
          "contour": [
           {
            "colorbar": {
             "outlinewidth": 0,
             "ticks": ""
            },
            "colorscale": [
             [
              0,
              "#0d0887"
             ],
             [
              0.1111111111111111,
              "#46039f"
             ],
             [
              0.2222222222222222,
              "#7201a8"
             ],
             [
              0.3333333333333333,
              "#9c179e"
             ],
             [
              0.4444444444444444,
              "#bd3786"
             ],
             [
              0.5555555555555556,
              "#d8576b"
             ],
             [
              0.6666666666666666,
              "#ed7953"
             ],
             [
              0.7777777777777778,
              "#fb9f3a"
             ],
             [
              0.8888888888888888,
              "#fdca26"
             ],
             [
              1,
              "#f0f921"
             ]
            ],
            "type": "contour"
           }
          ],
          "contourcarpet": [
           {
            "colorbar": {
             "outlinewidth": 0,
             "ticks": ""
            },
            "type": "contourcarpet"
           }
          ],
          "heatmap": [
           {
            "colorbar": {
             "outlinewidth": 0,
             "ticks": ""
            },
            "colorscale": [
             [
              0,
              "#0d0887"
             ],
             [
              0.1111111111111111,
              "#46039f"
             ],
             [
              0.2222222222222222,
              "#7201a8"
             ],
             [
              0.3333333333333333,
              "#9c179e"
             ],
             [
              0.4444444444444444,
              "#bd3786"
             ],
             [
              0.5555555555555556,
              "#d8576b"
             ],
             [
              0.6666666666666666,
              "#ed7953"
             ],
             [
              0.7777777777777778,
              "#fb9f3a"
             ],
             [
              0.8888888888888888,
              "#fdca26"
             ],
             [
              1,
              "#f0f921"
             ]
            ],
            "type": "heatmap"
           }
          ],
          "heatmapgl": [
           {
            "colorbar": {
             "outlinewidth": 0,
             "ticks": ""
            },
            "colorscale": [
             [
              0,
              "#0d0887"
             ],
             [
              0.1111111111111111,
              "#46039f"
             ],
             [
              0.2222222222222222,
              "#7201a8"
             ],
             [
              0.3333333333333333,
              "#9c179e"
             ],
             [
              0.4444444444444444,
              "#bd3786"
             ],
             [
              0.5555555555555556,
              "#d8576b"
             ],
             [
              0.6666666666666666,
              "#ed7953"
             ],
             [
              0.7777777777777778,
              "#fb9f3a"
             ],
             [
              0.8888888888888888,
              "#fdca26"
             ],
             [
              1,
              "#f0f921"
             ]
            ],
            "type": "heatmapgl"
           }
          ],
          "histogram": [
           {
            "marker": {
             "pattern": {
              "fillmode": "overlay",
              "size": 10,
              "solidity": 0.2
             }
            },
            "type": "histogram"
           }
          ],
          "histogram2d": [
           {
            "colorbar": {
             "outlinewidth": 0,
             "ticks": ""
            },
            "colorscale": [
             [
              0,
              "#0d0887"
             ],
             [
              0.1111111111111111,
              "#46039f"
             ],
             [
              0.2222222222222222,
              "#7201a8"
             ],
             [
              0.3333333333333333,
              "#9c179e"
             ],
             [
              0.4444444444444444,
              "#bd3786"
             ],
             [
              0.5555555555555556,
              "#d8576b"
             ],
             [
              0.6666666666666666,
              "#ed7953"
             ],
             [
              0.7777777777777778,
              "#fb9f3a"
             ],
             [
              0.8888888888888888,
              "#fdca26"
             ],
             [
              1,
              "#f0f921"
             ]
            ],
            "type": "histogram2d"
           }
          ],
          "histogram2dcontour": [
           {
            "colorbar": {
             "outlinewidth": 0,
             "ticks": ""
            },
            "colorscale": [
             [
              0,
              "#0d0887"
             ],
             [
              0.1111111111111111,
              "#46039f"
             ],
             [
              0.2222222222222222,
              "#7201a8"
             ],
             [
              0.3333333333333333,
              "#9c179e"
             ],
             [
              0.4444444444444444,
              "#bd3786"
             ],
             [
              0.5555555555555556,
              "#d8576b"
             ],
             [
              0.6666666666666666,
              "#ed7953"
             ],
             [
              0.7777777777777778,
              "#fb9f3a"
             ],
             [
              0.8888888888888888,
              "#fdca26"
             ],
             [
              1,
              "#f0f921"
             ]
            ],
            "type": "histogram2dcontour"
           }
          ],
          "mesh3d": [
           {
            "colorbar": {
             "outlinewidth": 0,
             "ticks": ""
            },
            "type": "mesh3d"
           }
          ],
          "parcoords": [
           {
            "line": {
             "colorbar": {
              "outlinewidth": 0,
              "ticks": ""
             }
            },
            "type": "parcoords"
           }
          ],
          "pie": [
           {
            "automargin": true,
            "type": "pie"
           }
          ],
          "scatter": [
           {
            "fillpattern": {
             "fillmode": "overlay",
             "size": 10,
             "solidity": 0.2
            },
            "type": "scatter"
           }
          ],
          "scatter3d": [
           {
            "line": {
             "colorbar": {
              "outlinewidth": 0,
              "ticks": ""
             }
            },
            "marker": {
             "colorbar": {
              "outlinewidth": 0,
              "ticks": ""
             }
            },
            "type": "scatter3d"
           }
          ],
          "scattercarpet": [
           {
            "marker": {
             "colorbar": {
              "outlinewidth": 0,
              "ticks": ""
             }
            },
            "type": "scattercarpet"
           }
          ],
          "scattergeo": [
           {
            "marker": {
             "colorbar": {
              "outlinewidth": 0,
              "ticks": ""
             }
            },
            "type": "scattergeo"
           }
          ],
          "scattergl": [
           {
            "marker": {
             "colorbar": {
              "outlinewidth": 0,
              "ticks": ""
             }
            },
            "type": "scattergl"
           }
          ],
          "scattermapbox": [
           {
            "marker": {
             "colorbar": {
              "outlinewidth": 0,
              "ticks": ""
             }
            },
            "type": "scattermapbox"
           }
          ],
          "scatterpolar": [
           {
            "marker": {
             "colorbar": {
              "outlinewidth": 0,
              "ticks": ""
             }
            },
            "type": "scatterpolar"
           }
          ],
          "scatterpolargl": [
           {
            "marker": {
             "colorbar": {
              "outlinewidth": 0,
              "ticks": ""
             }
            },
            "type": "scatterpolargl"
           }
          ],
          "scatterternary": [
           {
            "marker": {
             "colorbar": {
              "outlinewidth": 0,
              "ticks": ""
             }
            },
            "type": "scatterternary"
           }
          ],
          "surface": [
           {
            "colorbar": {
             "outlinewidth": 0,
             "ticks": ""
            },
            "colorscale": [
             [
              0,
              "#0d0887"
             ],
             [
              0.1111111111111111,
              "#46039f"
             ],
             [
              0.2222222222222222,
              "#7201a8"
             ],
             [
              0.3333333333333333,
              "#9c179e"
             ],
             [
              0.4444444444444444,
              "#bd3786"
             ],
             [
              0.5555555555555556,
              "#d8576b"
             ],
             [
              0.6666666666666666,
              "#ed7953"
             ],
             [
              0.7777777777777778,
              "#fb9f3a"
             ],
             [
              0.8888888888888888,
              "#fdca26"
             ],
             [
              1,
              "#f0f921"
             ]
            ],
            "type": "surface"
           }
          ],
          "table": [
           {
            "cells": {
             "fill": {
              "color": "#EBF0F8"
             },
             "line": {
              "color": "white"
             }
            },
            "header": {
             "fill": {
              "color": "#C8D4E3"
             },
             "line": {
              "color": "white"
             }
            },
            "type": "table"
           }
          ]
         },
         "layout": {
          "annotationdefaults": {
           "arrowcolor": "#2a3f5f",
           "arrowhead": 0,
           "arrowwidth": 1
          },
          "autotypenumbers": "strict",
          "coloraxis": {
           "colorbar": {
            "outlinewidth": 0,
            "ticks": ""
           }
          },
          "colorscale": {
           "diverging": [
            [
             0,
             "#8e0152"
            ],
            [
             0.1,
             "#c51b7d"
            ],
            [
             0.2,
             "#de77ae"
            ],
            [
             0.3,
             "#f1b6da"
            ],
            [
             0.4,
             "#fde0ef"
            ],
            [
             0.5,
             "#f7f7f7"
            ],
            [
             0.6,
             "#e6f5d0"
            ],
            [
             0.7,
             "#b8e186"
            ],
            [
             0.8,
             "#7fbc41"
            ],
            [
             0.9,
             "#4d9221"
            ],
            [
             1,
             "#276419"
            ]
           ],
           "sequential": [
            [
             0,
             "#0d0887"
            ],
            [
             0.1111111111111111,
             "#46039f"
            ],
            [
             0.2222222222222222,
             "#7201a8"
            ],
            [
             0.3333333333333333,
             "#9c179e"
            ],
            [
             0.4444444444444444,
             "#bd3786"
            ],
            [
             0.5555555555555556,
             "#d8576b"
            ],
            [
             0.6666666666666666,
             "#ed7953"
            ],
            [
             0.7777777777777778,
             "#fb9f3a"
            ],
            [
             0.8888888888888888,
             "#fdca26"
            ],
            [
             1,
             "#f0f921"
            ]
           ],
           "sequentialminus": [
            [
             0,
             "#0d0887"
            ],
            [
             0.1111111111111111,
             "#46039f"
            ],
            [
             0.2222222222222222,
             "#7201a8"
            ],
            [
             0.3333333333333333,
             "#9c179e"
            ],
            [
             0.4444444444444444,
             "#bd3786"
            ],
            [
             0.5555555555555556,
             "#d8576b"
            ],
            [
             0.6666666666666666,
             "#ed7953"
            ],
            [
             0.7777777777777778,
             "#fb9f3a"
            ],
            [
             0.8888888888888888,
             "#fdca26"
            ],
            [
             1,
             "#f0f921"
            ]
           ]
          },
          "colorway": [
           "#636efa",
           "#EF553B",
           "#00cc96",
           "#ab63fa",
           "#FFA15A",
           "#19d3f3",
           "#FF6692",
           "#B6E880",
           "#FF97FF",
           "#FECB52"
          ],
          "font": {
           "color": "#2a3f5f"
          },
          "geo": {
           "bgcolor": "white",
           "lakecolor": "white",
           "landcolor": "#E5ECF6",
           "showlakes": true,
           "showland": true,
           "subunitcolor": "white"
          },
          "hoverlabel": {
           "align": "left"
          },
          "hovermode": "closest",
          "mapbox": {
           "style": "light"
          },
          "paper_bgcolor": "white",
          "plot_bgcolor": "#E5ECF6",
          "polar": {
           "angularaxis": {
            "gridcolor": "white",
            "linecolor": "white",
            "ticks": ""
           },
           "bgcolor": "#E5ECF6",
           "radialaxis": {
            "gridcolor": "white",
            "linecolor": "white",
            "ticks": ""
           }
          },
          "scene": {
           "xaxis": {
            "backgroundcolor": "#E5ECF6",
            "gridcolor": "white",
            "gridwidth": 2,
            "linecolor": "white",
            "showbackground": true,
            "ticks": "",
            "zerolinecolor": "white"
           },
           "yaxis": {
            "backgroundcolor": "#E5ECF6",
            "gridcolor": "white",
            "gridwidth": 2,
            "linecolor": "white",
            "showbackground": true,
            "ticks": "",
            "zerolinecolor": "white"
           },
           "zaxis": {
            "backgroundcolor": "#E5ECF6",
            "gridcolor": "white",
            "gridwidth": 2,
            "linecolor": "white",
            "showbackground": true,
            "ticks": "",
            "zerolinecolor": "white"
           }
          },
          "shapedefaults": {
           "line": {
            "color": "#2a3f5f"
           }
          },
          "ternary": {
           "aaxis": {
            "gridcolor": "white",
            "linecolor": "white",
            "ticks": ""
           },
           "baxis": {
            "gridcolor": "white",
            "linecolor": "white",
            "ticks": ""
           },
           "bgcolor": "#E5ECF6",
           "caxis": {
            "gridcolor": "white",
            "linecolor": "white",
            "ticks": ""
           }
          },
          "title": {
           "x": 0.05
          },
          "xaxis": {
           "automargin": true,
           "gridcolor": "white",
           "linecolor": "white",
           "ticks": "",
           "title": {
            "standoff": 15
           },
           "zerolinecolor": "white",
           "zerolinewidth": 2
          },
          "yaxis": {
           "automargin": true,
           "gridcolor": "white",
           "linecolor": "white",
           "ticks": "",
           "title": {
            "standoff": 15
           },
           "zerolinecolor": "white",
           "zerolinewidth": 2
          }
         }
        },
        "xaxis": {
         "anchor": "y",
         "domain": [
          0,
          1
         ],
         "title": {
          "text": "x"
         }
        },
        "yaxis": {
         "anchor": "x",
         "domain": [
          0,
          1
         ],
         "title": {
          "text": "log y"
         }
        }
       }
      }
     },
     "metadata": {},
     "output_type": "display_data"
    }
   ],
   "source": [
    "df_2['log y'] = np.log(df_2['y'])\n",
    "\n",
    "px.scatter(df_2, x='x', y='log y', trendline=\"ols\", trendline_color_override=\"red\")"
   ]
  },
  {
   "cell_type": "markdown",
   "id": "ef13cd36",
   "metadata": {},
   "source": [
    "That looks much better! We can verify that the residual plot has no \"patterns\":"
   ]
  },
  {
   "cell_type": "code",
   "execution_count": 11,
   "id": "bd7f3178",
   "metadata": {},
   "outputs": [
    {
     "data": {
      "application/vnd.plotly.v1+json": {
       "config": {
        "plotlyServerURL": "https://plot.ly"
       },
       "data": [
        {
         "hovertemplate": "pred=%{x}<br>log y residuals=%{y}<extra></extra>",
         "legendgroup": "",
         "marker": {
          "color": "#636efa",
          "symbol": "circle"
         },
         "mode": "markers",
         "name": "",
         "orientation": "v",
         "showlegend": false,
         "type": "scatter",
         "x": [
          4.2869305027506455,
          4.317548037133593,
          4.348165571516539,
          4.378783105899487,
          4.409400640282433,
          4.440018174665381,
          4.470635709048327,
          4.501253243431274,
          4.5318707778142215,
          4.562488312197169,
          4.593105846580116,
          4.623723380963063,
          4.65434091534601,
          4.684958449728956,
          4.715575984111904,
          4.7461935184948505,
          4.7768110528777985,
          4.807428587260745,
          4.838046121643692,
          4.868663656026639,
          4.899281190409586,
          4.929898724792533,
          4.96051625917548,
          4.9911337935584275,
          5.021751327941374,
          5.052368862324322,
          5.082986396707268,
          5.113603931090216,
          5.144221465473162,
          5.174838999856109,
          5.205456534239056,
          5.2360740686220035,
          5.266691603004951,
          5.297309137387897,
          5.327926671770845,
          5.358544206153791,
          5.389161740536738,
          5.419779274919685,
          5.4503968093026325,
          5.48101434368558,
          5.511631878068526,
          5.542249412451474,
          5.57286694683442,
          5.603484481217367,
          5.634102015600314,
          5.664719549983262,
          5.695337084366209,
          5.725954618749156,
          5.756572153132103,
          5.78718968751505,
          5.817807221897997,
          5.848424756280943,
          5.879042290663891,
          5.909659825046838,
          5.9402773594297855,
          5.970894893812732,
          6.00151242819568,
          6.032129962578626,
          6.062747496961573,
          6.09336503134452,
          6.123982565727467,
          6.1546001001104145,
          6.185217634493361,
          6.215835168876309,
          6.246452703259255,
          6.277070237642202,
          6.307687772025149,
          6.338305306408096,
          6.368922840791043,
          6.3995403751739905,
          6.430157909556937,
          6.460775443939884,
          6.491392978322831,
          6.522010512705779,
          6.552628047088725,
          6.583245581471673,
          6.6138631158546195,
          6.6444806502375675,
          6.675098184620513,
          6.705715719003461,
          6.736333253386407,
          6.766950787769355,
          6.797568322152301,
          6.828185856535249,
          6.858803390918196,
          6.889420925301143,
          6.920038459684089,
          6.950655994067037,
          6.981273528449984,
          7.011891062832931,
          7.042508597215878,
          7.073126131598825,
          7.103743665981772,
          7.134361200364719,
          7.164978734747666,
          7.195596269130613,
          7.22621380351356,
          7.256831337896507,
          7.287448872279454,
          7.3180664066624015
         ],
         "xaxis": "x",
         "y": [
          -1.0208366634237627,
          -0.19160819785134642,
          -0.3682998243343869,
          0.2963125133097204,
          -0.19273221630276982,
          0.3491721930663436,
          0.5773910217359468,
          0.227750235550217,
          -0.11529639397908298,
          -0.5654155267122252,
          0.4325800145205818,
          0.20895793511810368,
          0.32558876251889934,
          0.08259396742116731,
          -0.14434614548186087,
          0.11691555853342361,
          -0.17717639628161663,
          0.40830690251679425,
          -0.14812508490122855,
          0.08230753020585713,
          0.05769450975160595,
          -0.12694823108068487,
          0.2788601906197572,
          -0.5291472100457613,
          0.08495828603004352,
          0.21615800123801865,
          -0.10941414991545262,
          -0.1622500133818976,
          0.2911644483041842,
          0.03596802458289705,
          -0.39292282611437557,
          0.32242349628043687,
          0.39724518991452484,
          -0.23365790930797736,
          0.15119150886738453,
          -0.056048085028492345,
          -0.06831829926520694,
          -0.33922715826821737,
          0.14209146341142542,
          0.1375010643772976,
          -0.007168782564237475,
          -0.12988867801917436,
          -0.045239282508368284,
          -0.0380038229546491,
          -0.04226662106952617,
          0.1264709382504945,
          -0.18966029625748426,
          0.1008973581931274,
          0.1121622859994238,
          0.008904523742463866,
          0.09220401916479304,
          -0.04487831608381576,
          0.07017813802156159,
          -0.046462817723498695,
          -0.14274770724072017,
          0.08037424871526788,
          0.1447462163029849,
          0.03700514377987396,
          0.0035387636042329973,
          -0.14784043078236397,
          -0.14147720632305738,
          -0.06095860724900515,
          0.09239051821332112,
          -0.06941245524308748,
          0.047103860358284955,
          0.012735371916821947,
          0.050729369703070404,
          -0.012944129639126167,
          0.03947369977503801,
          0.058739309560633224,
          -0.018424770760008258,
          -0.04812063696631075,
          -0.08665318390921062,
          -0.05570895280060739,
          -0.03907011257914039,
          -0.0503433961303994,
          -0.028857750425731687,
          0.05048801416364501,
          0.043968779230137756,
          -0.007616897129889111,
          0.017102448343609744,
          0.0523138084941559,
          0.017239741589667013,
          -0.00244886232441921,
          0.033805842105962824,
          0.021006929897512627,
          0.045407910209179114,
          -0.05826792940656045,
          -0.009272795270716117,
          -0.02081635383791003,
          0.0035493639426924517,
          0.04592735223719924,
          0.0029608441783128825,
          -0.0042986615044888765,
          -0.059822406985712284,
          -0.0410383063109121,
          0.013622669914474805,
          -0.006124495507026317,
          -0.013077398456788458,
          -0.03749789184210606
         ],
         "yaxis": "y"
        },
        {
         "hovertemplate": "<b>OLS trendline</b><br>log y residuals = -1.38778e-17 * pred + 1.8735e-15<br>R<sup>2</sup>=0.000000<br><br>pred=%{x}<br>log y residuals=%{y} <b>(trend)</b><extra></extra>",
         "legendgroup": "",
         "line": {
          "color": "red"
         },
         "marker": {
          "color": "#636efa",
          "symbol": "circle"
         },
         "mode": "lines",
         "name": "",
         "showlegend": false,
         "type": "scatter",
         "x": [
          4.2869305027506455,
          4.317548037133593,
          4.348165571516539,
          4.378783105899487,
          4.409400640282433,
          4.440018174665381,
          4.470635709048327,
          4.501253243431274,
          4.5318707778142215,
          4.562488312197169,
          4.593105846580116,
          4.623723380963063,
          4.65434091534601,
          4.684958449728956,
          4.715575984111904,
          4.7461935184948505,
          4.7768110528777985,
          4.807428587260745,
          4.838046121643692,
          4.868663656026639,
          4.899281190409586,
          4.929898724792533,
          4.96051625917548,
          4.9911337935584275,
          5.021751327941374,
          5.052368862324322,
          5.082986396707268,
          5.113603931090216,
          5.144221465473162,
          5.174838999856109,
          5.205456534239056,
          5.2360740686220035,
          5.266691603004951,
          5.297309137387897,
          5.327926671770845,
          5.358544206153791,
          5.389161740536738,
          5.419779274919685,
          5.4503968093026325,
          5.48101434368558,
          5.511631878068526,
          5.542249412451474,
          5.57286694683442,
          5.603484481217367,
          5.634102015600314,
          5.664719549983262,
          5.695337084366209,
          5.725954618749156,
          5.756572153132103,
          5.78718968751505,
          5.817807221897997,
          5.848424756280943,
          5.879042290663891,
          5.909659825046838,
          5.9402773594297855,
          5.970894893812732,
          6.00151242819568,
          6.032129962578626,
          6.062747496961573,
          6.09336503134452,
          6.123982565727467,
          6.1546001001104145,
          6.185217634493361,
          6.215835168876309,
          6.246452703259255,
          6.277070237642202,
          6.307687772025149,
          6.338305306408096,
          6.368922840791043,
          6.3995403751739905,
          6.430157909556937,
          6.460775443939884,
          6.491392978322831,
          6.522010512705779,
          6.552628047088725,
          6.583245581471673,
          6.6138631158546195,
          6.6444806502375675,
          6.675098184620513,
          6.705715719003461,
          6.736333253386407,
          6.766950787769355,
          6.797568322152301,
          6.828185856535249,
          6.858803390918196,
          6.889420925301143,
          6.920038459684089,
          6.950655994067037,
          6.981273528449984,
          7.011891062832931,
          7.042508597215878,
          7.073126131598825,
          7.103743665981772,
          7.134361200364719,
          7.164978734747666,
          7.195596269130613,
          7.22621380351356,
          7.256831337896507,
          7.287448872279454,
          7.3180664066624015
         ],
         "xaxis": "x",
         "y": [
          1.814008242190931e-15,
          1.8135833385455657e-15,
          1.8131584349002008e-15,
          1.812733531254836e-15,
          1.812308627609471e-15,
          1.811883723964106e-15,
          1.8114588203187407e-15,
          1.8110339166733758e-15,
          1.810609013028011e-15,
          1.810184109382646e-15,
          1.809759205737281e-15,
          1.8093343020919157e-15,
          1.8089093984465508e-15,
          1.808484494801186e-15,
          1.808059591155821e-15,
          1.8076346875104557e-15,
          1.8072097838650907e-15,
          1.806784880219726e-15,
          1.806359976574361e-15,
          1.805935072928996e-15,
          1.8055101692836307e-15,
          1.8050852656382658e-15,
          1.804660361992901e-15,
          1.804235458347536e-15,
          1.8038105547021706e-15,
          1.8033856510568057e-15,
          1.8029607474114408e-15,
          1.802535843766076e-15,
          1.802110940120711e-15,
          1.8016860364753456e-15,
          1.8012611328299807e-15,
          1.8008362291846158e-15,
          1.800411325539251e-15,
          1.799986421893886e-15,
          1.7995615182485207e-15,
          1.7991366146031557e-15,
          1.798711710957791e-15,
          1.798286807312426e-15,
          1.7978619036670606e-15,
          1.7974370000216957e-15,
          1.7970120963763308e-15,
          1.796587192730966e-15,
          1.796162289085601e-15,
          1.7957373854402356e-15,
          1.7953124817948707e-15,
          1.7948875781495058e-15,
          1.794462674504141e-15,
          1.794037770858776e-15,
          1.7936128672134106e-15,
          1.7931879635680457e-15,
          1.7927630599226808e-15,
          1.792338156277316e-15,
          1.7919132526319506e-15,
          1.7914883489865856e-15,
          1.7910634453412207e-15,
          1.790638541695856e-15,
          1.790213638050491e-15,
          1.7897887344051256e-15,
          1.7893638307597607e-15,
          1.7889389271143957e-15,
          1.788514023469031e-15,
          1.7880891198236655e-15,
          1.7876642161783006e-15,
          1.7872393125329357e-15,
          1.7868144088875708e-15,
          1.786389505242206e-15,
          1.7859646015968405e-15,
          1.7855396979514756e-15,
          1.7851147943061107e-15,
          1.7846898906607458e-15,
          1.784264987015381e-15,
          1.7838400833700156e-15,
          1.7834151797246506e-15,
          1.7829902760792857e-15,
          1.782565372433921e-15,
          1.7821404687885555e-15,
          1.7817155651431906e-15,
          1.7812906614978257e-15,
          1.7808657578524607e-15,
          1.780440854207096e-15,
          1.7800159505617305e-15,
          1.7795910469163656e-15,
          1.7791661432710007e-15,
          1.7787412396256358e-15,
          1.778316335980271e-15,
          1.7778914323349055e-15,
          1.7774665286895406e-15,
          1.7770416250441757e-15,
          1.7766167213988108e-15,
          1.7761918177534457e-15,
          1.7757669141080806e-15,
          1.7753420104627156e-15,
          1.7749171068173507e-15,
          1.7744922031719856e-15,
          1.7740672995266207e-15,
          1.7736423958812556e-15,
          1.7732174922358907e-15,
          1.7727925885905257e-15,
          1.7723676849451606e-15,
          1.7719427812997957e-15
         ],
         "yaxis": "y"
        }
       ],
       "layout": {
        "legend": {
         "tracegroupgap": 0
        },
        "margin": {
         "t": 60
        },
        "template": {
         "data": {
          "bar": [
           {
            "error_x": {
             "color": "#2a3f5f"
            },
            "error_y": {
             "color": "#2a3f5f"
            },
            "marker": {
             "line": {
              "color": "#E5ECF6",
              "width": 0.5
             },
             "pattern": {
              "fillmode": "overlay",
              "size": 10,
              "solidity": 0.2
             }
            },
            "type": "bar"
           }
          ],
          "barpolar": [
           {
            "marker": {
             "line": {
              "color": "#E5ECF6",
              "width": 0.5
             },
             "pattern": {
              "fillmode": "overlay",
              "size": 10,
              "solidity": 0.2
             }
            },
            "type": "barpolar"
           }
          ],
          "carpet": [
           {
            "aaxis": {
             "endlinecolor": "#2a3f5f",
             "gridcolor": "white",
             "linecolor": "white",
             "minorgridcolor": "white",
             "startlinecolor": "#2a3f5f"
            },
            "baxis": {
             "endlinecolor": "#2a3f5f",
             "gridcolor": "white",
             "linecolor": "white",
             "minorgridcolor": "white",
             "startlinecolor": "#2a3f5f"
            },
            "type": "carpet"
           }
          ],
          "choropleth": [
           {
            "colorbar": {
             "outlinewidth": 0,
             "ticks": ""
            },
            "type": "choropleth"
           }
          ],
          "contour": [
           {
            "colorbar": {
             "outlinewidth": 0,
             "ticks": ""
            },
            "colorscale": [
             [
              0,
              "#0d0887"
             ],
             [
              0.1111111111111111,
              "#46039f"
             ],
             [
              0.2222222222222222,
              "#7201a8"
             ],
             [
              0.3333333333333333,
              "#9c179e"
             ],
             [
              0.4444444444444444,
              "#bd3786"
             ],
             [
              0.5555555555555556,
              "#d8576b"
             ],
             [
              0.6666666666666666,
              "#ed7953"
             ],
             [
              0.7777777777777778,
              "#fb9f3a"
             ],
             [
              0.8888888888888888,
              "#fdca26"
             ],
             [
              1,
              "#f0f921"
             ]
            ],
            "type": "contour"
           }
          ],
          "contourcarpet": [
           {
            "colorbar": {
             "outlinewidth": 0,
             "ticks": ""
            },
            "type": "contourcarpet"
           }
          ],
          "heatmap": [
           {
            "colorbar": {
             "outlinewidth": 0,
             "ticks": ""
            },
            "colorscale": [
             [
              0,
              "#0d0887"
             ],
             [
              0.1111111111111111,
              "#46039f"
             ],
             [
              0.2222222222222222,
              "#7201a8"
             ],
             [
              0.3333333333333333,
              "#9c179e"
             ],
             [
              0.4444444444444444,
              "#bd3786"
             ],
             [
              0.5555555555555556,
              "#d8576b"
             ],
             [
              0.6666666666666666,
              "#ed7953"
             ],
             [
              0.7777777777777778,
              "#fb9f3a"
             ],
             [
              0.8888888888888888,
              "#fdca26"
             ],
             [
              1,
              "#f0f921"
             ]
            ],
            "type": "heatmap"
           }
          ],
          "heatmapgl": [
           {
            "colorbar": {
             "outlinewidth": 0,
             "ticks": ""
            },
            "colorscale": [
             [
              0,
              "#0d0887"
             ],
             [
              0.1111111111111111,
              "#46039f"
             ],
             [
              0.2222222222222222,
              "#7201a8"
             ],
             [
              0.3333333333333333,
              "#9c179e"
             ],
             [
              0.4444444444444444,
              "#bd3786"
             ],
             [
              0.5555555555555556,
              "#d8576b"
             ],
             [
              0.6666666666666666,
              "#ed7953"
             ],
             [
              0.7777777777777778,
              "#fb9f3a"
             ],
             [
              0.8888888888888888,
              "#fdca26"
             ],
             [
              1,
              "#f0f921"
             ]
            ],
            "type": "heatmapgl"
           }
          ],
          "histogram": [
           {
            "marker": {
             "pattern": {
              "fillmode": "overlay",
              "size": 10,
              "solidity": 0.2
             }
            },
            "type": "histogram"
           }
          ],
          "histogram2d": [
           {
            "colorbar": {
             "outlinewidth": 0,
             "ticks": ""
            },
            "colorscale": [
             [
              0,
              "#0d0887"
             ],
             [
              0.1111111111111111,
              "#46039f"
             ],
             [
              0.2222222222222222,
              "#7201a8"
             ],
             [
              0.3333333333333333,
              "#9c179e"
             ],
             [
              0.4444444444444444,
              "#bd3786"
             ],
             [
              0.5555555555555556,
              "#d8576b"
             ],
             [
              0.6666666666666666,
              "#ed7953"
             ],
             [
              0.7777777777777778,
              "#fb9f3a"
             ],
             [
              0.8888888888888888,
              "#fdca26"
             ],
             [
              1,
              "#f0f921"
             ]
            ],
            "type": "histogram2d"
           }
          ],
          "histogram2dcontour": [
           {
            "colorbar": {
             "outlinewidth": 0,
             "ticks": ""
            },
            "colorscale": [
             [
              0,
              "#0d0887"
             ],
             [
              0.1111111111111111,
              "#46039f"
             ],
             [
              0.2222222222222222,
              "#7201a8"
             ],
             [
              0.3333333333333333,
              "#9c179e"
             ],
             [
              0.4444444444444444,
              "#bd3786"
             ],
             [
              0.5555555555555556,
              "#d8576b"
             ],
             [
              0.6666666666666666,
              "#ed7953"
             ],
             [
              0.7777777777777778,
              "#fb9f3a"
             ],
             [
              0.8888888888888888,
              "#fdca26"
             ],
             [
              1,
              "#f0f921"
             ]
            ],
            "type": "histogram2dcontour"
           }
          ],
          "mesh3d": [
           {
            "colorbar": {
             "outlinewidth": 0,
             "ticks": ""
            },
            "type": "mesh3d"
           }
          ],
          "parcoords": [
           {
            "line": {
             "colorbar": {
              "outlinewidth": 0,
              "ticks": ""
             }
            },
            "type": "parcoords"
           }
          ],
          "pie": [
           {
            "automargin": true,
            "type": "pie"
           }
          ],
          "scatter": [
           {
            "fillpattern": {
             "fillmode": "overlay",
             "size": 10,
             "solidity": 0.2
            },
            "type": "scatter"
           }
          ],
          "scatter3d": [
           {
            "line": {
             "colorbar": {
              "outlinewidth": 0,
              "ticks": ""
             }
            },
            "marker": {
             "colorbar": {
              "outlinewidth": 0,
              "ticks": ""
             }
            },
            "type": "scatter3d"
           }
          ],
          "scattercarpet": [
           {
            "marker": {
             "colorbar": {
              "outlinewidth": 0,
              "ticks": ""
             }
            },
            "type": "scattercarpet"
           }
          ],
          "scattergeo": [
           {
            "marker": {
             "colorbar": {
              "outlinewidth": 0,
              "ticks": ""
             }
            },
            "type": "scattergeo"
           }
          ],
          "scattergl": [
           {
            "marker": {
             "colorbar": {
              "outlinewidth": 0,
              "ticks": ""
             }
            },
            "type": "scattergl"
           }
          ],
          "scattermapbox": [
           {
            "marker": {
             "colorbar": {
              "outlinewidth": 0,
              "ticks": ""
             }
            },
            "type": "scattermapbox"
           }
          ],
          "scatterpolar": [
           {
            "marker": {
             "colorbar": {
              "outlinewidth": 0,
              "ticks": ""
             }
            },
            "type": "scatterpolar"
           }
          ],
          "scatterpolargl": [
           {
            "marker": {
             "colorbar": {
              "outlinewidth": 0,
              "ticks": ""
             }
            },
            "type": "scatterpolargl"
           }
          ],
          "scatterternary": [
           {
            "marker": {
             "colorbar": {
              "outlinewidth": 0,
              "ticks": ""
             }
            },
            "type": "scatterternary"
           }
          ],
          "surface": [
           {
            "colorbar": {
             "outlinewidth": 0,
             "ticks": ""
            },
            "colorscale": [
             [
              0,
              "#0d0887"
             ],
             [
              0.1111111111111111,
              "#46039f"
             ],
             [
              0.2222222222222222,
              "#7201a8"
             ],
             [
              0.3333333333333333,
              "#9c179e"
             ],
             [
              0.4444444444444444,
              "#bd3786"
             ],
             [
              0.5555555555555556,
              "#d8576b"
             ],
             [
              0.6666666666666666,
              "#ed7953"
             ],
             [
              0.7777777777777778,
              "#fb9f3a"
             ],
             [
              0.8888888888888888,
              "#fdca26"
             ],
             [
              1,
              "#f0f921"
             ]
            ],
            "type": "surface"
           }
          ],
          "table": [
           {
            "cells": {
             "fill": {
              "color": "#EBF0F8"
             },
             "line": {
              "color": "white"
             }
            },
            "header": {
             "fill": {
              "color": "#C8D4E3"
             },
             "line": {
              "color": "white"
             }
            },
            "type": "table"
           }
          ]
         },
         "layout": {
          "annotationdefaults": {
           "arrowcolor": "#2a3f5f",
           "arrowhead": 0,
           "arrowwidth": 1
          },
          "autotypenumbers": "strict",
          "coloraxis": {
           "colorbar": {
            "outlinewidth": 0,
            "ticks": ""
           }
          },
          "colorscale": {
           "diverging": [
            [
             0,
             "#8e0152"
            ],
            [
             0.1,
             "#c51b7d"
            ],
            [
             0.2,
             "#de77ae"
            ],
            [
             0.3,
             "#f1b6da"
            ],
            [
             0.4,
             "#fde0ef"
            ],
            [
             0.5,
             "#f7f7f7"
            ],
            [
             0.6,
             "#e6f5d0"
            ],
            [
             0.7,
             "#b8e186"
            ],
            [
             0.8,
             "#7fbc41"
            ],
            [
             0.9,
             "#4d9221"
            ],
            [
             1,
             "#276419"
            ]
           ],
           "sequential": [
            [
             0,
             "#0d0887"
            ],
            [
             0.1111111111111111,
             "#46039f"
            ],
            [
             0.2222222222222222,
             "#7201a8"
            ],
            [
             0.3333333333333333,
             "#9c179e"
            ],
            [
             0.4444444444444444,
             "#bd3786"
            ],
            [
             0.5555555555555556,
             "#d8576b"
            ],
            [
             0.6666666666666666,
             "#ed7953"
            ],
            [
             0.7777777777777778,
             "#fb9f3a"
            ],
            [
             0.8888888888888888,
             "#fdca26"
            ],
            [
             1,
             "#f0f921"
            ]
           ],
           "sequentialminus": [
            [
             0,
             "#0d0887"
            ],
            [
             0.1111111111111111,
             "#46039f"
            ],
            [
             0.2222222222222222,
             "#7201a8"
            ],
            [
             0.3333333333333333,
             "#9c179e"
            ],
            [
             0.4444444444444444,
             "#bd3786"
            ],
            [
             0.5555555555555556,
             "#d8576b"
            ],
            [
             0.6666666666666666,
             "#ed7953"
            ],
            [
             0.7777777777777778,
             "#fb9f3a"
            ],
            [
             0.8888888888888888,
             "#fdca26"
            ],
            [
             1,
             "#f0f921"
            ]
           ]
          },
          "colorway": [
           "#636efa",
           "#EF553B",
           "#00cc96",
           "#ab63fa",
           "#FFA15A",
           "#19d3f3",
           "#FF6692",
           "#B6E880",
           "#FF97FF",
           "#FECB52"
          ],
          "font": {
           "color": "#2a3f5f"
          },
          "geo": {
           "bgcolor": "white",
           "lakecolor": "white",
           "landcolor": "#E5ECF6",
           "showlakes": true,
           "showland": true,
           "subunitcolor": "white"
          },
          "hoverlabel": {
           "align": "left"
          },
          "hovermode": "closest",
          "mapbox": {
           "style": "light"
          },
          "paper_bgcolor": "white",
          "plot_bgcolor": "#E5ECF6",
          "polar": {
           "angularaxis": {
            "gridcolor": "white",
            "linecolor": "white",
            "ticks": ""
           },
           "bgcolor": "#E5ECF6",
           "radialaxis": {
            "gridcolor": "white",
            "linecolor": "white",
            "ticks": ""
           }
          },
          "scene": {
           "xaxis": {
            "backgroundcolor": "#E5ECF6",
            "gridcolor": "white",
            "gridwidth": 2,
            "linecolor": "white",
            "showbackground": true,
            "ticks": "",
            "zerolinecolor": "white"
           },
           "yaxis": {
            "backgroundcolor": "#E5ECF6",
            "gridcolor": "white",
            "gridwidth": 2,
            "linecolor": "white",
            "showbackground": true,
            "ticks": "",
            "zerolinecolor": "white"
           },
           "zaxis": {
            "backgroundcolor": "#E5ECF6",
            "gridcolor": "white",
            "gridwidth": 2,
            "linecolor": "white",
            "showbackground": true,
            "ticks": "",
            "zerolinecolor": "white"
           }
          },
          "shapedefaults": {
           "line": {
            "color": "#2a3f5f"
           }
          },
          "ternary": {
           "aaxis": {
            "gridcolor": "white",
            "linecolor": "white",
            "ticks": ""
           },
           "baxis": {
            "gridcolor": "white",
            "linecolor": "white",
            "ticks": ""
           },
           "bgcolor": "#E5ECF6",
           "caxis": {
            "gridcolor": "white",
            "linecolor": "white",
            "ticks": ""
           }
          },
          "title": {
           "x": 0.05
          },
          "xaxis": {
           "automargin": true,
           "gridcolor": "white",
           "linecolor": "white",
           "ticks": "",
           "title": {
            "standoff": 15
           },
           "zerolinecolor": "white",
           "zerolinewidth": 2
          },
          "yaxis": {
           "automargin": true,
           "gridcolor": "white",
           "linecolor": "white",
           "ticks": "",
           "title": {
            "standoff": 15
           },
           "zerolinecolor": "white",
           "zerolinewidth": 2
          }
         }
        },
        "xaxis": {
         "anchor": "y",
         "domain": [
          0,
          1
         ],
         "title": {
          "text": "pred"
         }
        },
        "yaxis": {
         "anchor": "x",
         "domain": [
          0,
          1
         ],
         "title": {
          "text": "log y residuals"
         }
        }
       }
      }
     },
     "metadata": {},
     "output_type": "display_data"
    }
   ],
   "source": [
    "create_residual_plot(df_2, 'x', 'log y')"
   ]
  },
  {
   "cell_type": "markdown",
   "id": "b0ba14e6",
   "metadata": {},
   "source": [
    "Note – there is still evidence of **heteroscedasticity**, or \"uneven spread\", in this scatter plot, but the relationship is as close to linear as we'll get."
   ]
  },
  {
   "cell_type": "markdown",
   "id": "ea0839c9",
   "metadata": {},
   "source": [
    "### Question 1 –  Root vs. Log\n",
    "\n",
    "Now that we've learned how to perform transformations with example datasets, it's your job to apply these ideas to a real dataset. Below, you are given a dataset that describes the [number of home runs in the MLB per year](https://www.mlb.com/glossary/standard-stats/home-run). The relationship between the two variables, `'Year'` and `'Homeruns'`, is not linear.\n",
    "\n",
    "**Specifically, your job is to determine what the appropriate transformation to apply to the `'Home runs'` column is, in order to linearize the relationship.**\n",
    "\n",
    "Complete the implementation of the function `best_transformation`, which returns either 1, 2, 3, or 4, with the value corresponding to one of the following choices:\n",
    "\n",
    "1. Square root transformation.\n",
    "2. Log transformation.\n",
    "3. Both work the same.\n",
    "4. Neither gives a transformation revealing a linear relationship.\n",
    "\n",
    "***Hint***: If you find that both residual plots have some sort of pattern, choose the residual plot in which the vertical spread is constant. There is one clearly correct answer."
   ]
  },
  {
   "cell_type": "code",
   "execution_count": 12,
   "id": "5b277784",
   "metadata": {
    "scrolled": true
   },
   "outputs": [],
   "source": [
    "homeruns_fp = Path('data')/'homeruns.csv'\n",
    "homeruns = pd.read_csv(homeruns_fp)"
   ]
  },
  {
   "cell_type": "code",
   "execution_count": 22,
   "id": "1e57e3a7",
   "metadata": {},
   "outputs": [
    {
     "data": {
      "application/vnd.plotly.v1+json": {
       "config": {
        "plotlyServerURL": "https://plot.ly"
       },
       "data": [
        {
         "hovertemplate": "pred=%{x}<br>Sqrt Homeruns residuals=%{y}<extra></extra>",
         "legendgroup": "",
         "marker": {
          "color": "#636efa",
          "symbol": "circle"
         },
         "mode": "markers",
         "name": "",
         "orientation": "v",
         "showlegend": false,
         "type": "scatter",
         "x": [
          16.379512475514275,
          16.88615309811314,
          17.392793720712007,
          17.899434343310872,
          18.40607496590974,
          18.912715588508604,
          19.41935621110747,
          19.925996833706336,
          20.4326374563052,
          20.939278078904067,
          21.445918701502933,
          21.9525593241018,
          22.459199946700664,
          22.96584056929953,
          23.472481191898396,
          23.97912181449726,
          24.485762437096128,
          24.992403059694993,
          25.499043682293973,
          26.00568430489284,
          26.512324927491704,
          27.01896555009057,
          27.525606172689436,
          28.0322467952883,
          28.538887417887167,
          29.045528040486033,
          29.5521686630849,
          30.058809285683765,
          30.56544990828263,
          31.072090530881496,
          31.578731153480362,
          32.08537177607923,
          32.592012398678094,
          33.09865302127696,
          33.605293643875825,
          34.11193426647469,
          34.61857488907356,
          35.12521551167242,
          35.6318561342714,
          36.13849675687027,
          36.64513737946913,
          37.151778002068,
          37.658418624666865,
          38.16505924726573,
          38.6716998698646,
          39.17834049246346,
          39.68498111506233,
          40.191621737661194,
          40.69826236026006,
          41.204902982858925,
          41.71154360545779,
          42.21818422805666,
          42.72482485065552,
          43.23146547325439,
          43.738106095853254,
          44.24474671845212,
          44.751387341050986,
          45.25802796364985,
          45.76466858624883,
          46.2713092088477,
          46.77794983144656,
          47.28459045404543,
          47.791231076644294,
          48.29787169924316,
          48.804512321842026,
          49.31115294444089,
          49.81779356703976,
          50.32443418963862,
          50.83107481223749,
          51.337715434836355,
          51.84435605743522,
          52.350996680034086,
          52.85763730263295,
          53.36427792523182,
          53.870918547830684,
          54.37755917042955,
          54.884199793028415,
          55.39084041562728,
          55.89748103822626,
          56.404121660825126,
          56.91076228342399,
          57.41740290602286,
          57.92404352862172,
          58.43068415122059,
          58.937324773819455,
          59.44396539641832,
          59.95060601901719,
          60.45724664161605,
          60.96388726421492,
          61.470527886813784,
          61.97716850941265,
          62.483809132011515,
          62.99044975461038,
          63.49709037720925,
          64.00373099980811,
          64.51037162240698,
          65.01701224500584,
          65.52365286760471,
          66.03029349020369,
          66.53693411280256,
          67.04357473540142,
          67.55021535800029,
          68.05685598059915,
          68.56349660319802,
          69.07013722579688,
          69.57677784839575,
          70.08341847099462,
          70.59005909359348,
          71.09669971619235,
          71.60334033879121,
          72.10998096139008,
          72.61662158398894,
          73.12326220658781,
          73.62990282918668,
          74.13654345178554,
          74.64318407438441,
          75.14982469698327,
          75.65646531958214,
          76.16310594218112,
          76.66974656477998
         ],
         "xaxis": "x",
         "y": [
          -0.4421350250050473,
          4.444575909588401,
          1.4220940015147718,
          0.40357087441225303,
          -0.21266956724948471,
          -0.5279392776583691,
          -3.2638617897039595,
          -4.305497481893028,
          -4.09250281793701,
          -4.845801139472986,
          -2.445918701502933,
          0.7190087734074702,
          -1.4354039050720253,
          -1.2863571806207297,
          3.173343997050061,
          1.2200845222110424,
          -4.915376646315202,
          -6.689397841971868,
          -10.169333965538081,
          -4.863309793026865,
          -1.4125241314694392,
          3.591490179937363,
          4.955157365133992,
          3.2727048897087556,
          1.3943716763043632,
          5.145113954071483,
          -0.1753070199481357,
          0.3056436156941871,
          2.495100601350451,
          5.6566448135324165,
          7.981349736224601,
          0.6101936724644048,
          4.259039146698463,
          -0.433687079154808,
          3.0553119157708934,
          2.288615179927902,
          2.3137957361652184,
          2.6901252907056517,
          2.773872605071638,
          1.8746588606261554,
          2.9907049857436974,
          -0.6689053081585996,
          -4.932282280759722,
          -8.081841334283084,
          -6.515829488237543,
          -7.445077187218601,
          -4.828130999195579,
          -0.6315408479562308,
          -1.2647740539993535,
          0.0746318982416625,
          3.818666145871049,
          0.9442994817578167,
          -1.4816435960529617,
          2.3316775263236806,
          0.2732560734775191,
          2.914557771754261,
          3.1443327182612038,
          1.6674448629504113,
          1.5639696785480979,
          1.1628556936779901,
          -0.6476994527633764,
          4.964811456407098,
          6.990152622565056,
          3.70212830075684,
          3.750221052041624,
          2.5347726428219914,
          2.555863933654237,
          -2.376545810691212,
          -6.165651943982901,
          4.510292586936451,
          6.713307830394186,
          1.1560122066528962,
          -2.5187855080200734,
          2.3313233373454665,
          -2.402481617999598,
          -2.43528351754734,
          -7.608413178737159,
          4.974712675519001,
          -1.5283721619535129,
          2.1876866403358832,
          -1.3499847510675878,
          -15.215507214004475,
          0.20512298871275902,
          -0.9763544623276914,
          -1.8584320024981125,
          0.5726989560763087,
          1.7988879060345369,
          6.3110092888783385,
          -4.5723985447281805,
          -5.945758639206822,
          -4.383766109484931,
          -4.320246655148047,
          -7.8723946365277016,
          -0.014809384793736058,
          -6.505904953947912,
          -0.6276666076692266,
          5.424452816419446,
          2.5938925961009005,
          5.1314940084250935,
          7.813587068961866,
          8.408396743149098,
          6.328062911055227,
          3.069791627733977,
          3.596048849915803,
          4.760750619332001,
          1.25400641946338,
          3.3059540566404735,
          -0.18409343726574434,
          -1.2540193552554513,
          -0.5962984344842823,
          -4.190911474242355,
          -5.1481104102569475,
          -2.880824891244032,
          -5.358386074393536,
          -9.437238973298292,
          -4.578927851970974,
          -0.2498914526872511,
          2.4780341028880883,
          -1.4302483760476008,
          5.646715944246722
         ],
         "yaxis": "y"
        },
        {
         "hovertemplate": "<b>OLS trendline</b><br>Sqrt Homeruns residuals = 7.89299e-17 * pred + -3.40006e-14<br>R<sup>2</sup>=0.000000<br><br>pred=%{x}<br>Sqrt Homeruns residuals=%{y} <b>(trend)</b><extra></extra>",
         "legendgroup": "",
         "line": {
          "color": "red"
         },
         "marker": {
          "color": "#636efa",
          "symbol": "circle"
         },
         "mode": "lines",
         "name": "",
         "showlegend": false,
         "type": "scatter",
         "x": [
          16.379512475514275,
          16.88615309811314,
          17.392793720712007,
          17.899434343310872,
          18.40607496590974,
          18.912715588508604,
          19.41935621110747,
          19.925996833706336,
          20.4326374563052,
          20.939278078904067,
          21.445918701502933,
          21.9525593241018,
          22.459199946700664,
          22.96584056929953,
          23.472481191898396,
          23.97912181449726,
          24.485762437096128,
          24.992403059694993,
          25.499043682293973,
          26.00568430489284,
          26.512324927491704,
          27.01896555009057,
          27.525606172689436,
          28.0322467952883,
          28.538887417887167,
          29.045528040486033,
          29.5521686630849,
          30.058809285683765,
          30.56544990828263,
          31.072090530881496,
          31.578731153480362,
          32.08537177607923,
          32.592012398678094,
          33.09865302127696,
          33.605293643875825,
          34.11193426647469,
          34.61857488907356,
          35.12521551167242,
          35.6318561342714,
          36.13849675687027,
          36.64513737946913,
          37.151778002068,
          37.658418624666865,
          38.16505924726573,
          38.6716998698646,
          39.17834049246346,
          39.68498111506233,
          40.191621737661194,
          40.69826236026006,
          41.204902982858925,
          41.71154360545779,
          42.21818422805666,
          42.72482485065552,
          43.23146547325439,
          43.738106095853254,
          44.24474671845212,
          44.751387341050986,
          45.25802796364985,
          45.76466858624883,
          46.2713092088477,
          46.77794983144656,
          47.28459045404543,
          47.791231076644294,
          48.29787169924316,
          48.804512321842026,
          49.31115294444089,
          49.81779356703976,
          50.32443418963862,
          50.83107481223749,
          51.337715434836355,
          51.84435605743522,
          52.350996680034086,
          52.85763730263295,
          53.36427792523182,
          53.870918547830684,
          54.37755917042955,
          54.884199793028415,
          55.39084041562728,
          55.89748103822626,
          56.404121660825126,
          56.91076228342399,
          57.41740290602286,
          57.92404352862172,
          58.43068415122059,
          58.937324773819455,
          59.44396539641832,
          59.95060601901719,
          60.45724664161605,
          60.96388726421492,
          61.470527886813784,
          61.97716850941265,
          62.483809132011515,
          62.99044975461038,
          63.49709037720925,
          64.00373099980811,
          64.51037162240698,
          65.01701224500584,
          65.52365286760471,
          66.03029349020369,
          66.53693411280256,
          67.04357473540142,
          67.55021535800029,
          68.05685598059915,
          68.56349660319802,
          69.07013722579688,
          69.57677784839575,
          70.08341847099462,
          70.59005909359348,
          71.09669971619235,
          71.60334033879121,
          72.10998096139008,
          72.61662158398894,
          73.12326220658781,
          73.62990282918668,
          74.13654345178554,
          74.64318407438441,
          75.14982469698327,
          75.65646531958214,
          76.16310594218112,
          76.66974656477998
         ],
         "xaxis": "x",
         "y": [
          -3.270774655000242e-14,
          -3.266775744712571e-14,
          -3.2627768344249e-14,
          -3.258777924137229e-14,
          -3.2547790138495574e-14,
          -3.2507801035618865e-14,
          -3.246781193274215e-14,
          -3.2427822829865436e-14,
          -3.238783372698873e-14,
          -3.234784462411201e-14,
          -3.2307855521235304e-14,
          -3.226786641835859e-14,
          -3.222787731548188e-14,
          -3.2187888212605165e-14,
          -3.214789910972846e-14,
          -3.210791000685174e-14,
          -3.206792090397503e-14,
          -3.202793180109832e-14,
          -3.19879426982216e-14,
          -3.194795359534488e-14,
          -3.1907964492468174e-14,
          -3.186797538959146e-14,
          -3.182798628671475e-14,
          -3.1787997183838036e-14,
          -3.174800808096133e-14,
          -3.170801897808461e-14,
          -3.1668029875207904e-14,
          -3.162804077233119e-14,
          -3.1588051669454474e-14,
          -3.1548062566577766e-14,
          -3.150807346370105e-14,
          -3.146808436082434e-14,
          -3.142809525794763e-14,
          -3.138810615507092e-14,
          -3.1348117052194204e-14,
          -3.1308127949317495e-14,
          -3.126813884644078e-14,
          -3.122814974356407e-14,
          -3.118816064068735e-14,
          -3.1148171537810636e-14,
          -3.110818243493392e-14,
          -3.106819333205721e-14,
          -3.10282042291805e-14,
          -3.098821512630379e-14,
          -3.0948226023427074e-14,
          -3.0908236920550366e-14,
          -3.086824781767365e-14,
          -3.082825871479694e-14,
          -3.078826961192023e-14,
          -3.074828050904352e-14,
          -3.0708291406166804e-14,
          -3.0668302303290096e-14,
          -3.062831320041338e-14,
          -3.0588324097536666e-14,
          -3.054833499465996e-14,
          -3.050834589178324e-14,
          -3.0468356788906534e-14,
          -3.042836768602982e-14,
          -3.03883785831531e-14,
          -3.034838948027639e-14,
          -3.0308400377399675e-14,
          -3.0268411274522966e-14,
          -3.022842217164625e-14,
          -3.018843306876954e-14,
          -3.014844396589283e-14,
          -3.010845486301611e-14,
          -3.0068465760139404e-14,
          -3.002847665726269e-14,
          -2.998848755438598e-14,
          -2.9948498451509266e-14,
          -2.990850934863256e-14,
          -2.986852024575584e-14,
          -2.9828531142879134e-14,
          -2.978854204000242e-14,
          -2.9748552937125704e-14,
          -2.9708563834248996e-14,
          -2.966857473137228e-14,
          -2.962858562849557e-14,
          -2.958859652561885e-14,
          -2.9548607422742137e-14,
          -2.950861831986543e-14,
          -2.946862921698871e-14,
          -2.9428640114112005e-14,
          -2.938865101123529e-14,
          -2.934866190835858e-14,
          -2.9308672805481866e-14,
          -2.926868370260515e-14,
          -2.922869459972844e-14,
          -2.9188705496851734e-14,
          -2.914871639397502e-14,
          -2.9108727291098305e-14,
          -2.9068738188221596e-14,
          -2.902874908534488e-14,
          -2.898875998246817e-14,
          -2.894877087959146e-14,
          -2.890878177671475e-14,
          -2.8868792673838034e-14,
          -2.8828803570961326e-14,
          -2.87888144680846e-14,
          -2.874882536520789e-14,
          -2.870883626233118e-14,
          -2.8668847159454467e-14,
          -2.862885805657775e-14,
          -2.858886895370104e-14,
          -2.854887985082433e-14,
          -2.850889074794762e-14,
          -2.8468901645070905e-14,
          -2.8428912542194196e-14,
          -2.838892343931748e-14,
          -2.834893433644077e-14,
          -2.8308945233564058e-14,
          -2.8268956130687346e-14,
          -2.8228967027810635e-14,
          -2.8188977924933923e-14,
          -2.814898882205721e-14,
          -2.8108999719180496e-14,
          -2.8069010616303788e-14,
          -2.8029021513427073e-14,
          -2.7989032410550352e-14,
          -2.794904330767364e-14
         ],
         "yaxis": "y"
        }
       ],
       "layout": {
        "legend": {
         "tracegroupgap": 0
        },
        "margin": {
         "t": 60
        },
        "template": {
         "data": {
          "bar": [
           {
            "error_x": {
             "color": "#2a3f5f"
            },
            "error_y": {
             "color": "#2a3f5f"
            },
            "marker": {
             "line": {
              "color": "#E5ECF6",
              "width": 0.5
             },
             "pattern": {
              "fillmode": "overlay",
              "size": 10,
              "solidity": 0.2
             }
            },
            "type": "bar"
           }
          ],
          "barpolar": [
           {
            "marker": {
             "line": {
              "color": "#E5ECF6",
              "width": 0.5
             },
             "pattern": {
              "fillmode": "overlay",
              "size": 10,
              "solidity": 0.2
             }
            },
            "type": "barpolar"
           }
          ],
          "carpet": [
           {
            "aaxis": {
             "endlinecolor": "#2a3f5f",
             "gridcolor": "white",
             "linecolor": "white",
             "minorgridcolor": "white",
             "startlinecolor": "#2a3f5f"
            },
            "baxis": {
             "endlinecolor": "#2a3f5f",
             "gridcolor": "white",
             "linecolor": "white",
             "minorgridcolor": "white",
             "startlinecolor": "#2a3f5f"
            },
            "type": "carpet"
           }
          ],
          "choropleth": [
           {
            "colorbar": {
             "outlinewidth": 0,
             "ticks": ""
            },
            "type": "choropleth"
           }
          ],
          "contour": [
           {
            "colorbar": {
             "outlinewidth": 0,
             "ticks": ""
            },
            "colorscale": [
             [
              0,
              "#0d0887"
             ],
             [
              0.1111111111111111,
              "#46039f"
             ],
             [
              0.2222222222222222,
              "#7201a8"
             ],
             [
              0.3333333333333333,
              "#9c179e"
             ],
             [
              0.4444444444444444,
              "#bd3786"
             ],
             [
              0.5555555555555556,
              "#d8576b"
             ],
             [
              0.6666666666666666,
              "#ed7953"
             ],
             [
              0.7777777777777778,
              "#fb9f3a"
             ],
             [
              0.8888888888888888,
              "#fdca26"
             ],
             [
              1,
              "#f0f921"
             ]
            ],
            "type": "contour"
           }
          ],
          "contourcarpet": [
           {
            "colorbar": {
             "outlinewidth": 0,
             "ticks": ""
            },
            "type": "contourcarpet"
           }
          ],
          "heatmap": [
           {
            "colorbar": {
             "outlinewidth": 0,
             "ticks": ""
            },
            "colorscale": [
             [
              0,
              "#0d0887"
             ],
             [
              0.1111111111111111,
              "#46039f"
             ],
             [
              0.2222222222222222,
              "#7201a8"
             ],
             [
              0.3333333333333333,
              "#9c179e"
             ],
             [
              0.4444444444444444,
              "#bd3786"
             ],
             [
              0.5555555555555556,
              "#d8576b"
             ],
             [
              0.6666666666666666,
              "#ed7953"
             ],
             [
              0.7777777777777778,
              "#fb9f3a"
             ],
             [
              0.8888888888888888,
              "#fdca26"
             ],
             [
              1,
              "#f0f921"
             ]
            ],
            "type": "heatmap"
           }
          ],
          "heatmapgl": [
           {
            "colorbar": {
             "outlinewidth": 0,
             "ticks": ""
            },
            "colorscale": [
             [
              0,
              "#0d0887"
             ],
             [
              0.1111111111111111,
              "#46039f"
             ],
             [
              0.2222222222222222,
              "#7201a8"
             ],
             [
              0.3333333333333333,
              "#9c179e"
             ],
             [
              0.4444444444444444,
              "#bd3786"
             ],
             [
              0.5555555555555556,
              "#d8576b"
             ],
             [
              0.6666666666666666,
              "#ed7953"
             ],
             [
              0.7777777777777778,
              "#fb9f3a"
             ],
             [
              0.8888888888888888,
              "#fdca26"
             ],
             [
              1,
              "#f0f921"
             ]
            ],
            "type": "heatmapgl"
           }
          ],
          "histogram": [
           {
            "marker": {
             "pattern": {
              "fillmode": "overlay",
              "size": 10,
              "solidity": 0.2
             }
            },
            "type": "histogram"
           }
          ],
          "histogram2d": [
           {
            "colorbar": {
             "outlinewidth": 0,
             "ticks": ""
            },
            "colorscale": [
             [
              0,
              "#0d0887"
             ],
             [
              0.1111111111111111,
              "#46039f"
             ],
             [
              0.2222222222222222,
              "#7201a8"
             ],
             [
              0.3333333333333333,
              "#9c179e"
             ],
             [
              0.4444444444444444,
              "#bd3786"
             ],
             [
              0.5555555555555556,
              "#d8576b"
             ],
             [
              0.6666666666666666,
              "#ed7953"
             ],
             [
              0.7777777777777778,
              "#fb9f3a"
             ],
             [
              0.8888888888888888,
              "#fdca26"
             ],
             [
              1,
              "#f0f921"
             ]
            ],
            "type": "histogram2d"
           }
          ],
          "histogram2dcontour": [
           {
            "colorbar": {
             "outlinewidth": 0,
             "ticks": ""
            },
            "colorscale": [
             [
              0,
              "#0d0887"
             ],
             [
              0.1111111111111111,
              "#46039f"
             ],
             [
              0.2222222222222222,
              "#7201a8"
             ],
             [
              0.3333333333333333,
              "#9c179e"
             ],
             [
              0.4444444444444444,
              "#bd3786"
             ],
             [
              0.5555555555555556,
              "#d8576b"
             ],
             [
              0.6666666666666666,
              "#ed7953"
             ],
             [
              0.7777777777777778,
              "#fb9f3a"
             ],
             [
              0.8888888888888888,
              "#fdca26"
             ],
             [
              1,
              "#f0f921"
             ]
            ],
            "type": "histogram2dcontour"
           }
          ],
          "mesh3d": [
           {
            "colorbar": {
             "outlinewidth": 0,
             "ticks": ""
            },
            "type": "mesh3d"
           }
          ],
          "parcoords": [
           {
            "line": {
             "colorbar": {
              "outlinewidth": 0,
              "ticks": ""
             }
            },
            "type": "parcoords"
           }
          ],
          "pie": [
           {
            "automargin": true,
            "type": "pie"
           }
          ],
          "scatter": [
           {
            "fillpattern": {
             "fillmode": "overlay",
             "size": 10,
             "solidity": 0.2
            },
            "type": "scatter"
           }
          ],
          "scatter3d": [
           {
            "line": {
             "colorbar": {
              "outlinewidth": 0,
              "ticks": ""
             }
            },
            "marker": {
             "colorbar": {
              "outlinewidth": 0,
              "ticks": ""
             }
            },
            "type": "scatter3d"
           }
          ],
          "scattercarpet": [
           {
            "marker": {
             "colorbar": {
              "outlinewidth": 0,
              "ticks": ""
             }
            },
            "type": "scattercarpet"
           }
          ],
          "scattergeo": [
           {
            "marker": {
             "colorbar": {
              "outlinewidth": 0,
              "ticks": ""
             }
            },
            "type": "scattergeo"
           }
          ],
          "scattergl": [
           {
            "marker": {
             "colorbar": {
              "outlinewidth": 0,
              "ticks": ""
             }
            },
            "type": "scattergl"
           }
          ],
          "scattermapbox": [
           {
            "marker": {
             "colorbar": {
              "outlinewidth": 0,
              "ticks": ""
             }
            },
            "type": "scattermapbox"
           }
          ],
          "scatterpolar": [
           {
            "marker": {
             "colorbar": {
              "outlinewidth": 0,
              "ticks": ""
             }
            },
            "type": "scatterpolar"
           }
          ],
          "scatterpolargl": [
           {
            "marker": {
             "colorbar": {
              "outlinewidth": 0,
              "ticks": ""
             }
            },
            "type": "scatterpolargl"
           }
          ],
          "scatterternary": [
           {
            "marker": {
             "colorbar": {
              "outlinewidth": 0,
              "ticks": ""
             }
            },
            "type": "scatterternary"
           }
          ],
          "surface": [
           {
            "colorbar": {
             "outlinewidth": 0,
             "ticks": ""
            },
            "colorscale": [
             [
              0,
              "#0d0887"
             ],
             [
              0.1111111111111111,
              "#46039f"
             ],
             [
              0.2222222222222222,
              "#7201a8"
             ],
             [
              0.3333333333333333,
              "#9c179e"
             ],
             [
              0.4444444444444444,
              "#bd3786"
             ],
             [
              0.5555555555555556,
              "#d8576b"
             ],
             [
              0.6666666666666666,
              "#ed7953"
             ],
             [
              0.7777777777777778,
              "#fb9f3a"
             ],
             [
              0.8888888888888888,
              "#fdca26"
             ],
             [
              1,
              "#f0f921"
             ]
            ],
            "type": "surface"
           }
          ],
          "table": [
           {
            "cells": {
             "fill": {
              "color": "#EBF0F8"
             },
             "line": {
              "color": "white"
             }
            },
            "header": {
             "fill": {
              "color": "#C8D4E3"
             },
             "line": {
              "color": "white"
             }
            },
            "type": "table"
           }
          ]
         },
         "layout": {
          "annotationdefaults": {
           "arrowcolor": "#2a3f5f",
           "arrowhead": 0,
           "arrowwidth": 1
          },
          "autotypenumbers": "strict",
          "coloraxis": {
           "colorbar": {
            "outlinewidth": 0,
            "ticks": ""
           }
          },
          "colorscale": {
           "diverging": [
            [
             0,
             "#8e0152"
            ],
            [
             0.1,
             "#c51b7d"
            ],
            [
             0.2,
             "#de77ae"
            ],
            [
             0.3,
             "#f1b6da"
            ],
            [
             0.4,
             "#fde0ef"
            ],
            [
             0.5,
             "#f7f7f7"
            ],
            [
             0.6,
             "#e6f5d0"
            ],
            [
             0.7,
             "#b8e186"
            ],
            [
             0.8,
             "#7fbc41"
            ],
            [
             0.9,
             "#4d9221"
            ],
            [
             1,
             "#276419"
            ]
           ],
           "sequential": [
            [
             0,
             "#0d0887"
            ],
            [
             0.1111111111111111,
             "#46039f"
            ],
            [
             0.2222222222222222,
             "#7201a8"
            ],
            [
             0.3333333333333333,
             "#9c179e"
            ],
            [
             0.4444444444444444,
             "#bd3786"
            ],
            [
             0.5555555555555556,
             "#d8576b"
            ],
            [
             0.6666666666666666,
             "#ed7953"
            ],
            [
             0.7777777777777778,
             "#fb9f3a"
            ],
            [
             0.8888888888888888,
             "#fdca26"
            ],
            [
             1,
             "#f0f921"
            ]
           ],
           "sequentialminus": [
            [
             0,
             "#0d0887"
            ],
            [
             0.1111111111111111,
             "#46039f"
            ],
            [
             0.2222222222222222,
             "#7201a8"
            ],
            [
             0.3333333333333333,
             "#9c179e"
            ],
            [
             0.4444444444444444,
             "#bd3786"
            ],
            [
             0.5555555555555556,
             "#d8576b"
            ],
            [
             0.6666666666666666,
             "#ed7953"
            ],
            [
             0.7777777777777778,
             "#fb9f3a"
            ],
            [
             0.8888888888888888,
             "#fdca26"
            ],
            [
             1,
             "#f0f921"
            ]
           ]
          },
          "colorway": [
           "#636efa",
           "#EF553B",
           "#00cc96",
           "#ab63fa",
           "#FFA15A",
           "#19d3f3",
           "#FF6692",
           "#B6E880",
           "#FF97FF",
           "#FECB52"
          ],
          "font": {
           "color": "#2a3f5f"
          },
          "geo": {
           "bgcolor": "white",
           "lakecolor": "white",
           "landcolor": "#E5ECF6",
           "showlakes": true,
           "showland": true,
           "subunitcolor": "white"
          },
          "hoverlabel": {
           "align": "left"
          },
          "hovermode": "closest",
          "mapbox": {
           "style": "light"
          },
          "paper_bgcolor": "white",
          "plot_bgcolor": "#E5ECF6",
          "polar": {
           "angularaxis": {
            "gridcolor": "white",
            "linecolor": "white",
            "ticks": ""
           },
           "bgcolor": "#E5ECF6",
           "radialaxis": {
            "gridcolor": "white",
            "linecolor": "white",
            "ticks": ""
           }
          },
          "scene": {
           "xaxis": {
            "backgroundcolor": "#E5ECF6",
            "gridcolor": "white",
            "gridwidth": 2,
            "linecolor": "white",
            "showbackground": true,
            "ticks": "",
            "zerolinecolor": "white"
           },
           "yaxis": {
            "backgroundcolor": "#E5ECF6",
            "gridcolor": "white",
            "gridwidth": 2,
            "linecolor": "white",
            "showbackground": true,
            "ticks": "",
            "zerolinecolor": "white"
           },
           "zaxis": {
            "backgroundcolor": "#E5ECF6",
            "gridcolor": "white",
            "gridwidth": 2,
            "linecolor": "white",
            "showbackground": true,
            "ticks": "",
            "zerolinecolor": "white"
           }
          },
          "shapedefaults": {
           "line": {
            "color": "#2a3f5f"
           }
          },
          "ternary": {
           "aaxis": {
            "gridcolor": "white",
            "linecolor": "white",
            "ticks": ""
           },
           "baxis": {
            "gridcolor": "white",
            "linecolor": "white",
            "ticks": ""
           },
           "bgcolor": "#E5ECF6",
           "caxis": {
            "gridcolor": "white",
            "linecolor": "white",
            "ticks": ""
           }
          },
          "title": {
           "x": 0.05
          },
          "xaxis": {
           "automargin": true,
           "gridcolor": "white",
           "linecolor": "white",
           "ticks": "",
           "title": {
            "standoff": 15
           },
           "zerolinecolor": "white",
           "zerolinewidth": 2
          },
          "yaxis": {
           "automargin": true,
           "gridcolor": "white",
           "linecolor": "white",
           "ticks": "",
           "title": {
            "standoff": 15
           },
           "zerolinecolor": "white",
           "zerolinewidth": 2
          }
         }
        },
        "xaxis": {
         "anchor": "y",
         "domain": [
          0,
          1
         ],
         "title": {
          "text": "pred"
         }
        },
        "yaxis": {
         "anchor": "x",
         "domain": [
          0,
          1
         ],
         "title": {
          "text": "Sqrt Homeruns residuals"
         }
        }
       }
      }
     },
     "metadata": {},
     "output_type": "display_data"
    }
   ],
   "source": [
    "homeruns\n",
    "# px.scatter(homeruns, x='Year', y='Homeruns', trendline=\"ols\", trendline_color_override=\"red\")\n",
    "\n",
    "new_homeruns = homeruns.copy()\n",
    "new_homeruns['Sqrt Homeruns'] = np.sqrt(new_homeruns['Homeruns'])\n",
    "new_homeruns['Log Homeruns'] = np.log(new_homeruns['Homeruns'])\n",
    "new_homeruns\n",
    "\n",
    "px.scatter(new_homeruns, x='Year', y='Log Homeruns', trendline=\"ols\", trendline_color_override=\"red\")\n",
    "create_residual_plot(new_homeruns, 'Year', 'Sqrt Homeruns')"
   ]
  },
  {
   "cell_type": "code",
   "execution_count": null,
   "id": "cca42af2",
   "metadata": {},
   "outputs": [],
   "source": []
  },
  {
   "cell_type": "code",
   "execution_count": 24,
   "id": "a02627a6",
   "metadata": {
    "deletable": false,
    "editable": false
   },
   "outputs": [
    {
     "data": {
      "text/html": [
       "<p><strong><pre style='display: inline;'>q1</pre></strong> passed!</p>"
      ],
      "text/plain": [
       "q1 results: All test cases passed!"
      ]
     },
     "execution_count": 24,
     "metadata": {},
     "output_type": "execute_result"
    }
   ],
   "source": [
    "grader.check(\"q1\")"
   ]
  },
  {
   "cell_type": "markdown",
   "id": "ec309895",
   "metadata": {},
   "source": [
    "## Part 2: Diamond Pricing 💎\n",
    "\n",
    "In this next section, you will pretend you are a jewelry appraiser and predict the prices of diamonds given several standard characteristics of diamonds.\n",
    "\n",
    "You will use linear regression to predict prices, while improving the quality of your predictions using **feature engineering**. Since this question is supposed to help you understand feature engineering, **you will be building these features from scratch, instead of using the built in `sklearn` or `pandas` methods**.\n",
    "\n",
    "The `diamonds` dataset is accessible via `seaborn` (with `sns.load_dataset('diamonds')`), but we've skipped that step and loaded it for you below. The DataFrame has 53940 rows and 10 columns:\n",
    "\n",
    "|column|description|unique values or range|\n",
    "|---|---|---|\n",
    "|`'carat'`|weight of the diamond in carats (each carat is 0.2 grams)| 0.2 - 5.01 |\n",
    "|`'cut'`|quality of the cut | Fair, Good, Very Good, Premium, Ideal |\n",
    "|`'color'`|diamond colour | J (worst, near colorless), I, H, G, F, E, D (best, absolute colorless) |\n",
    "|`'clarity'`|a measurement of how clear the diamond is | I1 (worst), SI2, SI1, VS2, VS1, VVS2, VVS1, IF (best) |\n",
    "|`'depth'`|total depth percentage, computed as z / mean(x, y) = 2 * z / (x + y) | 43 - 79 |\n",
    "|`'table'`|width of top of diamond relative to widest point | 43 - 95 |\n",
    "|`'price'`|price in US dollars | \\\\$326 - \\\\$18,823 USD |\n",
    "|`'x'`|length in mm | 0 - 10.74 |\n",
    "|`'y'`|width in mm | 0 - 58.9 | \n",
    "|`'z'`|depth in mm | 0 - 31.8 |\n",
    "\n",
    "If you want to learn more about how diamonds are measured, refer to [this page by the American Gem Society](https://www.americangemsociety.org/4cs-of-diamonds/)."
   ]
  },
  {
   "cell_type": "code",
   "execution_count": 25,
   "id": "9d780721",
   "metadata": {},
   "outputs": [
    {
     "data": {
      "text/html": [
       "<div>\n",
       "<style scoped>\n",
       "    .dataframe tbody tr th:only-of-type {\n",
       "        vertical-align: middle;\n",
       "    }\n",
       "\n",
       "    .dataframe tbody tr th {\n",
       "        vertical-align: top;\n",
       "    }\n",
       "\n",
       "    .dataframe thead th {\n",
       "        text-align: right;\n",
       "    }\n",
       "</style>\n",
       "<table border=\"1\" class=\"dataframe\">\n",
       "  <thead>\n",
       "    <tr style=\"text-align: right;\">\n",
       "      <th></th>\n",
       "      <th>carat</th>\n",
       "      <th>cut</th>\n",
       "      <th>color</th>\n",
       "      <th>clarity</th>\n",
       "      <th>depth</th>\n",
       "      <th>table</th>\n",
       "      <th>price</th>\n",
       "      <th>x</th>\n",
       "      <th>y</th>\n",
       "      <th>z</th>\n",
       "    </tr>\n",
       "  </thead>\n",
       "  <tbody>\n",
       "    <tr>\n",
       "      <th>0</th>\n",
       "      <td>0.23</td>\n",
       "      <td>Ideal</td>\n",
       "      <td>E</td>\n",
       "      <td>SI2</td>\n",
       "      <td>61.5</td>\n",
       "      <td>55.0</td>\n",
       "      <td>326</td>\n",
       "      <td>3.95</td>\n",
       "      <td>3.98</td>\n",
       "      <td>2.43</td>\n",
       "    </tr>\n",
       "    <tr>\n",
       "      <th>1</th>\n",
       "      <td>0.21</td>\n",
       "      <td>Premium</td>\n",
       "      <td>E</td>\n",
       "      <td>SI1</td>\n",
       "      <td>59.8</td>\n",
       "      <td>61.0</td>\n",
       "      <td>326</td>\n",
       "      <td>3.89</td>\n",
       "      <td>3.84</td>\n",
       "      <td>2.31</td>\n",
       "    </tr>\n",
       "    <tr>\n",
       "      <th>2</th>\n",
       "      <td>0.23</td>\n",
       "      <td>Good</td>\n",
       "      <td>E</td>\n",
       "      <td>VS1</td>\n",
       "      <td>56.9</td>\n",
       "      <td>65.0</td>\n",
       "      <td>327</td>\n",
       "      <td>4.05</td>\n",
       "      <td>4.07</td>\n",
       "      <td>2.31</td>\n",
       "    </tr>\n",
       "    <tr>\n",
       "      <th>3</th>\n",
       "      <td>0.29</td>\n",
       "      <td>Premium</td>\n",
       "      <td>I</td>\n",
       "      <td>VS2</td>\n",
       "      <td>62.4</td>\n",
       "      <td>58.0</td>\n",
       "      <td>334</td>\n",
       "      <td>4.20</td>\n",
       "      <td>4.23</td>\n",
       "      <td>2.63</td>\n",
       "    </tr>\n",
       "    <tr>\n",
       "      <th>4</th>\n",
       "      <td>0.31</td>\n",
       "      <td>Good</td>\n",
       "      <td>J</td>\n",
       "      <td>SI2</td>\n",
       "      <td>63.3</td>\n",
       "      <td>58.0</td>\n",
       "      <td>335</td>\n",
       "      <td>4.34</td>\n",
       "      <td>4.35</td>\n",
       "      <td>2.75</td>\n",
       "    </tr>\n",
       "  </tbody>\n",
       "</table>\n",
       "</div>"
      ],
      "text/plain": [
       "   carat      cut color clarity  depth  table  price     x     y     z\n",
       "0   0.23    Ideal     E     SI2   61.5   55.0    326  3.95  3.98  2.43\n",
       "1   0.21  Premium     E     SI1   59.8   61.0    326  3.89  3.84  2.31\n",
       "2   0.23     Good     E     VS1   56.9   65.0    327  4.05  4.07  2.31\n",
       "3   0.29  Premium     I     VS2   62.4   58.0    334  4.20  4.23  2.63\n",
       "4   0.31     Good     J     SI2   63.3   58.0    335  4.34  4.35  2.75"
      ]
     },
     "execution_count": 25,
     "metadata": {},
     "output_type": "execute_result"
    }
   ],
   "source": [
    "diamonds = pd.read_csv(Path('data')/'diamonds.csv')\n",
    "diamonds.head()"
   ]
  },
  {
   "cell_type": "markdown",
   "id": "5c0eac05",
   "metadata": {},
   "source": [
    "### Question 2 – Ordinal Encoding 🔢\n",
    "\n",
    "Every categorical variable in the dataset is an ordinal column, meaning that there is an inherent order that we can use to sort the values in the column. Recall that **ordinal encoding** is a feature transformation that maps the values in an ordinal column to positive integers in a way that preserves the order of the column values. For instance, an ordinal encoding for Freshman, Sophomore, Junior, Senior is 0, 1, 2, 3.\n",
    "\n",
    "Complete the implementation of the function `create_ordinal`, which takes in the `diamonds` DataFrame and returns a DataFrame of ordinal features only with names of the form `'ordinal_<col>'`, where `'<col>'` is the original categorical column name. For instance, the `'ordinal_color'` column should consist of values from 0 to 6, where 0 refers to `'J'` and 6 refers to `'D'`. (In all cases, start counting from 0.)\n",
    "\n",
    "***Notes:*** \n",
    "- Remember, you are creating this function using basic `pandas`. You might want to create a helper function that takes in a single column and an ordering for that column.\n",
    "- Don't include non-ordinal features in the returned DataFrame. That is, if there are only three columns in `diamonds` that are ordinal, `create_ordinal` should return a DataFrame with three columns.\n",
    "- The orderings for each of the ordinal columns are displayed in the data dictionary above (in the `'unique values or range'` column)."
   ]
  },
  {
   "cell_type": "code",
   "execution_count": null,
   "id": "982dbec8",
   "metadata": {},
   "outputs": [
    {
     "ename": "SyntaxError",
     "evalue": "invalid syntax (4050058526.py, line 27)",
     "output_type": "error",
     "traceback": [
      "\u001b[1;36m  Cell \u001b[1;32mIn[29], line 27\u001b[1;36m\u001b[0m\n\u001b[1;33m    df.rename(columns=[col_name: f\"ordinal_{col_name}\"])\u001b[0m\n\u001b[1;37m                               ^\u001b[0m\n\u001b[1;31mSyntaxError\u001b[0m\u001b[1;31m:\u001b[0m invalid syntax\n"
     ]
    }
   ],
   "source": [
    "diamonds\n",
    "\n",
    "diamond_dct = {'Fair': 0, \n",
    "        'Good': 1,\n",
    "        'Very Good': 2,\n",
    "        'Premium': 3, \n",
    "        'Ideal': 4,\n",
    "        'J': 0,\n",
    "        'I': 1,\n",
    "        'H': 2,\n",
    "        'G': 3,\n",
    "        'F': 4,\n",
    "        'E': 5,\n",
    "        'D': 6,\n",
    "        'I1': 0,\n",
    "        'SI2': 1,\n",
    "        'SI1': 2,\n",
    "        'VS2': 3,\n",
    "        'VS1': 4,\n",
    "        'VVS1': 5,\n",
    "        'VVS2': 6\n",
    "        }\n",
    "\n",
    "def helper(df, col_name):\n",
    "\n",
    "    df[f\"ordinal_{col_name}\"] = df[col_name].apply(lambda x: diamond_dct[x])\n",
    "    df.drop(col_name, axis=1)\n",
    "\n",
    "\n",
    "new_diamonds = diamonds.copy()\n",
    "\n",
    "for i in new_diamonds.columns:\n",
    "    if new_diamonds[i].iloc[0] in diamond_dct:\n",
    "        helper(new_diamonds, i)\n",
    "    else:\n",
    "        new_diamonds.drop(i, axis=1)\n",
    "\n",
    "new_diamonds\n"
   ]
  },
  {
   "cell_type": "code",
   "execution_count": null,
   "id": "adcb8dac",
   "metadata": {},
   "outputs": [],
   "source": []
  },
  {
   "cell_type": "code",
   "execution_count": 26,
   "id": "2c143262",
   "metadata": {},
   "outputs": [],
   "source": [
    "# don't change this cell, but do run it -- it is needed for the tests to work\n",
    "diamonds = pd.read_csv(Path('data')/'diamonds.csv')\n",
    "out_q2 = create_ordinal(diamonds)"
   ]
  },
  {
   "cell_type": "code",
   "execution_count": null,
   "id": "8ca4157c",
   "metadata": {
    "deletable": false,
    "editable": false
   },
   "outputs": [],
   "source": [
    "grader.check(\"q2\")"
   ]
  },
  {
   "cell_type": "markdown",
   "id": "5a02a376",
   "metadata": {},
   "source": [
    "### Question 3 – Nominal Encoding 📊\n",
    "\n",
    "Even though the categorical variables in the dataset are ordinal, we can still treat them as nominal by forgetting their order. To treat the categorical variables in our dataset as nominal, we might **one-hot encode** them. \n",
    "\n",
    "#### `create_one_hot`\n",
    "\n",
    "Complete the implementation of the function `create_one_hot`, which takes in the `diamonds` DataFrame and returns a DataFrame of one-hot encoded features with names of the form `'one_hot_<col>_<val>'`, where `'<col>'` is the original categorical column name, and `'<val>'` is the value found in the categorical column `'<col>'`. For instance, one of your column names will be `'one_hot_color_J'`.\n",
    "\n",
    "***Notes***:\n",
    "- Only include one-hot-encoded columns in the DataFrame that `create_one_hot` returns.\n",
    "- Create a helper function that creates the one-hot encoding for a single column. **Do not** use `sklearn` or `pd.get_dummies` for this question!\n",
    "- As per usual, write an efficient implementation. You may use a `for`-loop over **columns**, but not over rows. And the order of **columns** does not matter.\n",
    "- In lecture, we will look at cases where we need to drop one one-hot encoded column per categorical variable. **Do not drop** any one-hot encoded columns here!\n",
    "\n",
    "<br>\n",
    "\n",
    "#### `create_proportions`\n",
    "\n",
    "Similar to the one-hot encoding case, you can replace a value in a nominal column with the proportion of times that value appears in the column. For instance, if a column consists of the values `['a', 'b', 'a', 'c']`, then the proportion-encoded column is `[0.5, 0.25, 0.5, 0.25]`.  This might be a reasonable approach to predicting the price of a diamond, as you might expect *rarer attributes to be considered more valuable* than common ones.\n",
    "\n",
    "Complete the implementation of the function `create_proportions`, which takes in the `diamonds` DataFrame and returns a DataFrame of proportion-encoded features with names of the form `'proportion_<col>'`, where `'<col>'` is the original categorical column name."
   ]
  },
  {
   "cell_type": "code",
   "execution_count": null,
   "id": "e022b888",
   "metadata": {},
   "outputs": [],
   "source": []
  },
  {
   "cell_type": "code",
   "execution_count": null,
   "id": "0a01d9e5",
   "metadata": {},
   "outputs": [],
   "source": []
  },
  {
   "cell_type": "code",
   "execution_count": 29,
   "id": "14c62ea3",
   "metadata": {},
   "outputs": [],
   "source": [
    "# don't change this cell, but do run it -- it is needed for the tests to work\n",
    "diamonds = pd.read_csv(Path('data')/'diamonds.csv')\n",
    "out1_q3 = create_one_hot(diamonds)\n",
    "out2_q3 = create_proportions(diamonds)"
   ]
  },
  {
   "cell_type": "code",
   "execution_count": null,
   "id": "76bb99c2",
   "metadata": {
    "deletable": false,
    "editable": false
   },
   "outputs": [],
   "source": [
    "grader.check(\"q3\")"
   ]
  },
  {
   "cell_type": "markdown",
   "id": "892e63f1",
   "metadata": {},
   "source": [
    "### Question 4 – Quadratic Features 📈\n",
    "\n",
    "Linear regression doesn't capture non-linear relationships between variables. However, you can create features that encode such dependencies **before** fitting your regression model. Creating polynomial features is one way to do this. For example, the diamonds dataset contains `'x'`, `'y'`, and `'z'` dimensions for each stone. However, different combinations of size may be more valuable than others: a \"deep and wide\" diamond might be considered more valuable than a shallow, but \"long and wide\" diamond.\n",
    "\n",
    "Complete the implementation of the function `create_quadratics`, which takes in the `diamonds` DataFrame and returns a DataFrame of quadratic features of the form `'<col1> * <col2>'`, where `'<col1>'` and `'<col2>'` are the original quantitative columns. The output DataFrame should contain a column for every distinct pair of quantitative columns in `diamonds` (aside from `price`, which should be left out as it is what we are predicting). For instance, one of the columns in the returned DataFrame should named either `'carat * x'` or `'x * carat'`; the order of column names is not important.\n",
    "\n",
    "***Notes***:\n",
    "- Again, **do not** use `sklearn` for this question! \n",
    "- Try finding all pairs of quantitative columns efficiently; don't use a nested loop (hint: you may `import itertools`). Our solution contains just a single `for`-loop (over pairs of columns).\n",
    "- If you import itertools, you must include the itertools import in both this notebook and in `lab.py`.\n",
    "- The columns of the resulting DataFrame may be in any order."
   ]
  },
  {
   "cell_type": "code",
   "execution_count": null,
   "id": "077ac401",
   "metadata": {},
   "outputs": [],
   "source": []
  },
  {
   "cell_type": "code",
   "execution_count": null,
   "id": "08c5c49b",
   "metadata": {},
   "outputs": [],
   "source": []
  },
  {
   "cell_type": "code",
   "execution_count": 42,
   "id": "d6deb5ce",
   "metadata": {},
   "outputs": [],
   "source": [
    "# don't change this cell, but do run it -- it is needed for the tests to work\n",
    "diamonds = pd.read_csv(Path('data')/'diamonds.csv')\n",
    "out_q4 = create_quadratics(diamonds)"
   ]
  },
  {
   "cell_type": "code",
   "execution_count": null,
   "id": "7fd0651b",
   "metadata": {
    "deletable": false,
    "editable": false
   },
   "outputs": [],
   "source": [
    "grader.check(\"q4\")"
   ]
  },
  {
   "cell_type": "markdown",
   "id": "654fdb76",
   "metadata": {},
   "source": [
    "### Question 5 – Comparing Performance 🏆\n",
    "\n",
    "We've now created several sets of features. **Which features are best able to predict the price of a diamond in a linear regression model?** We'll look at both single-feature linear regression models and multiple regression models. In all cases, use the default arguments to `sklearn`'s `LinearRegression` object (i.e. assume there is an intercept term).\n",
    "\n",
    "<br>\n",
    "\n",
    "Two of the evaluation metrics we can use to compare regression models are RMSE and $R^2$.\n",
    "\n",
    "RMSE, or Root Mean Squared Error, roughly measures the average distance between a model's predicted values and the actual values. The RMSE indicates how concentrated predictions are around the line of best fit, with lower values typically indicating smaller residuals and better model performance. RMSE can be calculated using the formula below, where $\\text{n}$ is the number of data points, $\\hat{y_i}$ is the $i$th prediction, and $y_i$ is the corresponding actual value.\n",
    "\n",
    "$$\\text{RMSE} = \\sqrt{\\frac{\\sum_{i=1}^n (y_i - \\hat{y_i})^2}{n}}$$\n",
    "\n",
    "Remember that in least squares regression, we choose the model parameters that minimize RMSE.\n",
    "\n",
    "<br>\n",
    "\n",
    "$R^2$, also known as the coefficient of determination, denotes the proportion of variance in the dependent variable that the independent variable explains. It is used to assess the quality of a linear fit, and in the simple linear regression case, it is the square of the correlation coefficient $r$. $R^2$ values range between 0 and 1, with lower values indicating a worse linear fit and with higher values indicating a better linear fit. If `model` is a fitted `sklearn` regression object, $R^2$ can be computed by calling `model.score`. \n",
    "\n",
    "#### Single-Feature Models\n",
    "\n",
    "- (1) Fit a single-feature linear regression model on `'carat'`. What is the $R^2$ of the model? (Note that `'carat'` turns out to be the best single feature to use in a linear model that predicts price.)\n",
    "- (2) What is the RMSE of the model you created in (1)?\n",
    "- (3) Amongst the other **quantitative** features present in the original `diamonds`, which produces the single-feature linear regression model with the highest $R^2$?\n",
    "- (4) Amongst all the new features you created in Questions 2-4, which produces the single-feature linear regression model with the highest $R^2$?\n",
    "- (5) Amongst the new categorical features you created in Question 2 and 3, which produces the single-feature linear regression model with the highest $R^2$? \n",
    "\n",
    "#### Multiple Regression\n",
    "\n",
    "Now, fit a multiple regression model using:\n",
    "- the quantitative columns that were present in the original `diamonds` dataset, and\n",
    "- the quantitative features engineered in Question 4\n",
    "\n",
    "as features. (Don't use any of the encodings of categorical columns from Questions 2 and 3.)\n",
    "\n",
    "- (6) What is the RMSE of this new model?\n",
    "\n",
    "\n",
    "<br>\n",
    "\n",
    "Complete the implementation of the function `comparing_performance`, which returns a list containing the answers to the 6 questions numbered (1), (2), ..., (6) above. You don't need to round any of your answers.\n",
    "\n",
    "***Hint:*** Repeatedly use the `sklearn` pattern included below. It's a good idea to make a helper function that takes in a column, performs single-feature regression using the input column as the feature, and returns the $R^2$ and RMSE of the model.\n",
    "\n",
    "***Note:*** The code you submit should be a hard-coded list."
   ]
  },
  {
   "cell_type": "code",
   "execution_count": 53,
   "id": "e632c917",
   "metadata": {},
   "outputs": [],
   "source": [
    "from sklearn.linear_model import LinearRegression\n",
    "\n",
    "# X = ...\n",
    "# y = ...\n",
    "\n",
    "# lr = LinearRegression()\n",
    "# lr.fit(X, y)  # X is a DataFrame of training data; y is a Series of prices\n",
    "# lr.score(X, y)  # R-squared\n",
    "# lr.predict(X) # predicted prices"
   ]
  },
  {
   "cell_type": "code",
   "execution_count": null,
   "id": "2ecce9e0",
   "metadata": {},
   "outputs": [],
   "source": []
  },
  {
   "cell_type": "code",
   "execution_count": null,
   "id": "bbb22aa1",
   "metadata": {},
   "outputs": [],
   "source": []
  },
  {
   "cell_type": "code",
   "execution_count": 54,
   "id": "0a31ea3f",
   "metadata": {},
   "outputs": [],
   "source": [
    "# don't change this cell, but do run it -- it is needed for the tests to work\n",
    "import numbers\n",
    "out_q5 = comparing_performance()"
   ]
  },
  {
   "cell_type": "code",
   "execution_count": null,
   "id": "e9bff9f7",
   "metadata": {
    "deletable": false,
    "editable": false
   },
   "outputs": [],
   "source": [
    "grader.check(\"q5\")"
   ]
  },
  {
   "cell_type": "markdown",
   "id": "e9c7c68e",
   "metadata": {},
   "source": [
    "## Part 3 – Feature Engineering with `sklearn` 🧠\n",
    "\n",
    "In this final question, you will use `sklearn`'s transformers and estimators for feature engineering. While everything you do with `sklearn` is possible to do with `pandas`, `sklearn` transformers enable you to couple your feature engineering with your modeling. This will allow you to more quickly build and assess your models in `sklearn`.\n",
    "\n",
    "Specifically, you will create a `TransformDiamonds` class that contains the three methods specified below – `transform_carat` (6.1), `transform_to_quantile` (6.2), and `transform_to_depth_pct` (6.3). In the starter code, there is a skeleton for `TransformDiamonds` that is initialized with a DataFrame `diamonds`.\n",
    "\n",
    "Each of the methods you implement in the `TransformDiamonds` class should take in a DataFrame, initialize a specific `sklearn.Transformer` object (like `Binarizer` or `FunctionTransformer`), and use the transformer to transform columns from the input DataFrame. You should **not** use DataFrame methods like `apply` in this problem."
   ]
  },
  {
   "cell_type": "code",
   "execution_count": 67,
   "id": "15bbc276",
   "metadata": {},
   "outputs": [],
   "source": [
    "from sklearn.preprocessing import Binarizer, QuantileTransformer, FunctionTransformer"
   ]
  },
  {
   "cell_type": "markdown",
   "id": "a2e86dc1",
   "metadata": {},
   "source": [
    "Question 6 is made up of the three subparts below."
   ]
  },
  {
   "cell_type": "markdown",
   "id": "ee6f46d9",
   "metadata": {},
   "source": [
    "### Question 6.1 – Transforming a Quantitative Column into a Binary Column (`transform_carat`)\n",
    "\n",
    "We call a diamond **large** if its weight is strictly greater than 1 carat. We want to **binarize** weights, so that they are 1 for large diamonds and 0 for small diamonds. Complete the implementation fo the method `transform_carat`, which takes in a DataFrame like `diamonds` and returns a binarized **array** of weights. Use a `Binarizer` object as your transformer.\n",
    "\n",
    "***Notes***:\n",
    "- You will return an array, not a Series, because `sklearn` thinks in terms of `np.ndarray`s, not DataFrames.\n",
    "- The implementation of this function should only take two lines."
   ]
  },
  {
   "cell_type": "code",
   "execution_count": null,
   "id": "3841784e",
   "metadata": {},
   "outputs": [],
   "source": []
  },
  {
   "cell_type": "code",
   "execution_count": null,
   "id": "fa877ed1",
   "metadata": {},
   "outputs": [],
   "source": []
  },
  {
   "cell_type": "code",
   "execution_count": 69,
   "id": "4170bc95",
   "metadata": {},
   "outputs": [],
   "source": [
    "# don't change this cell, but do run it -- it is needed for the tests to work\n",
    "diamonds = pd.read_csv(Path('data')/'diamonds.csv')\n",
    "q6a_trans = TransformDiamonds(diamonds)\n",
    "q6a_out = q6a_trans.transform_carat(diamonds)"
   ]
  },
  {
   "cell_type": "code",
   "execution_count": null,
   "id": "706b48f0",
   "metadata": {
    "deletable": false,
    "editable": false
   },
   "outputs": [],
   "source": [
    "grader.check(\"q6.1\")"
   ]
  },
  {
   "cell_type": "markdown",
   "id": "95a5ee76",
   "metadata": {},
   "source": [
    "### Question 6.2 – Transforming a Quantitative Column into Quantiles (`transform_to_quantile`)\n",
    "\n",
    "You will now transform the `'carat'` column so that each diamond's weight in carats is replaced with the **percentile** amongst all diamonds in which its weight lies.\n",
    "\n",
    "Complete the implementation of the method `transform_to_quantiles`, which takes in a DataFrame like `diamonds` and returns an array containing the percentiles of the weight of each diamond, amongst all diamonds in `self.data`. This array should consist of proportions between 0 and 1; for instance, 0.65 will refer to the 65th percentile. The relevant transformer is `QuantileTransformer`. \n",
    "\n",
    "Some guidance:\n",
    "\n",
    "- Unlike with `Binarizer`, you need to `fit` your `QuantileTransformer` before calling `transform` on the input DataFrame `data`. \n",
    "    - You should `fit` your transformer on the DataFrame `self.data`, but you should only `transform` the `data` that is passed to `transform_to_quantiles`. \n",
    "    - Note that these two DataFrames, `self.data` and `data`, don't have to be the same! For instance, in the last two lines of the testing setup cell below, we fit a `QuantileTransformer` using just the first 1000 rows of `diamonds`, and then `transform` the entire `diamonds` DataFrame. Make sure your `transform_to_quantiles` method works in such a case.\n",
    "- When initializing your `QuantileTransformer`, use `n_quantiles=100`."
   ]
  },
  {
   "cell_type": "code",
   "execution_count": null,
   "id": "25c92252",
   "metadata": {},
   "outputs": [],
   "source": []
  },
  {
   "cell_type": "code",
   "execution_count": null,
   "id": "b5ba6727",
   "metadata": {},
   "outputs": [],
   "source": []
  },
  {
   "cell_type": "code",
   "execution_count": 78,
   "id": "c840bc3a",
   "metadata": {},
   "outputs": [],
   "source": [
    "# don't change this cell, but do run it -- it is needed for the tests to work\n",
    "q6b_trans = TransformDiamonds(diamonds)\n",
    "q6b_out = q6b_trans.transform_to_quantile(diamonds)\n",
    "q6b_trans_top_1000 = TransformDiamonds(diamonds[:1000])\n",
    "q6b_out_top_1000 = q6b_trans_top_1000.transform_to_quantile(diamonds)"
   ]
  },
  {
   "cell_type": "code",
   "execution_count": null,
   "id": "25f5b9ee",
   "metadata": {
    "deletable": false,
    "editable": false
   },
   "outputs": [],
   "source": [
    "grader.check(\"q6.2\")"
   ]
  },
  {
   "cell_type": "markdown",
   "id": "8344ca69",
   "metadata": {},
   "source": [
    "### Question 6.3 – Transforming a Quantitative Column Using a Formula\n",
    "\n",
    "Recall from the introduction to Part 2 that the \"depth percentage\" of a diamond is defined as\n",
    "\n",
    "$$\\text{Depth Pct.} = 100\\% \\cdot \\frac{2z}{x + y}$$\n",
    "\n",
    "where $x$, $y$, and $z$ come from the `'x'`, `'y'`, and `'z'` columns in `diamonds`.\n",
    "\n",
    "Let's suppose that for some reason we don't have access to the `'depth'` column in `diamonds`, and instead need to recreate it just by looking at the `'x'`, `'y'`, and `'z'` columns. \n",
    "\n",
    "Complete the implementation of the method `transform_to_depth_pct`, which takes in a DataFrame like `diamonds` and returns an array consisting of the depth percentages of each diamond. Percentages should be between 0 and 100. The relevant transformer is `FunctionTransformer`.\n",
    "\n",
    "***Notes***:\n",
    "- To use `FunctionTransformer`, you will need to define your own function that takes in a 2D array and returns a single array.\n",
    "- Ignore `ZeroDivisionError` errors, and leave `np.NaN`s as is.\n",
    "- To verify your work, compare your outputted array to the actual `'depth'` column in `diamonds`.\n",
    "- It may seem like `FunctionTransformer` is totally unnecessary, since we can compute depth percentages using broadcasting directly. However, as we will see in lecture, transformers can be **pipelined** with other processing steps which greatly simplifies our code."
   ]
  },
  {
   "cell_type": "code",
   "execution_count": null,
   "id": "03e764d5",
   "metadata": {},
   "outputs": [],
   "source": []
  },
  {
   "cell_type": "code",
   "execution_count": null,
   "id": "0da7bc14",
   "metadata": {},
   "outputs": [],
   "source": []
  },
  {
   "cell_type": "code",
   "execution_count": 88,
   "id": "cea11f50",
   "metadata": {},
   "outputs": [],
   "source": [
    "# don't change this cell, but do run it -- it is needed for the tests to work\n",
    "diamonds = pd.read_csv(Path('data')/'diamonds.csv')\n",
    "q6c_trans = TransformDiamonds(diamonds)\n",
    "q6c_out = q6c_trans.transform_to_depth_pct(diamonds)"
   ]
  },
  {
   "cell_type": "code",
   "execution_count": null,
   "id": "94e5848d",
   "metadata": {
    "deletable": false,
    "editable": false
   },
   "outputs": [],
   "source": [
    "grader.check(\"q6.3\")"
   ]
  },
  {
   "cell_type": "markdown",
   "id": "e744588b",
   "metadata": {},
   "source": [
    "## Congratulations! You're done Lab 8! 🏁\n",
    "\n",
    "As a reminder, all of the work you want to submit needs to be in `lab.py`.\n",
    "\n",
    "To ensure that all of the work you want to submit is in `lab.py`, we've included a script named `lab-validation.py` in the lab folder. You shouldn't edit it, but instead, you should call it from the command line (e.g. the Terminal) to test your work.\n",
    "\n",
    "Once you've finished the lab, you should open the command line and run, in the directory for this lab:\n",
    "\n",
    "```\n",
    "python lab-validation.py\n",
    "```\n",
    "\n",
    "**This will run all of the `grader.check` cells that you see in this notebook, but only using the code in `lab.py` – that is, it doesn't look at any of the code in this notebook. If all of your `grader.check` cells pass in this notebook but not all of them pass in your command line with the above command, then you likely have code in your notebook that isn't in your `lab.py`!**\n",
    "\n",
    "You can also use `lab-validation.py` to test individual questions. For instance,\n",
    "\n",
    "```\n",
    "python lab-validation.py q1 q2 q4\n",
    "```\n",
    "\n",
    "will run the `grader.check` cells for Questions 1, 2, and 4 – again, only using the code in `lab.py`. [This video](https://www.loom.com/share/0ea254b85b2745e59322b5e5a8692e91?sid=5acc92e6-0dfe-4555-9b6a-8115b6a52f99) how to use the script as well.\n",
    "\n",
    "Once `python lab-validation.py` shows that you're passing all test cases, you're ready to submit your `lab.py` (and only your `lab.py`) to Gradescope. Once submitting to Gradescope, make sure to stick around until all test cases pass.\n",
    "\n",
    "There is also a call to `grader.check_all()` below in _this_ notebook, but make sure to also follow the steps above."
   ]
  },
  {
   "cell_type": "markdown",
   "id": "51a869fc",
   "metadata": {
    "deletable": false,
    "editable": false
   },
   "source": [
    "---\n",
    "\n",
    "To double-check your work, the cell below will rerun all of the autograder tests."
   ]
  },
  {
   "cell_type": "code",
   "execution_count": null,
   "id": "a4083c3d",
   "metadata": {
    "deletable": false,
    "editable": false
   },
   "outputs": [],
   "source": [
    "grader.check_all()"
   ]
  }
 ],
 "metadata": {
  "kernelspec": {
   "display_name": "dsc80",
   "language": "python",
   "name": "python3"
  },
  "language_info": {
   "codemirror_mode": {
    "name": "ipython",
    "version": 3
   },
   "file_extension": ".py",
   "mimetype": "text/x-python",
   "name": "python",
   "nbconvert_exporter": "python",
   "pygments_lexer": "ipython3",
   "version": "3.12.10"
  },
  "otter": {
   "tests": {
    "q1": {
     "name": "q1",
     "points": null,
     "suites": [
      {
       "cases": [
        {
         "code": ">>> best_transformation() in [1, 2, 3, 4]\nTrue",
         "hidden": false,
         "locked": false,
         "points": 1
        }
       ],
       "scored": true,
       "setup": "",
       "teardown": "",
       "type": "doctest"
      }
     ]
    },
    "q2": {
     "name": "q2",
     "points": null,
     "suites": [
      {
       "cases": [
        {
         "code": ">>> set(out_q2.columns) == {'ordinal_cut', 'ordinal_clarity', 'ordinal_color'}\nTrue",
         "hidden": false,
         "locked": false,
         "points": 0.5
        },
        {
         "code": ">>> np.unique(out_q2['ordinal_cut']).tolist() == [0, 1, 2, 3, 4]\nTrue",
         "hidden": false,
         "locked": false,
         "points": 0.5
        }
       ],
       "scored": true,
       "setup": "",
       "teardown": "",
       "type": "doctest"
      }
     ]
    },
    "q3": {
     "name": "q3",
     "points": null,
     "suites": [
      {
       "cases": [
        {
         "code": ">>> out1_q3.shape == (53940, 20)\nTrue",
         "hidden": false,
         "locked": false,
         "points": 1
        },
        {
         "code": ">>> bool(out1_q3.columns.str.startswith('one_hot').all())\nTrue",
         "hidden": false,
         "locked": false,
         "points": 1
        },
        {
         "code": ">>> bool(out1_q3.isin([0,1]).all().all())\nTrue",
         "hidden": false,
         "locked": false,
         "points": 1
        },
        {
         "code": ">>> out2_q3.shape[1] == 3\nTrue",
         "hidden": false,
         "locked": false,
         "points": 1
        },
        {
         "code": ">>> bool(out2_q3.columns.str.startswith('proportion_').all())\nTrue",
         "hidden": false,
         "locked": false,
         "points": 1
        },
        {
         "code": ">>> bool(((out2_q3 >= 0) & (out2_q3 <= 1)).all().all())\nTrue",
         "hidden": false,
         "locked": false,
         "points": 1
        }
       ],
       "scored": true,
       "setup": "",
       "teardown": "",
       "type": "doctest"
      }
     ]
    },
    "q4": {
     "name": "q4",
     "points": null,
     "suites": [
      {
       "cases": [
        {
         "code": ">>> bool(out_q4.columns.str.contains(' * ').all())\nTrue",
         "hidden": false,
         "locked": false,
         "points": 1
        },
        {
         "code": ">>> ('x * z' in out_q4.columns) or ('z * x' in out_q4.columns)\nTrue",
         "hidden": false,
         "locked": false,
         "points": 1
        },
        {
         "code": ">>> out_q4.shape[1] == 15\nTrue",
         "hidden": false,
         "locked": false,
         "points": 1
        }
       ],
       "scored": true,
       "setup": "",
       "teardown": "",
       "type": "doctest"
      }
     ]
    },
    "q5": {
     "name": "q5",
     "points": null,
     "suites": [
      {
       "cases": [
        {
         "code": ">>> len(out_q5) == 6\nTrue",
         "hidden": false,
         "locked": false,
         "points": 1
        },
        {
         "code": ">>> isinstance(out_q5[0], numbers.Real)\nTrue",
         "hidden": false,
         "locked": false,
         "points": 1
        },
        {
         "code": ">>> all(isinstance(x, str) for x in out_q5[2:-1])\nTrue",
         "hidden": false,
         "locked": false,
         "points": 1
        },
        {
         "code": ">>> out_q5[1] > out_q5[-1]\nTrue",
         "hidden": false,
         "locked": false,
         "points": 1
        }
       ],
       "scored": true,
       "setup": "",
       "teardown": "",
       "type": "doctest"
      }
     ]
    },
    "q6.1": {
     "name": "q6.1",
     "points": null,
     "suites": [
      {
       "cases": [
        {
         "code": ">>> isinstance(q6a_out, np.ndarray)\nTrue",
         "hidden": false,
         "locked": false,
         "points": 0.5
        },
        {
         "code": ">>> bool(q6a_out[172, 0] == 1)\nTrue",
         "hidden": false,
         "locked": false,
         "points": 0.5
        },
        {
         "code": ">>> bool(q6a_out[0, 0] == 0)\nTrue",
         "hidden": false,
         "locked": false,
         "points": 0.5
        }
       ],
       "scored": true,
       "setup": "",
       "teardown": "",
       "type": "doctest"
      }
     ]
    },
    "q6.2": {
     "name": "q6.2",
     "points": null,
     "suites": [
      {
       "cases": [
        {
         "code": ">>> isinstance(q6b_out, np.ndarray)\nTrue",
         "hidden": false,
         "locked": false,
         "points": 0.5
        },
        {
         "code": ">>> bool(np.isclose(q6b_out[0, 0], 0.0075757, atol=0.0001))\nTrue",
         "hidden": false,
         "locked": false,
         "points": 0.5
        },
        {
         "code": ">>> bool(np.isclose(q6b_out[1, 0], 0.0025252, atol=0.0001))\nTrue",
         "hidden": false,
         "locked": false,
         "points": 0.5
        }
       ],
       "scored": true,
       "setup": "",
       "teardown": "",
       "type": "doctest"
      }
     ]
    },
    "q6.3": {
     "name": "q6.3",
     "points": null,
     "suites": [
      {
       "cases": [
        {
         "code": ">>> len(q6c_out.shape) == 1\nTrue",
         "hidden": false,
         "locked": false,
         "points": 0.5
        },
        {
         "code": ">>> bool(np.isclose(q6c_out[0], 61.286, atol=0.0001))\nTrue",
         "hidden": false,
         "locked": false,
         "points": 0.5
        }
       ],
       "scored": true,
       "setup": "",
       "teardown": "",
       "type": "doctest"
      }
     ]
    }
   }
  }
 },
 "nbformat": 4,
 "nbformat_minor": 5
}
