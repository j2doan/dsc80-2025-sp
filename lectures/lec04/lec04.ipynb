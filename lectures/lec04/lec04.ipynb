{
 "cells": [
  {
   "cell_type": "code",
   "execution_count": 1,
   "id": "8c8a44b8",
   "metadata": {
    "editable": true,
    "slideshow": {
     "slide_type": ""
    },
    "tags": []
   },
   "outputs": [],
   "source": [
    "from dsc80_utils import *\n",
    "\n",
    "def show_paradox_slides():\n",
    "    src = 'https://docs.google.com/presentation/d/e/2PACX-1vSbFSaxaYZ0NcgrgqZLvjhkjX-5MQzAITWAsEFZHnix3j1c0qN8Vd1rogTAQP7F7Nf5r-JWExnGey7h/embed?start=false&rm=minimal'\n",
    "    width = 960\n",
    "    height = 569\n",
    "    display(IFrame(src, width, height))"
   ]
  },
  {
   "cell_type": "code",
   "execution_count": 2,
   "id": "1e7be011",
   "metadata": {
    "editable": true,
    "slideshow": {
     "slide_type": "skip"
    },
    "tags": []
   },
   "outputs": [
    {
     "name": "stdout",
     "output_type": "stream",
     "text": [
      "Requirement already satisfied: pandas-tutor in c:\\miniforge3\\envs\\dsc80\\lib\\site-packages (2.0.4)\n",
      "Requirement already satisfied: pandas>=1.3 in c:\\miniforge3\\envs\\dsc80\\lib\\site-packages (from pandas-tutor) (2.2.3)\n",
      "Requirement already satisfied: mypy-extensions==0.4.3 in c:\\miniforge3\\envs\\dsc80\\lib\\site-packages (from pandas-tutor) (0.4.3)\n",
      "Requirement already satisfied: typing-extensions<5.0,>=4.1 in c:\\miniforge3\\envs\\dsc80\\lib\\site-packages (from pandas-tutor) (4.13.2)\n",
      "Requirement already satisfied: numpy>=1.26.0 in c:\\miniforge3\\envs\\dsc80\\lib\\site-packages (from pandas>=1.3->pandas-tutor) (2.1.1)\n",
      "Requirement already satisfied: python-dateutil>=2.8.2 in c:\\miniforge3\\envs\\dsc80\\lib\\site-packages (from pandas>=1.3->pandas-tutor) (2.9.0.post0)\n",
      "Requirement already satisfied: pytz>=2020.1 in c:\\miniforge3\\envs\\dsc80\\lib\\site-packages (from pandas>=1.3->pandas-tutor) (2024.1)\n",
      "Requirement already satisfied: tzdata>=2022.7 in c:\\miniforge3\\envs\\dsc80\\lib\\site-packages (from pandas>=1.3->pandas-tutor) (2025.2)\n",
      "Requirement already satisfied: six>=1.5 in c:\\miniforge3\\envs\\dsc80\\lib\\site-packages (from python-dateutil>=2.8.2->pandas>=1.3->pandas-tutor) (1.17.0)\n"
     ]
    },
    {
     "data": {
      "text/html": [
       "\n",
       "<script type=\"text/javascript\" src=\"https://pandastutor.com/build/wsembed.bundle.2022-07-07-release.js\"></script>\n",
       "<script>\n",
       "console.log(\"initializing pandas_tutor js\")\n",
       "\n",
       "function drawWsv(viz_id, spec, options) {\n",
       "  if (typeof createWsvFromPandasTrace === 'undefined') {\n",
       "    setTimeout(() => drawWsv(viz_id, spec, options), 2000) // retry in 2 seconds\n",
       "    return\n",
       "  }\n",
       "  createWsvFromPandasTrace(viz_id, spec, options)\n",
       "}\n",
       "</script>\n"
      ],
      "text/plain": [
       "<IPython.core.display.HTML object>"
      ]
     },
     "metadata": {},
     "output_type": "display_data"
    }
   ],
   "source": [
    "# Pandas Tutor setup\n",
    "!pip install pandas-tutor\n",
    "%reload_ext pandas_tutor\n",
    "%set_pandas_tutor_options {\"maxDisplayCols\": 8, \"nohover\": True, \"projectorMode\": True}\n",
    "import warnings\n",
    "warnings.simplefilter(action='ignore', category=FutureWarning)"
   ]
  },
  {
   "cell_type": "markdown",
   "id": "ce9e66d9",
   "metadata": {
    "editable": true,
    "slideshow": {
     "slide_type": "slide"
    },
    "tags": []
   },
   "source": [
    "# Lecture 4 – Simpson's Paradox, Joining, and Transforming\n",
    "\n",
    "## DSC 80, Spring 2025"
   ]
  },
  {
   "cell_type": "markdown",
   "id": "22824200",
   "metadata": {
    "editable": true,
    "slideshow": {
     "slide_type": "slide"
    },
    "tags": []
   },
   "source": [
    "### Announcements 📣\n",
    "\n",
    "- Project 1 checkpoint due **tomorrow**. No extensions allowed!\n",
    "- Lab 2 was released yesterday.\n",
    "- Project 1 is due on **Friday, April 11th**.\n"
   ]
  },
  {
   "cell_type": "markdown",
   "id": "e62a97ea",
   "metadata": {
    "editable": true,
    "slideshow": {
     "slide_type": "slide"
    },
    "tags": []
   },
   "source": [
    "### Agenda\n",
    "\n",
    "- Pivot tables.\n",
    "- Distributions.\n",
    "- Simpson's paradox.\n",
    "- Merging.\n",
    "    - Many-to-one & many-to-many joins.\n",
    "- Transforming.\n",
    "    - The price of `apply`."
   ]
  },
  {
   "cell_type": "markdown",
   "id": "689a46a8",
   "metadata": {},
   "source": [
    "### Grouping with multiple columns\n",
    "\n",
    "When we group with multiple columns, one group is created for **every unique combination** of elements in the specified columns."
   ]
  },
  {
   "cell_type": "code",
   "execution_count": 3,
   "id": "bcf4626b",
   "metadata": {},
   "outputs": [
    {
     "data": {
      "text/html": [
       "<div>\n",
       "<style scoped>\n",
       "    .dataframe tbody tr th:only-of-type {\n",
       "        vertical-align: middle;\n",
       "    }\n",
       "\n",
       "    .dataframe tbody tr th {\n",
       "        vertical-align: top;\n",
       "    }\n",
       "\n",
       "    .dataframe thead th {\n",
       "        text-align: right;\n",
       "    }\n",
       "</style>\n",
       "<table border=\"1\" class=\"dataframe\">\n",
       "  <thead>\n",
       "    <tr style=\"text-align: right;\">\n",
       "      <th></th>\n",
       "      <th>species</th>\n",
       "      <th>island</th>\n",
       "      <th>bill_length_mm</th>\n",
       "      <th>bill_depth_mm</th>\n",
       "      <th>flipper_length_mm</th>\n",
       "      <th>body_mass_g</th>\n",
       "      <th>sex</th>\n",
       "    </tr>\n",
       "  </thead>\n",
       "  <tbody>\n",
       "    <tr>\n",
       "      <th>0</th>\n",
       "      <td>Adelie</td>\n",
       "      <td>Torgersen</td>\n",
       "      <td>39.1</td>\n",
       "      <td>18.7</td>\n",
       "      <td>181.0</td>\n",
       "      <td>3750.0</td>\n",
       "      <td>Male</td>\n",
       "    </tr>\n",
       "    <tr>\n",
       "      <th>1</th>\n",
       "      <td>Adelie</td>\n",
       "      <td>Torgersen</td>\n",
       "      <td>39.5</td>\n",
       "      <td>17.4</td>\n",
       "      <td>186.0</td>\n",
       "      <td>3800.0</td>\n",
       "      <td>Female</td>\n",
       "    </tr>\n",
       "    <tr>\n",
       "      <th>2</th>\n",
       "      <td>Adelie</td>\n",
       "      <td>Torgersen</td>\n",
       "      <td>40.3</td>\n",
       "      <td>18.0</td>\n",
       "      <td>195.0</td>\n",
       "      <td>3250.0</td>\n",
       "      <td>Female</td>\n",
       "    </tr>\n",
       "    <tr>\n",
       "      <th>...</th>\n",
       "      <td>...</td>\n",
       "      <td>...</td>\n",
       "      <td>...</td>\n",
       "      <td>...</td>\n",
       "      <td>...</td>\n",
       "      <td>...</td>\n",
       "      <td>...</td>\n",
       "    </tr>\n",
       "    <tr>\n",
       "      <th>341</th>\n",
       "      <td>Gentoo</td>\n",
       "      <td>Biscoe</td>\n",
       "      <td>50.4</td>\n",
       "      <td>15.7</td>\n",
       "      <td>222.0</td>\n",
       "      <td>5750.0</td>\n",
       "      <td>Male</td>\n",
       "    </tr>\n",
       "    <tr>\n",
       "      <th>342</th>\n",
       "      <td>Gentoo</td>\n",
       "      <td>Biscoe</td>\n",
       "      <td>45.2</td>\n",
       "      <td>14.8</td>\n",
       "      <td>212.0</td>\n",
       "      <td>5200.0</td>\n",
       "      <td>Female</td>\n",
       "    </tr>\n",
       "    <tr>\n",
       "      <th>343</th>\n",
       "      <td>Gentoo</td>\n",
       "      <td>Biscoe</td>\n",
       "      <td>49.9</td>\n",
       "      <td>16.1</td>\n",
       "      <td>213.0</td>\n",
       "      <td>5400.0</td>\n",
       "      <td>Male</td>\n",
       "    </tr>\n",
       "  </tbody>\n",
       "</table>\n",
       "<p>333 rows × 7 columns</p>\n",
       "</div>"
      ],
      "text/plain": [
       "    species     island  bill_length_mm  bill_depth_mm  flipper_length_mm  \\\n",
       "0    Adelie  Torgersen            39.1           18.7              181.0   \n",
       "1    Adelie  Torgersen            39.5           17.4              186.0   \n",
       "2    Adelie  Torgersen            40.3           18.0              195.0   \n",
       "..      ...        ...             ...            ...                ...   \n",
       "341  Gentoo     Biscoe            50.4           15.7              222.0   \n",
       "342  Gentoo     Biscoe            45.2           14.8              212.0   \n",
       "343  Gentoo     Biscoe            49.9           16.1              213.0   \n",
       "\n",
       "     body_mass_g     sex  \n",
       "0         3750.0    Male  \n",
       "1         3800.0  Female  \n",
       "2         3250.0  Female  \n",
       "..           ...     ...  \n",
       "341       5750.0    Male  \n",
       "342       5200.0  Female  \n",
       "343       5400.0    Male  \n",
       "\n",
       "[333 rows x 7 columns]"
      ]
     },
     "execution_count": 3,
     "metadata": {},
     "output_type": "execute_result"
    }
   ],
   "source": [
    "import seaborn as sns\n",
    "penguins = sns.load_dataset('penguins').dropna()\n",
    "penguins"
   ]
  },
  {
   "cell_type": "code",
   "execution_count": 4,
   "id": "9d24ff91",
   "metadata": {},
   "outputs": [
    {
     "data": {
      "text/html": [
       "<div>\n",
       "<style scoped>\n",
       "    .dataframe tbody tr th:only-of-type {\n",
       "        vertical-align: middle;\n",
       "    }\n",
       "\n",
       "    .dataframe tbody tr th {\n",
       "        vertical-align: top;\n",
       "    }\n",
       "\n",
       "    .dataframe thead th {\n",
       "        text-align: right;\n",
       "    }\n",
       "</style>\n",
       "<table border=\"1\" class=\"dataframe\">\n",
       "  <thead>\n",
       "    <tr style=\"text-align: right;\">\n",
       "      <th></th>\n",
       "      <th></th>\n",
       "      <th>bill_length_mm</th>\n",
       "      <th>body_mass_g</th>\n",
       "    </tr>\n",
       "    <tr>\n",
       "      <th>species</th>\n",
       "      <th>island</th>\n",
       "      <th></th>\n",
       "      <th></th>\n",
       "    </tr>\n",
       "  </thead>\n",
       "  <tbody>\n",
       "    <tr>\n",
       "      <th rowspan=\"3\" valign=\"top\">Adelie</th>\n",
       "      <th>Biscoe</th>\n",
       "      <td>38.98</td>\n",
       "      <td>3709.66</td>\n",
       "    </tr>\n",
       "    <tr>\n",
       "      <th>Dream</th>\n",
       "      <td>38.52</td>\n",
       "      <td>3701.36</td>\n",
       "    </tr>\n",
       "    <tr>\n",
       "      <th>Torgersen</th>\n",
       "      <td>39.04</td>\n",
       "      <td>3708.51</td>\n",
       "    </tr>\n",
       "    <tr>\n",
       "      <th>Chinstrap</th>\n",
       "      <th>Dream</th>\n",
       "      <td>48.83</td>\n",
       "      <td>3733.09</td>\n",
       "    </tr>\n",
       "    <tr>\n",
       "      <th>Gentoo</th>\n",
       "      <th>Biscoe</th>\n",
       "      <td>47.57</td>\n",
       "      <td>5092.44</td>\n",
       "    </tr>\n",
       "  </tbody>\n",
       "</table>\n",
       "</div>"
      ],
      "text/plain": [
       "                     bill_length_mm  body_mass_g\n",
       "species   island                                \n",
       "Adelie    Biscoe              38.98      3709.66\n",
       "          Dream               38.52      3701.36\n",
       "          Torgersen           39.04      3708.51\n",
       "Chinstrap Dream               48.83      3733.09\n",
       "Gentoo    Biscoe              47.57      5092.44"
      ]
     },
     "execution_count": 4,
     "metadata": {},
     "output_type": "execute_result"
    }
   ],
   "source": [
    "species_and_island = (\n",
    "    penguins\n",
    "    .groupby(['species', 'island'])\n",
    "    [['bill_length_mm', 'body_mass_g']]\n",
    "    .mean()\n",
    ")\n",
    "species_and_island"
   ]
  },
  {
   "cell_type": "markdown",
   "id": "9b9243ef",
   "metadata": {},
   "source": [
    "### Grouping and indexes\n",
    "\n",
    "- The `groupby` method creates an index based on the specified columns.\n",
    "- When grouping by multiple columns, the resulting DataFrame has a `MultiIndex`.\n",
    "- Advice: When working with a `MultiIndex`, use `reset_index` or set `as_index=False` in `groupby`."
   ]
  },
  {
   "cell_type": "code",
   "execution_count": 5,
   "id": "b8adc88d",
   "metadata": {},
   "outputs": [
    {
     "data": {
      "text/html": [
       "<div>\n",
       "<style scoped>\n",
       "    .dataframe tbody tr th:only-of-type {\n",
       "        vertical-align: middle;\n",
       "    }\n",
       "\n",
       "    .dataframe tbody tr th {\n",
       "        vertical-align: top;\n",
       "    }\n",
       "\n",
       "    .dataframe thead th {\n",
       "        text-align: right;\n",
       "    }\n",
       "</style>\n",
       "<table border=\"1\" class=\"dataframe\">\n",
       "  <thead>\n",
       "    <tr style=\"text-align: right;\">\n",
       "      <th></th>\n",
       "      <th></th>\n",
       "      <th>bill_length_mm</th>\n",
       "      <th>body_mass_g</th>\n",
       "    </tr>\n",
       "    <tr>\n",
       "      <th>species</th>\n",
       "      <th>island</th>\n",
       "      <th></th>\n",
       "      <th></th>\n",
       "    </tr>\n",
       "  </thead>\n",
       "  <tbody>\n",
       "    <tr>\n",
       "      <th rowspan=\"3\" valign=\"top\">Adelie</th>\n",
       "      <th>Biscoe</th>\n",
       "      <td>38.98</td>\n",
       "      <td>3709.66</td>\n",
       "    </tr>\n",
       "    <tr>\n",
       "      <th>Dream</th>\n",
       "      <td>38.52</td>\n",
       "      <td>3701.36</td>\n",
       "    </tr>\n",
       "    <tr>\n",
       "      <th>Torgersen</th>\n",
       "      <td>39.04</td>\n",
       "      <td>3708.51</td>\n",
       "    </tr>\n",
       "    <tr>\n",
       "      <th>Chinstrap</th>\n",
       "      <th>Dream</th>\n",
       "      <td>48.83</td>\n",
       "      <td>3733.09</td>\n",
       "    </tr>\n",
       "    <tr>\n",
       "      <th>Gentoo</th>\n",
       "      <th>Biscoe</th>\n",
       "      <td>47.57</td>\n",
       "      <td>5092.44</td>\n",
       "    </tr>\n",
       "  </tbody>\n",
       "</table>\n",
       "</div>"
      ],
      "text/plain": [
       "                     bill_length_mm  body_mass_g\n",
       "species   island                                \n",
       "Adelie    Biscoe              38.98      3709.66\n",
       "          Dream               38.52      3701.36\n",
       "          Torgersen           39.04      3708.51\n",
       "Chinstrap Dream               48.83      3733.09\n",
       "Gentoo    Biscoe              47.57      5092.44"
      ]
     },
     "execution_count": 5,
     "metadata": {},
     "output_type": "execute_result"
    }
   ],
   "source": [
    "species_and_island"
   ]
  },
  {
   "cell_type": "code",
   "execution_count": 6,
   "id": "c5ce9e7d",
   "metadata": {},
   "outputs": [
    {
     "data": {
      "text/plain": [
       "species    island   \n",
       "Adelie     Biscoe       3709.66\n",
       "           Dream        3701.36\n",
       "           Torgersen    3708.51\n",
       "Chinstrap  Dream        3733.09\n",
       "Gentoo     Biscoe       5092.44\n",
       "Name: body_mass_g, dtype: float64"
      ]
     },
     "execution_count": 6,
     "metadata": {},
     "output_type": "execute_result"
    }
   ],
   "source": [
    "species_and_island['body_mass_g']"
   ]
  },
  {
   "cell_type": "code",
   "execution_count": 7,
   "id": "1f2aaa00",
   "metadata": {},
   "outputs": [
    {
     "data": {
      "text/html": [
       "<div>\n",
       "<style scoped>\n",
       "    .dataframe tbody tr th:only-of-type {\n",
       "        vertical-align: middle;\n",
       "    }\n",
       "\n",
       "    .dataframe tbody tr th {\n",
       "        vertical-align: top;\n",
       "    }\n",
       "\n",
       "    .dataframe thead th {\n",
       "        text-align: right;\n",
       "    }\n",
       "</style>\n",
       "<table border=\"1\" class=\"dataframe\">\n",
       "  <thead>\n",
       "    <tr style=\"text-align: right;\">\n",
       "      <th></th>\n",
       "      <th>bill_length_mm</th>\n",
       "      <th>body_mass_g</th>\n",
       "    </tr>\n",
       "    <tr>\n",
       "      <th>island</th>\n",
       "      <th></th>\n",
       "      <th></th>\n",
       "    </tr>\n",
       "  </thead>\n",
       "  <tbody>\n",
       "    <tr>\n",
       "      <th>Biscoe</th>\n",
       "      <td>38.98</td>\n",
       "      <td>3709.66</td>\n",
       "    </tr>\n",
       "    <tr>\n",
       "      <th>Dream</th>\n",
       "      <td>38.52</td>\n",
       "      <td>3701.36</td>\n",
       "    </tr>\n",
       "    <tr>\n",
       "      <th>Torgersen</th>\n",
       "      <td>39.04</td>\n",
       "      <td>3708.51</td>\n",
       "    </tr>\n",
       "  </tbody>\n",
       "</table>\n",
       "</div>"
      ],
      "text/plain": [
       "           bill_length_mm  body_mass_g\n",
       "island                                \n",
       "Biscoe              38.98      3709.66\n",
       "Dream               38.52      3701.36\n",
       "Torgersen           39.04      3708.51"
      ]
     },
     "execution_count": 7,
     "metadata": {},
     "output_type": "execute_result"
    }
   ],
   "source": [
    "species_and_island.loc['Adelie']"
   ]
  },
  {
   "cell_type": "code",
   "execution_count": 8,
   "id": "3b70b622",
   "metadata": {},
   "outputs": [
    {
     "data": {
      "text/plain": [
       "bill_length_mm      39.04\n",
       "body_mass_g       3708.51\n",
       "Name: (Adelie, Torgersen), dtype: float64"
      ]
     },
     "execution_count": 8,
     "metadata": {},
     "output_type": "execute_result"
    }
   ],
   "source": [
    "species_and_island.loc[('Adelie', 'Torgersen')]"
   ]
  },
  {
   "cell_type": "code",
   "execution_count": 9,
   "id": "1ce6be50",
   "metadata": {},
   "outputs": [
    {
     "data": {
      "text/html": [
       "<div>\n",
       "<style scoped>\n",
       "    .dataframe tbody tr th:only-of-type {\n",
       "        vertical-align: middle;\n",
       "    }\n",
       "\n",
       "    .dataframe tbody tr th {\n",
       "        vertical-align: top;\n",
       "    }\n",
       "\n",
       "    .dataframe thead th {\n",
       "        text-align: right;\n",
       "    }\n",
       "</style>\n",
       "<table border=\"1\" class=\"dataframe\">\n",
       "  <thead>\n",
       "    <tr style=\"text-align: right;\">\n",
       "      <th></th>\n",
       "      <th>species</th>\n",
       "      <th>island</th>\n",
       "      <th>bill_length_mm</th>\n",
       "      <th>body_mass_g</th>\n",
       "    </tr>\n",
       "  </thead>\n",
       "  <tbody>\n",
       "    <tr>\n",
       "      <th>0</th>\n",
       "      <td>Adelie</td>\n",
       "      <td>Biscoe</td>\n",
       "      <td>38.98</td>\n",
       "      <td>3709.66</td>\n",
       "    </tr>\n",
       "    <tr>\n",
       "      <th>1</th>\n",
       "      <td>Adelie</td>\n",
       "      <td>Dream</td>\n",
       "      <td>38.52</td>\n",
       "      <td>3701.36</td>\n",
       "    </tr>\n",
       "    <tr>\n",
       "      <th>2</th>\n",
       "      <td>Adelie</td>\n",
       "      <td>Torgersen</td>\n",
       "      <td>39.04</td>\n",
       "      <td>3708.51</td>\n",
       "    </tr>\n",
       "    <tr>\n",
       "      <th>3</th>\n",
       "      <td>Chinstrap</td>\n",
       "      <td>Dream</td>\n",
       "      <td>48.83</td>\n",
       "      <td>3733.09</td>\n",
       "    </tr>\n",
       "    <tr>\n",
       "      <th>4</th>\n",
       "      <td>Gentoo</td>\n",
       "      <td>Biscoe</td>\n",
       "      <td>47.57</td>\n",
       "      <td>5092.44</td>\n",
       "    </tr>\n",
       "  </tbody>\n",
       "</table>\n",
       "</div>"
      ],
      "text/plain": [
       "     species     island  bill_length_mm  body_mass_g\n",
       "0     Adelie     Biscoe           38.98      3709.66\n",
       "1     Adelie      Dream           38.52      3701.36\n",
       "2     Adelie  Torgersen           39.04      3708.51\n",
       "3  Chinstrap      Dream           48.83      3733.09\n",
       "4     Gentoo     Biscoe           47.57      5092.44"
      ]
     },
     "execution_count": 9,
     "metadata": {},
     "output_type": "execute_result"
    }
   ],
   "source": [
    "species_and_island.reset_index()"
   ]
  },
  {
   "cell_type": "code",
   "execution_count": 10,
   "id": "25139634",
   "metadata": {},
   "outputs": [
    {
     "data": {
      "text/html": [
       "<div>\n",
       "<style scoped>\n",
       "    .dataframe tbody tr th:only-of-type {\n",
       "        vertical-align: middle;\n",
       "    }\n",
       "\n",
       "    .dataframe tbody tr th {\n",
       "        vertical-align: top;\n",
       "    }\n",
       "\n",
       "    .dataframe thead th {\n",
       "        text-align: right;\n",
       "    }\n",
       "</style>\n",
       "<table border=\"1\" class=\"dataframe\">\n",
       "  <thead>\n",
       "    <tr style=\"text-align: right;\">\n",
       "      <th></th>\n",
       "      <th>species</th>\n",
       "      <th>island</th>\n",
       "      <th>bill_length_mm</th>\n",
       "      <th>body_mass_g</th>\n",
       "    </tr>\n",
       "  </thead>\n",
       "  <tbody>\n",
       "    <tr>\n",
       "      <th>0</th>\n",
       "      <td>Adelie</td>\n",
       "      <td>Biscoe</td>\n",
       "      <td>38.98</td>\n",
       "      <td>3709.66</td>\n",
       "    </tr>\n",
       "    <tr>\n",
       "      <th>1</th>\n",
       "      <td>Adelie</td>\n",
       "      <td>Dream</td>\n",
       "      <td>38.52</td>\n",
       "      <td>3701.36</td>\n",
       "    </tr>\n",
       "    <tr>\n",
       "      <th>2</th>\n",
       "      <td>Adelie</td>\n",
       "      <td>Torgersen</td>\n",
       "      <td>39.04</td>\n",
       "      <td>3708.51</td>\n",
       "    </tr>\n",
       "    <tr>\n",
       "      <th>3</th>\n",
       "      <td>Chinstrap</td>\n",
       "      <td>Dream</td>\n",
       "      <td>48.83</td>\n",
       "      <td>3733.09</td>\n",
       "    </tr>\n",
       "    <tr>\n",
       "      <th>4</th>\n",
       "      <td>Gentoo</td>\n",
       "      <td>Biscoe</td>\n",
       "      <td>47.57</td>\n",
       "      <td>5092.44</td>\n",
       "    </tr>\n",
       "  </tbody>\n",
       "</table>\n",
       "</div>"
      ],
      "text/plain": [
       "     species     island  bill_length_mm  body_mass_g\n",
       "0     Adelie     Biscoe           38.98      3709.66\n",
       "1     Adelie      Dream           38.52      3701.36\n",
       "2     Adelie  Torgersen           39.04      3708.51\n",
       "3  Chinstrap      Dream           48.83      3733.09\n",
       "4     Gentoo     Biscoe           47.57      5092.44"
      ]
     },
     "execution_count": 10,
     "metadata": {},
     "output_type": "execute_result"
    }
   ],
   "source": [
    "(penguins\n",
    " .groupby(['species', 'island'], as_index=False)\n",
    " [['bill_length_mm', 'body_mass_g']]\n",
    " .mean()\n",
    ")"
   ]
  },
  {
   "cell_type": "code",
   "execution_count": 11,
   "id": "f40229b9",
   "metadata": {},
   "outputs": [
    {
     "data": {
      "text/html": [
       "<div>\n",
       "<style scoped>\n",
       "    .dataframe tbody tr th:only-of-type {\n",
       "        vertical-align: middle;\n",
       "    }\n",
       "\n",
       "    .dataframe tbody tr th {\n",
       "        vertical-align: top;\n",
       "    }\n",
       "\n",
       "    .dataframe thead th {\n",
       "        text-align: right;\n",
       "    }\n",
       "</style>\n",
       "<table border=\"1\" class=\"dataframe\">\n",
       "  <thead>\n",
       "    <tr style=\"text-align: right;\">\n",
       "      <th></th>\n",
       "      <th>Name</th>\n",
       "      <th>Sex</th>\n",
       "      <th>Count</th>\n",
       "      <th>Year</th>\n",
       "    </tr>\n",
       "  </thead>\n",
       "  <tbody>\n",
       "    <tr>\n",
       "      <th>0</th>\n",
       "      <td>Liam</td>\n",
       "      <td>M</td>\n",
       "      <td>20456</td>\n",
       "      <td>2022</td>\n",
       "    </tr>\n",
       "    <tr>\n",
       "      <th>1</th>\n",
       "      <td>Noah</td>\n",
       "      <td>M</td>\n",
       "      <td>18621</td>\n",
       "      <td>2022</td>\n",
       "    </tr>\n",
       "    <tr>\n",
       "      <th>2</th>\n",
       "      <td>Olivia</td>\n",
       "      <td>F</td>\n",
       "      <td>16573</td>\n",
       "      <td>2022</td>\n",
       "    </tr>\n",
       "    <tr>\n",
       "      <th>...</th>\n",
       "      <td>...</td>\n",
       "      <td>...</td>\n",
       "      <td>...</td>\n",
       "      <td>...</td>\n",
       "    </tr>\n",
       "    <tr>\n",
       "      <th>2085155</th>\n",
       "      <td>Wright</td>\n",
       "      <td>M</td>\n",
       "      <td>5</td>\n",
       "      <td>1880</td>\n",
       "    </tr>\n",
       "    <tr>\n",
       "      <th>2085156</th>\n",
       "      <td>York</td>\n",
       "      <td>M</td>\n",
       "      <td>5</td>\n",
       "      <td>1880</td>\n",
       "    </tr>\n",
       "    <tr>\n",
       "      <th>2085157</th>\n",
       "      <td>Zachariah</td>\n",
       "      <td>M</td>\n",
       "      <td>5</td>\n",
       "      <td>1880</td>\n",
       "    </tr>\n",
       "  </tbody>\n",
       "</table>\n",
       "<p>2085158 rows × 4 columns</p>\n",
       "</div>"
      ],
      "text/plain": [
       "              Name Sex  Count  Year\n",
       "0             Liam   M  20456  2022\n",
       "1             Noah   M  18621  2022\n",
       "2           Olivia   F  16573  2022\n",
       "...            ...  ..    ...   ...\n",
       "2085155     Wright   M      5  1880\n",
       "2085156       York   M      5  1880\n",
       "2085157  Zachariah   M      5  1880\n",
       "\n",
       "[2085158 rows x 4 columns]"
      ]
     },
     "execution_count": 11,
     "metadata": {},
     "output_type": "execute_result"
    }
   ],
   "source": [
    "baby_path = Path('data') / 'baby.csv'\n",
    "baby = pd.read_csv(baby_path)\n",
    "baby"
   ]
  },
  {
   "cell_type": "code",
   "execution_count": 12,
   "id": "3f1a708f",
   "metadata": {},
   "outputs": [],
   "source": [
    "# Your code goes here."
   ]
  },
  {
   "cell_type": "markdown",
   "id": "d947e6b3",
   "metadata": {},
   "source": [
    "## Pivot tables using the `pivot_table` method"
   ]
  },
  {
   "cell_type": "markdown",
   "id": "53e7c1a0",
   "metadata": {},
   "source": [
    "### Pivot tables: an extension of grouping\n",
    "\n",
    "Pivot tables are a compact way to display tables for humans to read:\n",
    "\n",
    "<table border=\"1\" class=\"dataframe\">\n",
    "  <thead>\n",
    "    <tr style=\"text-align: right;\">\n",
    "      <th>Sex</th>\n",
    "      <th>F</th>\n",
    "      <th>M</th>\n",
    "    </tr>\n",
    "    <tr>\n",
    "      <th>Year</th>\n",
    "      <th></th>\n",
    "      <th></th>\n",
    "    </tr>\n",
    "  </thead>\n",
    "  <tbody>\n",
    "    <tr>\n",
    "      <th>2018</th>\n",
    "      <td>1698373</td>\n",
    "      <td>1813377</td>\n",
    "    </tr>\n",
    "    <tr>\n",
    "      <th>2019</th>\n",
    "      <td>1675139</td>\n",
    "      <td>1790682</td>\n",
    "    </tr>\n",
    "    <tr>\n",
    "      <th>2020</th>\n",
    "      <td>1612393</td>\n",
    "      <td>1721588</td>\n",
    "    </tr>\n",
    "    <tr>\n",
    "      <th>2021</th>\n",
    "      <td>1635800</td>\n",
    "      <td>1743913</td>\n",
    "    </tr>\n",
    "    <tr>\n",
    "      <th>2022</th>\n",
    "      <td>1628730</td>\n",
    "      <td>1733166</td>\n",
    "    </tr>\n",
    "  </tbody>\n",
    "</table>"
   ]
  },
  {
   "cell_type": "markdown",
   "id": "e58b66ac",
   "metadata": {},
   "source": [
    "- Notice that each value in the table is a sum over the counts, split by year and sex.\n",
    "- **You can think of pivot tables as grouping using two columns, then \"pivoting\" one of the group labels into columns.**"
   ]
  },
  {
   "cell_type": "markdown",
   "id": "b2d6cb24",
   "metadata": {},
   "source": [
    "### `pivot_table`\n",
    "\n",
    "The `pivot_table` DataFrame method aggregates a DataFrame using two columns. To use it:\n",
    "\n",
    "```py\n",
    "df.pivot_table(index=index_col,\n",
    "               columns=columns_col,\n",
    "               values=values_col,\n",
    "               aggfunc=func)\n",
    "```\n",
    "The resulting DataFrame will have:\n",
    "- One row for every unique value in `index_col`.\n",
    "- One column for every unique value in `columns_col`.\n",
    "- Values determined by applying `func` on values in `values_col`."
   ]
  },
  {
   "cell_type": "code",
   "execution_count": 13,
   "id": "db76b2e1",
   "metadata": {},
   "outputs": [
    {
     "data": {
      "text/html": [
       "<div>\n",
       "<style scoped>\n",
       "    .dataframe tbody tr th:only-of-type {\n",
       "        vertical-align: middle;\n",
       "    }\n",
       "\n",
       "    .dataframe tbody tr th {\n",
       "        vertical-align: top;\n",
       "    }\n",
       "\n",
       "    .dataframe thead th {\n",
       "        text-align: right;\n",
       "    }\n",
       "</style>\n",
       "<table border=\"1\" class=\"dataframe\">\n",
       "  <thead>\n",
       "    <tr style=\"text-align: right;\">\n",
       "      <th>island</th>\n",
       "      <th>Biscoe</th>\n",
       "      <th>Dream</th>\n",
       "      <th>Torgersen</th>\n",
       "    </tr>\n",
       "    <tr>\n",
       "      <th>species</th>\n",
       "      <th></th>\n",
       "      <th></th>\n",
       "      <th></th>\n",
       "    </tr>\n",
       "  </thead>\n",
       "  <tbody>\n",
       "    <tr>\n",
       "      <th>Adelie</th>\n",
       "      <td>44.0</td>\n",
       "      <td>55.0</td>\n",
       "      <td>47.0</td>\n",
       "    </tr>\n",
       "    <tr>\n",
       "      <th>Chinstrap</th>\n",
       "      <td>NaN</td>\n",
       "      <td>68.0</td>\n",
       "      <td>NaN</td>\n",
       "    </tr>\n",
       "    <tr>\n",
       "      <th>Gentoo</th>\n",
       "      <td>119.0</td>\n",
       "      <td>NaN</td>\n",
       "      <td>NaN</td>\n",
       "    </tr>\n",
       "  </tbody>\n",
       "</table>\n",
       "</div>"
      ],
      "text/plain": [
       "island     Biscoe  Dream  Torgersen\n",
       "species                            \n",
       "Adelie       44.0   55.0       47.0\n",
       "Chinstrap     NaN   68.0        NaN\n",
       "Gentoo      119.0    NaN        NaN"
      ]
     },
     "execution_count": 13,
     "metadata": {},
     "output_type": "execute_result"
    }
   ],
   "source": [
    "penguins.pivot_table(\n",
    "    index='species',\n",
    "    columns='island',\n",
    "    values='bill_length_mm', # Choice of column here doesn't actually matter!\n",
    "    aggfunc='count',\n",
    ")"
   ]
  },
  {
   "cell_type": "markdown",
   "id": "96349809",
   "metadata": {},
   "source": [
    "Note that there is a `NaN` at the intersection of `'Biscoe'` and `'Chinstrap'`, because there were no Chinstrap penguins on Biscoe Island.\n",
    "\n",
    "We can either use the `fillna` method afterwards or the `fill_value` argument to fill in `NaN`s."
   ]
  },
  {
   "cell_type": "code",
   "execution_count": 14,
   "id": "11937bc2",
   "metadata": {},
   "outputs": [
    {
     "data": {
      "text/html": [
       "<div>\n",
       "<style scoped>\n",
       "    .dataframe tbody tr th:only-of-type {\n",
       "        vertical-align: middle;\n",
       "    }\n",
       "\n",
       "    .dataframe tbody tr th {\n",
       "        vertical-align: top;\n",
       "    }\n",
       "\n",
       "    .dataframe thead th {\n",
       "        text-align: right;\n",
       "    }\n",
       "</style>\n",
       "<table border=\"1\" class=\"dataframe\">\n",
       "  <thead>\n",
       "    <tr style=\"text-align: right;\">\n",
       "      <th>island</th>\n",
       "      <th>Biscoe</th>\n",
       "      <th>Dream</th>\n",
       "      <th>Torgersen</th>\n",
       "    </tr>\n",
       "    <tr>\n",
       "      <th>species</th>\n",
       "      <th></th>\n",
       "      <th></th>\n",
       "      <th></th>\n",
       "    </tr>\n",
       "  </thead>\n",
       "  <tbody>\n",
       "    <tr>\n",
       "      <th>Adelie</th>\n",
       "      <td>44</td>\n",
       "      <td>55</td>\n",
       "      <td>47</td>\n",
       "    </tr>\n",
       "    <tr>\n",
       "      <th>Chinstrap</th>\n",
       "      <td>0</td>\n",
       "      <td>68</td>\n",
       "      <td>0</td>\n",
       "    </tr>\n",
       "    <tr>\n",
       "      <th>Gentoo</th>\n",
       "      <td>119</td>\n",
       "      <td>0</td>\n",
       "      <td>0</td>\n",
       "    </tr>\n",
       "  </tbody>\n",
       "</table>\n",
       "</div>"
      ],
      "text/plain": [
       "island     Biscoe  Dream  Torgersen\n",
       "species                            \n",
       "Adelie         44     55         47\n",
       "Chinstrap       0     68          0\n",
       "Gentoo        119      0          0"
      ]
     },
     "execution_count": 14,
     "metadata": {},
     "output_type": "execute_result"
    }
   ],
   "source": [
    "penguins.pivot_table(\n",
    "    index='species',\n",
    "    columns='island',\n",
    "    values='bill_length_mm',\n",
    "    aggfunc='count',\n",
    "    fill_value=0,\n",
    ")"
   ]
  },
  {
   "cell_type": "code",
   "execution_count": 15,
   "id": "71710f0e",
   "metadata": {},
   "outputs": [
    {
     "data": {
      "text/html": [
       "<div>\n",
       "<style scoped>\n",
       "    .dataframe tbody tr th:only-of-type {\n",
       "        vertical-align: middle;\n",
       "    }\n",
       "\n",
       "    .dataframe tbody tr th {\n",
       "        vertical-align: top;\n",
       "    }\n",
       "\n",
       "    .dataframe thead th {\n",
       "        text-align: right;\n",
       "    }\n",
       "</style>\n",
       "<table border=\"1\" class=\"dataframe\">\n",
       "  <thead>\n",
       "    <tr style=\"text-align: right;\">\n",
       "      <th></th>\n",
       "      <th></th>\n",
       "      <th>bill_length_mm</th>\n",
       "    </tr>\n",
       "    <tr>\n",
       "      <th>species</th>\n",
       "      <th>island</th>\n",
       "      <th></th>\n",
       "    </tr>\n",
       "  </thead>\n",
       "  <tbody>\n",
       "    <tr>\n",
       "      <th rowspan=\"3\" valign=\"top\">Adelie</th>\n",
       "      <th>Biscoe</th>\n",
       "      <td>44</td>\n",
       "    </tr>\n",
       "    <tr>\n",
       "      <th>Dream</th>\n",
       "      <td>55</td>\n",
       "    </tr>\n",
       "    <tr>\n",
       "      <th>Torgersen</th>\n",
       "      <td>47</td>\n",
       "    </tr>\n",
       "    <tr>\n",
       "      <th>Chinstrap</th>\n",
       "      <th>Dream</th>\n",
       "      <td>68</td>\n",
       "    </tr>\n",
       "    <tr>\n",
       "      <th>Gentoo</th>\n",
       "      <th>Biscoe</th>\n",
       "      <td>119</td>\n",
       "    </tr>\n",
       "  </tbody>\n",
       "</table>\n",
       "</div>"
      ],
      "text/plain": [
       "                     bill_length_mm\n",
       "species   island                   \n",
       "Adelie    Biscoe                 44\n",
       "          Dream                  55\n",
       "          Torgersen              47\n",
       "Chinstrap Dream                  68\n",
       "Gentoo    Biscoe                119"
      ]
     },
     "execution_count": 15,
     "metadata": {},
     "output_type": "execute_result"
    }
   ],
   "source": [
    "# Look at the similarity to the snippet above!\n",
    "(penguins\n",
    " .groupby(['species', 'island'])\n",
    " [['bill_length_mm']]\n",
    " .count()\n",
    ")"
   ]
  },
  {
   "cell_type": "markdown",
   "id": "ffc951db",
   "metadata": {
    "editable": true,
    "slideshow": {
     "slide_type": ""
    },
    "tags": []
   },
   "source": [
    "## Distributions"
   ]
  },
  {
   "cell_type": "markdown",
   "id": "c98280c7-ae9a-4d5b-bf09-ffc18ae25c05",
   "metadata": {},
   "source": [
    "### Example: Palmer Penguins"
   ]
  },
  {
   "cell_type": "code",
   "execution_count": 16,
   "id": "2eae32ea-692e-4b64-aa94-d172bd8f7003",
   "metadata": {},
   "outputs": [
    {
     "data": {
      "text/html": [
       "<div>\n",
       "<style scoped>\n",
       "    .dataframe tbody tr th:only-of-type {\n",
       "        vertical-align: middle;\n",
       "    }\n",
       "\n",
       "    .dataframe tbody tr th {\n",
       "        vertical-align: top;\n",
       "    }\n",
       "\n",
       "    .dataframe thead th {\n",
       "        text-align: right;\n",
       "    }\n",
       "</style>\n",
       "<table border=\"1\" class=\"dataframe\">\n",
       "  <thead>\n",
       "    <tr style=\"text-align: right;\">\n",
       "      <th></th>\n",
       "      <th>species</th>\n",
       "      <th>island</th>\n",
       "      <th>bill_length_mm</th>\n",
       "      <th>bill_depth_mm</th>\n",
       "      <th>flipper_length_mm</th>\n",
       "      <th>body_mass_g</th>\n",
       "      <th>sex</th>\n",
       "    </tr>\n",
       "  </thead>\n",
       "  <tbody>\n",
       "    <tr>\n",
       "      <th>0</th>\n",
       "      <td>Adelie</td>\n",
       "      <td>Torgersen</td>\n",
       "      <td>39.1</td>\n",
       "      <td>18.7</td>\n",
       "      <td>181.0</td>\n",
       "      <td>3750.0</td>\n",
       "      <td>Male</td>\n",
       "    </tr>\n",
       "    <tr>\n",
       "      <th>1</th>\n",
       "      <td>Adelie</td>\n",
       "      <td>Torgersen</td>\n",
       "      <td>39.5</td>\n",
       "      <td>17.4</td>\n",
       "      <td>186.0</td>\n",
       "      <td>3800.0</td>\n",
       "      <td>Female</td>\n",
       "    </tr>\n",
       "    <tr>\n",
       "      <th>2</th>\n",
       "      <td>Adelie</td>\n",
       "      <td>Torgersen</td>\n",
       "      <td>40.3</td>\n",
       "      <td>18.0</td>\n",
       "      <td>195.0</td>\n",
       "      <td>3250.0</td>\n",
       "      <td>Female</td>\n",
       "    </tr>\n",
       "    <tr>\n",
       "      <th>...</th>\n",
       "      <td>...</td>\n",
       "      <td>...</td>\n",
       "      <td>...</td>\n",
       "      <td>...</td>\n",
       "      <td>...</td>\n",
       "      <td>...</td>\n",
       "      <td>...</td>\n",
       "    </tr>\n",
       "    <tr>\n",
       "      <th>341</th>\n",
       "      <td>Gentoo</td>\n",
       "      <td>Biscoe</td>\n",
       "      <td>50.4</td>\n",
       "      <td>15.7</td>\n",
       "      <td>222.0</td>\n",
       "      <td>5750.0</td>\n",
       "      <td>Male</td>\n",
       "    </tr>\n",
       "    <tr>\n",
       "      <th>342</th>\n",
       "      <td>Gentoo</td>\n",
       "      <td>Biscoe</td>\n",
       "      <td>45.2</td>\n",
       "      <td>14.8</td>\n",
       "      <td>212.0</td>\n",
       "      <td>5200.0</td>\n",
       "      <td>Female</td>\n",
       "    </tr>\n",
       "    <tr>\n",
       "      <th>343</th>\n",
       "      <td>Gentoo</td>\n",
       "      <td>Biscoe</td>\n",
       "      <td>49.9</td>\n",
       "      <td>16.1</td>\n",
       "      <td>213.0</td>\n",
       "      <td>5400.0</td>\n",
       "      <td>Male</td>\n",
       "    </tr>\n",
       "  </tbody>\n",
       "</table>\n",
       "<p>333 rows × 7 columns</p>\n",
       "</div>"
      ],
      "text/plain": [
       "    species     island  bill_length_mm  bill_depth_mm  flipper_length_mm  \\\n",
       "0    Adelie  Torgersen            39.1           18.7              181.0   \n",
       "1    Adelie  Torgersen            39.5           17.4              186.0   \n",
       "2    Adelie  Torgersen            40.3           18.0              195.0   \n",
       "..      ...        ...             ...            ...                ...   \n",
       "341  Gentoo     Biscoe            50.4           15.7              222.0   \n",
       "342  Gentoo     Biscoe            45.2           14.8              212.0   \n",
       "343  Gentoo     Biscoe            49.9           16.1              213.0   \n",
       "\n",
       "     body_mass_g     sex  \n",
       "0         3750.0    Male  \n",
       "1         3800.0  Female  \n",
       "2         3250.0  Female  \n",
       "..           ...     ...  \n",
       "341       5750.0    Male  \n",
       "342       5200.0  Female  \n",
       "343       5400.0    Male  \n",
       "\n",
       "[333 rows x 7 columns]"
      ]
     },
     "execution_count": 16,
     "metadata": {},
     "output_type": "execute_result"
    }
   ],
   "source": [
    "penguins = sns.load_dataset('penguins').dropna()\n",
    "penguins"
   ]
  },
  {
   "cell_type": "markdown",
   "id": "d8e1d83a",
   "metadata": {
    "editable": true,
    "slideshow": {
     "slide_type": "slide"
    },
    "tags": []
   },
   "source": [
    "Let's start by using the `pivot_table` method to recreate the DataFrame shown below.\n",
    "\n",
    "<table border=\"1\" class=\"dataframe\">\n",
    "  <thead>\n",
    "    <tr style=\"text-align: right;\">\n",
    "      <th>sex</th>\n",
    "      <th>Female</th>\n",
    "      <th>Male</th>\n",
    "    </tr>\n",
    "    <tr>\n",
    "      <th>species</th>\n",
    "      <th></th>\n",
    "      <th></th>\n",
    "    </tr>\n",
    "  </thead>\n",
    "  <tbody>\n",
    "    <tr>\n",
    "      <th>Adelie</th>\n",
    "      <td>73</td>\n",
    "      <td>73</td>\n",
    "    </tr>\n",
    "    <tr>\n",
    "      <th>Chinstrap</th>\n",
    "      <td>34</td>\n",
    "      <td>34</td>\n",
    "    </tr>\n",
    "    <tr>\n",
    "      <th>Gentoo</th>\n",
    "      <td>58</td>\n",
    "      <td>61</td>\n",
    "    </tr>\n",
    "  </tbody>\n",
    "</table>\n"
   ]
  },
  {
   "cell_type": "markdown",
   "id": "244a4c6f",
   "metadata": {
    "editable": true,
    "slideshow": {
     "slide_type": "slide"
    },
    "tags": []
   },
   "source": [
    "### Joint distribution\n",
    "\n",
    "When using `aggfunc='count'`, a pivot table describes the **joint distribution** of two categorical variables. This is also called a **contingency table**."
   ]
  },
  {
   "cell_type": "code",
   "execution_count": 17,
   "id": "657cb701",
   "metadata": {
    "editable": true,
    "slideshow": {
     "slide_type": ""
    },
    "tags": []
   },
   "outputs": [
    {
     "data": {
      "text/html": [
       "<div>\n",
       "<style scoped>\n",
       "    .dataframe tbody tr th:only-of-type {\n",
       "        vertical-align: middle;\n",
       "    }\n",
       "\n",
       "    .dataframe tbody tr th {\n",
       "        vertical-align: top;\n",
       "    }\n",
       "\n",
       "    .dataframe thead th {\n",
       "        text-align: right;\n",
       "    }\n",
       "</style>\n",
       "<table border=\"1\" class=\"dataframe\">\n",
       "  <thead>\n",
       "    <tr style=\"text-align: right;\">\n",
       "      <th>sex</th>\n",
       "      <th>Female</th>\n",
       "      <th>Male</th>\n",
       "    </tr>\n",
       "    <tr>\n",
       "      <th>species</th>\n",
       "      <th></th>\n",
       "      <th></th>\n",
       "    </tr>\n",
       "  </thead>\n",
       "  <tbody>\n",
       "    <tr>\n",
       "      <th>Adelie</th>\n",
       "      <td>73</td>\n",
       "      <td>73</td>\n",
       "    </tr>\n",
       "    <tr>\n",
       "      <th>Chinstrap</th>\n",
       "      <td>34</td>\n",
       "      <td>34</td>\n",
       "    </tr>\n",
       "    <tr>\n",
       "      <th>Gentoo</th>\n",
       "      <td>58</td>\n",
       "      <td>61</td>\n",
       "    </tr>\n",
       "  </tbody>\n",
       "</table>\n",
       "</div>"
      ],
      "text/plain": [
       "sex        Female  Male\n",
       "species                \n",
       "Adelie         73    73\n",
       "Chinstrap      34    34\n",
       "Gentoo         58    61"
      ]
     },
     "execution_count": 17,
     "metadata": {},
     "output_type": "execute_result"
    }
   ],
   "source": [
    "counts = penguins.pivot_table(\n",
    "    index='species',\n",
    "    columns='sex',\n",
    "    values='body_mass_g',\n",
    "    aggfunc='size',\n",
    "    fill_value=0,\n",
    ")\n",
    "counts"
   ]
  },
  {
   "cell_type": "markdown",
   "id": "125b3d37",
   "metadata": {
    "editable": true,
    "slideshow": {
     "slide_type": "fragment"
    },
    "tags": []
   },
   "source": [
    "We can normalize the DataFrame by dividing by the total number of penguins. The resulting numbers can be interpreted as **probabilities** that a randomly selected penguin from the dataset belongs to a given combination of species and sex."
   ]
  },
  {
   "cell_type": "code",
   "execution_count": 18,
   "id": "ef27fe23",
   "metadata": {
    "editable": true,
    "slideshow": {
     "slide_type": ""
    },
    "tags": []
   },
   "outputs": [
    {
     "data": {
      "text/plain": [
       "sex\n",
       "Female    165\n",
       "Male      168\n",
       "dtype: int64"
      ]
     },
     "execution_count": 18,
     "metadata": {},
     "output_type": "execute_result"
    }
   ],
   "source": [
    "counts.sum()\n"
   ]
  },
  {
   "cell_type": "markdown",
   "id": "6bf70932",
   "metadata": {
    "editable": true,
    "slideshow": {
     "slide_type": "slide"
    },
    "tags": []
   },
   "source": [
    "### Marginal probabilities\n",
    "\n",
    "If we sum over one of the axes, we can compute **marginal probabilities**, i.e. unconditional probabilities."
   ]
  },
  {
   "cell_type": "code",
   "execution_count": 19,
   "id": "3ae4e508",
   "metadata": {
    "editable": true,
    "slideshow": {
     "slide_type": ""
    },
    "tags": []
   },
   "outputs": [
    {
     "data": {
      "text/html": [
       "<div>\n",
       "<style scoped>\n",
       "    .dataframe tbody tr th:only-of-type {\n",
       "        vertical-align: middle;\n",
       "    }\n",
       "\n",
       "    .dataframe tbody tr th {\n",
       "        vertical-align: top;\n",
       "    }\n",
       "\n",
       "    .dataframe thead th {\n",
       "        text-align: right;\n",
       "    }\n",
       "</style>\n",
       "<table border=\"1\" class=\"dataframe\">\n",
       "  <thead>\n",
       "    <tr style=\"text-align: right;\">\n",
       "      <th>sex</th>\n",
       "      <th>Female</th>\n",
       "      <th>Male</th>\n",
       "    </tr>\n",
       "    <tr>\n",
       "      <th>species</th>\n",
       "      <th></th>\n",
       "      <th></th>\n",
       "    </tr>\n",
       "  </thead>\n",
       "  <tbody>\n",
       "    <tr>\n",
       "      <th>Adelie</th>\n",
       "      <td>0.22</td>\n",
       "      <td>0.22</td>\n",
       "    </tr>\n",
       "    <tr>\n",
       "      <th>Chinstrap</th>\n",
       "      <td>0.10</td>\n",
       "      <td>0.10</td>\n",
       "    </tr>\n",
       "    <tr>\n",
       "      <th>Gentoo</th>\n",
       "      <td>0.17</td>\n",
       "      <td>0.18</td>\n",
       "    </tr>\n",
       "  </tbody>\n",
       "</table>\n",
       "</div>"
      ],
      "text/plain": [
       "sex        Female  Male\n",
       "species                \n",
       "Adelie       0.22  0.22\n",
       "Chinstrap    0.10  0.10\n",
       "Gentoo       0.17  0.18"
      ]
     },
     "execution_count": 19,
     "metadata": {},
     "output_type": "execute_result"
    }
   ],
   "source": [
    "joint = counts/counts.sum().sum()\n",
    "joint"
   ]
  },
  {
   "cell_type": "code",
   "execution_count": 20,
   "id": "8539e9a6",
   "metadata": {
    "editable": true,
    "slideshow": {
     "slide_type": ""
    },
    "tags": []
   },
   "outputs": [
    {
     "data": {
      "text/plain": [
       "sex\n",
       "Female    0.5\n",
       "Male      0.5\n",
       "dtype: float64"
      ]
     },
     "execution_count": 20,
     "metadata": {},
     "output_type": "execute_result"
    }
   ],
   "source": [
    "# Recall, joint.sum(axis=0) sums across the rows,\n",
    "# which computes the sum of the **columns**.\n",
    "joint.sum(axis=0)"
   ]
  },
  {
   "cell_type": "code",
   "execution_count": 21,
   "id": "5f5a59a1",
   "metadata": {
    "editable": true,
    "slideshow": {
     "slide_type": ""
    },
    "tags": []
   },
   "outputs": [
    {
     "data": {
      "text/plain": [
       "species\n",
       "Adelie       0.44\n",
       "Chinstrap    0.20\n",
       "Gentoo       0.36\n",
       "dtype: float64"
      ]
     },
     "execution_count": 21,
     "metadata": {},
     "output_type": "execute_result"
    }
   ],
   "source": [
    "joint.sum(axis=1)"
   ]
  },
  {
   "cell_type": "markdown",
   "id": "3abcbba0",
   "metadata": {
    "editable": true,
    "slideshow": {
     "slide_type": ""
    },
    "tags": []
   },
   "source": [
    "For instance, the second Series tells us that a randomly selected penguin has a 0.36 chance of being of species `'Gentoo'`."
   ]
  },
  {
   "cell_type": "markdown",
   "id": "1fb270de",
   "metadata": {
    "editable": true,
    "slideshow": {
     "slide_type": "slide"
    },
    "tags": []
   },
   "source": [
    "### Conditional probabilities\n",
    "\n",
    "Using `counts`, how might we compute conditional probabilities like $$P(\\text{species } = \\text{\"Adelie\"} \\mid \\text{sex } = \\text{\"Female\"})?$$"
   ]
  },
  {
   "cell_type": "code",
   "execution_count": 22,
   "id": "3ba45ff3",
   "metadata": {
    "editable": true,
    "slideshow": {
     "slide_type": ""
    },
    "tags": []
   },
   "outputs": [
    {
     "data": {
      "text/html": [
       "<div>\n",
       "<style scoped>\n",
       "    .dataframe tbody tr th:only-of-type {\n",
       "        vertical-align: middle;\n",
       "    }\n",
       "\n",
       "    .dataframe tbody tr th {\n",
       "        vertical-align: top;\n",
       "    }\n",
       "\n",
       "    .dataframe thead th {\n",
       "        text-align: right;\n",
       "    }\n",
       "</style>\n",
       "<table border=\"1\" class=\"dataframe\">\n",
       "  <thead>\n",
       "    <tr style=\"text-align: right;\">\n",
       "      <th>sex</th>\n",
       "      <th>Female</th>\n",
       "      <th>Male</th>\n",
       "    </tr>\n",
       "    <tr>\n",
       "      <th>species</th>\n",
       "      <th></th>\n",
       "      <th></th>\n",
       "    </tr>\n",
       "  </thead>\n",
       "  <tbody>\n",
       "    <tr>\n",
       "      <th>Adelie</th>\n",
       "      <td>73</td>\n",
       "      <td>73</td>\n",
       "    </tr>\n",
       "    <tr>\n",
       "      <th>Chinstrap</th>\n",
       "      <td>34</td>\n",
       "      <td>34</td>\n",
       "    </tr>\n",
       "    <tr>\n",
       "      <th>Gentoo</th>\n",
       "      <td>58</td>\n",
       "      <td>61</td>\n",
       "    </tr>\n",
       "  </tbody>\n",
       "</table>\n",
       "</div>"
      ],
      "text/plain": [
       "sex        Female  Male\n",
       "species                \n",
       "Adelie         73    73\n",
       "Chinstrap      34    34\n",
       "Gentoo         58    61"
      ]
     },
     "execution_count": 22,
     "metadata": {},
     "output_type": "execute_result"
    }
   ],
   "source": [
    "counts"
   ]
  },
  {
   "cell_type": "markdown",
   "id": "43ad126b",
   "metadata": {
    "editable": true,
    "slideshow": {
     "slide_type": "fragment"
    },
    "tags": []
   },
   "source": [
    "$$\\begin{align*}\n",
    "P(\\text{species} = c \\mid \\text{sex} = x) &= \\frac{\\# \\: (\\text{species} = c \\text{ and } \\text{sex} = x)}{\\# \\: (\\text{sex} = x)}\n",
    "\\end{align*}$$\n",
    "\n",
    "<details>\n",
    "    <summary>➡️ Click <b>here</b> to see more of a derivation.</summary>\n",
    "$$\\begin{align*}\n",
    "P(\\text{species} = c \\mid \\text{sex} = x) &= \\frac{P(\\text{species} = c \\text{ and } \\text{sex} = x)}{P(\\text{sex = }x)} \\\\\n",
    "&= \\frac{\\frac{\\# \\: (\\text{species } = \\: c \\text{ and } \\text{sex } = \\: x)}{N}}{\\frac{\\# \\: (\\text{sex } = \\: x)}{N}} \\\\\n",
    "&= \\frac{\\# \\: (\\text{species} = c \\text{ and } \\text{sex} = x)}{\\# \\: (\\text{sex} = x)}\n",
    "\\end{align*}$$\n",
    "</details>"
   ]
  },
  {
   "cell_type": "markdown",
   "id": "ff143cc6",
   "metadata": {
    "editable": true,
    "slideshow": {
     "slide_type": "fragment"
    },
    "tags": []
   },
   "source": [
    "**Answer**: To find conditional probabilities of **`'species'` given `'sex'`**, divide by **column sums**. To find conditional probabilities of **`'sex'` given `'species'`**, divide by **row sums**."
   ]
  },
  {
   "cell_type": "markdown",
   "id": "d373b71c",
   "metadata": {
    "editable": true,
    "slideshow": {
     "slide_type": "slide"
    },
    "tags": []
   },
   "source": [
    "### Conditional probabilities\n",
    "\n",
    "To find conditional probabilities of **`'species'` given `'sex'`**, divide by **column sums**. To find conditional probabilities of **`'sex'` given `'species'`**, divide by **row sums**."
   ]
  },
  {
   "cell_type": "code",
   "execution_count": 23,
   "id": "7e995c56",
   "metadata": {
    "editable": true,
    "slideshow": {
     "slide_type": ""
    },
    "tags": []
   },
   "outputs": [
    {
     "data": {
      "text/plain": [
       "sex\n",
       "Female    165\n",
       "Male      168\n",
       "dtype: int64"
      ]
     },
     "execution_count": 23,
     "metadata": {},
     "output_type": "execute_result"
    }
   ],
   "source": [
    "counts.sum(axis=0)"
   ]
  },
  {
   "cell_type": "markdown",
   "id": "08bae3f5",
   "metadata": {
    "editable": true,
    "slideshow": {
     "slide_type": "fragment"
    },
    "tags": []
   },
   "source": [
    "The conditional distribution of **`'species'` given `'sex'`** is below. Note that in this new DataFrame, the `'Female'` and `'Male'` columns each sum to 1."
   ]
  },
  {
   "cell_type": "code",
   "execution_count": 24,
   "id": "ac092c84",
   "metadata": {
    "editable": true,
    "slideshow": {
     "slide_type": ""
    },
    "tags": []
   },
   "outputs": [
    {
     "data": {
      "text/html": [
       "<div>\n",
       "<style scoped>\n",
       "    .dataframe tbody tr th:only-of-type {\n",
       "        vertical-align: middle;\n",
       "    }\n",
       "\n",
       "    .dataframe tbody tr th {\n",
       "        vertical-align: top;\n",
       "    }\n",
       "\n",
       "    .dataframe thead th {\n",
       "        text-align: right;\n",
       "    }\n",
       "</style>\n",
       "<table border=\"1\" class=\"dataframe\">\n",
       "  <thead>\n",
       "    <tr style=\"text-align: right;\">\n",
       "      <th>sex</th>\n",
       "      <th>Female</th>\n",
       "      <th>Male</th>\n",
       "    </tr>\n",
       "    <tr>\n",
       "      <th>species</th>\n",
       "      <th></th>\n",
       "      <th></th>\n",
       "    </tr>\n",
       "  </thead>\n",
       "  <tbody>\n",
       "    <tr>\n",
       "      <th>Adelie</th>\n",
       "      <td>0.44</td>\n",
       "      <td>0.43</td>\n",
       "    </tr>\n",
       "    <tr>\n",
       "      <th>Chinstrap</th>\n",
       "      <td>0.21</td>\n",
       "      <td>0.20</td>\n",
       "    </tr>\n",
       "    <tr>\n",
       "      <th>Gentoo</th>\n",
       "      <td>0.35</td>\n",
       "      <td>0.36</td>\n",
       "    </tr>\n",
       "  </tbody>\n",
       "</table>\n",
       "</div>"
      ],
      "text/plain": [
       "sex        Female  Male\n",
       "species                \n",
       "Adelie       0.44  0.43\n",
       "Chinstrap    0.21  0.20\n",
       "Gentoo       0.35  0.36"
      ]
     },
     "execution_count": 24,
     "metadata": {},
     "output_type": "execute_result"
    }
   ],
   "source": [
    "counts / counts.sum(axis=0)"
   ]
  },
  {
   "cell_type": "markdown",
   "id": "82ff00a4",
   "metadata": {
    "editable": true,
    "slideshow": {
     "slide_type": ""
    },
    "tags": []
   },
   "source": [
    "For instance, the above DataFrame tells us that the probability that a randomly selected penguin is of `'species'` `'Adelie'` **given** that they are of `'sex'` `'Female'` is 0.442424."
   ]
  },
  {
   "cell_type": "markdown",
   "id": "963614fa",
   "metadata": {
    "editable": true,
    "slideshow": {
     "slide_type": "slide"
    },
    "tags": []
   },
   "source": [
    "<div class=\"alert alert-warning\">\n",
    "    <h3>Question 🤔 (Answer at <a href=\"https://dsc80.com/q\">dsc80.com/q</a>)</h3>\n",
    "\n",
    "Code: `lec04-cond`\n",
    "</div>\n",
    "    \n",
    "Find the conditional distribution of `'sex'` given `'species'`.  \n",
    "\n",
    "**_Hint_**: Use `.T`."
   ]
  },
  {
   "cell_type": "code",
   "execution_count": 25,
   "id": "f96daece",
   "metadata": {
    "editable": true,
    "slideshow": {
     "slide_type": ""
    },
    "tags": []
   },
   "outputs": [
    {
     "data": {
      "text/html": [
       "<div>\n",
       "<style scoped>\n",
       "    .dataframe tbody tr th:only-of-type {\n",
       "        vertical-align: middle;\n",
       "    }\n",
       "\n",
       "    .dataframe tbody tr th {\n",
       "        vertical-align: top;\n",
       "    }\n",
       "\n",
       "    .dataframe thead th {\n",
       "        text-align: right;\n",
       "    }\n",
       "</style>\n",
       "<table border=\"1\" class=\"dataframe\">\n",
       "  <thead>\n",
       "    <tr style=\"text-align: right;\">\n",
       "      <th>species</th>\n",
       "      <th>Adelie</th>\n",
       "      <th>Chinstrap</th>\n",
       "      <th>Gentoo</th>\n",
       "    </tr>\n",
       "    <tr>\n",
       "      <th>sex</th>\n",
       "      <th></th>\n",
       "      <th></th>\n",
       "      <th></th>\n",
       "    </tr>\n",
       "  </thead>\n",
       "  <tbody>\n",
       "    <tr>\n",
       "      <th>Female</th>\n",
       "      <td>0.5</td>\n",
       "      <td>0.5</td>\n",
       "      <td>0.49</td>\n",
       "    </tr>\n",
       "    <tr>\n",
       "      <th>Male</th>\n",
       "      <td>0.5</td>\n",
       "      <td>0.5</td>\n",
       "      <td>0.51</td>\n",
       "    </tr>\n",
       "  </tbody>\n",
       "</table>\n",
       "</div>"
      ],
      "text/plain": [
       "species  Adelie  Chinstrap  Gentoo\n",
       "sex                               \n",
       "Female      0.5        0.5    0.49\n",
       "Male        0.5        0.5    0.51"
      ]
     },
     "execution_count": 25,
     "metadata": {},
     "output_type": "execute_result"
    }
   ],
   "source": [
    "# given (COLUMN), this is the distribution of (ROWS)\n",
    "counts.T / counts.T.sum(axis=0)"
   ]
  },
  {
   "cell_type": "markdown",
   "id": "4ee6c875",
   "metadata": {
    "editable": true,
    "slideshow": {
     "slide_type": "slide"
    },
    "tags": []
   },
   "source": [
    "## Simpson's paradox\n",
    "\n",
    "<br>\n",
    "\n",
    "<center><img src=\"imgs/simpsons.png\" width=50%></center>"
   ]
  },
  {
   "cell_type": "markdown",
   "id": "a8a330c7",
   "metadata": {
    "editable": true,
    "slideshow": {
     "slide_type": "slide"
    },
    "tags": []
   },
   "source": [
    "### Example: Grades\n",
    "\n",
    "- Two students, Lisa and Bart, just finished their first year at UCSD. They both took a different number of classes in Fall, Winter, and Spring.\n",
    "\n",
    "- Each quarter, Lisa had a higher GPA than Bart.\n",
    "\n",
    "- But Bart has a higher overall GPA.\n",
    "\n",
    "- How is this possible? 🤔"
   ]
  },
  {
   "cell_type": "markdown",
   "id": "ef31642c",
   "metadata": {
    "editable": true,
    "slideshow": {
     "slide_type": "slide"
    },
    "tags": []
   },
   "source": [
    "Run this cell to create DataFrames that contain each students' grades."
   ]
  },
  {
   "cell_type": "code",
   "execution_count": 26,
   "id": "f859a42e",
   "metadata": {
    "editable": true,
    "slideshow": {
     "slide_type": ""
    },
    "tags": []
   },
   "outputs": [],
   "source": [
    "lisa = pd.DataFrame([[20, 46], [18, 54], [5, 20]],\n",
    "    columns=['Units', 'Grade Points Earned'],\n",
    "    index=['Fall', 'Winter', 'Spring'],\n",
    ")\n",
    "lisa.columns.name = 'Lisa' # This allows us to see the name \"Lisa\" in the top left of the DataFrame.\n",
    "\n",
    "bart = pd.DataFrame([[5, 10], [5, 13.5], [22, 81.4]],\n",
    "    columns=['Units', 'Grade Points Earned'],\n",
    "    index=['Fall', 'Winter', 'Spring'],\n",
    ")\n",
    "bart.columns.name = 'Bart'"
   ]
  },
  {
   "cell_type": "markdown",
   "id": "778dc50b",
   "metadata": {
    "editable": true,
    "slideshow": {
     "slide_type": "slide"
    },
    "tags": []
   },
   "source": [
    "### Quarter-specific vs. overall GPAs\n",
    "\n",
    "**Note**: The number of \"grade points\" earned for a course is\n",
    "\n",
    "$$\\text{number of units} \\cdot \\text{grade (out of 4)}$$\n",
    "\n",
    "For instance, an A- in a 4 unit course earns $3.7 \\cdot 4 = 14.8$ grade points."
   ]
  },
  {
   "cell_type": "code",
   "execution_count": 27,
   "id": "86c712d5",
   "metadata": {
    "editable": true,
    "slideshow": {
     "slide_type": ""
    },
    "tags": []
   },
   "outputs": [
    {
     "data": {
      "text/html": [
       "\n",
       "        <div style=\"display: flex; gap: 1rem;\">\n",
       "        <table border=\"1\" class=\"dataframe\">\n",
       "  <thead>\n",
       "    <tr style=\"text-align: right;\">\n",
       "      <th>Lisa</th>\n",
       "      <th>Units</th>\n",
       "      <th>Grade Points Earned</th>\n",
       "    </tr>\n",
       "  </thead>\n",
       "  <tbody>\n",
       "    <tr>\n",
       "      <th>Fall</th>\n",
       "      <td>20</td>\n",
       "      <td>46</td>\n",
       "    </tr>\n",
       "    <tr>\n",
       "      <th>Winter</th>\n",
       "      <td>18</td>\n",
       "      <td>54</td>\n",
       "    </tr>\n",
       "    <tr>\n",
       "      <th>Spring</th>\n",
       "      <td>5</td>\n",
       "      <td>20</td>\n",
       "    </tr>\n",
       "  </tbody>\n",
       "</table><table border=\"1\" class=\"dataframe\">\n",
       "  <thead>\n",
       "    <tr style=\"text-align: right;\">\n",
       "      <th>Bart</th>\n",
       "      <th>Units</th>\n",
       "      <th>Grade Points Earned</th>\n",
       "    </tr>\n",
       "  </thead>\n",
       "  <tbody>\n",
       "    <tr>\n",
       "      <th>Fall</th>\n",
       "      <td>5</td>\n",
       "      <td>10.0</td>\n",
       "    </tr>\n",
       "    <tr>\n",
       "      <th>Winter</th>\n",
       "      <td>5</td>\n",
       "      <td>13.5</td>\n",
       "    </tr>\n",
       "    <tr>\n",
       "      <th>Spring</th>\n",
       "      <td>22</td>\n",
       "      <td>81.4</td>\n",
       "    </tr>\n",
       "  </tbody>\n",
       "</table>\n",
       "        </div>\n",
       "    "
      ],
      "text/plain": [
       "<IPython.core.display.HTML object>"
      ]
     },
     "metadata": {},
     "output_type": "display_data"
    }
   ],
   "source": [
    "dfs_side_by_side(lisa, bart)"
   ]
  },
  {
   "cell_type": "markdown",
   "id": "b9d1793e",
   "metadata": {
    "editable": true,
    "slideshow": {
     "slide_type": "fragment"
    },
    "tags": []
   },
   "source": [
    "Lisa had a higher GPA in all three quarters."
   ]
  },
  {
   "cell_type": "code",
   "execution_count": 28,
   "id": "f4e9fd96",
   "metadata": {
    "editable": true,
    "slideshow": {
     "slide_type": ""
    },
    "tags": []
   },
   "outputs": [
    {
     "data": {
      "text/html": [
       "<div>\n",
       "<style scoped>\n",
       "    .dataframe tbody tr th:only-of-type {\n",
       "        vertical-align: middle;\n",
       "    }\n",
       "\n",
       "    .dataframe tbody tr th {\n",
       "        vertical-align: top;\n",
       "    }\n",
       "\n",
       "    .dataframe thead th {\n",
       "        text-align: right;\n",
       "    }\n",
       "</style>\n",
       "<table border=\"1\" class=\"dataframe\">\n",
       "  <thead>\n",
       "    <tr style=\"text-align: right;\">\n",
       "      <th></th>\n",
       "      <th>Lisa's Quarter GPA</th>\n",
       "      <th>Bart's Quarter GPA</th>\n",
       "    </tr>\n",
       "  </thead>\n",
       "  <tbody>\n",
       "    <tr>\n",
       "      <th>Fall</th>\n",
       "      <td>2.3</td>\n",
       "      <td>2.0</td>\n",
       "    </tr>\n",
       "    <tr>\n",
       "      <th>Winter</th>\n",
       "      <td>3.0</td>\n",
       "      <td>2.7</td>\n",
       "    </tr>\n",
       "    <tr>\n",
       "      <th>Spring</th>\n",
       "      <td>4.0</td>\n",
       "      <td>3.7</td>\n",
       "    </tr>\n",
       "  </tbody>\n",
       "</table>\n",
       "</div>"
      ],
      "text/plain": [
       "        Lisa's Quarter GPA  Bart's Quarter GPA\n",
       "Fall                   2.3                 2.0\n",
       "Winter                 3.0                 2.7\n",
       "Spring                 4.0                 3.7"
      ]
     },
     "execution_count": 28,
     "metadata": {},
     "output_type": "execute_result"
    }
   ],
   "source": [
    "quarterly_gpas = pd.DataFrame({\n",
    "    \"Lisa's Quarter GPA\": lisa['Grade Points Earned'] / lisa['Units'],\n",
    "    \"Bart's Quarter GPA\": bart['Grade Points Earned'] / bart['Units'],\n",
    "})\n",
    "\n",
    "quarterly_gpas"
   ]
  },
  {
   "cell_type": "markdown",
   "id": "89b12bd6",
   "metadata": {
    "editable": true,
    "slideshow": {
     "slide_type": "slide"
    },
    "tags": []
   },
   "source": [
    "<div class=\"alert alert-warning\">\n",
    "    <h3>Question 🤔 (Answer at <a href=\"https://dsc80.com/q\">dsc80.com/q</a>)</h3>\n",
    "\n",
    "Code: `lec04-gpa`\n",
    "</div>\n",
    "\n",
    "Use the DataFrame `lisa` to compute Lisa's overall GPA, and use the DataFrame `bart` to compute Bart's overall GPA."
   ]
  },
  {
   "cell_type": "code",
   "execution_count": 29,
   "id": "abe9ff14",
   "metadata": {
    "editable": true,
    "slideshow": {
     "slide_type": ""
    },
    "tags": []
   },
   "outputs": [
    {
     "data": {
      "text/html": [
       "\n",
       "        <div style=\"display: flex; gap: 1rem;\">\n",
       "        <table border=\"1\" class=\"dataframe\">\n",
       "  <thead>\n",
       "    <tr style=\"text-align: right;\">\n",
       "      <th>Lisa</th>\n",
       "      <th>Units</th>\n",
       "      <th>Grade Points Earned</th>\n",
       "    </tr>\n",
       "  </thead>\n",
       "  <tbody>\n",
       "    <tr>\n",
       "      <th>Fall</th>\n",
       "      <td>20</td>\n",
       "      <td>46</td>\n",
       "    </tr>\n",
       "    <tr>\n",
       "      <th>Winter</th>\n",
       "      <td>18</td>\n",
       "      <td>54</td>\n",
       "    </tr>\n",
       "    <tr>\n",
       "      <th>Spring</th>\n",
       "      <td>5</td>\n",
       "      <td>20</td>\n",
       "    </tr>\n",
       "  </tbody>\n",
       "</table><table border=\"1\" class=\"dataframe\">\n",
       "  <thead>\n",
       "    <tr style=\"text-align: right;\">\n",
       "      <th>Bart</th>\n",
       "      <th>Units</th>\n",
       "      <th>Grade Points Earned</th>\n",
       "    </tr>\n",
       "  </thead>\n",
       "  <tbody>\n",
       "    <tr>\n",
       "      <th>Fall</th>\n",
       "      <td>5</td>\n",
       "      <td>10.0</td>\n",
       "    </tr>\n",
       "    <tr>\n",
       "      <th>Winter</th>\n",
       "      <td>5</td>\n",
       "      <td>13.5</td>\n",
       "    </tr>\n",
       "    <tr>\n",
       "      <th>Spring</th>\n",
       "      <td>22</td>\n",
       "      <td>81.4</td>\n",
       "    </tr>\n",
       "  </tbody>\n",
       "</table>\n",
       "        </div>\n",
       "    "
      ],
      "text/plain": [
       "<IPython.core.display.HTML object>"
      ]
     },
     "metadata": {},
     "output_type": "display_data"
    }
   ],
   "source": [
    "# Helper function to show lisa and bart side-by-side to save screen space\n",
    "dfs_side_by_side(lisa, bart)"
   ]
  },
  {
   "cell_type": "code",
   "execution_count": 30,
   "id": "4eb80ae0-a380-4670-a848-551392e2f32e",
   "metadata": {},
   "outputs": [
    {
     "data": {
      "text/plain": [
       "np.float64(3.278125)"
      ]
     },
     "execution_count": 30,
     "metadata": {},
     "output_type": "execute_result"
    }
   ],
   "source": [
    "lisa['Grade Points Earned'].sum() / lisa['Units'].sum()\n",
    "bart['Grade Points Earned'].sum() / bart['Units'].sum()"
   ]
  },
  {
   "cell_type": "markdown",
   "id": "91f345d5",
   "metadata": {
    "editable": true,
    "slideshow": {
     "slide_type": "slide"
    },
    "tags": []
   },
   "source": [
    "### What happened?"
   ]
  },
  {
   "cell_type": "code",
   "execution_count": 31,
   "id": "c1296389",
   "metadata": {
    "editable": true,
    "slideshow": {
     "slide_type": ""
    },
    "tags": []
   },
   "outputs": [
    {
     "data": {
      "text/html": [
       "<div>\n",
       "<style scoped>\n",
       "    .dataframe tbody tr th:only-of-type {\n",
       "        vertical-align: middle;\n",
       "    }\n",
       "\n",
       "    .dataframe tbody tr th {\n",
       "        vertical-align: top;\n",
       "    }\n",
       "\n",
       "    .dataframe thead th {\n",
       "        text-align: right;\n",
       "    }\n",
       "</style>\n",
       "<table border=\"1\" class=\"dataframe\">\n",
       "  <thead>\n",
       "    <tr style=\"text-align: right;\">\n",
       "      <th></th>\n",
       "      <th>Lisa's Quarter GPA</th>\n",
       "      <th>Lisa_Units</th>\n",
       "      <th>Bart's Quarter GPA</th>\n",
       "      <th>Bart_Units</th>\n",
       "    </tr>\n",
       "  </thead>\n",
       "  <tbody>\n",
       "    <tr>\n",
       "      <th>Fall</th>\n",
       "      <td>2.3</td>\n",
       "      <td>20</td>\n",
       "      <td>2.0</td>\n",
       "      <td>5</td>\n",
       "    </tr>\n",
       "    <tr>\n",
       "      <th>Winter</th>\n",
       "      <td>3.0</td>\n",
       "      <td>18</td>\n",
       "      <td>2.7</td>\n",
       "      <td>5</td>\n",
       "    </tr>\n",
       "    <tr>\n",
       "      <th>Spring</th>\n",
       "      <td>4.0</td>\n",
       "      <td>5</td>\n",
       "      <td>3.7</td>\n",
       "      <td>22</td>\n",
       "    </tr>\n",
       "  </tbody>\n",
       "</table>\n",
       "</div>"
      ],
      "text/plain": [
       "        Lisa's Quarter GPA  Lisa_Units  Bart's Quarter GPA  Bart_Units\n",
       "Fall                   2.3          20                 2.0           5\n",
       "Winter                 3.0          18                 2.7           5\n",
       "Spring                 4.0           5                 3.7          22"
      ]
     },
     "execution_count": 31,
     "metadata": {},
     "output_type": "execute_result"
    }
   ],
   "source": [
    "(quarterly_gpas\n",
    " .assign(Lisa_Units=lisa['Units'],\n",
    "         Bart_Units=bart['Units'])\n",
    " .iloc[:, [0, 2, 1, 3]]\n",
    ")"
   ]
  },
  {
   "cell_type": "markdown",
   "id": "9097e730",
   "metadata": {
    "editable": true,
    "slideshow": {
     "slide_type": "fragment"
    },
    "tags": []
   },
   "source": [
    "- When Lisa and Bart both performed poorly, Lisa took more units than Bart. **This brought down 📉 Lisa's overall average.**\n",
    "\n",
    "- When Lisa and Bart both performed well, Bart took more units than Lisa. **This brought up 📈 Bart's overall average.**"
   ]
  },
  {
   "cell_type": "markdown",
   "id": "2fd844c7",
   "metadata": {
    "editable": true,
    "slideshow": {
     "slide_type": "slide"
    },
    "tags": []
   },
   "source": [
    "### Simpson's paradox\n",
    "\n",
    "- Simpson's paradox occurs when **grouped data and ungrouped data show opposing trends**.\n",
    "    - It is named after Edward H. Simpson, not Lisa or Bart Simpson.\n",
    "\n",
    "- It often happens because there is a hidden factor (i.e. a **confounder**) within the data that influences results.\n",
    "\n",
    "- **Question**: What is the \"correct\" way to summarize your data? What if you had to act on these results?"
   ]
  },
  {
   "cell_type": "markdown",
   "id": "4f62c363",
   "metadata": {
    "editable": true,
    "slideshow": {
     "slide_type": "slide"
    },
    "tags": []
   },
   "source": [
    "### Example: How Berkeley was _almost_ sued for gender discrimination (1973)\n",
    "\n",
    "What do you notice?\n",
    "\n",
    "<center><img src='imgs/berkeley.png' width=70%></center>"
   ]
  },
  {
   "cell_type": "code",
   "execution_count": 32,
   "id": "d0da5b55",
   "metadata": {
    "editable": true,
    "slideshow": {
     "slide_type": "slide"
    },
    "tags": []
   },
   "outputs": [
    {
     "data": {
      "text/html": [
       "\n",
       "        <iframe\n",
       "            width=\"960\"\n",
       "            height=\"569\"\n",
       "            src=\"https://docs.google.com/presentation/d/e/2PACX-1vSbFSaxaYZ0NcgrgqZLvjhkjX-5MQzAITWAsEFZHnix3j1c0qN8Vd1rogTAQP7F7Nf5r-JWExnGey7h/embed?start=false&rm=minimal\"\n",
       "            frameborder=\"0\"\n",
       "            allowfullscreen\n",
       "            \n",
       "        ></iframe>\n",
       "        "
      ],
      "text/plain": [
       "<IPython.lib.display.IFrame at 0x29eb3d83a10>"
      ]
     },
     "metadata": {},
     "output_type": "display_data"
    }
   ],
   "source": [
    "show_paradox_slides()"
   ]
  },
  {
   "cell_type": "markdown",
   "id": "0e443b86",
   "metadata": {
    "editable": true,
    "slideshow": {
     "slide_type": "slide"
    },
    "tags": []
   },
   "source": [
    "### What happened?\n",
    "\n",
    "- The overall acceptance rate for women (30%) was lower than it was for men (45%).\n",
    "\n",
    "- However, most departments (A, B, D, F) had a higher acceptance rate for women.\n",
    "\n",
    "- Department A had a 62% acceptance rate for men and an 82% acceptance rate for women!\n",
    "    - 31% of men applied to Department A.\n",
    "    - 6% of women applied to Department A.\n",
    "\n",
    "- Department F had a 6% acceptance rate for men and a 7% acceptance rate for women!\n",
    "    - 14% of men applied to Department F.\n",
    "    - 19% of women applied to Department F.\n",
    "\n",
    "- **Conclusion**: Women tended to apply to departments with a lower acceptance rate; the data don't support the hypothesis that there was major gender discrimination against women."
   ]
  },
  {
   "cell_type": "markdown",
   "id": "0de1b64a",
   "metadata": {
    "editable": true,
    "jp-MarkdownHeadingCollapsed": true,
    "slideshow": {
     "slide_type": "slide"
    },
    "tags": []
   },
   "source": [
    "### Example: Restaurant reviews and phone types\n",
    "\n",
    "* You are deciding whether to eat at Dirty Birds or The Loft.\n",
    "\n",
    "* Suppose Yelp shows ratings aggregated by phone type (Android vs. iPhone).\n",
    "\n",
    "|Phone Type|Stars for Dirty Birds|Stars for The Loft|\n",
    "|---|---|---|\n",
    "|Android|4.24|4.0|\n",
    "|iPhone|2.99|2.79|\n",
    "|**All**|**3.32**|**3.37**|\n",
    "\n",
    "* **Question**: Should you choose Dirty Birds or The Loft?\n",
    "\n",
    "* **Answer**: The type of phone you use likely has nothing to do with your taste in food – pick the restaurant that is rated higher overall."
   ]
  },
  {
   "cell_type": "markdown",
   "id": "df2f81be",
   "metadata": {
    "editable": true,
    "slideshow": {
     "slide_type": "slide"
    },
    "tags": []
   },
   "source": [
    "### Rule of thumb 👍\n",
    "\n",
    "- Let $(X, Y)$ be a pair of variables of interest. Simpson's paradox occurs when the association between $X$ and $Y$ reverses when we condition on $Z$, a third variable.\n",
    "\n",
    "- If $Z$ has a **causal** connection to both $X$ and $Y$, we should condition on $Z$ and use deaggregated data.\n",
    "\n",
    "- If not, we shouldn't condition on $Z$ and use the aggregated data instead.\n",
    "\n",
    "- Berkeley gender discrimination: $X$ is gender, $Y$ is acceptance rate. $Z$ is the department.\n",
    "    - $Z$ has a plausible causal effect on both $X$ and $Y$, so we should condition on $Z$.\n",
    "\n",
    "- Yelp ratings: $X$ is the restaurant, $Y$ is the average stars. $Z$ is the phone type.\n",
    "    - $Z$ doesn't plausibly cause $X$ to change, so we should not condition on $Z$."
   ]
  },
  {
   "cell_type": "markdown",
   "id": "1e2e46f5",
   "metadata": {
    "editable": true,
    "slideshow": {
     "slide_type": "slide"
    },
    "tags": []
   },
   "source": [
    "### Takeaways\n",
    "\n",
    "Be skeptical of...\n",
    "\n",
    "- Aggregate statistics.\n",
    "- People misusing statistics to \"prove\" that discrimination doesn't exist.\n",
    "- Drawing conclusions from individual publications ($p$-hacking, publication bias, narrow focus, etc.).\n",
    "- Everything!\n",
    "\n",
    "**We need to apply domain knowledge and human judgement calls to decide what to do when Simpson's paradox is present.**"
   ]
  },
  {
   "cell_type": "markdown",
   "id": "0bda3331",
   "metadata": {
    "editable": true,
    "slideshow": {
     "slide_type": "slide"
    },
    "tags": []
   },
   "source": [
    "### Really?\n",
    "\n",
    "To handle Simpson's paradox with rigor, we need some ideas from causal inference which we don't have time to cover in DSC 80. This video has a good example of how to approach Simpson's paradox using a minimal amount of causal inference, if you're curious (not required for DSC 80)."
   ]
  },
  {
   "cell_type": "code",
   "execution_count": 33,
   "id": "ecce9e2a",
   "metadata": {
    "editable": true,
    "slideshow": {
     "slide_type": ""
    },
    "tags": []
   },
   "outputs": [
    {
     "data": {
      "text/html": [
       "\n",
       "        <iframe\n",
       "            width=\"800\"\n",
       "            height=\"450\"\n",
       "            src=\"https://www.youtube-nocookie.com/embed/zeuW1Z2EtLs?si=l2Dl7P-5RCq3ODpo\"\n",
       "            frameborder=\"0\"\n",
       "            allowfullscreen\n",
       "            \n",
       "        ></iframe>\n",
       "        "
      ],
      "text/plain": [
       "<IPython.lib.display.IFrame at 0x29ead19f1d0>"
      ]
     },
     "execution_count": 33,
     "metadata": {},
     "output_type": "execute_result"
    }
   ],
   "source": [
    "IFrame('https://www.youtube-nocookie.com/embed/zeuW1Z2EtLs?si=l2Dl7P-5RCq3ODpo',\n",
    "       width=800, height=450)"
   ]
  },
  {
   "cell_type": "markdown",
   "id": "25547cfa",
   "metadata": {
    "editable": true,
    "slideshow": {
     "slide_type": "slide"
    },
    "tags": []
   },
   "source": [
    "### Further reading\n",
    "\n",
    "- [Gender Bias in Admission Statistics?](https://www.cantorsparadise.com/gender-bias-in-admission-statistics-eaabca650810)\n",
    "    - Contains a **great** visualization, but seems to be paywalled now.\n",
    "- [What is Simpson's Paradox?](https://statisticsbyjim.com/basics/simpsons-paradox/) \n",
    "- [Understanding Simpson's Paradox](https://ftp.cs.ucla.edu/pub/stat_ser/r414.pdf)\n",
    "    - Requires more statistics background, but gives a rigorous understanding of when to use aggregated vs. unaggregated data."
   ]
  },
  {
   "cell_type": "markdown",
   "id": "f1c62543",
   "metadata": {
    "editable": true,
    "slideshow": {
     "slide_type": "slide"
    },
    "tags": []
   },
   "source": [
    "## Merging"
   ]
  },
  {
   "cell_type": "markdown",
   "id": "4ec22b96",
   "metadata": {
    "editable": true,
    "slideshow": {
     "slide_type": "slide"
    },
    "tags": []
   },
   "source": [
    "### Example: Name categories\n",
    "\n",
    "The [New York Times article from Lecture 1](https://archive.is/NpORG) claims that certain categories of names are becoming more popular. For example:\n",
    "\n",
    "- Forbidden names like Lucifer, Lilith, Kali, and Danger.\n",
    "\n",
    "- Evangelical names like Amen, Savior, Canaan, and Creed.\n",
    "\n",
    "- Mythological names.\n",
    "\n",
    "- It also claims that baby boomer names are becoming less popular.\n",
    "\n",
    "Let's see if we can verify these claims using data!"
   ]
  },
  {
   "cell_type": "markdown",
   "id": "2fdf7395",
   "metadata": {
    "editable": true,
    "slideshow": {
     "slide_type": "slide"
    },
    "tags": []
   },
   "source": [
    "### Loading in the data\n",
    "\n",
    "Our first DataFrame, `baby`, is the same as we saw in Lecture 1. It has one row for every combination of `'Name'`, `'Sex'`, and `'Year'`."
   ]
  },
  {
   "cell_type": "code",
   "execution_count": 34,
   "id": "e05bad6f",
   "metadata": {
    "editable": true,
    "scrolled": true,
    "slideshow": {
     "slide_type": ""
    },
    "tags": []
   },
   "outputs": [
    {
     "data": {
      "text/html": [
       "<div>\n",
       "<style scoped>\n",
       "    .dataframe tbody tr th:only-of-type {\n",
       "        vertical-align: middle;\n",
       "    }\n",
       "\n",
       "    .dataframe tbody tr th {\n",
       "        vertical-align: top;\n",
       "    }\n",
       "\n",
       "    .dataframe thead th {\n",
       "        text-align: right;\n",
       "    }\n",
       "</style>\n",
       "<table border=\"1\" class=\"dataframe\">\n",
       "  <thead>\n",
       "    <tr style=\"text-align: right;\">\n",
       "      <th></th>\n",
       "      <th>Name</th>\n",
       "      <th>Sex</th>\n",
       "      <th>Count</th>\n",
       "      <th>Year</th>\n",
       "    </tr>\n",
       "  </thead>\n",
       "  <tbody>\n",
       "    <tr>\n",
       "      <th>0</th>\n",
       "      <td>Liam</td>\n",
       "      <td>M</td>\n",
       "      <td>20456</td>\n",
       "      <td>2022</td>\n",
       "    </tr>\n",
       "    <tr>\n",
       "      <th>1</th>\n",
       "      <td>Noah</td>\n",
       "      <td>M</td>\n",
       "      <td>18621</td>\n",
       "      <td>2022</td>\n",
       "    </tr>\n",
       "    <tr>\n",
       "      <th>2</th>\n",
       "      <td>Olivia</td>\n",
       "      <td>F</td>\n",
       "      <td>16573</td>\n",
       "      <td>2022</td>\n",
       "    </tr>\n",
       "    <tr>\n",
       "      <th>...</th>\n",
       "      <td>...</td>\n",
       "      <td>...</td>\n",
       "      <td>...</td>\n",
       "      <td>...</td>\n",
       "    </tr>\n",
       "    <tr>\n",
       "      <th>2085155</th>\n",
       "      <td>Wright</td>\n",
       "      <td>M</td>\n",
       "      <td>5</td>\n",
       "      <td>1880</td>\n",
       "    </tr>\n",
       "    <tr>\n",
       "      <th>2085156</th>\n",
       "      <td>York</td>\n",
       "      <td>M</td>\n",
       "      <td>5</td>\n",
       "      <td>1880</td>\n",
       "    </tr>\n",
       "    <tr>\n",
       "      <th>2085157</th>\n",
       "      <td>Zachariah</td>\n",
       "      <td>M</td>\n",
       "      <td>5</td>\n",
       "      <td>1880</td>\n",
       "    </tr>\n",
       "  </tbody>\n",
       "</table>\n",
       "<p>2085158 rows × 4 columns</p>\n",
       "</div>"
      ],
      "text/plain": [
       "              Name Sex  Count  Year\n",
       "0             Liam   M  20456  2022\n",
       "1             Noah   M  18621  2022\n",
       "2           Olivia   F  16573  2022\n",
       "...            ...  ..    ...   ...\n",
       "2085155     Wright   M      5  1880\n",
       "2085156       York   M      5  1880\n",
       "2085157  Zachariah   M      5  1880\n",
       "\n",
       "[2085158 rows x 4 columns]"
      ]
     },
     "execution_count": 34,
     "metadata": {},
     "output_type": "execute_result"
    }
   ],
   "source": [
    "baby_path = Path('data') / 'baby.csv'\n",
    "baby = pd.read_csv(baby_path)\n",
    "baby"
   ]
  },
  {
   "cell_type": "markdown",
   "id": "f2d7eaeb",
   "metadata": {
    "editable": true,
    "slideshow": {
     "slide_type": "fragment"
    },
    "tags": []
   },
   "source": [
    "Our second DataFrame, `nyt`, contains the New York Times' categorization of each of several names, based on the aforementioned article."
   ]
  },
  {
   "cell_type": "code",
   "execution_count": 35,
   "id": "f60eca7e",
   "metadata": {
    "editable": true,
    "slideshow": {
     "slide_type": ""
    },
    "tags": []
   },
   "outputs": [
    {
     "data": {
      "text/html": [
       "<div>\n",
       "<style scoped>\n",
       "    .dataframe tbody tr th:only-of-type {\n",
       "        vertical-align: middle;\n",
       "    }\n",
       "\n",
       "    .dataframe tbody tr th {\n",
       "        vertical-align: top;\n",
       "    }\n",
       "\n",
       "    .dataframe thead th {\n",
       "        text-align: right;\n",
       "    }\n",
       "</style>\n",
       "<table border=\"1\" class=\"dataframe\">\n",
       "  <thead>\n",
       "    <tr style=\"text-align: right;\">\n",
       "      <th></th>\n",
       "      <th>nyt_name</th>\n",
       "      <th>category</th>\n",
       "    </tr>\n",
       "  </thead>\n",
       "  <tbody>\n",
       "    <tr>\n",
       "      <th>0</th>\n",
       "      <td>Lucifer</td>\n",
       "      <td>forbidden</td>\n",
       "    </tr>\n",
       "    <tr>\n",
       "      <th>1</th>\n",
       "      <td>Lilith</td>\n",
       "      <td>forbidden</td>\n",
       "    </tr>\n",
       "    <tr>\n",
       "      <th>2</th>\n",
       "      <td>Danger</td>\n",
       "      <td>forbidden</td>\n",
       "    </tr>\n",
       "    <tr>\n",
       "      <th>...</th>\n",
       "      <td>...</td>\n",
       "      <td>...</td>\n",
       "    </tr>\n",
       "    <tr>\n",
       "      <th>20</th>\n",
       "      <td>Venus</td>\n",
       "      <td>celestial</td>\n",
       "    </tr>\n",
       "    <tr>\n",
       "      <th>21</th>\n",
       "      <td>Celestia</td>\n",
       "      <td>celestial</td>\n",
       "    </tr>\n",
       "    <tr>\n",
       "      <th>22</th>\n",
       "      <td>Skye</td>\n",
       "      <td>celestial</td>\n",
       "    </tr>\n",
       "  </tbody>\n",
       "</table>\n",
       "<p>23 rows × 2 columns</p>\n",
       "</div>"
      ],
      "text/plain": [
       "    nyt_name   category\n",
       "0    Lucifer  forbidden\n",
       "1     Lilith  forbidden\n",
       "2     Danger  forbidden\n",
       "..       ...        ...\n",
       "20     Venus  celestial\n",
       "21  Celestia  celestial\n",
       "22      Skye  celestial\n",
       "\n",
       "[23 rows x 2 columns]"
      ]
     },
     "execution_count": 35,
     "metadata": {},
     "output_type": "execute_result"
    }
   ],
   "source": [
    "nyt_path = Path('data') / 'nyt_names.csv'\n",
    "nyt = pd.read_csv(nyt_path)\n",
    "nyt"
   ]
  },
  {
   "cell_type": "markdown",
   "id": "6e384d81",
   "metadata": {
    "editable": true,
    "slideshow": {
     "slide_type": "fragment"
    },
    "tags": []
   },
   "source": [
    "**Issue**: To find the number of babies born with (for example) forbidden names each year, we need to combine information from both `baby` and `nyt`."
   ]
  },
  {
   "cell_type": "markdown",
   "id": "efe49a7d",
   "metadata": {
    "editable": true,
    "slideshow": {
     "slide_type": "slide"
    },
    "tags": []
   },
   "source": [
    "### Merging\n",
    "\n",
    "- We want to link rows from `baby` and `nyt` together whenever the names match up.\n",
    "- This is a **merge** (`pandas` term), i.e. a **join** (SQL term).\n",
    "- A merge is appropriate when we have two sources of information **about the same individuals** that is **linked by a common column(s)**.\n",
    "- The common column(s) are called the **join key**."
   ]
  },
  {
   "cell_type": "markdown",
   "id": "4d99d927",
   "metadata": {
    "editable": true,
    "slideshow": {
     "slide_type": "slide"
    },
    "tags": []
   },
   "source": [
    "### Example merge\n",
    "\n",
    "Let's demonstrate on a small subset of `baby` and `nyt`."
   ]
  },
  {
   "cell_type": "code",
   "execution_count": 36,
   "id": "abff9e98",
   "metadata": {
    "editable": true,
    "slideshow": {
     "slide_type": ""
    },
    "tags": []
   },
   "outputs": [
    {
     "data": {
      "text/html": [
       "\n",
       "        <div style=\"display: flex; gap: 1rem;\">\n",
       "        <table border=\"1\" class=\"dataframe\">\n",
       "  <thead>\n",
       "    <tr style=\"text-align: right;\">\n",
       "      <th></th>\n",
       "      <th>Name</th>\n",
       "      <th>Sex</th>\n",
       "      <th>Count</th>\n",
       "      <th>Year</th>\n",
       "    </tr>\n",
       "  </thead>\n",
       "  <tbody>\n",
       "    <tr>\n",
       "      <th>0</th>\n",
       "      <td>Noah</td>\n",
       "      <td>M</td>\n",
       "      <td>18407</td>\n",
       "      <td>2020</td>\n",
       "    </tr>\n",
       "    <tr>\n",
       "      <th>1</th>\n",
       "      <td>Julius</td>\n",
       "      <td>M</td>\n",
       "      <td>966</td>\n",
       "      <td>2020</td>\n",
       "    </tr>\n",
       "    <tr>\n",
       "      <th>2</th>\n",
       "      <td>Karen</td>\n",
       "      <td>F</td>\n",
       "      <td>330</td>\n",
       "      <td>2020</td>\n",
       "    </tr>\n",
       "    <tr>\n",
       "      <th>3</th>\n",
       "      <td>Noah</td>\n",
       "      <td>F</td>\n",
       "      <td>306</td>\n",
       "      <td>2020</td>\n",
       "    </tr>\n",
       "    <tr>\n",
       "      <th>4</th>\n",
       "      <td>Karen</td>\n",
       "      <td>M</td>\n",
       "      <td>6</td>\n",
       "      <td>2020</td>\n",
       "    </tr>\n",
       "  </tbody>\n",
       "</table><table border=\"1\" class=\"dataframe\">\n",
       "  <thead>\n",
       "    <tr style=\"text-align: right;\">\n",
       "      <th></th>\n",
       "      <th>nyt_name</th>\n",
       "      <th>category</th>\n",
       "    </tr>\n",
       "  </thead>\n",
       "  <tbody>\n",
       "    <tr>\n",
       "      <th>0</th>\n",
       "      <td>Karen</td>\n",
       "      <td>boomer</td>\n",
       "    </tr>\n",
       "    <tr>\n",
       "      <th>1</th>\n",
       "      <td>Julius</td>\n",
       "      <td>mythology</td>\n",
       "    </tr>\n",
       "    <tr>\n",
       "      <th>2</th>\n",
       "      <td>Freya</td>\n",
       "      <td>mythology</td>\n",
       "    </tr>\n",
       "  </tbody>\n",
       "</table>\n",
       "        </div>\n",
       "    "
      ],
      "text/plain": [
       "<IPython.core.display.HTML object>"
      ]
     },
     "metadata": {},
     "output_type": "display_data"
    }
   ],
   "source": [
    "nyt_small = nyt.iloc[[11, 12, 14]].reset_index(drop=True)\n",
    "\n",
    "names_to_keep = ['Julius', 'Karen', 'Noah']\n",
    "baby_small = (baby\n",
    " .query(\"Year == 2020 and Name in @names_to_keep\")\n",
    " .reset_index(drop=True)\n",
    ")\n",
    "\n",
    "dfs_side_by_side(baby_small, nyt_small)"
   ]
  },
  {
   "cell_type": "code",
   "execution_count": 37,
   "id": "21686fc2",
   "metadata": {
    "editable": true,
    "slideshow": {
     "slide_type": ""
    },
    "tags": []
   },
   "outputs": [
    {
     "data": {
      "text/html": [
       "\n",
       "<div class=\"pt-viz\" id=\"pt-viz-0\"></div>\n",
       "<script>\n",
       "drawWsv('#pt-viz-0', \"{\\n  \\\"code\\\": \\\"baby_small.merge(nyt_small, left_on='Name', right_on='nyt_name')\\\\n\\\",\\n  \\\"explanation\\\": [\\n    {\\n      \\\"type\\\": \\\"MergeCall\\\",\\n      \\\"code_step\\\": \\\"baby_small.merge(nyt_small, left_on='Name', right_on='nyt_name')\\\",\\n      \\\"fragment\\\": {\\n        \\\"start\\\": {\\n          \\\"line\\\": 0,\\n          \\\"ch\\\": 10\\n        },\\n        \\\"end\\\": {\\n          \\\"line\\\": 0,\\n          \\\"ch\\\": 64\\n        }\\n      },\\n      \\\"marks\\\": [\\n        {\\n          \\\"type\\\": \\\"using\\\",\\n          \\\"pos\\\": {\\n            \\\"type\\\": \\\"axis\\\",\\n            \\\"anchor\\\": \\\"lhs\\\",\\n            \\\"select\\\": \\\"column\\\",\\n            \\\"label\\\": \\\"Name\\\"\\n          }\\n        },\\n        {\\n          \\\"type\\\": \\\"using\\\",\\n          \\\"pos\\\": {\\n            \\\"type\\\": \\\"axis\\\",\\n            \\\"anchor\\\": \\\"lhs2\\\",\\n            \\\"select\\\": \\\"column\\\",\\n            \\\"label\\\": \\\"nyt_name\\\"\\n          }\\n        },\\n        {\\n          \\\"type\\\": \\\"using\\\",\\n          \\\"pos\\\": {\\n            \\\"type\\\": \\\"axis\\\",\\n            \\\"anchor\\\": \\\"rhs\\\",\\n            \\\"select\\\": \\\"column\\\",\\n            \\\"label\\\": \\\"Name\\\"\\n          }\\n        },\\n        {\\n          \\\"type\\\": \\\"using\\\",\\n          \\\"pos\\\": {\\n            \\\"type\\\": \\\"axis\\\",\\n            \\\"anchor\\\": \\\"rhs\\\",\\n            \\\"select\\\": \\\"column\\\",\\n            \\\"label\\\": \\\"nyt_name\\\"\\n          }\\n        },\\n        {\\n          \\\"type\\\": \\\"drop\\\",\\n          \\\"pos\\\": {\\n            \\\"type\\\": \\\"axis\\\",\\n            \\\"anchor\\\": \\\"lhs\\\",\\n            \\\"select\\\": \\\"row\\\",\\n            \\\"label\\\": 0\\n          }\\n        },\\n        {\\n          \\\"type\\\": \\\"drop\\\",\\n          \\\"pos\\\": {\\n            \\\"type\\\": \\\"axis\\\",\\n            \\\"anchor\\\": \\\"lhs\\\",\\n            \\\"select\\\": \\\"row\\\",\\n            \\\"label\\\": 3\\n          }\\n        },\\n        {\\n          \\\"type\\\": \\\"drop\\\",\\n          \\\"pos\\\": {\\n            \\\"type\\\": \\\"axis\\\",\\n            \\\"anchor\\\": \\\"lhs2\\\",\\n            \\\"select\\\": \\\"row\\\",\\n            \\\"label\\\": 2\\n          }\\n        },\\n        {\\n          \\\"type\\\": \\\"map_set\\\",\\n          \\\"maps\\\": [\\n            {\\n              \\\"type\\\": \\\"map\\\",\\n              \\\"from\\\": {\\n                \\\"type\\\": \\\"axis\\\",\\n                \\\"anchor\\\": \\\"lhs\\\",\\n                \\\"select\\\": \\\"row\\\",\\n                \\\"label\\\": 1\\n              },\\n              \\\"to\\\": {\\n                \\\"type\\\": \\\"axis\\\",\\n                \\\"anchor\\\": \\\"rhs\\\",\\n                \\\"select\\\": \\\"row\\\",\\n                \\\"label\\\": 0\\n              }\\n            },\\n            {\\n              \\\"type\\\": \\\"map\\\",\\n              \\\"from\\\": {\\n                \\\"type\\\": \\\"axis\\\",\\n                \\\"anchor\\\": \\\"lhs2\\\",\\n                \\\"select\\\": \\\"row\\\",\\n                \\\"label\\\": 1\\n              },\\n              \\\"to\\\": {\\n                \\\"type\\\": \\\"axis\\\",\\n                \\\"anchor\\\": \\\"rhs\\\",\\n                \\\"select\\\": \\\"row\\\",\\n                \\\"label\\\": 0\\n              }\\n            }\\n          ]\\n        },\\n        {\\n          \\\"type\\\": \\\"map_set\\\",\\n          \\\"maps\\\": [\\n            {\\n              \\\"type\\\": \\\"map\\\",\\n              \\\"from\\\": {\\n                \\\"type\\\": \\\"axis\\\",\\n                \\\"anchor\\\": \\\"lhs\\\",\\n                \\\"select\\\": \\\"row\\\",\\n                \\\"label\\\": 2\\n              },\\n              \\\"to\\\": {\\n                \\\"type\\\": \\\"axis\\\",\\n                \\\"anchor\\\": \\\"rhs\\\",\\n                \\\"select\\\": \\\"row\\\",\\n                \\\"label\\\": 1\\n              }\\n            },\\n            {\\n              \\\"type\\\": \\\"map\\\",\\n              \\\"from\\\": {\\n                \\\"type\\\": \\\"axis\\\",\\n                \\\"anchor\\\": \\\"lhs2\\\",\\n                \\\"select\\\": \\\"row\\\",\\n                \\\"label\\\": 0\\n              },\\n              \\\"to\\\": {\\n                \\\"type\\\": \\\"axis\\\",\\n                \\\"anchor\\\": \\\"rhs\\\",\\n                \\\"select\\\": \\\"row\\\",\\n                \\\"label\\\": 1\\n              }\\n            },\\n            {\\n              \\\"type\\\": \\\"map\\\",\\n              \\\"from\\\": {\\n                \\\"type\\\": \\\"axis\\\",\\n                \\\"anchor\\\": \\\"lhs\\\",\\n                \\\"select\\\": \\\"row\\\",\\n                \\\"label\\\": 4\\n              },\\n              \\\"to\\\": {\\n                \\\"type\\\": \\\"axis\\\",\\n                \\\"anchor\\\": \\\"rhs\\\",\\n                \\\"select\\\": \\\"row\\\",\\n                \\\"label\\\": 2\\n              }\\n            },\\n            {\\n              \\\"type\\\": \\\"map\\\",\\n              \\\"from\\\": {\\n                \\\"type\\\": \\\"axis\\\",\\n                \\\"anchor\\\": \\\"lhs2\\\",\\n                \\\"select\\\": \\\"row\\\",\\n                \\\"label\\\": 0\\n              },\\n              \\\"to\\\": {\\n                \\\"type\\\": \\\"axis\\\",\\n                \\\"anchor\\\": \\\"rhs\\\",\\n                \\\"select\\\": \\\"row\\\",\\n                \\\"label\\\": 2\\n              }\\n            }\\n          ]\\n        }\\n      ],\\n      \\\"data\\\": {\\n        \\\"lhs\\\": {\\n          \\\"type\\\": \\\"DataFrame\\\",\\n          \\\"columns\\\": {\\n            \\\"names\\\": [\\n              null\\n            ],\\n            \\\"labels\\\": [\\n              \\\"Name\\\",\\n              \\\"Sex\\\",\\n              \\\"Count\\\",\\n              \\\"Year\\\"\\n            ]\\n          },\\n          \\\"index\\\": {\\n            \\\"names\\\": [\\n              null\\n            ],\\n            \\\"labels\\\": [\\n              0,\\n              1,\\n              2,\\n              3,\\n              4\\n            ]\\n          },\\n          \\\"data\\\": [\\n            [\\n              \\\"Noah\\\",\\n              \\\"M\\\",\\n              18407,\\n              2020\\n            ],\\n            [\\n              \\\"Julius\\\",\\n              \\\"M\\\",\\n              966,\\n              2020\\n            ],\\n            [\\n              \\\"Karen\\\",\\n              \\\"F\\\",\\n              330,\\n              2020\\n            ],\\n            [\\n              \\\"Noah\\\",\\n              \\\"F\\\",\\n              306,\\n              2020\\n            ],\\n            [\\n              \\\"Karen\\\",\\n              \\\"M\\\",\\n              6,\\n              2020\\n            ]\\n          ]\\n        },\\n        \\\"lhs2\\\": {\\n          \\\"type\\\": \\\"DataFrame\\\",\\n          \\\"columns\\\": {\\n            \\\"names\\\": [\\n              null\\n            ],\\n            \\\"labels\\\": [\\n              \\\"nyt_name\\\",\\n              \\\"category\\\"\\n            ]\\n          },\\n          \\\"index\\\": {\\n            \\\"names\\\": [\\n              null\\n            ],\\n            \\\"labels\\\": [\\n              0,\\n              1,\\n              2\\n            ]\\n          },\\n          \\\"data\\\": [\\n            [\\n              \\\"Karen\\\",\\n              \\\"boomer\\\"\\n            ],\\n            [\\n              \\\"Julius\\\",\\n              \\\"mythology\\\"\\n            ],\\n            [\\n              \\\"Freya\\\",\\n              \\\"mythology\\\"\\n            ]\\n          ]\\n        },\\n        \\\"rhs\\\": {\\n          \\\"type\\\": \\\"DataFrame\\\",\\n          \\\"columns\\\": {\\n            \\\"names\\\": [\\n              null\\n            ],\\n            \\\"labels\\\": [\\n              \\\"Name\\\",\\n              \\\"Sex\\\",\\n              \\\"Count\\\",\\n              \\\"Year\\\",\\n              \\\"nyt_name\\\",\\n              \\\"category\\\"\\n            ]\\n          },\\n          \\\"index\\\": {\\n            \\\"names\\\": [\\n              null\\n            ],\\n            \\\"labels\\\": [\\n              0,\\n              1,\\n              2\\n            ]\\n          },\\n          \\\"data\\\": [\\n            [\\n              \\\"Julius\\\",\\n              \\\"M\\\",\\n              966,\\n              2020,\\n              \\\"Julius\\\",\\n              \\\"mythology\\\"\\n            ],\\n            [\\n              \\\"Karen\\\",\\n              \\\"F\\\",\\n              330,\\n              2020,\\n              \\\"Karen\\\",\\n              \\\"boomer\\\"\\n            ],\\n            [\\n              \\\"Karen\\\",\\n              \\\"M\\\",\\n              6,\\n              2020,\\n              \\\"Karen\\\",\\n              \\\"boomer\\\"\\n            ]\\n          ]\\n        }\\n      }\\n    }\\n  ]\\n}\", {\"nohover\": true, \"maxDisplayRows\": 7, \"maxDisplayCols\": 8, \"colorPalette\": [\"#e41a1c\", \"#377eb8\", \"#4daf4a\", \"#984ea3\", \"#ff7f00\", \"#a65628\", \"#f781bf\", \"#999999\"]});\n",
       "</script>\n"
      ],
      "text/plain": [
       "<IPython.core.display.HTML object>"
      ]
     },
     "metadata": {},
     "output_type": "display_data"
    }
   ],
   "source": [
    "%%pt\n",
    "baby_small.merge(nyt_small, left_on='Name', right_on='nyt_name')"
   ]
  },
  {
   "cell_type": "markdown",
   "id": "e43c4eaa",
   "metadata": {
    "editable": true,
    "slideshow": {
     "slide_type": "slide"
    },
    "tags": []
   },
   "source": [
    "### The `merge` method\n",
    "\n",
    "- The `merge` DataFrame method joins two DataFrames by columns or indexes.\n",
    "    - As mentioned before, \"merge\" is just the `pandas` word for \"join.\"\n",
    "\n",
    "- When using the `merge` method, the DataFrame before `merge` is the \"left\" DataFrame, and the DataFrame passed into `merge` is the \"right\" DataFrame.\n",
    "    - In `baby_small.merge(nyt_small)`, `baby_small` is considered the \"left\" DataFrame and `nyt_small` is the \"right\" DataFrame; the columns from the left DataFrame appear to the left of the columns from right DataFrame.\n",
    "\n",
    "- By default:\n",
    "    - If join keys are not specified, all shared columns between the two DataFrames are used.\n",
    "    - The \"type\" of join performed is an inner join. **This is the only type of join you saw in DSC 10, but there are more, as we'll now see!**"
   ]
  },
  {
   "cell_type": "markdown",
   "id": "31ac2b87",
   "metadata": {
    "editable": true,
    "slideshow": {
     "slide_type": "slide"
    },
    "tags": []
   },
   "source": [
    "### Join types: inner joins"
   ]
  },
  {
   "cell_type": "code",
   "execution_count": 38,
   "id": "2206e6f8",
   "metadata": {
    "editable": true,
    "slideshow": {
     "slide_type": ""
    },
    "tags": []
   },
   "outputs": [
    {
     "data": {
      "text/html": [
       "\n",
       "<div class=\"pt-viz\" id=\"pt-viz-1\"></div>\n",
       "<script>\n",
       "drawWsv('#pt-viz-1', \"{\\n  \\\"code\\\": \\\"baby_small.merge(nyt_small, left_on='Name', right_on='nyt_name')\\\\n\\\",\\n  \\\"explanation\\\": [\\n    {\\n      \\\"type\\\": \\\"MergeCall\\\",\\n      \\\"code_step\\\": \\\"baby_small.merge(nyt_small, left_on='Name', right_on='nyt_name')\\\",\\n      \\\"fragment\\\": {\\n        \\\"start\\\": {\\n          \\\"line\\\": 0,\\n          \\\"ch\\\": 10\\n        },\\n        \\\"end\\\": {\\n          \\\"line\\\": 0,\\n          \\\"ch\\\": 64\\n        }\\n      },\\n      \\\"marks\\\": [\\n        {\\n          \\\"type\\\": \\\"using\\\",\\n          \\\"pos\\\": {\\n            \\\"type\\\": \\\"axis\\\",\\n            \\\"anchor\\\": \\\"lhs\\\",\\n            \\\"select\\\": \\\"column\\\",\\n            \\\"label\\\": \\\"Name\\\"\\n          }\\n        },\\n        {\\n          \\\"type\\\": \\\"using\\\",\\n          \\\"pos\\\": {\\n            \\\"type\\\": \\\"axis\\\",\\n            \\\"anchor\\\": \\\"lhs2\\\",\\n            \\\"select\\\": \\\"column\\\",\\n            \\\"label\\\": \\\"nyt_name\\\"\\n          }\\n        },\\n        {\\n          \\\"type\\\": \\\"using\\\",\\n          \\\"pos\\\": {\\n            \\\"type\\\": \\\"axis\\\",\\n            \\\"anchor\\\": \\\"rhs\\\",\\n            \\\"select\\\": \\\"column\\\",\\n            \\\"label\\\": \\\"Name\\\"\\n          }\\n        },\\n        {\\n          \\\"type\\\": \\\"using\\\",\\n          \\\"pos\\\": {\\n            \\\"type\\\": \\\"axis\\\",\\n            \\\"anchor\\\": \\\"rhs\\\",\\n            \\\"select\\\": \\\"column\\\",\\n            \\\"label\\\": \\\"nyt_name\\\"\\n          }\\n        },\\n        {\\n          \\\"type\\\": \\\"drop\\\",\\n          \\\"pos\\\": {\\n            \\\"type\\\": \\\"axis\\\",\\n            \\\"anchor\\\": \\\"lhs\\\",\\n            \\\"select\\\": \\\"row\\\",\\n            \\\"label\\\": 0\\n          }\\n        },\\n        {\\n          \\\"type\\\": \\\"drop\\\",\\n          \\\"pos\\\": {\\n            \\\"type\\\": \\\"axis\\\",\\n            \\\"anchor\\\": \\\"lhs\\\",\\n            \\\"select\\\": \\\"row\\\",\\n            \\\"label\\\": 3\\n          }\\n        },\\n        {\\n          \\\"type\\\": \\\"drop\\\",\\n          \\\"pos\\\": {\\n            \\\"type\\\": \\\"axis\\\",\\n            \\\"anchor\\\": \\\"lhs2\\\",\\n            \\\"select\\\": \\\"row\\\",\\n            \\\"label\\\": 2\\n          }\\n        },\\n        {\\n          \\\"type\\\": \\\"map_set\\\",\\n          \\\"maps\\\": [\\n            {\\n              \\\"type\\\": \\\"map\\\",\\n              \\\"from\\\": {\\n                \\\"type\\\": \\\"axis\\\",\\n                \\\"anchor\\\": \\\"lhs\\\",\\n                \\\"select\\\": \\\"row\\\",\\n                \\\"label\\\": 1\\n              },\\n              \\\"to\\\": {\\n                \\\"type\\\": \\\"axis\\\",\\n                \\\"anchor\\\": \\\"rhs\\\",\\n                \\\"select\\\": \\\"row\\\",\\n                \\\"label\\\": 0\\n              }\\n            },\\n            {\\n              \\\"type\\\": \\\"map\\\",\\n              \\\"from\\\": {\\n                \\\"type\\\": \\\"axis\\\",\\n                \\\"anchor\\\": \\\"lhs2\\\",\\n                \\\"select\\\": \\\"row\\\",\\n                \\\"label\\\": 1\\n              },\\n              \\\"to\\\": {\\n                \\\"type\\\": \\\"axis\\\",\\n                \\\"anchor\\\": \\\"rhs\\\",\\n                \\\"select\\\": \\\"row\\\",\\n                \\\"label\\\": 0\\n              }\\n            }\\n          ]\\n        },\\n        {\\n          \\\"type\\\": \\\"map_set\\\",\\n          \\\"maps\\\": [\\n            {\\n              \\\"type\\\": \\\"map\\\",\\n              \\\"from\\\": {\\n                \\\"type\\\": \\\"axis\\\",\\n                \\\"anchor\\\": \\\"lhs\\\",\\n                \\\"select\\\": \\\"row\\\",\\n                \\\"label\\\": 2\\n              },\\n              \\\"to\\\": {\\n                \\\"type\\\": \\\"axis\\\",\\n                \\\"anchor\\\": \\\"rhs\\\",\\n                \\\"select\\\": \\\"row\\\",\\n                \\\"label\\\": 1\\n              }\\n            },\\n            {\\n              \\\"type\\\": \\\"map\\\",\\n              \\\"from\\\": {\\n                \\\"type\\\": \\\"axis\\\",\\n                \\\"anchor\\\": \\\"lhs2\\\",\\n                \\\"select\\\": \\\"row\\\",\\n                \\\"label\\\": 0\\n              },\\n              \\\"to\\\": {\\n                \\\"type\\\": \\\"axis\\\",\\n                \\\"anchor\\\": \\\"rhs\\\",\\n                \\\"select\\\": \\\"row\\\",\\n                \\\"label\\\": 1\\n              }\\n            },\\n            {\\n              \\\"type\\\": \\\"map\\\",\\n              \\\"from\\\": {\\n                \\\"type\\\": \\\"axis\\\",\\n                \\\"anchor\\\": \\\"lhs\\\",\\n                \\\"select\\\": \\\"row\\\",\\n                \\\"label\\\": 4\\n              },\\n              \\\"to\\\": {\\n                \\\"type\\\": \\\"axis\\\",\\n                \\\"anchor\\\": \\\"rhs\\\",\\n                \\\"select\\\": \\\"row\\\",\\n                \\\"label\\\": 2\\n              }\\n            },\\n            {\\n              \\\"type\\\": \\\"map\\\",\\n              \\\"from\\\": {\\n                \\\"type\\\": \\\"axis\\\",\\n                \\\"anchor\\\": \\\"lhs2\\\",\\n                \\\"select\\\": \\\"row\\\",\\n                \\\"label\\\": 0\\n              },\\n              \\\"to\\\": {\\n                \\\"type\\\": \\\"axis\\\",\\n                \\\"anchor\\\": \\\"rhs\\\",\\n                \\\"select\\\": \\\"row\\\",\\n                \\\"label\\\": 2\\n              }\\n            }\\n          ]\\n        }\\n      ],\\n      \\\"data\\\": {\\n        \\\"lhs\\\": {\\n          \\\"type\\\": \\\"DataFrame\\\",\\n          \\\"columns\\\": {\\n            \\\"names\\\": [\\n              null\\n            ],\\n            \\\"labels\\\": [\\n              \\\"Name\\\",\\n              \\\"Sex\\\",\\n              \\\"Count\\\",\\n              \\\"Year\\\"\\n            ]\\n          },\\n          \\\"index\\\": {\\n            \\\"names\\\": [\\n              null\\n            ],\\n            \\\"labels\\\": [\\n              0,\\n              1,\\n              2,\\n              3,\\n              4\\n            ]\\n          },\\n          \\\"data\\\": [\\n            [\\n              \\\"Noah\\\",\\n              \\\"M\\\",\\n              18407,\\n              2020\\n            ],\\n            [\\n              \\\"Julius\\\",\\n              \\\"M\\\",\\n              966,\\n              2020\\n            ],\\n            [\\n              \\\"Karen\\\",\\n              \\\"F\\\",\\n              330,\\n              2020\\n            ],\\n            [\\n              \\\"Noah\\\",\\n              \\\"F\\\",\\n              306,\\n              2020\\n            ],\\n            [\\n              \\\"Karen\\\",\\n              \\\"M\\\",\\n              6,\\n              2020\\n            ]\\n          ]\\n        },\\n        \\\"lhs2\\\": {\\n          \\\"type\\\": \\\"DataFrame\\\",\\n          \\\"columns\\\": {\\n            \\\"names\\\": [\\n              null\\n            ],\\n            \\\"labels\\\": [\\n              \\\"nyt_name\\\",\\n              \\\"category\\\"\\n            ]\\n          },\\n          \\\"index\\\": {\\n            \\\"names\\\": [\\n              null\\n            ],\\n            \\\"labels\\\": [\\n              0,\\n              1,\\n              2\\n            ]\\n          },\\n          \\\"data\\\": [\\n            [\\n              \\\"Karen\\\",\\n              \\\"boomer\\\"\\n            ],\\n            [\\n              \\\"Julius\\\",\\n              \\\"mythology\\\"\\n            ],\\n            [\\n              \\\"Freya\\\",\\n              \\\"mythology\\\"\\n            ]\\n          ]\\n        },\\n        \\\"rhs\\\": {\\n          \\\"type\\\": \\\"DataFrame\\\",\\n          \\\"columns\\\": {\\n            \\\"names\\\": [\\n              null\\n            ],\\n            \\\"labels\\\": [\\n              \\\"Name\\\",\\n              \\\"Sex\\\",\\n              \\\"Count\\\",\\n              \\\"Year\\\",\\n              \\\"nyt_name\\\",\\n              \\\"category\\\"\\n            ]\\n          },\\n          \\\"index\\\": {\\n            \\\"names\\\": [\\n              null\\n            ],\\n            \\\"labels\\\": [\\n              0,\\n              1,\\n              2\\n            ]\\n          },\\n          \\\"data\\\": [\\n            [\\n              \\\"Julius\\\",\\n              \\\"M\\\",\\n              966,\\n              2020,\\n              \\\"Julius\\\",\\n              \\\"mythology\\\"\\n            ],\\n            [\\n              \\\"Karen\\\",\\n              \\\"F\\\",\\n              330,\\n              2020,\\n              \\\"Karen\\\",\\n              \\\"boomer\\\"\\n            ],\\n            [\\n              \\\"Karen\\\",\\n              \\\"M\\\",\\n              6,\\n              2020,\\n              \\\"Karen\\\",\\n              \\\"boomer\\\"\\n            ]\\n          ]\\n        }\\n      }\\n    }\\n  ]\\n}\", {\"nohover\": true, \"maxDisplayRows\": 7, \"maxDisplayCols\": 8, \"colorPalette\": [\"#e41a1c\", \"#377eb8\", \"#4daf4a\", \"#984ea3\", \"#ff7f00\", \"#a65628\", \"#f781bf\", \"#999999\"]});\n",
       "</script>\n"
      ],
      "text/plain": [
       "<IPython.core.display.HTML object>"
      ]
     },
     "metadata": {},
     "output_type": "display_data"
    }
   ],
   "source": [
    "%%pt\n",
    "baby_small.merge(nyt_small, left_on='Name', right_on='nyt_name')"
   ]
  },
  {
   "cell_type": "markdown",
   "id": "37df10ce",
   "metadata": {
    "editable": true,
    "slideshow": {
     "slide_type": ""
    },
    "tags": []
   },
   "source": [
    "- Note that `'Noah'` and `'Freya'` do not appear in the merged DataFrame.\n",
    "- This is because there is:\n",
    "    - no `'Noah'` in the right DataFrame (`nyt_small`), and\n",
    "    - no `'Freya'` in the left DataFrame (`baby_small`).\n",
    "- The default type of join that `merge` performs is an **inner join**, which keeps the **intersection** of the join keys.\n",
    "\n",
    "\n",
    "<center><img src='imgs/image_0.png' width=20%></center>"
   ]
  },
  {
   "cell_type": "markdown",
   "id": "bc3f811b",
   "metadata": {
    "editable": true,
    "slideshow": {
     "slide_type": "slide"
    },
    "tags": []
   },
   "source": [
    "### Different join types\n",
    "\n",
    "We can change the type of join performed by changing the `how` argument in `merge`. Let's experiment!"
   ]
  },
  {
   "cell_type": "code",
   "execution_count": 39,
   "id": "5edc6919",
   "metadata": {
    "editable": true,
    "slideshow": {
     "slide_type": ""
    },
    "tags": []
   },
   "outputs": [
    {
     "data": {
      "text/html": [
       "\n",
       "<div class=\"pt-viz\" id=\"pt-viz-2\"></div>\n",
       "<script>\n",
       "drawWsv('#pt-viz-2', \"{\\n  \\\"code\\\": \\\"# Note the NaNs!\\\\nbaby_small.merge(nyt_small, left_on='Name', right_on='nyt_name', how='left')\\\\n\\\",\\n  \\\"explanation\\\": [\\n    {\\n      \\\"type\\\": \\\"MergeCall\\\",\\n      \\\"code_step\\\": \\\"baby_small.merge(nyt_small, left_on='Name', right_on='nyt_name', how='left')\\\",\\n      \\\"fragment\\\": {\\n        \\\"start\\\": {\\n          \\\"line\\\": 0,\\n          \\\"ch\\\": 10\\n        },\\n        \\\"end\\\": {\\n          \\\"line\\\": 0,\\n          \\\"ch\\\": 76\\n        }\\n      },\\n      \\\"marks\\\": [\\n        {\\n          \\\"type\\\": \\\"using\\\",\\n          \\\"pos\\\": {\\n            \\\"type\\\": \\\"axis\\\",\\n            \\\"anchor\\\": \\\"lhs\\\",\\n            \\\"select\\\": \\\"column\\\",\\n            \\\"label\\\": \\\"Name\\\"\\n          }\\n        },\\n        {\\n          \\\"type\\\": \\\"using\\\",\\n          \\\"pos\\\": {\\n            \\\"type\\\": \\\"axis\\\",\\n            \\\"anchor\\\": \\\"lhs2\\\",\\n            \\\"select\\\": \\\"column\\\",\\n            \\\"label\\\": \\\"nyt_name\\\"\\n          }\\n        },\\n        {\\n          \\\"type\\\": \\\"using\\\",\\n          \\\"pos\\\": {\\n            \\\"type\\\": \\\"axis\\\",\\n            \\\"anchor\\\": \\\"rhs\\\",\\n            \\\"select\\\": \\\"column\\\",\\n            \\\"label\\\": \\\"Name\\\"\\n          }\\n        },\\n        {\\n          \\\"type\\\": \\\"using\\\",\\n          \\\"pos\\\": {\\n            \\\"type\\\": \\\"axis\\\",\\n            \\\"anchor\\\": \\\"rhs\\\",\\n            \\\"select\\\": \\\"column\\\",\\n            \\\"label\\\": \\\"nyt_name\\\"\\n          }\\n        },\\n        {\\n          \\\"type\\\": \\\"drop\\\",\\n          \\\"pos\\\": {\\n            \\\"type\\\": \\\"axis\\\",\\n            \\\"anchor\\\": \\\"lhs2\\\",\\n            \\\"select\\\": \\\"row\\\",\\n            \\\"label\\\": 2\\n          }\\n        },\\n        {\\n          \\\"type\\\": \\\"map_set\\\",\\n          \\\"maps\\\": [\\n            {\\n              \\\"type\\\": \\\"map\\\",\\n              \\\"from\\\": {\\n                \\\"type\\\": \\\"axis\\\",\\n                \\\"anchor\\\": \\\"lhs\\\",\\n                \\\"select\\\": \\\"row\\\",\\n                \\\"label\\\": 1\\n              },\\n              \\\"to\\\": {\\n                \\\"type\\\": \\\"axis\\\",\\n                \\\"anchor\\\": \\\"rhs\\\",\\n                \\\"select\\\": \\\"row\\\",\\n                \\\"label\\\": 1\\n              }\\n            },\\n            {\\n              \\\"type\\\": \\\"map\\\",\\n              \\\"from\\\": {\\n                \\\"type\\\": \\\"axis\\\",\\n                \\\"anchor\\\": \\\"lhs2\\\",\\n                \\\"select\\\": \\\"row\\\",\\n                \\\"label\\\": 1\\n              },\\n              \\\"to\\\": {\\n                \\\"type\\\": \\\"axis\\\",\\n                \\\"anchor\\\": \\\"rhs\\\",\\n                \\\"select\\\": \\\"row\\\",\\n                \\\"label\\\": 1\\n              }\\n            }\\n          ]\\n        },\\n        {\\n          \\\"type\\\": \\\"map_set\\\",\\n          \\\"maps\\\": [\\n            {\\n              \\\"type\\\": \\\"map\\\",\\n              \\\"from\\\": {\\n                \\\"type\\\": \\\"axis\\\",\\n                \\\"anchor\\\": \\\"lhs\\\",\\n                \\\"select\\\": \\\"row\\\",\\n                \\\"label\\\": 2\\n              },\\n              \\\"to\\\": {\\n                \\\"type\\\": \\\"axis\\\",\\n                \\\"anchor\\\": \\\"rhs\\\",\\n                \\\"select\\\": \\\"row\\\",\\n                \\\"label\\\": 2\\n              }\\n            },\\n            {\\n              \\\"type\\\": \\\"map\\\",\\n              \\\"from\\\": {\\n                \\\"type\\\": \\\"axis\\\",\\n                \\\"anchor\\\": \\\"lhs2\\\",\\n                \\\"select\\\": \\\"row\\\",\\n                \\\"label\\\": 0\\n              },\\n              \\\"to\\\": {\\n                \\\"type\\\": \\\"axis\\\",\\n                \\\"anchor\\\": \\\"rhs\\\",\\n                \\\"select\\\": \\\"row\\\",\\n                \\\"label\\\": 2\\n              }\\n            },\\n            {\\n              \\\"type\\\": \\\"map\\\",\\n              \\\"from\\\": {\\n                \\\"type\\\": \\\"axis\\\",\\n                \\\"anchor\\\": \\\"lhs\\\",\\n                \\\"select\\\": \\\"row\\\",\\n                \\\"label\\\": 4\\n              },\\n              \\\"to\\\": {\\n                \\\"type\\\": \\\"axis\\\",\\n                \\\"anchor\\\": \\\"rhs\\\",\\n                \\\"select\\\": \\\"row\\\",\\n                \\\"label\\\": 4\\n              }\\n            },\\n            {\\n              \\\"type\\\": \\\"map\\\",\\n              \\\"from\\\": {\\n                \\\"type\\\": \\\"axis\\\",\\n                \\\"anchor\\\": \\\"lhs2\\\",\\n                \\\"select\\\": \\\"row\\\",\\n                \\\"label\\\": 0\\n              },\\n              \\\"to\\\": {\\n                \\\"type\\\": \\\"axis\\\",\\n                \\\"anchor\\\": \\\"rhs\\\",\\n                \\\"select\\\": \\\"row\\\",\\n                \\\"label\\\": 4\\n              }\\n            }\\n          ]\\n        },\\n        {\\n          \\\"type\\\": \\\"map_set\\\",\\n          \\\"maps\\\": [\\n            {\\n              \\\"type\\\": \\\"map\\\",\\n              \\\"from\\\": {\\n                \\\"type\\\": \\\"axis\\\",\\n                \\\"anchor\\\": \\\"lhs\\\",\\n                \\\"select\\\": \\\"row\\\",\\n                \\\"label\\\": 0\\n              },\\n              \\\"to\\\": {\\n                \\\"type\\\": \\\"axis\\\",\\n                \\\"anchor\\\": \\\"rhs\\\",\\n                \\\"select\\\": \\\"row\\\",\\n                \\\"label\\\": 0\\n              }\\n            },\\n            {\\n              \\\"type\\\": \\\"map\\\",\\n              \\\"from\\\": {\\n                \\\"type\\\": \\\"axis\\\",\\n                \\\"anchor\\\": \\\"lhs\\\",\\n                \\\"select\\\": \\\"row\\\",\\n                \\\"label\\\": 3\\n              },\\n              \\\"to\\\": {\\n                \\\"type\\\": \\\"axis\\\",\\n                \\\"anchor\\\": \\\"rhs\\\",\\n                \\\"select\\\": \\\"row\\\",\\n                \\\"label\\\": 3\\n              }\\n            }\\n          ]\\n        }\\n      ],\\n      \\\"data\\\": {\\n        \\\"lhs\\\": {\\n          \\\"type\\\": \\\"DataFrame\\\",\\n          \\\"columns\\\": {\\n            \\\"names\\\": [\\n              null\\n            ],\\n            \\\"labels\\\": [\\n              \\\"Name\\\",\\n              \\\"Sex\\\",\\n              \\\"Count\\\",\\n              \\\"Year\\\"\\n            ]\\n          },\\n          \\\"index\\\": {\\n            \\\"names\\\": [\\n              null\\n            ],\\n            \\\"labels\\\": [\\n              0,\\n              1,\\n              2,\\n              3,\\n              4\\n            ]\\n          },\\n          \\\"data\\\": [\\n            [\\n              \\\"Noah\\\",\\n              \\\"M\\\",\\n              18407,\\n              2020\\n            ],\\n            [\\n              \\\"Julius\\\",\\n              \\\"M\\\",\\n              966,\\n              2020\\n            ],\\n            [\\n              \\\"Karen\\\",\\n              \\\"F\\\",\\n              330,\\n              2020\\n            ],\\n            [\\n              \\\"Noah\\\",\\n              \\\"F\\\",\\n              306,\\n              2020\\n            ],\\n            [\\n              \\\"Karen\\\",\\n              \\\"M\\\",\\n              6,\\n              2020\\n            ]\\n          ]\\n        },\\n        \\\"lhs2\\\": {\\n          \\\"type\\\": \\\"DataFrame\\\",\\n          \\\"columns\\\": {\\n            \\\"names\\\": [\\n              null\\n            ],\\n            \\\"labels\\\": [\\n              \\\"nyt_name\\\",\\n              \\\"category\\\"\\n            ]\\n          },\\n          \\\"index\\\": {\\n            \\\"names\\\": [\\n              null\\n            ],\\n            \\\"labels\\\": [\\n              0,\\n              1,\\n              2\\n            ]\\n          },\\n          \\\"data\\\": [\\n            [\\n              \\\"Karen\\\",\\n              \\\"boomer\\\"\\n            ],\\n            [\\n              \\\"Julius\\\",\\n              \\\"mythology\\\"\\n            ],\\n            [\\n              \\\"Freya\\\",\\n              \\\"mythology\\\"\\n            ]\\n          ]\\n        },\\n        \\\"rhs\\\": {\\n          \\\"type\\\": \\\"DataFrame\\\",\\n          \\\"columns\\\": {\\n            \\\"names\\\": [\\n              null\\n            ],\\n            \\\"labels\\\": [\\n              \\\"Name\\\",\\n              \\\"Sex\\\",\\n              \\\"Count\\\",\\n              \\\"Year\\\",\\n              \\\"nyt_name\\\",\\n              \\\"category\\\"\\n            ]\\n          },\\n          \\\"index\\\": {\\n            \\\"names\\\": [\\n              null\\n            ],\\n            \\\"labels\\\": [\\n              0,\\n              1,\\n              2,\\n              3,\\n              4\\n            ]\\n          },\\n          \\\"data\\\": [\\n            [\\n              \\\"Noah\\\",\\n              \\\"M\\\",\\n              18407,\\n              2020,\\n              null,\\n              null\\n            ],\\n            [\\n              \\\"Julius\\\",\\n              \\\"M\\\",\\n              966,\\n              2020,\\n              \\\"Julius\\\",\\n              \\\"mythology\\\"\\n            ],\\n            [\\n              \\\"Karen\\\",\\n              \\\"F\\\",\\n              330,\\n              2020,\\n              \\\"Karen\\\",\\n              \\\"boomer\\\"\\n            ],\\n            [\\n              \\\"Noah\\\",\\n              \\\"F\\\",\\n              306,\\n              2020,\\n              null,\\n              null\\n            ],\\n            [\\n              \\\"Karen\\\",\\n              \\\"M\\\",\\n              6,\\n              2020,\\n              \\\"Karen\\\",\\n              \\\"boomer\\\"\\n            ]\\n          ]\\n        }\\n      }\\n    }\\n  ]\\n}\", {\"nohover\": true, \"maxDisplayRows\": 7, \"maxDisplayCols\": 8, \"colorPalette\": [\"#e41a1c\", \"#377eb8\", \"#4daf4a\", \"#984ea3\", \"#ff7f00\", \"#a65628\", \"#f781bf\", \"#999999\"]});\n",
       "</script>\n"
      ],
      "text/plain": [
       "<IPython.core.display.HTML object>"
      ]
     },
     "metadata": {},
     "output_type": "display_data"
    }
   ],
   "source": [
    "%%pt\n",
    "# Note the NaNs!\n",
    "baby_small.merge(nyt_small, left_on='Name', right_on='nyt_name', how='left')"
   ]
  },
  {
   "cell_type": "code",
   "execution_count": 40,
   "id": "00f81ba5",
   "metadata": {
    "editable": true,
    "slideshow": {
     "slide_type": ""
    },
    "tags": []
   },
   "outputs": [
    {
     "data": {
      "text/html": [
       "\n",
       "<div class=\"pt-viz\" id=\"pt-viz-3\"></div>\n",
       "<script>\n",
       "drawWsv('#pt-viz-3', \"{\\n  \\\"code\\\": \\\"baby_small.merge(nyt_small, left_on='Name', right_on='nyt_name', how='right')\\\\n\\\",\\n  \\\"explanation\\\": [\\n    {\\n      \\\"type\\\": \\\"MergeCall\\\",\\n      \\\"code_step\\\": \\\"baby_small.merge(nyt_small, left_on='Name', right_on='nyt_name', how='right')\\\",\\n      \\\"fragment\\\": {\\n        \\\"start\\\": {\\n          \\\"line\\\": 0,\\n          \\\"ch\\\": 10\\n        },\\n        \\\"end\\\": {\\n          \\\"line\\\": 0,\\n          \\\"ch\\\": 77\\n        }\\n      },\\n      \\\"marks\\\": [\\n        {\\n          \\\"type\\\": \\\"using\\\",\\n          \\\"pos\\\": {\\n            \\\"type\\\": \\\"axis\\\",\\n            \\\"anchor\\\": \\\"lhs\\\",\\n            \\\"select\\\": \\\"column\\\",\\n            \\\"label\\\": \\\"Name\\\"\\n          }\\n        },\\n        {\\n          \\\"type\\\": \\\"using\\\",\\n          \\\"pos\\\": {\\n            \\\"type\\\": \\\"axis\\\",\\n            \\\"anchor\\\": \\\"lhs2\\\",\\n            \\\"select\\\": \\\"column\\\",\\n            \\\"label\\\": \\\"nyt_name\\\"\\n          }\\n        },\\n        {\\n          \\\"type\\\": \\\"using\\\",\\n          \\\"pos\\\": {\\n            \\\"type\\\": \\\"axis\\\",\\n            \\\"anchor\\\": \\\"rhs\\\",\\n            \\\"select\\\": \\\"column\\\",\\n            \\\"label\\\": \\\"Name\\\"\\n          }\\n        },\\n        {\\n          \\\"type\\\": \\\"using\\\",\\n          \\\"pos\\\": {\\n            \\\"type\\\": \\\"axis\\\",\\n            \\\"anchor\\\": \\\"rhs\\\",\\n            \\\"select\\\": \\\"column\\\",\\n            \\\"label\\\": \\\"nyt_name\\\"\\n          }\\n        },\\n        {\\n          \\\"type\\\": \\\"drop\\\",\\n          \\\"pos\\\": {\\n            \\\"type\\\": \\\"axis\\\",\\n            \\\"anchor\\\": \\\"lhs\\\",\\n            \\\"select\\\": \\\"row\\\",\\n            \\\"label\\\": 0\\n          }\\n        },\\n        {\\n          \\\"type\\\": \\\"drop\\\",\\n          \\\"pos\\\": {\\n            \\\"type\\\": \\\"axis\\\",\\n            \\\"anchor\\\": \\\"lhs\\\",\\n            \\\"select\\\": \\\"row\\\",\\n            \\\"label\\\": 3\\n          }\\n        },\\n        {\\n          \\\"type\\\": \\\"map_set\\\",\\n          \\\"maps\\\": [\\n            {\\n              \\\"type\\\": \\\"map\\\",\\n              \\\"from\\\": {\\n                \\\"type\\\": \\\"axis\\\",\\n                \\\"anchor\\\": \\\"lhs2\\\",\\n                \\\"select\\\": \\\"row\\\",\\n                \\\"label\\\": 2\\n              },\\n              \\\"to\\\": {\\n                \\\"type\\\": \\\"axis\\\",\\n                \\\"anchor\\\": \\\"rhs\\\",\\n                \\\"select\\\": \\\"row\\\",\\n                \\\"label\\\": 3\\n              }\\n            }\\n          ]\\n        },\\n        {\\n          \\\"type\\\": \\\"map_set\\\",\\n          \\\"maps\\\": [\\n            {\\n              \\\"type\\\": \\\"map\\\",\\n              \\\"from\\\": {\\n                \\\"type\\\": \\\"axis\\\",\\n                \\\"anchor\\\": \\\"lhs\\\",\\n                \\\"select\\\": \\\"row\\\",\\n                \\\"label\\\": 1\\n              },\\n              \\\"to\\\": {\\n                \\\"type\\\": \\\"axis\\\",\\n                \\\"anchor\\\": \\\"rhs\\\",\\n                \\\"select\\\": \\\"row\\\",\\n                \\\"label\\\": 2\\n              }\\n            },\\n            {\\n              \\\"type\\\": \\\"map\\\",\\n              \\\"from\\\": {\\n                \\\"type\\\": \\\"axis\\\",\\n                \\\"anchor\\\": \\\"lhs2\\\",\\n                \\\"select\\\": \\\"row\\\",\\n                \\\"label\\\": 1\\n              },\\n              \\\"to\\\": {\\n                \\\"type\\\": \\\"axis\\\",\\n                \\\"anchor\\\": \\\"rhs\\\",\\n                \\\"select\\\": \\\"row\\\",\\n                \\\"label\\\": 2\\n              }\\n            }\\n          ]\\n        },\\n        {\\n          \\\"type\\\": \\\"map_set\\\",\\n          \\\"maps\\\": [\\n            {\\n              \\\"type\\\": \\\"map\\\",\\n              \\\"from\\\": {\\n                \\\"type\\\": \\\"axis\\\",\\n                \\\"anchor\\\": \\\"lhs\\\",\\n                \\\"select\\\": \\\"row\\\",\\n                \\\"label\\\": 2\\n              },\\n              \\\"to\\\": {\\n                \\\"type\\\": \\\"axis\\\",\\n                \\\"anchor\\\": \\\"rhs\\\",\\n                \\\"select\\\": \\\"row\\\",\\n                \\\"label\\\": 0\\n              }\\n            },\\n            {\\n              \\\"type\\\": \\\"map\\\",\\n              \\\"from\\\": {\\n                \\\"type\\\": \\\"axis\\\",\\n                \\\"anchor\\\": \\\"lhs2\\\",\\n                \\\"select\\\": \\\"row\\\",\\n                \\\"label\\\": 0\\n              },\\n              \\\"to\\\": {\\n                \\\"type\\\": \\\"axis\\\",\\n                \\\"anchor\\\": \\\"rhs\\\",\\n                \\\"select\\\": \\\"row\\\",\\n                \\\"label\\\": 0\\n              }\\n            },\\n            {\\n              \\\"type\\\": \\\"map\\\",\\n              \\\"from\\\": {\\n                \\\"type\\\": \\\"axis\\\",\\n                \\\"anchor\\\": \\\"lhs\\\",\\n                \\\"select\\\": \\\"row\\\",\\n                \\\"label\\\": 4\\n              },\\n              \\\"to\\\": {\\n                \\\"type\\\": \\\"axis\\\",\\n                \\\"anchor\\\": \\\"rhs\\\",\\n                \\\"select\\\": \\\"row\\\",\\n                \\\"label\\\": 1\\n              }\\n            },\\n            {\\n              \\\"type\\\": \\\"map\\\",\\n              \\\"from\\\": {\\n                \\\"type\\\": \\\"axis\\\",\\n                \\\"anchor\\\": \\\"lhs2\\\",\\n                \\\"select\\\": \\\"row\\\",\\n                \\\"label\\\": 0\\n              },\\n              \\\"to\\\": {\\n                \\\"type\\\": \\\"axis\\\",\\n                \\\"anchor\\\": \\\"rhs\\\",\\n                \\\"select\\\": \\\"row\\\",\\n                \\\"label\\\": 1\\n              }\\n            }\\n          ]\\n        }\\n      ],\\n      \\\"data\\\": {\\n        \\\"lhs\\\": {\\n          \\\"type\\\": \\\"DataFrame\\\",\\n          \\\"columns\\\": {\\n            \\\"names\\\": [\\n              null\\n            ],\\n            \\\"labels\\\": [\\n              \\\"Name\\\",\\n              \\\"Sex\\\",\\n              \\\"Count\\\",\\n              \\\"Year\\\"\\n            ]\\n          },\\n          \\\"index\\\": {\\n            \\\"names\\\": [\\n              null\\n            ],\\n            \\\"labels\\\": [\\n              0,\\n              1,\\n              2,\\n              3,\\n              4\\n            ]\\n          },\\n          \\\"data\\\": [\\n            [\\n              \\\"Noah\\\",\\n              \\\"M\\\",\\n              18407,\\n              2020\\n            ],\\n            [\\n              \\\"Julius\\\",\\n              \\\"M\\\",\\n              966,\\n              2020\\n            ],\\n            [\\n              \\\"Karen\\\",\\n              \\\"F\\\",\\n              330,\\n              2020\\n            ],\\n            [\\n              \\\"Noah\\\",\\n              \\\"F\\\",\\n              306,\\n              2020\\n            ],\\n            [\\n              \\\"Karen\\\",\\n              \\\"M\\\",\\n              6,\\n              2020\\n            ]\\n          ]\\n        },\\n        \\\"lhs2\\\": {\\n          \\\"type\\\": \\\"DataFrame\\\",\\n          \\\"columns\\\": {\\n            \\\"names\\\": [\\n              null\\n            ],\\n            \\\"labels\\\": [\\n              \\\"nyt_name\\\",\\n              \\\"category\\\"\\n            ]\\n          },\\n          \\\"index\\\": {\\n            \\\"names\\\": [\\n              null\\n            ],\\n            \\\"labels\\\": [\\n              0,\\n              1,\\n              2\\n            ]\\n          },\\n          \\\"data\\\": [\\n            [\\n              \\\"Karen\\\",\\n              \\\"boomer\\\"\\n            ],\\n            [\\n              \\\"Julius\\\",\\n              \\\"mythology\\\"\\n            ],\\n            [\\n              \\\"Freya\\\",\\n              \\\"mythology\\\"\\n            ]\\n          ]\\n        },\\n        \\\"rhs\\\": {\\n          \\\"type\\\": \\\"DataFrame\\\",\\n          \\\"columns\\\": {\\n            \\\"names\\\": [\\n              null\\n            ],\\n            \\\"labels\\\": [\\n              \\\"Name\\\",\\n              \\\"Sex\\\",\\n              \\\"Count\\\",\\n              \\\"Year\\\",\\n              \\\"nyt_name\\\",\\n              \\\"category\\\"\\n            ]\\n          },\\n          \\\"index\\\": {\\n            \\\"names\\\": [\\n              null\\n            ],\\n            \\\"labels\\\": [\\n              0,\\n              1,\\n              2,\\n              3\\n            ]\\n          },\\n          \\\"data\\\": [\\n            [\\n              \\\"Karen\\\",\\n              \\\"F\\\",\\n              330.0,\\n              2020.0,\\n              \\\"Karen\\\",\\n              \\\"boomer\\\"\\n            ],\\n            [\\n              \\\"Karen\\\",\\n              \\\"M\\\",\\n              6.0,\\n              2020.0,\\n              \\\"Karen\\\",\\n              \\\"boomer\\\"\\n            ],\\n            [\\n              \\\"Julius\\\",\\n              \\\"M\\\",\\n              966.0,\\n              2020.0,\\n              \\\"Julius\\\",\\n              \\\"mythology\\\"\\n            ],\\n            [\\n              null,\\n              null,\\n              null,\\n              null,\\n              \\\"Freya\\\",\\n              \\\"mythology\\\"\\n            ]\\n          ]\\n        }\\n      }\\n    }\\n  ]\\n}\", {\"nohover\": true, \"maxDisplayRows\": 7, \"maxDisplayCols\": 8, \"colorPalette\": [\"#e41a1c\", \"#377eb8\", \"#4daf4a\", \"#984ea3\", \"#ff7f00\", \"#a65628\", \"#f781bf\", \"#999999\"]});\n",
       "</script>\n"
      ],
      "text/plain": [
       "<IPython.core.display.HTML object>"
      ]
     },
     "metadata": {},
     "output_type": "display_data"
    }
   ],
   "source": [
    "%%pt\n",
    "baby_small.merge(nyt_small, left_on='Name', right_on='nyt_name', how='right')"
   ]
  },
  {
   "cell_type": "code",
   "execution_count": 41,
   "id": "7b7e30fa",
   "metadata": {
    "editable": true,
    "slideshow": {
     "slide_type": ""
    },
    "tags": []
   },
   "outputs": [
    {
     "data": {
      "text/html": [
       "\n",
       "<div class=\"pt-viz\" id=\"pt-viz-4\"></div>\n",
       "<script>\n",
       "drawWsv('#pt-viz-4', \"{\\n  \\\"code\\\": \\\"baby_small.merge(nyt_small, left_on='Name', right_on='nyt_name', how='outer')\\\\n\\\",\\n  \\\"explanation\\\": [\\n    {\\n      \\\"type\\\": \\\"MergeCall\\\",\\n      \\\"code_step\\\": \\\"baby_small.merge(nyt_small, left_on='Name', right_on='nyt_name', how='outer')\\\",\\n      \\\"fragment\\\": {\\n        \\\"start\\\": {\\n          \\\"line\\\": 0,\\n          \\\"ch\\\": 10\\n        },\\n        \\\"end\\\": {\\n          \\\"line\\\": 0,\\n          \\\"ch\\\": 77\\n        }\\n      },\\n      \\\"marks\\\": [\\n        {\\n          \\\"type\\\": \\\"using\\\",\\n          \\\"pos\\\": {\\n            \\\"type\\\": \\\"axis\\\",\\n            \\\"anchor\\\": \\\"lhs\\\",\\n            \\\"select\\\": \\\"column\\\",\\n            \\\"label\\\": \\\"Name\\\"\\n          }\\n        },\\n        {\\n          \\\"type\\\": \\\"using\\\",\\n          \\\"pos\\\": {\\n            \\\"type\\\": \\\"axis\\\",\\n            \\\"anchor\\\": \\\"lhs2\\\",\\n            \\\"select\\\": \\\"column\\\",\\n            \\\"label\\\": \\\"nyt_name\\\"\\n          }\\n        },\\n        {\\n          \\\"type\\\": \\\"using\\\",\\n          \\\"pos\\\": {\\n            \\\"type\\\": \\\"axis\\\",\\n            \\\"anchor\\\": \\\"rhs\\\",\\n            \\\"select\\\": \\\"column\\\",\\n            \\\"label\\\": \\\"Name\\\"\\n          }\\n        },\\n        {\\n          \\\"type\\\": \\\"using\\\",\\n          \\\"pos\\\": {\\n            \\\"type\\\": \\\"axis\\\",\\n            \\\"anchor\\\": \\\"rhs\\\",\\n            \\\"select\\\": \\\"column\\\",\\n            \\\"label\\\": \\\"nyt_name\\\"\\n          }\\n        },\\n        {\\n          \\\"type\\\": \\\"map_set\\\",\\n          \\\"maps\\\": [\\n            {\\n              \\\"type\\\": \\\"map\\\",\\n              \\\"from\\\": {\\n                \\\"type\\\": \\\"axis\\\",\\n                \\\"anchor\\\": \\\"lhs2\\\",\\n                \\\"select\\\": \\\"row\\\",\\n                \\\"label\\\": 2\\n              },\\n              \\\"to\\\": {\\n                \\\"type\\\": \\\"axis\\\",\\n                \\\"anchor\\\": \\\"rhs\\\",\\n                \\\"select\\\": \\\"row\\\",\\n                \\\"label\\\": 0\\n              }\\n            }\\n          ]\\n        },\\n        {\\n          \\\"type\\\": \\\"map_set\\\",\\n          \\\"maps\\\": [\\n            {\\n              \\\"type\\\": \\\"map\\\",\\n              \\\"from\\\": {\\n                \\\"type\\\": \\\"axis\\\",\\n                \\\"anchor\\\": \\\"lhs\\\",\\n                \\\"select\\\": \\\"row\\\",\\n                \\\"label\\\": 1\\n              },\\n              \\\"to\\\": {\\n                \\\"type\\\": \\\"axis\\\",\\n                \\\"anchor\\\": \\\"rhs\\\",\\n                \\\"select\\\": \\\"row\\\",\\n                \\\"label\\\": 1\\n              }\\n            },\\n            {\\n              \\\"type\\\": \\\"map\\\",\\n              \\\"from\\\": {\\n                \\\"type\\\": \\\"axis\\\",\\n                \\\"anchor\\\": \\\"lhs2\\\",\\n                \\\"select\\\": \\\"row\\\",\\n                \\\"label\\\": 1\\n              },\\n              \\\"to\\\": {\\n                \\\"type\\\": \\\"axis\\\",\\n                \\\"anchor\\\": \\\"rhs\\\",\\n                \\\"select\\\": \\\"row\\\",\\n                \\\"label\\\": 1\\n              }\\n            }\\n          ]\\n        },\\n        {\\n          \\\"type\\\": \\\"map_set\\\",\\n          \\\"maps\\\": [\\n            {\\n              \\\"type\\\": \\\"map\\\",\\n              \\\"from\\\": {\\n                \\\"type\\\": \\\"axis\\\",\\n                \\\"anchor\\\": \\\"lhs\\\",\\n                \\\"select\\\": \\\"row\\\",\\n                \\\"label\\\": 2\\n              },\\n              \\\"to\\\": {\\n                \\\"type\\\": \\\"axis\\\",\\n                \\\"anchor\\\": \\\"rhs\\\",\\n                \\\"select\\\": \\\"row\\\",\\n                \\\"label\\\": 2\\n              }\\n            },\\n            {\\n              \\\"type\\\": \\\"map\\\",\\n              \\\"from\\\": {\\n                \\\"type\\\": \\\"axis\\\",\\n                \\\"anchor\\\": \\\"lhs2\\\",\\n                \\\"select\\\": \\\"row\\\",\\n                \\\"label\\\": 0\\n              },\\n              \\\"to\\\": {\\n                \\\"type\\\": \\\"axis\\\",\\n                \\\"anchor\\\": \\\"rhs\\\",\\n                \\\"select\\\": \\\"row\\\",\\n                \\\"label\\\": 2\\n              }\\n            },\\n            {\\n              \\\"type\\\": \\\"map\\\",\\n              \\\"from\\\": {\\n                \\\"type\\\": \\\"axis\\\",\\n                \\\"anchor\\\": \\\"lhs\\\",\\n                \\\"select\\\": \\\"row\\\",\\n                \\\"label\\\": 4\\n              },\\n              \\\"to\\\": {\\n                \\\"type\\\": \\\"axis\\\",\\n                \\\"anchor\\\": \\\"rhs\\\",\\n                \\\"select\\\": \\\"row\\\",\\n                \\\"label\\\": 3\\n              }\\n            },\\n            {\\n              \\\"type\\\": \\\"map\\\",\\n              \\\"from\\\": {\\n                \\\"type\\\": \\\"axis\\\",\\n                \\\"anchor\\\": \\\"lhs2\\\",\\n                \\\"select\\\": \\\"row\\\",\\n                \\\"label\\\": 0\\n              },\\n              \\\"to\\\": {\\n                \\\"type\\\": \\\"axis\\\",\\n                \\\"anchor\\\": \\\"rhs\\\",\\n                \\\"select\\\": \\\"row\\\",\\n                \\\"label\\\": 3\\n              }\\n            }\\n          ]\\n        },\\n        {\\n          \\\"type\\\": \\\"map_set\\\",\\n          \\\"maps\\\": [\\n            {\\n              \\\"type\\\": \\\"map\\\",\\n              \\\"from\\\": {\\n                \\\"type\\\": \\\"axis\\\",\\n                \\\"anchor\\\": \\\"lhs\\\",\\n                \\\"select\\\": \\\"row\\\",\\n                \\\"label\\\": 0\\n              },\\n              \\\"to\\\": {\\n                \\\"type\\\": \\\"axis\\\",\\n                \\\"anchor\\\": \\\"rhs\\\",\\n                \\\"select\\\": \\\"row\\\",\\n                \\\"label\\\": 4\\n              }\\n            },\\n            {\\n              \\\"type\\\": \\\"map\\\",\\n              \\\"from\\\": {\\n                \\\"type\\\": \\\"axis\\\",\\n                \\\"anchor\\\": \\\"lhs\\\",\\n                \\\"select\\\": \\\"row\\\",\\n                \\\"label\\\": 3\\n              },\\n              \\\"to\\\": {\\n                \\\"type\\\": \\\"axis\\\",\\n                \\\"anchor\\\": \\\"rhs\\\",\\n                \\\"select\\\": \\\"row\\\",\\n                \\\"label\\\": 5\\n              }\\n            }\\n          ]\\n        }\\n      ],\\n      \\\"data\\\": {\\n        \\\"lhs\\\": {\\n          \\\"type\\\": \\\"DataFrame\\\",\\n          \\\"columns\\\": {\\n            \\\"names\\\": [\\n              null\\n            ],\\n            \\\"labels\\\": [\\n              \\\"Name\\\",\\n              \\\"Sex\\\",\\n              \\\"Count\\\",\\n              \\\"Year\\\"\\n            ]\\n          },\\n          \\\"index\\\": {\\n            \\\"names\\\": [\\n              null\\n            ],\\n            \\\"labels\\\": [\\n              0,\\n              1,\\n              2,\\n              3,\\n              4\\n            ]\\n          },\\n          \\\"data\\\": [\\n            [\\n              \\\"Noah\\\",\\n              \\\"M\\\",\\n              18407,\\n              2020\\n            ],\\n            [\\n              \\\"Julius\\\",\\n              \\\"M\\\",\\n              966,\\n              2020\\n            ],\\n            [\\n              \\\"Karen\\\",\\n              \\\"F\\\",\\n              330,\\n              2020\\n            ],\\n            [\\n              \\\"Noah\\\",\\n              \\\"F\\\",\\n              306,\\n              2020\\n            ],\\n            [\\n              \\\"Karen\\\",\\n              \\\"M\\\",\\n              6,\\n              2020\\n            ]\\n          ]\\n        },\\n        \\\"lhs2\\\": {\\n          \\\"type\\\": \\\"DataFrame\\\",\\n          \\\"columns\\\": {\\n            \\\"names\\\": [\\n              null\\n            ],\\n            \\\"labels\\\": [\\n              \\\"nyt_name\\\",\\n              \\\"category\\\"\\n            ]\\n          },\\n          \\\"index\\\": {\\n            \\\"names\\\": [\\n              null\\n            ],\\n            \\\"labels\\\": [\\n              0,\\n              1,\\n              2\\n            ]\\n          },\\n          \\\"data\\\": [\\n            [\\n              \\\"Karen\\\",\\n              \\\"boomer\\\"\\n            ],\\n            [\\n              \\\"Julius\\\",\\n              \\\"mythology\\\"\\n            ],\\n            [\\n              \\\"Freya\\\",\\n              \\\"mythology\\\"\\n            ]\\n          ]\\n        },\\n        \\\"rhs\\\": {\\n          \\\"type\\\": \\\"DataFrame\\\",\\n          \\\"columns\\\": {\\n            \\\"names\\\": [\\n              null\\n            ],\\n            \\\"labels\\\": [\\n              \\\"Name\\\",\\n              \\\"Sex\\\",\\n              \\\"Count\\\",\\n              \\\"Year\\\",\\n              \\\"nyt_name\\\",\\n              \\\"category\\\"\\n            ]\\n          },\\n          \\\"index\\\": {\\n            \\\"names\\\": [\\n              null\\n            ],\\n            \\\"labels\\\": [\\n              0,\\n              1,\\n              2,\\n              3,\\n              4,\\n              5\\n            ]\\n          },\\n          \\\"data\\\": [\\n            [\\n              null,\\n              null,\\n              null,\\n              null,\\n              \\\"Freya\\\",\\n              \\\"mythology\\\"\\n            ],\\n            [\\n              \\\"Julius\\\",\\n              \\\"M\\\",\\n              966.0,\\n              2020.0,\\n              \\\"Julius\\\",\\n              \\\"mythology\\\"\\n            ],\\n            [\\n              \\\"Karen\\\",\\n              \\\"F\\\",\\n              330.0,\\n              2020.0,\\n              \\\"Karen\\\",\\n              \\\"boomer\\\"\\n            ],\\n            [\\n              \\\"Karen\\\",\\n              \\\"M\\\",\\n              6.0,\\n              2020.0,\\n              \\\"Karen\\\",\\n              \\\"boomer\\\"\\n            ],\\n            [\\n              \\\"Noah\\\",\\n              \\\"M\\\",\\n              18407.0,\\n              2020.0,\\n              null,\\n              null\\n            ],\\n            [\\n              \\\"Noah\\\",\\n              \\\"F\\\",\\n              306.0,\\n              2020.0,\\n              null,\\n              null\\n            ]\\n          ]\\n        }\\n      }\\n    }\\n  ]\\n}\", {\"nohover\": true, \"maxDisplayRows\": 7, \"maxDisplayCols\": 8, \"colorPalette\": [\"#e41a1c\", \"#377eb8\", \"#4daf4a\", \"#984ea3\", \"#ff7f00\", \"#a65628\", \"#f781bf\", \"#999999\"]});\n",
       "</script>\n"
      ],
      "text/plain": [
       "<IPython.core.display.HTML object>"
      ]
     },
     "metadata": {},
     "output_type": "display_data"
    }
   ],
   "source": [
    "%%pt\n",
    "baby_small.merge(nyt_small, left_on='Name', right_on='nyt_name', how='outer')"
   ]
  },
  {
   "cell_type": "markdown",
   "id": "dac15f23",
   "metadata": {
    "editable": true,
    "slideshow": {
     "slide_type": "slide"
    },
    "tags": []
   },
   "source": [
    "### Different join types handle mismatches differently\n",
    "\n",
    "There are four types of joins.\n",
    "\n",
    "* **Inner**: keep **only** matching keys (intersection).\n",
    "* **Outer**: keep **all** keys in both DataFrames (union).\n",
    "* **Left**: keep all keys in the left DataFrame, whether or not they are in the right DataFrame.\n",
    "* **Right**: keep all keys in the right DataFrame, whether or not they are in the left DataFrame.\n",
    "    * Note that `a.merge(b, how='left')` contains the same information as `b.merge(a, how='right')`, just in a different order.\n",
    "\n",
    "<center><img src='imgs/image_1.png' width=30%></center>"
   ]
  },
  {
   "cell_type": "markdown",
   "id": "ad42404e",
   "metadata": {
    "editable": true,
    "slideshow": {
     "slide_type": "slide"
    },
    "tags": []
   },
   "source": [
    "### Notes on the `merge` method\n",
    "\n",
    "- `merge` is flexible – you can merge using a combination of columns, or the index of the DataFrame.\n",
    "-  If the two DataFrames have the same column names, `pandas` will add `_x` and `_y` to the duplicated column names to avoid having columns with the same name (change these the `suffixes` argument).\n",
    "- There is, in fact, a `join` method, but it's actually a wrapper around `merge` with fewer options.\n",
    "- **As always, the [documentation](https://pandas.pydata.org/docs/reference/api/pandas.DataFrame.merge.html) is your friend!**"
   ]
  },
  {
   "cell_type": "markdown",
   "id": "f1a19a91",
   "metadata": {
    "editable": true,
    "slideshow": {
     "slide_type": "slide"
    },
    "tags": []
   },
   "source": [
    "### Lots of `pandas` operations do an implicit outer join!\n",
    "\n",
    "- `pandas` will almost always try to match up index values using an outer join.\n",
    "- It won't tell you that it's doing an outer join, it'll just throw `NaN`s in your result!"
   ]
  },
  {
   "cell_type": "code",
   "execution_count": 42,
   "id": "c823f754",
   "metadata": {
    "editable": true,
    "scrolled": true,
    "slideshow": {
     "slide_type": ""
    },
    "tags": []
   },
   "outputs": [
    {
     "data": {
      "text/html": [
       "\n",
       "        <div style=\"display: flex; gap: 1rem;\">\n",
       "        <table border=\"1\" class=\"dataframe\">\n",
       "  <thead>\n",
       "    <tr style=\"text-align: right;\">\n",
       "      <th></th>\n",
       "      <th>a</th>\n",
       "    </tr>\n",
       "  </thead>\n",
       "  <tbody>\n",
       "    <tr>\n",
       "      <th>hello</th>\n",
       "      <td>1</td>\n",
       "    </tr>\n",
       "    <tr>\n",
       "      <th>dsc80</th>\n",
       "      <td>2</td>\n",
       "    </tr>\n",
       "    <tr>\n",
       "      <th>students</th>\n",
       "      <td>3</td>\n",
       "    </tr>\n",
       "  </tbody>\n",
       "</table><table border=\"1\" class=\"dataframe\">\n",
       "  <thead>\n",
       "    <tr style=\"text-align: right;\">\n",
       "      <th></th>\n",
       "      <th>b</th>\n",
       "    </tr>\n",
       "  </thead>\n",
       "  <tbody>\n",
       "    <tr>\n",
       "      <th>dsc80</th>\n",
       "      <td>10</td>\n",
       "    </tr>\n",
       "    <tr>\n",
       "      <th>is</th>\n",
       "      <td>20</td>\n",
       "    </tr>\n",
       "    <tr>\n",
       "      <th>awesome</th>\n",
       "      <td>30</td>\n",
       "    </tr>\n",
       "  </tbody>\n",
       "</table>\n",
       "        </div>\n",
       "    "
      ],
      "text/plain": [
       "<IPython.core.display.HTML object>"
      ]
     },
     "metadata": {},
     "output_type": "display_data"
    }
   ],
   "source": [
    "df1 = pd.DataFrame({'a': [1, 2, 3]}, index=['hello', 'dsc80', 'students'])\n",
    "df2 = pd.DataFrame({'b': [10, 20, 30]}, index=['dsc80', 'is', 'awesome'])\n",
    "dfs_side_by_side(df1, df2)"
   ]
  },
  {
   "cell_type": "code",
   "execution_count": 43,
   "id": "2cd8c3c5",
   "metadata": {
    "editable": true,
    "slideshow": {
     "slide_type": ""
    },
    "tags": []
   },
   "outputs": [
    {
     "data": {
      "text/plain": [
       "awesome      NaN\n",
       "dsc80       12.0\n",
       "hello        NaN\n",
       "is           NaN\n",
       "students     NaN\n",
       "dtype: float64"
      ]
     },
     "execution_count": 43,
     "metadata": {},
     "output_type": "execute_result"
    }
   ],
   "source": [
    "df1['a'] + df2['b']"
   ]
  },
  {
   "cell_type": "markdown",
   "id": "7c9059bc",
   "metadata": {
    "editable": true,
    "slideshow": {
     "slide_type": "slide"
    },
    "tags": []
   },
   "source": [
    "## Many-to-one & many-to-many joins"
   ]
  },
  {
   "cell_type": "markdown",
   "id": "fa7eae26",
   "metadata": {
    "editable": true,
    "slideshow": {
     "slide_type": "slide"
    },
    "tags": []
   },
   "source": [
    "### One-to-one joins\n",
    "\n",
    "- So far in this lecture, the joins we have worked with are called **one-to-one** joins.\n",
    "- Neither the left DataFrame (`baby_small`) nor the right DataFrame (`nyt_small`) contained any duplicates in the join key.\n",
    "- What if there are duplicated join keys, in one or both of the DataFrames we are merging?"
   ]
  },
  {
   "cell_type": "code",
   "execution_count": 44,
   "id": "38e5378a",
   "metadata": {
    "editable": true,
    "slideshow": {
     "slide_type": "slide"
    },
    "tags": []
   },
   "outputs": [],
   "source": [
    "# Run this cell to set up the next example.\n",
    "profs = pd.DataFrame(\n",
    "[['Sam', 'UCB', 5],\n",
    " ['Sam', 'UCSD', 5],\n",
    " ['Janine', 'UCSD', 8],\n",
    " ['Marina', 'UIC', 7],\n",
    " ['Justin', 'OSU', 5],\n",
    " ['Soohyun', 'UCSD', 2],\n",
    " ['Suraj', 'UCB', 2]],\n",
    "    columns=['Name', 'School', 'Years']\n",
    ")\n",
    "\n",
    "schools = pd.DataFrame({\n",
    "    'Abr': ['UCSD', 'UCLA', 'UCB', 'UIC'],\n",
    "    'Full': ['University of California San Diego', 'University of California, Los Angeles', 'University of California, Berkeley', 'University of Illinois Chicago']\n",
    "})\n",
    "\n",
    "programs = pd.DataFrame({\n",
    "    'uni': ['UCSD', 'UCSD', 'UCSD', 'UCB', 'OSU', 'OSU'],\n",
    "    'dept': ['Math', 'HDSI', 'COGS', 'CS', 'Math', 'CS'],\n",
    "    'grad_students': [205, 54, 281, 439, 304, 193]\n",
    "})"
   ]
  },
  {
   "cell_type": "markdown",
   "id": "4801c5d8",
   "metadata": {
    "editable": true,
    "slideshow": {
     "slide_type": "slide"
    },
    "tags": []
   },
   "source": [
    "### Many-to-one joins\n",
    "\n",
    "- Many-to-one joins are joins where **one** of the DataFrames contains duplicate values in the join key. \n",
    "- The resulting DataFrame will preserve those duplicate entries as appropriate. "
   ]
  },
  {
   "cell_type": "code",
   "execution_count": 45,
   "id": "e7e7d4ab",
   "metadata": {
    "editable": true,
    "slideshow": {
     "slide_type": ""
    },
    "tags": []
   },
   "outputs": [
    {
     "data": {
      "text/html": [
       "\n",
       "        <div style=\"display: flex; gap: 1rem;\">\n",
       "        <table border=\"1\" class=\"dataframe\">\n",
       "  <thead>\n",
       "    <tr style=\"text-align: right;\">\n",
       "      <th></th>\n",
       "      <th>Name</th>\n",
       "      <th>School</th>\n",
       "      <th>Years</th>\n",
       "    </tr>\n",
       "  </thead>\n",
       "  <tbody>\n",
       "    <tr>\n",
       "      <th>0</th>\n",
       "      <td>Sam</td>\n",
       "      <td>UCB</td>\n",
       "      <td>5</td>\n",
       "    </tr>\n",
       "    <tr>\n",
       "      <th>1</th>\n",
       "      <td>Sam</td>\n",
       "      <td>UCSD</td>\n",
       "      <td>5</td>\n",
       "    </tr>\n",
       "    <tr>\n",
       "      <th>2</th>\n",
       "      <td>Janine</td>\n",
       "      <td>UCSD</td>\n",
       "      <td>8</td>\n",
       "    </tr>\n",
       "    <tr>\n",
       "      <th>3</th>\n",
       "      <td>Marina</td>\n",
       "      <td>UIC</td>\n",
       "      <td>7</td>\n",
       "    </tr>\n",
       "    <tr>\n",
       "      <th>4</th>\n",
       "      <td>Justin</td>\n",
       "      <td>OSU</td>\n",
       "      <td>5</td>\n",
       "    </tr>\n",
       "    <tr>\n",
       "      <th>5</th>\n",
       "      <td>Soohyun</td>\n",
       "      <td>UCSD</td>\n",
       "      <td>2</td>\n",
       "    </tr>\n",
       "    <tr>\n",
       "      <th>6</th>\n",
       "      <td>Suraj</td>\n",
       "      <td>UCB</td>\n",
       "      <td>2</td>\n",
       "    </tr>\n",
       "  </tbody>\n",
       "</table><table border=\"1\" class=\"dataframe\">\n",
       "  <thead>\n",
       "    <tr style=\"text-align: right;\">\n",
       "      <th></th>\n",
       "      <th>Abr</th>\n",
       "      <th>Full</th>\n",
       "    </tr>\n",
       "  </thead>\n",
       "  <tbody>\n",
       "    <tr>\n",
       "      <th>0</th>\n",
       "      <td>UCSD</td>\n",
       "      <td>University of California San Diego</td>\n",
       "    </tr>\n",
       "    <tr>\n",
       "      <th>1</th>\n",
       "      <td>UCLA</td>\n",
       "      <td>University of California, Los Angeles</td>\n",
       "    </tr>\n",
       "    <tr>\n",
       "      <th>2</th>\n",
       "      <td>UCB</td>\n",
       "      <td>University of California, Berkeley</td>\n",
       "    </tr>\n",
       "    <tr>\n",
       "      <th>3</th>\n",
       "      <td>UIC</td>\n",
       "      <td>University of Illinois Chicago</td>\n",
       "    </tr>\n",
       "  </tbody>\n",
       "</table>\n",
       "        </div>\n",
       "    "
      ],
      "text/plain": [
       "<IPython.core.display.HTML object>"
      ]
     },
     "metadata": {},
     "output_type": "display_data"
    }
   ],
   "source": [
    "dfs_side_by_side(profs, schools)"
   ]
  },
  {
   "cell_type": "markdown",
   "id": "9bac6107",
   "metadata": {
    "editable": true,
    "slideshow": {
     "slide_type": ""
    },
    "tags": []
   },
   "source": [
    "Note that when merging `profs` and `schools`, the information from `schools` is duplicated.\n",
    "- `'University of California, San Diego'` appears three times.\n",
    "- `'University of California, Berkeley'` appears twice."
   ]
  },
  {
   "cell_type": "code",
   "execution_count": 46,
   "id": "23a18661",
   "metadata": {
    "editable": true,
    "slideshow": {
     "slide_type": ""
    },
    "tags": []
   },
   "outputs": [
    {
     "data": {
      "text/html": [
       "\n",
       "<div class=\"pt-viz\" id=\"pt-viz-5\"></div>\n",
       "<script>\n",
       "drawWsv('#pt-viz-5', \"{\\n  \\\"code\\\": \\\"profs.merge(schools, left_on='School', right_on='Abr', how='left')\\\\n\\\",\\n  \\\"explanation\\\": [\\n    {\\n      \\\"type\\\": \\\"MergeCall\\\",\\n      \\\"code_step\\\": \\\"profs.merge(schools, left_on='School', right_on='Abr', how='left')\\\",\\n      \\\"fragment\\\": {\\n        \\\"start\\\": {\\n          \\\"line\\\": 0,\\n          \\\"ch\\\": 5\\n        },\\n        \\\"end\\\": {\\n          \\\"line\\\": 0,\\n          \\\"ch\\\": 66\\n        }\\n      },\\n      \\\"marks\\\": [\\n        {\\n          \\\"type\\\": \\\"using\\\",\\n          \\\"pos\\\": {\\n            \\\"type\\\": \\\"axis\\\",\\n            \\\"anchor\\\": \\\"lhs\\\",\\n            \\\"select\\\": \\\"column\\\",\\n            \\\"label\\\": \\\"School\\\"\\n          }\\n        },\\n        {\\n          \\\"type\\\": \\\"using\\\",\\n          \\\"pos\\\": {\\n            \\\"type\\\": \\\"axis\\\",\\n            \\\"anchor\\\": \\\"lhs2\\\",\\n            \\\"select\\\": \\\"column\\\",\\n            \\\"label\\\": \\\"Abr\\\"\\n          }\\n        },\\n        {\\n          \\\"type\\\": \\\"using\\\",\\n          \\\"pos\\\": {\\n            \\\"type\\\": \\\"axis\\\",\\n            \\\"anchor\\\": \\\"rhs\\\",\\n            \\\"select\\\": \\\"column\\\",\\n            \\\"label\\\": \\\"School\\\"\\n          }\\n        },\\n        {\\n          \\\"type\\\": \\\"using\\\",\\n          \\\"pos\\\": {\\n            \\\"type\\\": \\\"axis\\\",\\n            \\\"anchor\\\": \\\"rhs\\\",\\n            \\\"select\\\": \\\"column\\\",\\n            \\\"label\\\": \\\"Abr\\\"\\n          }\\n        },\\n        {\\n          \\\"type\\\": \\\"drop\\\",\\n          \\\"pos\\\": {\\n            \\\"type\\\": \\\"axis\\\",\\n            \\\"anchor\\\": \\\"lhs2\\\",\\n            \\\"select\\\": \\\"row\\\",\\n            \\\"label\\\": 1\\n          }\\n        },\\n        {\\n          \\\"type\\\": \\\"map_set\\\",\\n          \\\"maps\\\": [\\n            {\\n              \\\"type\\\": \\\"map\\\",\\n              \\\"from\\\": {\\n                \\\"type\\\": \\\"axis\\\",\\n                \\\"anchor\\\": \\\"lhs\\\",\\n                \\\"select\\\": \\\"row\\\",\\n                \\\"label\\\": 4\\n              },\\n              \\\"to\\\": {\\n                \\\"type\\\": \\\"axis\\\",\\n                \\\"anchor\\\": \\\"rhs\\\",\\n                \\\"select\\\": \\\"row\\\",\\n                \\\"label\\\": 4\\n              }\\n            }\\n          ]\\n        },\\n        {\\n          \\\"type\\\": \\\"map_set\\\",\\n          \\\"maps\\\": [\\n            {\\n              \\\"type\\\": \\\"map\\\",\\n              \\\"from\\\": {\\n                \\\"type\\\": \\\"axis\\\",\\n                \\\"anchor\\\": \\\"lhs\\\",\\n                \\\"select\\\": \\\"row\\\",\\n                \\\"label\\\": 0\\n              },\\n              \\\"to\\\": {\\n                \\\"type\\\": \\\"axis\\\",\\n                \\\"anchor\\\": \\\"rhs\\\",\\n                \\\"select\\\": \\\"row\\\",\\n                \\\"label\\\": 0\\n              }\\n            },\\n            {\\n              \\\"type\\\": \\\"map\\\",\\n              \\\"from\\\": {\\n                \\\"type\\\": \\\"axis\\\",\\n                \\\"anchor\\\": \\\"lhs2\\\",\\n                \\\"select\\\": \\\"row\\\",\\n                \\\"label\\\": 2\\n              },\\n              \\\"to\\\": {\\n                \\\"type\\\": \\\"axis\\\",\\n                \\\"anchor\\\": \\\"rhs\\\",\\n                \\\"select\\\": \\\"row\\\",\\n                \\\"label\\\": 0\\n              }\\n            },\\n            {\\n              \\\"type\\\": \\\"map\\\",\\n              \\\"from\\\": {\\n                \\\"type\\\": \\\"axis\\\",\\n                \\\"anchor\\\": \\\"lhs\\\",\\n                \\\"select\\\": \\\"row\\\",\\n                \\\"label\\\": 6\\n              },\\n              \\\"to\\\": {\\n                \\\"type\\\": \\\"axis\\\",\\n                \\\"anchor\\\": \\\"rhs\\\",\\n                \\\"select\\\": \\\"row\\\",\\n                \\\"label\\\": 6\\n              }\\n            },\\n            {\\n              \\\"type\\\": \\\"map\\\",\\n              \\\"from\\\": {\\n                \\\"type\\\": \\\"axis\\\",\\n                \\\"anchor\\\": \\\"lhs2\\\",\\n                \\\"select\\\": \\\"row\\\",\\n                \\\"label\\\": 2\\n              },\\n              \\\"to\\\": {\\n                \\\"type\\\": \\\"axis\\\",\\n                \\\"anchor\\\": \\\"rhs\\\",\\n                \\\"select\\\": \\\"row\\\",\\n                \\\"label\\\": 6\\n              }\\n            }\\n          ]\\n        },\\n        {\\n          \\\"type\\\": \\\"map_set\\\",\\n          \\\"maps\\\": [\\n            {\\n              \\\"type\\\": \\\"map\\\",\\n              \\\"from\\\": {\\n                \\\"type\\\": \\\"axis\\\",\\n                \\\"anchor\\\": \\\"lhs\\\",\\n                \\\"select\\\": \\\"row\\\",\\n                \\\"label\\\": 1\\n              },\\n              \\\"to\\\": {\\n                \\\"type\\\": \\\"axis\\\",\\n                \\\"anchor\\\": \\\"rhs\\\",\\n                \\\"select\\\": \\\"row\\\",\\n                \\\"label\\\": 1\\n              }\\n            },\\n            {\\n              \\\"type\\\": \\\"map\\\",\\n              \\\"from\\\": {\\n                \\\"type\\\": \\\"axis\\\",\\n                \\\"anchor\\\": \\\"lhs2\\\",\\n                \\\"select\\\": \\\"row\\\",\\n                \\\"label\\\": 0\\n              },\\n              \\\"to\\\": {\\n                \\\"type\\\": \\\"axis\\\",\\n                \\\"anchor\\\": \\\"rhs\\\",\\n                \\\"select\\\": \\\"row\\\",\\n                \\\"label\\\": 1\\n              }\\n            },\\n            {\\n              \\\"type\\\": \\\"map\\\",\\n              \\\"from\\\": {\\n                \\\"type\\\": \\\"axis\\\",\\n                \\\"anchor\\\": \\\"lhs\\\",\\n                \\\"select\\\": \\\"row\\\",\\n                \\\"label\\\": 2\\n              },\\n              \\\"to\\\": {\\n                \\\"type\\\": \\\"axis\\\",\\n                \\\"anchor\\\": \\\"rhs\\\",\\n                \\\"select\\\": \\\"row\\\",\\n                \\\"label\\\": 2\\n              }\\n            },\\n            {\\n              \\\"type\\\": \\\"map\\\",\\n              \\\"from\\\": {\\n                \\\"type\\\": \\\"axis\\\",\\n                \\\"anchor\\\": \\\"lhs2\\\",\\n                \\\"select\\\": \\\"row\\\",\\n                \\\"label\\\": 0\\n              },\\n              \\\"to\\\": {\\n                \\\"type\\\": \\\"axis\\\",\\n                \\\"anchor\\\": \\\"rhs\\\",\\n                \\\"select\\\": \\\"row\\\",\\n                \\\"label\\\": 2\\n              }\\n            },\\n            {\\n              \\\"type\\\": \\\"map\\\",\\n              \\\"from\\\": {\\n                \\\"type\\\": \\\"axis\\\",\\n                \\\"anchor\\\": \\\"lhs\\\",\\n                \\\"select\\\": \\\"row\\\",\\n                \\\"label\\\": 5\\n              },\\n              \\\"to\\\": {\\n                \\\"type\\\": \\\"axis\\\",\\n                \\\"anchor\\\": \\\"rhs\\\",\\n                \\\"select\\\": \\\"row\\\",\\n                \\\"label\\\": 5\\n              }\\n            },\\n            {\\n              \\\"type\\\": \\\"map\\\",\\n              \\\"from\\\": {\\n                \\\"type\\\": \\\"axis\\\",\\n                \\\"anchor\\\": \\\"lhs2\\\",\\n                \\\"select\\\": \\\"row\\\",\\n                \\\"label\\\": 0\\n              },\\n              \\\"to\\\": {\\n                \\\"type\\\": \\\"axis\\\",\\n                \\\"anchor\\\": \\\"rhs\\\",\\n                \\\"select\\\": \\\"row\\\",\\n                \\\"label\\\": 5\\n              }\\n            }\\n          ]\\n        },\\n        {\\n          \\\"type\\\": \\\"map_set\\\",\\n          \\\"maps\\\": [\\n            {\\n              \\\"type\\\": \\\"map\\\",\\n              \\\"from\\\": {\\n                \\\"type\\\": \\\"axis\\\",\\n                \\\"anchor\\\": \\\"lhs\\\",\\n                \\\"select\\\": \\\"row\\\",\\n                \\\"label\\\": 3\\n              },\\n              \\\"to\\\": {\\n                \\\"type\\\": \\\"axis\\\",\\n                \\\"anchor\\\": \\\"rhs\\\",\\n                \\\"select\\\": \\\"row\\\",\\n                \\\"label\\\": 3\\n              }\\n            },\\n            {\\n              \\\"type\\\": \\\"map\\\",\\n              \\\"from\\\": {\\n                \\\"type\\\": \\\"axis\\\",\\n                \\\"anchor\\\": \\\"lhs2\\\",\\n                \\\"select\\\": \\\"row\\\",\\n                \\\"label\\\": 3\\n              },\\n              \\\"to\\\": {\\n                \\\"type\\\": \\\"axis\\\",\\n                \\\"anchor\\\": \\\"rhs\\\",\\n                \\\"select\\\": \\\"row\\\",\\n                \\\"label\\\": 3\\n              }\\n            }\\n          ]\\n        }\\n      ],\\n      \\\"data\\\": {\\n        \\\"lhs\\\": {\\n          \\\"type\\\": \\\"DataFrame\\\",\\n          \\\"columns\\\": {\\n            \\\"names\\\": [\\n              null\\n            ],\\n            \\\"labels\\\": [\\n              \\\"Name\\\",\\n              \\\"School\\\",\\n              \\\"Years\\\"\\n            ]\\n          },\\n          \\\"index\\\": {\\n            \\\"names\\\": [\\n              null\\n            ],\\n            \\\"labels\\\": [\\n              0,\\n              1,\\n              2,\\n              3,\\n              4,\\n              5,\\n              6\\n            ]\\n          },\\n          \\\"data\\\": [\\n            [\\n              \\\"Sam\\\",\\n              \\\"UCB\\\",\\n              5\\n            ],\\n            [\\n              \\\"Sam\\\",\\n              \\\"UCSD\\\",\\n              5\\n            ],\\n            [\\n              \\\"Janine\\\",\\n              \\\"UCSD\\\",\\n              8\\n            ],\\n            [\\n              \\\"Marina\\\",\\n              \\\"UIC\\\",\\n              7\\n            ],\\n            [\\n              \\\"Justin\\\",\\n              \\\"OSU\\\",\\n              5\\n            ],\\n            [\\n              \\\"Soohyun\\\",\\n              \\\"UCSD\\\",\\n              2\\n            ],\\n            [\\n              \\\"Suraj\\\",\\n              \\\"UCB\\\",\\n              2\\n            ]\\n          ]\\n        },\\n        \\\"lhs2\\\": {\\n          \\\"type\\\": \\\"DataFrame\\\",\\n          \\\"columns\\\": {\\n            \\\"names\\\": [\\n              null\\n            ],\\n            \\\"labels\\\": [\\n              \\\"Abr\\\",\\n              \\\"Full\\\"\\n            ]\\n          },\\n          \\\"index\\\": {\\n            \\\"names\\\": [\\n              null\\n            ],\\n            \\\"labels\\\": [\\n              0,\\n              1,\\n              2,\\n              3\\n            ]\\n          },\\n          \\\"data\\\": [\\n            [\\n              \\\"UCSD\\\",\\n              \\\"University of California San Diego\\\"\\n            ],\\n            [\\n              \\\"UCLA\\\",\\n              \\\"University of California, Los Angeles\\\"\\n            ],\\n            [\\n              \\\"UCB\\\",\\n              \\\"University of California, Berkeley\\\"\\n            ],\\n            [\\n              \\\"UIC\\\",\\n              \\\"University of Illinois Chicago\\\"\\n            ]\\n          ]\\n        },\\n        \\\"rhs\\\": {\\n          \\\"type\\\": \\\"DataFrame\\\",\\n          \\\"columns\\\": {\\n            \\\"names\\\": [\\n              null\\n            ],\\n            \\\"labels\\\": [\\n              \\\"Name\\\",\\n              \\\"School\\\",\\n              \\\"Years\\\",\\n              \\\"Abr\\\",\\n              \\\"Full\\\"\\n            ]\\n          },\\n          \\\"index\\\": {\\n            \\\"names\\\": [\\n              null\\n            ],\\n            \\\"labels\\\": [\\n              0,\\n              1,\\n              2,\\n              3,\\n              4,\\n              5,\\n              6\\n            ]\\n          },\\n          \\\"data\\\": [\\n            [\\n              \\\"Sam\\\",\\n              \\\"UCB\\\",\\n              5,\\n              \\\"UCB\\\",\\n              \\\"University of California, Berkeley\\\"\\n            ],\\n            [\\n              \\\"Sam\\\",\\n              \\\"UCSD\\\",\\n              5,\\n              \\\"UCSD\\\",\\n              \\\"University of California San Diego\\\"\\n            ],\\n            [\\n              \\\"Janine\\\",\\n              \\\"UCSD\\\",\\n              8,\\n              \\\"UCSD\\\",\\n              \\\"University of California San Diego\\\"\\n            ],\\n            [\\n              \\\"Marina\\\",\\n              \\\"UIC\\\",\\n              7,\\n              \\\"UIC\\\",\\n              \\\"University of Illinois Chicago\\\"\\n            ],\\n            [\\n              \\\"Justin\\\",\\n              \\\"OSU\\\",\\n              5,\\n              null,\\n              null\\n            ],\\n            [\\n              \\\"Soohyun\\\",\\n              \\\"UCSD\\\",\\n              2,\\n              \\\"UCSD\\\",\\n              \\\"University of California San Diego\\\"\\n            ],\\n            [\\n              \\\"Suraj\\\",\\n              \\\"UCB\\\",\\n              2,\\n              \\\"UCB\\\",\\n              \\\"University of California, Berkeley\\\"\\n            ]\\n          ]\\n        }\\n      }\\n    }\\n  ]\\n}\", {\"nohover\": true, \"maxDisplayRows\": 7, \"maxDisplayCols\": 8, \"colorPalette\": [\"#e41a1c\", \"#377eb8\", \"#4daf4a\", \"#984ea3\", \"#ff7f00\", \"#a65628\", \"#f781bf\", \"#999999\"]});\n",
       "</script>\n"
      ],
      "text/plain": [
       "<IPython.core.display.HTML object>"
      ]
     },
     "metadata": {},
     "output_type": "display_data"
    }
   ],
   "source": [
    "%%pt\n",
    "profs.merge(schools, left_on='School', right_on='Abr', how='left')"
   ]
  },
  {
   "cell_type": "markdown",
   "id": "7f6c7090",
   "metadata": {
    "editable": true,
    "slideshow": {
     "slide_type": "slide"
    },
    "tags": []
   },
   "source": [
    "### Many-to-many joins\n",
    "\n",
    "Many-to-many joins are joins where both DataFrames have duplicate values in the join key."
   ]
  },
  {
   "cell_type": "code",
   "execution_count": 47,
   "id": "3942476b",
   "metadata": {
    "editable": true,
    "slideshow": {
     "slide_type": ""
    },
    "tags": []
   },
   "outputs": [
    {
     "data": {
      "text/html": [
       "\n",
       "        <div style=\"display: flex; gap: 1rem;\">\n",
       "        <table border=\"1\" class=\"dataframe\">\n",
       "  <thead>\n",
       "    <tr style=\"text-align: right;\">\n",
       "      <th></th>\n",
       "      <th>Name</th>\n",
       "      <th>School</th>\n",
       "      <th>Years</th>\n",
       "    </tr>\n",
       "  </thead>\n",
       "  <tbody>\n",
       "    <tr>\n",
       "      <th>0</th>\n",
       "      <td>Sam</td>\n",
       "      <td>UCB</td>\n",
       "      <td>5</td>\n",
       "    </tr>\n",
       "    <tr>\n",
       "      <th>1</th>\n",
       "      <td>Sam</td>\n",
       "      <td>UCSD</td>\n",
       "      <td>5</td>\n",
       "    </tr>\n",
       "    <tr>\n",
       "      <th>2</th>\n",
       "      <td>Janine</td>\n",
       "      <td>UCSD</td>\n",
       "      <td>8</td>\n",
       "    </tr>\n",
       "    <tr>\n",
       "      <th>3</th>\n",
       "      <td>Marina</td>\n",
       "      <td>UIC</td>\n",
       "      <td>7</td>\n",
       "    </tr>\n",
       "    <tr>\n",
       "      <th>4</th>\n",
       "      <td>Justin</td>\n",
       "      <td>OSU</td>\n",
       "      <td>5</td>\n",
       "    </tr>\n",
       "    <tr>\n",
       "      <th>5</th>\n",
       "      <td>Soohyun</td>\n",
       "      <td>UCSD</td>\n",
       "      <td>2</td>\n",
       "    </tr>\n",
       "    <tr>\n",
       "      <th>6</th>\n",
       "      <td>Suraj</td>\n",
       "      <td>UCB</td>\n",
       "      <td>2</td>\n",
       "    </tr>\n",
       "  </tbody>\n",
       "</table><table border=\"1\" class=\"dataframe\">\n",
       "  <thead>\n",
       "    <tr style=\"text-align: right;\">\n",
       "      <th></th>\n",
       "      <th>uni</th>\n",
       "      <th>dept</th>\n",
       "      <th>grad_students</th>\n",
       "    </tr>\n",
       "  </thead>\n",
       "  <tbody>\n",
       "    <tr>\n",
       "      <th>0</th>\n",
       "      <td>UCSD</td>\n",
       "      <td>Math</td>\n",
       "      <td>205</td>\n",
       "    </tr>\n",
       "    <tr>\n",
       "      <th>1</th>\n",
       "      <td>UCSD</td>\n",
       "      <td>HDSI</td>\n",
       "      <td>54</td>\n",
       "    </tr>\n",
       "    <tr>\n",
       "      <th>2</th>\n",
       "      <td>UCSD</td>\n",
       "      <td>COGS</td>\n",
       "      <td>281</td>\n",
       "    </tr>\n",
       "    <tr>\n",
       "      <th>3</th>\n",
       "      <td>UCB</td>\n",
       "      <td>CS</td>\n",
       "      <td>439</td>\n",
       "    </tr>\n",
       "    <tr>\n",
       "      <th>4</th>\n",
       "      <td>OSU</td>\n",
       "      <td>Math</td>\n",
       "      <td>304</td>\n",
       "    </tr>\n",
       "    <tr>\n",
       "      <th>5</th>\n",
       "      <td>OSU</td>\n",
       "      <td>CS</td>\n",
       "      <td>193</td>\n",
       "    </tr>\n",
       "  </tbody>\n",
       "</table>\n",
       "        </div>\n",
       "    "
      ],
      "text/plain": [
       "<IPython.core.display.HTML object>"
      ]
     },
     "metadata": {},
     "output_type": "display_data"
    }
   ],
   "source": [
    "dfs_side_by_side(profs, programs)"
   ]
  },
  {
   "cell_type": "markdown",
   "id": "8cd14679",
   "metadata": {
    "editable": true,
    "slideshow": {
     "slide_type": ""
    },
    "tags": []
   },
   "source": [
    "Before running the following cell, try predicting the number of rows in the output."
   ]
  },
  {
   "cell_type": "code",
   "execution_count": 48,
   "id": "aa4fb512",
   "metadata": {
    "editable": true,
    "slideshow": {
     "slide_type": ""
    },
    "tags": []
   },
   "outputs": [
    {
     "data": {
      "text/html": [
       "\n",
       "<div class=\"pt-viz\" id=\"pt-viz-6\"></div>\n",
       "<script>\n",
       "drawWsv('#pt-viz-6', \"{\\n  \\\"code\\\": \\\"profs.merge(programs, left_on='School', right_on='uni', how='inner')\\\\n\\\",\\n  \\\"explanation\\\": [\\n    {\\n      \\\"type\\\": \\\"MergeCall\\\",\\n      \\\"code_step\\\": \\\"profs.merge(programs, left_on='School', right_on='uni', how='inner')\\\",\\n      \\\"fragment\\\": {\\n        \\\"start\\\": {\\n          \\\"line\\\": 0,\\n          \\\"ch\\\": 5\\n        },\\n        \\\"end\\\": {\\n          \\\"line\\\": 0,\\n          \\\"ch\\\": 68\\n        }\\n      },\\n      \\\"marks\\\": [\\n        {\\n          \\\"type\\\": \\\"using\\\",\\n          \\\"pos\\\": {\\n            \\\"type\\\": \\\"axis\\\",\\n            \\\"anchor\\\": \\\"lhs\\\",\\n            \\\"select\\\": \\\"column\\\",\\n            \\\"label\\\": \\\"School\\\"\\n          }\\n        },\\n        {\\n          \\\"type\\\": \\\"using\\\",\\n          \\\"pos\\\": {\\n            \\\"type\\\": \\\"axis\\\",\\n            \\\"anchor\\\": \\\"lhs2\\\",\\n            \\\"select\\\": \\\"column\\\",\\n            \\\"label\\\": \\\"uni\\\"\\n          }\\n        },\\n        {\\n          \\\"type\\\": \\\"using\\\",\\n          \\\"pos\\\": {\\n            \\\"type\\\": \\\"axis\\\",\\n            \\\"anchor\\\": \\\"rhs\\\",\\n            \\\"select\\\": \\\"column\\\",\\n            \\\"label\\\": \\\"School\\\"\\n          }\\n        },\\n        {\\n          \\\"type\\\": \\\"using\\\",\\n          \\\"pos\\\": {\\n            \\\"type\\\": \\\"axis\\\",\\n            \\\"anchor\\\": \\\"rhs\\\",\\n            \\\"select\\\": \\\"column\\\",\\n            \\\"label\\\": \\\"uni\\\"\\n          }\\n        },\\n        {\\n          \\\"type\\\": \\\"drop\\\",\\n          \\\"pos\\\": {\\n            \\\"type\\\": \\\"axis\\\",\\n            \\\"anchor\\\": \\\"lhs\\\",\\n            \\\"select\\\": \\\"row\\\",\\n            \\\"label\\\": 3\\n          }\\n        },\\n        {\\n          \\\"type\\\": \\\"map_set\\\",\\n          \\\"maps\\\": [\\n            {\\n              \\\"type\\\": \\\"map\\\",\\n              \\\"from\\\": {\\n                \\\"type\\\": \\\"axis\\\",\\n                \\\"anchor\\\": \\\"lhs\\\",\\n                \\\"select\\\": \\\"row\\\",\\n                \\\"label\\\": 4\\n              },\\n              \\\"to\\\": {\\n                \\\"type\\\": \\\"axis\\\",\\n                \\\"anchor\\\": \\\"rhs\\\",\\n                \\\"select\\\": \\\"row\\\",\\n                \\\"label\\\": 7\\n              }\\n            },\\n            {\\n              \\\"type\\\": \\\"map\\\",\\n              \\\"from\\\": {\\n                \\\"type\\\": \\\"axis\\\",\\n                \\\"anchor\\\": \\\"lhs2\\\",\\n                \\\"select\\\": \\\"row\\\",\\n                \\\"label\\\": 4\\n              },\\n              \\\"to\\\": {\\n                \\\"type\\\": \\\"axis\\\",\\n                \\\"anchor\\\": \\\"rhs\\\",\\n                \\\"select\\\": \\\"row\\\",\\n                \\\"label\\\": 7\\n              }\\n            },\\n            {\\n              \\\"type\\\": \\\"map\\\",\\n              \\\"from\\\": {\\n                \\\"type\\\": \\\"axis\\\",\\n                \\\"anchor\\\": \\\"lhs\\\",\\n                \\\"select\\\": \\\"row\\\",\\n                \\\"label\\\": 4\\n              },\\n              \\\"to\\\": {\\n                \\\"type\\\": \\\"axis\\\",\\n                \\\"anchor\\\": \\\"rhs\\\",\\n                \\\"select\\\": \\\"row\\\",\\n                \\\"label\\\": 8\\n              }\\n            },\\n            {\\n              \\\"type\\\": \\\"map\\\",\\n              \\\"from\\\": {\\n                \\\"type\\\": \\\"axis\\\",\\n                \\\"anchor\\\": \\\"lhs2\\\",\\n                \\\"select\\\": \\\"row\\\",\\n                \\\"label\\\": 5\\n              },\\n              \\\"to\\\": {\\n                \\\"type\\\": \\\"axis\\\",\\n                \\\"anchor\\\": \\\"rhs\\\",\\n                \\\"select\\\": \\\"row\\\",\\n                \\\"label\\\": 8\\n              }\\n            }\\n          ]\\n        },\\n        {\\n          \\\"type\\\": \\\"map_set\\\",\\n          \\\"maps\\\": [\\n            {\\n              \\\"type\\\": \\\"map\\\",\\n              \\\"from\\\": {\\n                \\\"type\\\": \\\"axis\\\",\\n                \\\"anchor\\\": \\\"lhs\\\",\\n                \\\"select\\\": \\\"row\\\",\\n                \\\"label\\\": 0\\n              },\\n              \\\"to\\\": {\\n                \\\"type\\\": \\\"axis\\\",\\n                \\\"anchor\\\": \\\"rhs\\\",\\n                \\\"select\\\": \\\"row\\\",\\n                \\\"label\\\": 0\\n              }\\n            },\\n            {\\n              \\\"type\\\": \\\"map\\\",\\n              \\\"from\\\": {\\n                \\\"type\\\": \\\"axis\\\",\\n                \\\"anchor\\\": \\\"lhs2\\\",\\n                \\\"select\\\": \\\"row\\\",\\n                \\\"label\\\": 3\\n              },\\n              \\\"to\\\": {\\n                \\\"type\\\": \\\"axis\\\",\\n                \\\"anchor\\\": \\\"rhs\\\",\\n                \\\"select\\\": \\\"row\\\",\\n                \\\"label\\\": 0\\n              }\\n            },\\n            {\\n              \\\"type\\\": \\\"map\\\",\\n              \\\"from\\\": {\\n                \\\"type\\\": \\\"axis\\\",\\n                \\\"anchor\\\": \\\"lhs\\\",\\n                \\\"select\\\": \\\"row\\\",\\n                \\\"label\\\": 6\\n              },\\n              \\\"to\\\": {\\n                \\\"type\\\": \\\"axis\\\",\\n                \\\"anchor\\\": \\\"rhs\\\",\\n                \\\"select\\\": \\\"row\\\",\\n                \\\"label\\\": 12\\n              }\\n            },\\n            {\\n              \\\"type\\\": \\\"map\\\",\\n              \\\"from\\\": {\\n                \\\"type\\\": \\\"axis\\\",\\n                \\\"anchor\\\": \\\"lhs2\\\",\\n                \\\"select\\\": \\\"row\\\",\\n                \\\"label\\\": 3\\n              },\\n              \\\"to\\\": {\\n                \\\"type\\\": \\\"axis\\\",\\n                \\\"anchor\\\": \\\"rhs\\\",\\n                \\\"select\\\": \\\"row\\\",\\n                \\\"label\\\": 12\\n              }\\n            }\\n          ]\\n        },\\n        {\\n          \\\"type\\\": \\\"map_set\\\",\\n          \\\"maps\\\": [\\n            {\\n              \\\"type\\\": \\\"map\\\",\\n              \\\"from\\\": {\\n                \\\"type\\\": \\\"axis\\\",\\n                \\\"anchor\\\": \\\"lhs\\\",\\n                \\\"select\\\": \\\"row\\\",\\n                \\\"label\\\": 1\\n              },\\n              \\\"to\\\": {\\n                \\\"type\\\": \\\"axis\\\",\\n                \\\"anchor\\\": \\\"rhs\\\",\\n                \\\"select\\\": \\\"row\\\",\\n                \\\"label\\\": 1\\n              }\\n            },\\n            {\\n              \\\"type\\\": \\\"map\\\",\\n              \\\"from\\\": {\\n                \\\"type\\\": \\\"axis\\\",\\n                \\\"anchor\\\": \\\"lhs2\\\",\\n                \\\"select\\\": \\\"row\\\",\\n                \\\"label\\\": 0\\n              },\\n              \\\"to\\\": {\\n                \\\"type\\\": \\\"axis\\\",\\n                \\\"anchor\\\": \\\"rhs\\\",\\n                \\\"select\\\": \\\"row\\\",\\n                \\\"label\\\": 1\\n              }\\n            },\\n            {\\n              \\\"type\\\": \\\"map\\\",\\n              \\\"from\\\": {\\n                \\\"type\\\": \\\"axis\\\",\\n                \\\"anchor\\\": \\\"lhs\\\",\\n                \\\"select\\\": \\\"row\\\",\\n                \\\"label\\\": 1\\n              },\\n              \\\"to\\\": {\\n                \\\"type\\\": \\\"axis\\\",\\n                \\\"anchor\\\": \\\"rhs\\\",\\n                \\\"select\\\": \\\"row\\\",\\n                \\\"label\\\": 2\\n              }\\n            },\\n            {\\n              \\\"type\\\": \\\"map\\\",\\n              \\\"from\\\": {\\n                \\\"type\\\": \\\"axis\\\",\\n                \\\"anchor\\\": \\\"lhs2\\\",\\n                \\\"select\\\": \\\"row\\\",\\n                \\\"label\\\": 1\\n              },\\n              \\\"to\\\": {\\n                \\\"type\\\": \\\"axis\\\",\\n                \\\"anchor\\\": \\\"rhs\\\",\\n                \\\"select\\\": \\\"row\\\",\\n                \\\"label\\\": 2\\n              }\\n            },\\n            {\\n              \\\"type\\\": \\\"map\\\",\\n              \\\"from\\\": {\\n                \\\"type\\\": \\\"axis\\\",\\n                \\\"anchor\\\": \\\"lhs\\\",\\n                \\\"select\\\": \\\"row\\\",\\n                \\\"label\\\": 1\\n              },\\n              \\\"to\\\": {\\n                \\\"type\\\": \\\"axis\\\",\\n                \\\"anchor\\\": \\\"rhs\\\",\\n                \\\"select\\\": \\\"row\\\",\\n                \\\"label\\\": 3\\n              }\\n            },\\n            {\\n              \\\"type\\\": \\\"map\\\",\\n              \\\"from\\\": {\\n                \\\"type\\\": \\\"axis\\\",\\n                \\\"anchor\\\": \\\"lhs2\\\",\\n                \\\"select\\\": \\\"row\\\",\\n                \\\"label\\\": 2\\n              },\\n              \\\"to\\\": {\\n                \\\"type\\\": \\\"axis\\\",\\n                \\\"anchor\\\": \\\"rhs\\\",\\n                \\\"select\\\": \\\"row\\\",\\n                \\\"label\\\": 3\\n              }\\n            },\\n            {\\n              \\\"type\\\": \\\"map\\\",\\n              \\\"from\\\": {\\n                \\\"type\\\": \\\"axis\\\",\\n                \\\"anchor\\\": \\\"lhs\\\",\\n                \\\"select\\\": \\\"row\\\",\\n                \\\"label\\\": 2\\n              },\\n              \\\"to\\\": {\\n                \\\"type\\\": \\\"axis\\\",\\n                \\\"anchor\\\": \\\"rhs\\\",\\n                \\\"select\\\": \\\"row\\\",\\n                \\\"label\\\": 4\\n              }\\n            },\\n            {\\n              \\\"type\\\": \\\"map\\\",\\n              \\\"from\\\": {\\n                \\\"type\\\": \\\"axis\\\",\\n                \\\"anchor\\\": \\\"lhs2\\\",\\n                \\\"select\\\": \\\"row\\\",\\n                \\\"label\\\": 0\\n              },\\n              \\\"to\\\": {\\n                \\\"type\\\": \\\"axis\\\",\\n                \\\"anchor\\\": \\\"rhs\\\",\\n                \\\"select\\\": \\\"row\\\",\\n                \\\"label\\\": 4\\n              }\\n            },\\n            {\\n              \\\"type\\\": \\\"map\\\",\\n              \\\"from\\\": {\\n                \\\"type\\\": \\\"axis\\\",\\n                \\\"anchor\\\": \\\"lhs\\\",\\n                \\\"select\\\": \\\"row\\\",\\n                \\\"label\\\": 2\\n              },\\n              \\\"to\\\": {\\n                \\\"type\\\": \\\"axis\\\",\\n                \\\"anchor\\\": \\\"rhs\\\",\\n                \\\"select\\\": \\\"row\\\",\\n                \\\"label\\\": 5\\n              }\\n            },\\n            {\\n              \\\"type\\\": \\\"map\\\",\\n              \\\"from\\\": {\\n                \\\"type\\\": \\\"axis\\\",\\n                \\\"anchor\\\": \\\"lhs2\\\",\\n                \\\"select\\\": \\\"row\\\",\\n                \\\"label\\\": 1\\n              },\\n              \\\"to\\\": {\\n                \\\"type\\\": \\\"axis\\\",\\n                \\\"anchor\\\": \\\"rhs\\\",\\n                \\\"select\\\": \\\"row\\\",\\n                \\\"label\\\": 5\\n              }\\n            },\\n            {\\n              \\\"type\\\": \\\"map\\\",\\n              \\\"from\\\": {\\n                \\\"type\\\": \\\"axis\\\",\\n                \\\"anchor\\\": \\\"lhs\\\",\\n                \\\"select\\\": \\\"row\\\",\\n                \\\"label\\\": 2\\n              },\\n              \\\"to\\\": {\\n                \\\"type\\\": \\\"axis\\\",\\n                \\\"anchor\\\": \\\"rhs\\\",\\n                \\\"select\\\": \\\"row\\\",\\n                \\\"label\\\": 6\\n              }\\n            },\\n            {\\n              \\\"type\\\": \\\"map\\\",\\n              \\\"from\\\": {\\n                \\\"type\\\": \\\"axis\\\",\\n                \\\"anchor\\\": \\\"lhs2\\\",\\n                \\\"select\\\": \\\"row\\\",\\n                \\\"label\\\": 2\\n              },\\n              \\\"to\\\": {\\n                \\\"type\\\": \\\"axis\\\",\\n                \\\"anchor\\\": \\\"rhs\\\",\\n                \\\"select\\\": \\\"row\\\",\\n                \\\"label\\\": 6\\n              }\\n            },\\n            {\\n              \\\"type\\\": \\\"map\\\",\\n              \\\"from\\\": {\\n                \\\"type\\\": \\\"axis\\\",\\n                \\\"anchor\\\": \\\"lhs\\\",\\n                \\\"select\\\": \\\"row\\\",\\n                \\\"label\\\": 5\\n              },\\n              \\\"to\\\": {\\n                \\\"type\\\": \\\"axis\\\",\\n                \\\"anchor\\\": \\\"rhs\\\",\\n                \\\"select\\\": \\\"row\\\",\\n                \\\"label\\\": 9\\n              }\\n            },\\n            {\\n              \\\"type\\\": \\\"map\\\",\\n              \\\"from\\\": {\\n                \\\"type\\\": \\\"axis\\\",\\n                \\\"anchor\\\": \\\"lhs2\\\",\\n                \\\"select\\\": \\\"row\\\",\\n                \\\"label\\\": 0\\n              },\\n              \\\"to\\\": {\\n                \\\"type\\\": \\\"axis\\\",\\n                \\\"anchor\\\": \\\"rhs\\\",\\n                \\\"select\\\": \\\"row\\\",\\n                \\\"label\\\": 9\\n              }\\n            },\\n            {\\n              \\\"type\\\": \\\"map\\\",\\n              \\\"from\\\": {\\n                \\\"type\\\": \\\"axis\\\",\\n                \\\"anchor\\\": \\\"lhs\\\",\\n                \\\"select\\\": \\\"row\\\",\\n                \\\"label\\\": 5\\n              },\\n              \\\"to\\\": {\\n                \\\"type\\\": \\\"axis\\\",\\n                \\\"anchor\\\": \\\"rhs\\\",\\n                \\\"select\\\": \\\"row\\\",\\n                \\\"label\\\": 10\\n              }\\n            },\\n            {\\n              \\\"type\\\": \\\"map\\\",\\n              \\\"from\\\": {\\n                \\\"type\\\": \\\"axis\\\",\\n                \\\"anchor\\\": \\\"lhs2\\\",\\n                \\\"select\\\": \\\"row\\\",\\n                \\\"label\\\": 1\\n              },\\n              \\\"to\\\": {\\n                \\\"type\\\": \\\"axis\\\",\\n                \\\"anchor\\\": \\\"rhs\\\",\\n                \\\"select\\\": \\\"row\\\",\\n                \\\"label\\\": 10\\n              }\\n            },\\n            {\\n              \\\"type\\\": \\\"map\\\",\\n              \\\"from\\\": {\\n                \\\"type\\\": \\\"axis\\\",\\n                \\\"anchor\\\": \\\"lhs\\\",\\n                \\\"select\\\": \\\"row\\\",\\n                \\\"label\\\": 5\\n              },\\n              \\\"to\\\": {\\n                \\\"type\\\": \\\"axis\\\",\\n                \\\"anchor\\\": \\\"rhs\\\",\\n                \\\"select\\\": \\\"row\\\",\\n                \\\"label\\\": 11\\n              }\\n            },\\n            {\\n              \\\"type\\\": \\\"map\\\",\\n              \\\"from\\\": {\\n                \\\"type\\\": \\\"axis\\\",\\n                \\\"anchor\\\": \\\"lhs2\\\",\\n                \\\"select\\\": \\\"row\\\",\\n                \\\"label\\\": 2\\n              },\\n              \\\"to\\\": {\\n                \\\"type\\\": \\\"axis\\\",\\n                \\\"anchor\\\": \\\"rhs\\\",\\n                \\\"select\\\": \\\"row\\\",\\n                \\\"label\\\": 11\\n              }\\n            }\\n          ]\\n        }\\n      ],\\n      \\\"data\\\": {\\n        \\\"lhs\\\": {\\n          \\\"type\\\": \\\"DataFrame\\\",\\n          \\\"columns\\\": {\\n            \\\"names\\\": [\\n              null\\n            ],\\n            \\\"labels\\\": [\\n              \\\"Name\\\",\\n              \\\"School\\\",\\n              \\\"Years\\\"\\n            ]\\n          },\\n          \\\"index\\\": {\\n            \\\"names\\\": [\\n              null\\n            ],\\n            \\\"labels\\\": [\\n              0,\\n              1,\\n              2,\\n              3,\\n              4,\\n              5,\\n              6\\n            ]\\n          },\\n          \\\"data\\\": [\\n            [\\n              \\\"Sam\\\",\\n              \\\"UCB\\\",\\n              5\\n            ],\\n            [\\n              \\\"Sam\\\",\\n              \\\"UCSD\\\",\\n              5\\n            ],\\n            [\\n              \\\"Janine\\\",\\n              \\\"UCSD\\\",\\n              8\\n            ],\\n            [\\n              \\\"Marina\\\",\\n              \\\"UIC\\\",\\n              7\\n            ],\\n            [\\n              \\\"Justin\\\",\\n              \\\"OSU\\\",\\n              5\\n            ],\\n            [\\n              \\\"Soohyun\\\",\\n              \\\"UCSD\\\",\\n              2\\n            ],\\n            [\\n              \\\"Suraj\\\",\\n              \\\"UCB\\\",\\n              2\\n            ]\\n          ]\\n        },\\n        \\\"lhs2\\\": {\\n          \\\"type\\\": \\\"DataFrame\\\",\\n          \\\"columns\\\": {\\n            \\\"names\\\": [\\n              null\\n            ],\\n            \\\"labels\\\": [\\n              \\\"uni\\\",\\n              \\\"dept\\\",\\n              \\\"grad_students\\\"\\n            ]\\n          },\\n          \\\"index\\\": {\\n            \\\"names\\\": [\\n              null\\n            ],\\n            \\\"labels\\\": [\\n              0,\\n              1,\\n              2,\\n              3,\\n              4,\\n              5\\n            ]\\n          },\\n          \\\"data\\\": [\\n            [\\n              \\\"UCSD\\\",\\n              \\\"Math\\\",\\n              205\\n            ],\\n            [\\n              \\\"UCSD\\\",\\n              \\\"HDSI\\\",\\n              54\\n            ],\\n            [\\n              \\\"UCSD\\\",\\n              \\\"COGS\\\",\\n              281\\n            ],\\n            [\\n              \\\"UCB\\\",\\n              \\\"CS\\\",\\n              439\\n            ],\\n            [\\n              \\\"OSU\\\",\\n              \\\"Math\\\",\\n              304\\n            ],\\n            [\\n              \\\"OSU\\\",\\n              \\\"CS\\\",\\n              193\\n            ]\\n          ]\\n        },\\n        \\\"rhs\\\": {\\n          \\\"type\\\": \\\"DataFrame\\\",\\n          \\\"columns\\\": {\\n            \\\"names\\\": [\\n              null\\n            ],\\n            \\\"labels\\\": [\\n              \\\"Name\\\",\\n              \\\"School\\\",\\n              \\\"Years\\\",\\n              \\\"uni\\\",\\n              \\\"dept\\\",\\n              \\\"grad_students\\\"\\n            ]\\n          },\\n          \\\"index\\\": {\\n            \\\"names\\\": [\\n              null\\n            ],\\n            \\\"labels\\\": [\\n              0,\\n              1,\\n              2,\\n              3,\\n              4,\\n              5,\\n              6,\\n              7,\\n              8,\\n              9,\\n              10,\\n              11,\\n              12\\n            ]\\n          },\\n          \\\"data\\\": [\\n            [\\n              \\\"Sam\\\",\\n              \\\"UCB\\\",\\n              5,\\n              \\\"UCB\\\",\\n              \\\"CS\\\",\\n              439\\n            ],\\n            [\\n              \\\"Sam\\\",\\n              \\\"UCSD\\\",\\n              5,\\n              \\\"UCSD\\\",\\n              \\\"Math\\\",\\n              205\\n            ],\\n            [\\n              \\\"Sam\\\",\\n              \\\"UCSD\\\",\\n              5,\\n              \\\"UCSD\\\",\\n              \\\"HDSI\\\",\\n              54\\n            ],\\n            [\\n              \\\"Sam\\\",\\n              \\\"UCSD\\\",\\n              5,\\n              \\\"UCSD\\\",\\n              \\\"COGS\\\",\\n              281\\n            ],\\n            [\\n              \\\"Janine\\\",\\n              \\\"UCSD\\\",\\n              8,\\n              \\\"UCSD\\\",\\n              \\\"Math\\\",\\n              205\\n            ],\\n            [\\n              \\\"Janine\\\",\\n              \\\"UCSD\\\",\\n              8,\\n              \\\"UCSD\\\",\\n              \\\"HDSI\\\",\\n              54\\n            ],\\n            [\\n              \\\"Janine\\\",\\n              \\\"UCSD\\\",\\n              8,\\n              \\\"UCSD\\\",\\n              \\\"COGS\\\",\\n              281\\n            ],\\n            [\\n              \\\"Justin\\\",\\n              \\\"OSU\\\",\\n              5,\\n              \\\"OSU\\\",\\n              \\\"Math\\\",\\n              304\\n            ],\\n            [\\n              \\\"Justin\\\",\\n              \\\"OSU\\\",\\n              5,\\n              \\\"OSU\\\",\\n              \\\"CS\\\",\\n              193\\n            ],\\n            [\\n              \\\"Soohyun\\\",\\n              \\\"UCSD\\\",\\n              2,\\n              \\\"UCSD\\\",\\n              \\\"Math\\\",\\n              205\\n            ],\\n            [\\n              \\\"Soohyun\\\",\\n              \\\"UCSD\\\",\\n              2,\\n              \\\"UCSD\\\",\\n              \\\"HDSI\\\",\\n              54\\n            ],\\n            [\\n              \\\"Soohyun\\\",\\n              \\\"UCSD\\\",\\n              2,\\n              \\\"UCSD\\\",\\n              \\\"COGS\\\",\\n              281\\n            ],\\n            [\\n              \\\"Suraj\\\",\\n              \\\"UCB\\\",\\n              2,\\n              \\\"UCB\\\",\\n              \\\"CS\\\",\\n              439\\n            ]\\n          ]\\n        }\\n      }\\n    }\\n  ]\\n}\", {\"nohover\": true, \"maxDisplayRows\": 7, \"maxDisplayCols\": 8, \"colorPalette\": [\"#e41a1c\", \"#377eb8\", \"#4daf4a\", \"#984ea3\", \"#ff7f00\", \"#a65628\", \"#f781bf\", \"#999999\"]});\n",
       "</script>\n"
      ],
      "text/plain": [
       "<IPython.core.display.HTML object>"
      ]
     },
     "metadata": {},
     "output_type": "display_data"
    }
   ],
   "source": [
    "%%pt\n",
    "profs.merge(programs, left_on='School', right_on='uni', how='inner')"
   ]
  },
  {
   "cell_type": "markdown",
   "id": "3f6525c8",
   "metadata": {
    "editable": true,
    "slideshow": {
     "slide_type": ""
    },
    "tags": []
   },
   "source": [
    "- `merge` stitched together every UCSD row in `profs` with every UCSD row in `programs`. \n",
    "- Since there were 3 UCSD rows in `profs` and 3 in `programs`, there are $3 \\cdot 3 = 9$ UCSD rows in the output. The same applies for all other schools."
   ]
  },
  {
   "cell_type": "markdown",
   "id": "50e5db5f",
   "metadata": {
    "editable": true,
    "slideshow": {
     "slide_type": "slide"
    },
    "tags": []
   },
   "source": [
    "<div class=\"alert alert-warning\">\n",
    "    <h3>Question 🤔 (Answer at <a href=\"https://dsc80.com/q\">dsc80.com/q</a>)</h3>\n",
    "\n",
    "Code: `lec04-merge`\n",
    "</div>\n",
    "    \n",
    "Fill in the blank so that the last statement evaluates to `True`.\n",
    "\n",
    "```python\n",
    "df = profs.merge(programs, left_on='School', right_on='uni')\n",
    "df.shape[0] == (____).sum()\n",
    "```\n",
    "\n",
    "**Don't** use `merge` (or `join`) in your solution!\n"
   ]
  },
  {
   "cell_type": "code",
   "execution_count": 49,
   "id": "ee0c1851",
   "metadata": {
    "editable": true,
    "slideshow": {
     "slide_type": ""
    },
    "tags": []
   },
   "outputs": [
    {
     "data": {
      "text/html": [
       "\n",
       "        <div style=\"display: flex; gap: 1rem;\">\n",
       "        <table border=\"1\" class=\"dataframe\">\n",
       "  <thead>\n",
       "    <tr style=\"text-align: right;\">\n",
       "      <th></th>\n",
       "      <th>Name</th>\n",
       "      <th>School</th>\n",
       "      <th>Years</th>\n",
       "    </tr>\n",
       "  </thead>\n",
       "  <tbody>\n",
       "    <tr>\n",
       "      <th>0</th>\n",
       "      <td>Sam</td>\n",
       "      <td>UCB</td>\n",
       "      <td>5</td>\n",
       "    </tr>\n",
       "    <tr>\n",
       "      <th>1</th>\n",
       "      <td>Sam</td>\n",
       "      <td>UCSD</td>\n",
       "      <td>5</td>\n",
       "    </tr>\n",
       "    <tr>\n",
       "      <th>2</th>\n",
       "      <td>Janine</td>\n",
       "      <td>UCSD</td>\n",
       "      <td>8</td>\n",
       "    </tr>\n",
       "    <tr>\n",
       "      <th>3</th>\n",
       "      <td>Marina</td>\n",
       "      <td>UIC</td>\n",
       "      <td>7</td>\n",
       "    </tr>\n",
       "    <tr>\n",
       "      <th>4</th>\n",
       "      <td>Justin</td>\n",
       "      <td>OSU</td>\n",
       "      <td>5</td>\n",
       "    </tr>\n",
       "    <tr>\n",
       "      <th>5</th>\n",
       "      <td>Soohyun</td>\n",
       "      <td>UCSD</td>\n",
       "      <td>2</td>\n",
       "    </tr>\n",
       "    <tr>\n",
       "      <th>6</th>\n",
       "      <td>Suraj</td>\n",
       "      <td>UCB</td>\n",
       "      <td>2</td>\n",
       "    </tr>\n",
       "  </tbody>\n",
       "</table><table border=\"1\" class=\"dataframe\">\n",
       "  <thead>\n",
       "    <tr style=\"text-align: right;\">\n",
       "      <th></th>\n",
       "      <th>uni</th>\n",
       "      <th>dept</th>\n",
       "      <th>grad_students</th>\n",
       "    </tr>\n",
       "  </thead>\n",
       "  <tbody>\n",
       "    <tr>\n",
       "      <th>0</th>\n",
       "      <td>UCSD</td>\n",
       "      <td>Math</td>\n",
       "      <td>205</td>\n",
       "    </tr>\n",
       "    <tr>\n",
       "      <th>1</th>\n",
       "      <td>UCSD</td>\n",
       "      <td>HDSI</td>\n",
       "      <td>54</td>\n",
       "    </tr>\n",
       "    <tr>\n",
       "      <th>2</th>\n",
       "      <td>UCSD</td>\n",
       "      <td>COGS</td>\n",
       "      <td>281</td>\n",
       "    </tr>\n",
       "    <tr>\n",
       "      <th>3</th>\n",
       "      <td>UCB</td>\n",
       "      <td>CS</td>\n",
       "      <td>439</td>\n",
       "    </tr>\n",
       "    <tr>\n",
       "      <th>4</th>\n",
       "      <td>OSU</td>\n",
       "      <td>Math</td>\n",
       "      <td>304</td>\n",
       "    </tr>\n",
       "    <tr>\n",
       "      <th>5</th>\n",
       "      <td>OSU</td>\n",
       "      <td>CS</td>\n",
       "      <td>193</td>\n",
       "    </tr>\n",
       "  </tbody>\n",
       "</table>\n",
       "        </div>\n",
       "    "
      ],
      "text/plain": [
       "<IPython.core.display.HTML object>"
      ]
     },
     "metadata": {},
     "output_type": "display_data"
    }
   ],
   "source": [
    "dfs_side_by_side(profs, programs)"
   ]
  },
  {
   "cell_type": "code",
   "execution_count": 90,
   "id": "56f90816",
   "metadata": {
    "editable": true,
    "slideshow": {
     "slide_type": ""
    },
    "tags": []
   },
   "outputs": [
    {
     "data": {
      "text/plain": [
       "np.True_"
      ]
     },
     "execution_count": 90,
     "metadata": {},
     "output_type": "execute_result"
    }
   ],
   "source": [
    "# Your code goes here.\n",
    "a = ['UCSD', 'UCB', 'OSU']\n",
    "b = profs.query(\"School in @a\")['School'].value_counts() * programs.query(\"uni in @a\")['uni'].value_counts()\n",
    "\n",
    "df = profs.merge(programs, left_on='School', right_on='uni')\n",
    "df.shape[0] == (b).sum()"
   ]
  },
  {
   "cell_type": "markdown",
   "id": "a7df399c",
   "metadata": {
    "editable": true,
    "slideshow": {
     "slide_type": "slide"
    },
    "tags": []
   },
   "source": [
    "### Returning back to our original question\n",
    "\n",
    "Let's find the popularity of baby name categories over time. To start, we'll define a DataFrame that has one row for every combination of `'category'` and `'Year'`."
   ]
  },
  {
   "cell_type": "code",
   "execution_count": 51,
   "id": "df991fd7",
   "metadata": {
    "editable": true,
    "slideshow": {
     "slide_type": ""
    },
    "tags": []
   },
   "outputs": [
    {
     "data": {
      "text/html": [
       "<div>\n",
       "<style scoped>\n",
       "    .dataframe tbody tr th:only-of-type {\n",
       "        vertical-align: middle;\n",
       "    }\n",
       "\n",
       "    .dataframe tbody tr th {\n",
       "        vertical-align: top;\n",
       "    }\n",
       "\n",
       "    .dataframe thead th {\n",
       "        text-align: right;\n",
       "    }\n",
       "</style>\n",
       "<table border=\"1\" class=\"dataframe\">\n",
       "  <thead>\n",
       "    <tr style=\"text-align: right;\">\n",
       "      <th></th>\n",
       "      <th>category</th>\n",
       "      <th>Year</th>\n",
       "      <th>Count</th>\n",
       "    </tr>\n",
       "  </thead>\n",
       "  <tbody>\n",
       "    <tr>\n",
       "      <th>0</th>\n",
       "      <td>boomer</td>\n",
       "      <td>1880</td>\n",
       "      <td>292</td>\n",
       "    </tr>\n",
       "    <tr>\n",
       "      <th>1</th>\n",
       "      <td>boomer</td>\n",
       "      <td>1881</td>\n",
       "      <td>298</td>\n",
       "    </tr>\n",
       "    <tr>\n",
       "      <th>2</th>\n",
       "      <td>boomer</td>\n",
       "      <td>1882</td>\n",
       "      <td>326</td>\n",
       "    </tr>\n",
       "    <tr>\n",
       "      <th>...</th>\n",
       "      <td>...</td>\n",
       "      <td>...</td>\n",
       "      <td>...</td>\n",
       "    </tr>\n",
       "    <tr>\n",
       "      <th>659</th>\n",
       "      <td>mythology</td>\n",
       "      <td>2020</td>\n",
       "      <td>3516</td>\n",
       "    </tr>\n",
       "    <tr>\n",
       "      <th>660</th>\n",
       "      <td>mythology</td>\n",
       "      <td>2021</td>\n",
       "      <td>3895</td>\n",
       "    </tr>\n",
       "    <tr>\n",
       "      <th>661</th>\n",
       "      <td>mythology</td>\n",
       "      <td>2022</td>\n",
       "      <td>4049</td>\n",
       "    </tr>\n",
       "  </tbody>\n",
       "</table>\n",
       "<p>662 rows × 3 columns</p>\n",
       "</div>"
      ],
      "text/plain": [
       "      category  Year  Count\n",
       "0       boomer  1880    292\n",
       "1       boomer  1881    298\n",
       "2       boomer  1882    326\n",
       "..         ...   ...    ...\n",
       "659  mythology  2020   3516\n",
       "660  mythology  2021   3895\n",
       "661  mythology  2022   4049\n",
       "\n",
       "[662 rows x 3 columns]"
      ]
     },
     "execution_count": 51,
     "metadata": {},
     "output_type": "execute_result"
    }
   ],
   "source": [
    "cate_counts = (\n",
    "    baby\n",
    "    .merge(nyt, left_on='Name', right_on='nyt_name')\n",
    "    .groupby(['category', 'Year'])\n",
    "    ['Count']\n",
    "    .sum()\n",
    "    .reset_index()\n",
    ")\n",
    "cate_counts"
   ]
  },
  {
   "cell_type": "code",
   "execution_count": 52,
   "id": "03159ce1",
   "metadata": {
    "editable": true,
    "slideshow": {
     "slide_type": ""
    },
    "tags": []
   },
   "outputs": [
    {
     "name": "stderr",
     "output_type": "stream",
     "text": [
      "Error importing optional module nbformat\n",
      "Traceback (most recent call last):\n",
      "  File \"c:\\miniforge3\\envs\\dsc80\\Lib\\site-packages\\_plotly_utils\\optional_imports.py\", line 28, in get_module\n",
      "    return import_module(name)\n",
      "           ^^^^^^^^^^^^^^^^^^^\n",
      "  File \"c:\\miniforge3\\envs\\dsc80\\Lib\\importlib\\__init__.py\", line 90, in import_module\n",
      "    return _bootstrap._gcd_import(name[level:], package, level)\n",
      "           ^^^^^^^^^^^^^^^^^^^^^^^^^^^^^^^^^^^^^^^^^^^^^^^^^^^^\n",
      "  File \"<frozen importlib._bootstrap>\", line 1387, in _gcd_import\n",
      "  File \"<frozen importlib._bootstrap>\", line 1360, in _find_and_load\n",
      "  File \"<frozen importlib._bootstrap>\", line 1331, in _find_and_load_unlocked\n",
      "  File \"<frozen importlib._bootstrap>\", line 935, in _load_unlocked\n",
      "  File \"<frozen importlib._bootstrap_external>\", line 999, in exec_module\n",
      "  File \"<frozen importlib._bootstrap>\", line 488, in _call_with_frames_removed\n",
      "  File \"c:\\miniforge3\\envs\\dsc80\\Lib\\site-packages\\nbformat\\__init__.py\", line 14, in <module>\n",
      "    from . import v1, v2, v3, v4\n",
      "  File \"c:\\miniforge3\\envs\\dsc80\\Lib\\site-packages\\nbformat\\v4\\__init__.py\", line 24, in <module>\n",
      "    from .convert import downgrade, upgrade\n",
      "  File \"c:\\miniforge3\\envs\\dsc80\\Lib\\site-packages\\nbformat\\v4\\convert.py\", line 12, in <module>\n",
      "    from nbformat import v3, validator\n",
      "  File \"c:\\miniforge3\\envs\\dsc80\\Lib\\site-packages\\nbformat\\validator.py\", line 17, in <module>\n",
      "    from .json_compat import ValidationError, _validator_for_name, get_current_validator\n",
      "  File \"c:\\miniforge3\\envs\\dsc80\\Lib\\site-packages\\nbformat\\json_compat.py\", line 13, in <module>\n",
      "    import jsonschema\n",
      "  File \"c:\\miniforge3\\envs\\dsc80\\Lib\\site-packages\\jsonschema\\__init__.py\", line 13, in <module>\n",
      "    from jsonschema._format import FormatChecker\n",
      "  File \"c:\\miniforge3\\envs\\dsc80\\Lib\\site-packages\\jsonschema\\_format.py\", line 11, in <module>\n",
      "    from jsonschema.exceptions import FormatError\n",
      "  File \"c:\\miniforge3\\envs\\dsc80\\Lib\\site-packages\\jsonschema\\exceptions.py\", line 15, in <module>\n",
      "    from referencing.exceptions import Unresolvable as _Unresolvable\n",
      "  File \"c:\\miniforge3\\envs\\dsc80\\Lib\\site-packages\\referencing\\__init__.py\", line 5, in <module>\n",
      "    from referencing._core import Anchor, Registry, Resource, Specification\n",
      "  File \"c:\\miniforge3\\envs\\dsc80\\Lib\\site-packages\\referencing\\_core.py\", line 18, in <module>\n",
      "    from referencing.typing import URI, Anchor as AnchorType, D, Mapping, Retrieve\n",
      "  File \"c:\\miniforge3\\envs\\dsc80\\Lib\\site-packages\\referencing\\typing.py\", line 22, in <module>\n",
      "    D = TypeVar(\"D\", default=Any)\n",
      "        ^^^^^^^^^^^^^^^^^^^^^^^^^\n",
      "TypeError: 'default' is an invalid keyword argument for typevar()\n"
     ]
    },
    {
     "ename": "ValueError",
     "evalue": "Mime type rendering requires nbformat>=4.2.0 but it is not installed",
     "output_type": "error",
     "traceback": [
      "\u001b[1;31m---------------------------------------------------------------------------\u001b[0m",
      "\u001b[1;31mValueError\u001b[0m                                Traceback (most recent call last)",
      "File \u001b[1;32mc:\\miniforge3\\envs\\dsc80\\Lib\\site-packages\\IPython\\core\\formatters.py:984\u001b[0m, in \u001b[0;36mIPythonDisplayFormatter.__call__\u001b[1;34m(self, obj)\u001b[0m\n\u001b[0;32m    982\u001b[0m method \u001b[38;5;241m=\u001b[39m get_real_method(obj, \u001b[38;5;28mself\u001b[39m\u001b[38;5;241m.\u001b[39mprint_method)\n\u001b[0;32m    983\u001b[0m \u001b[38;5;28;01mif\u001b[39;00m method \u001b[38;5;129;01mis\u001b[39;00m \u001b[38;5;129;01mnot\u001b[39;00m \u001b[38;5;28;01mNone\u001b[39;00m:\n\u001b[1;32m--> 984\u001b[0m     \u001b[43mmethod\u001b[49m\u001b[43m(\u001b[49m\u001b[43m)\u001b[49m\n\u001b[0;32m    985\u001b[0m     \u001b[38;5;28;01mreturn\u001b[39;00m \u001b[38;5;28;01mTrue\u001b[39;00m\n",
      "File \u001b[1;32mc:\\miniforge3\\envs\\dsc80\\Lib\\site-packages\\plotly\\basedatatypes.py:832\u001b[0m, in \u001b[0;36mBaseFigure._ipython_display_\u001b[1;34m(self)\u001b[0m\n\u001b[0;32m    829\u001b[0m \u001b[38;5;28;01mimport\u001b[39;00m\u001b[38;5;250m \u001b[39m\u001b[38;5;21;01mplotly\u001b[39;00m\u001b[38;5;21;01m.\u001b[39;00m\u001b[38;5;21;01mio\u001b[39;00m\u001b[38;5;250m \u001b[39m\u001b[38;5;28;01mas\u001b[39;00m\u001b[38;5;250m \u001b[39m\u001b[38;5;21;01mpio\u001b[39;00m\n\u001b[0;32m    831\u001b[0m \u001b[38;5;28;01mif\u001b[39;00m pio\u001b[38;5;241m.\u001b[39mrenderers\u001b[38;5;241m.\u001b[39mrender_on_display \u001b[38;5;129;01mand\u001b[39;00m pio\u001b[38;5;241m.\u001b[39mrenderers\u001b[38;5;241m.\u001b[39mdefault:\n\u001b[1;32m--> 832\u001b[0m     \u001b[43mpio\u001b[49m\u001b[38;5;241;43m.\u001b[39;49m\u001b[43mshow\u001b[49m\u001b[43m(\u001b[49m\u001b[38;5;28;43mself\u001b[39;49m\u001b[43m)\u001b[49m\n\u001b[0;32m    833\u001b[0m \u001b[38;5;28;01melse\u001b[39;00m:\n\u001b[0;32m    834\u001b[0m     \u001b[38;5;28mprint\u001b[39m(\u001b[38;5;28mrepr\u001b[39m(\u001b[38;5;28mself\u001b[39m))\n",
      "File \u001b[1;32mc:\\miniforge3\\envs\\dsc80\\Lib\\site-packages\\plotly\\io\\_renderers.py:394\u001b[0m, in \u001b[0;36mshow\u001b[1;34m(fig, renderer, validate, **kwargs)\u001b[0m\n\u001b[0;32m    389\u001b[0m         \u001b[38;5;28;01mraise\u001b[39;00m \u001b[38;5;167;01mValueError\u001b[39;00m(\n\u001b[0;32m    390\u001b[0m             \u001b[38;5;124m\"\u001b[39m\u001b[38;5;124mMime type rendering requires ipython but it is not installed\u001b[39m\u001b[38;5;124m\"\u001b[39m\n\u001b[0;32m    391\u001b[0m         )\n\u001b[0;32m    393\u001b[0m     \u001b[38;5;28;01mif\u001b[39;00m \u001b[38;5;129;01mnot\u001b[39;00m nbformat \u001b[38;5;129;01mor\u001b[39;00m Version(nbformat\u001b[38;5;241m.\u001b[39m__version__) \u001b[38;5;241m<\u001b[39m Version(\u001b[38;5;124m\"\u001b[39m\u001b[38;5;124m4.2.0\u001b[39m\u001b[38;5;124m\"\u001b[39m):\n\u001b[1;32m--> 394\u001b[0m         \u001b[38;5;28;01mraise\u001b[39;00m \u001b[38;5;167;01mValueError\u001b[39;00m(\n\u001b[0;32m    395\u001b[0m             \u001b[38;5;124m\"\u001b[39m\u001b[38;5;124mMime type rendering requires nbformat>=4.2.0 but it is not installed\u001b[39m\u001b[38;5;124m\"\u001b[39m\n\u001b[0;32m    396\u001b[0m         )\n\u001b[0;32m    398\u001b[0m     ipython_display\u001b[38;5;241m.\u001b[39mdisplay(bundle, raw\u001b[38;5;241m=\u001b[39m\u001b[38;5;28;01mTrue\u001b[39;00m)\n\u001b[0;32m    400\u001b[0m \u001b[38;5;66;03m# external renderers\u001b[39;00m\n",
      "\u001b[1;31mValueError\u001b[0m: Mime type rendering requires nbformat>=4.2.0 but it is not installed"
     ]
    },
    {
     "data": {
      "application/vnd.plotly.v1+json": {
       "config": {
        "plotlyServerURL": "https://plot.ly"
       },
       "data": [
        {
         "hovertemplate": "category=boomer<br>Year=%{x}<br>Count=%{y}<extra></extra>",
         "legendgroup": "",
         "line": {
          "color": "#1F77B4",
          "dash": "solid"
         },
         "marker": {
          "symbol": "circle"
         },
         "mode": "lines",
         "name": "",
         "orientation": "v",
         "showlegend": false,
         "type": "scatter",
         "x": [
          1880,
          1881,
          1882,
          1883,
          1884,
          1885,
          1886,
          1887,
          1888,
          1889,
          1890,
          1891,
          1892,
          1893,
          1894,
          1895,
          1896,
          1897,
          1898,
          1899,
          1900,
          1901,
          1902,
          1903,
          1904,
          1905,
          1906,
          1907,
          1908,
          1909,
          1910,
          1911,
          1912,
          1913,
          1914,
          1915,
          1916,
          1917,
          1918,
          1919,
          1920,
          1921,
          1922,
          1923,
          1924,
          1925,
          1926,
          1927,
          1928,
          1929,
          1930,
          1931,
          1932,
          1933,
          1934,
          1935,
          1936,
          1937,
          1938,
          1939,
          1940,
          1941,
          1942,
          1943,
          1944,
          1945,
          1946,
          1947,
          1948,
          1949,
          1950,
          1951,
          1952,
          1953,
          1954,
          1955,
          1956,
          1957,
          1958,
          1959,
          1960,
          1961,
          1962,
          1963,
          1964,
          1965,
          1966,
          1967,
          1968,
          1969,
          1970,
          1971,
          1972,
          1973,
          1974,
          1975,
          1976,
          1977,
          1978,
          1979,
          1980,
          1981,
          1982,
          1983,
          1984,
          1985,
          1986,
          1987,
          1988,
          1989,
          1990,
          1991,
          1992,
          1993,
          1994,
          1995,
          1996,
          1997,
          1998,
          1999,
          2000,
          2001,
          2002,
          2003,
          2004,
          2005,
          2006,
          2007,
          2008,
          2009,
          2010,
          2011,
          2012,
          2013,
          2014,
          2015,
          2016,
          2017,
          2018,
          2019,
          2020,
          2021,
          2022
         ],
         "xaxis": "x4",
         "y": [
          292,
          298,
          326,
          322,
          335,
          312,
          342,
          344,
          375,
          372,
          377,
          383,
          384,
          368,
          379,
          402,
          364,
          351,
          396,
          367,
          435,
          363,
          342,
          322,
          351,
          353,
          356,
          392,
          376,
          406,
          430,
          499,
          599,
          582,
          760,
          937,
          983,
          981,
          1108,
          993,
          1127,
          1212,
          1293,
          1414,
          1730,
          2117,
          2670,
          3409,
          4069,
          5098,
          6560,
          7270,
          8405,
          8491,
          9890,
          10908,
          11849,
          12893,
          15840,
          17723,
          21195,
          26642,
          33989,
          38162,
          38090,
          40328,
          54232,
          60599,
          64633,
          66485,
          68551,
          75155,
          77944,
          82811,
          90052,
          93369,
          102101,
          106883,
          107529,
          103938,
          98586,
          92820,
          89643,
          82413,
          75540,
          70106,
          58360,
          51548,
          45926,
          41994,
          38653,
          33954,
          26729,
          22950,
          21164,
          19403,
          17418,
          16691,
          14931,
          14112,
          13127,
          12019,
          11289,
          9971,
          9227,
          8296,
          7663,
          7075,
          6671,
          6698,
          6420,
          5873,
          5761,
          5470,
          4860,
          4389,
          4465,
          4090,
          3786,
          3722,
          3703,
          3586,
          3567,
          3547,
          3364,
          3106,
          3149,
          3232,
          2813,
          2316,
          2157,
          1841,
          1597,
          1437,
          1316,
          1286,
          1266,
          1168,
          1001,
          969,
          885,
          705,
          645
         ],
         "yaxis": "y4"
        },
        {
         "hovertemplate": "category=celestial<br>Year=%{x}<br>Count=%{y}<extra></extra>",
         "legendgroup": "",
         "line": {
          "color": "#1F77B4",
          "dash": "solid"
         },
         "marker": {
          "symbol": "circle"
         },
         "mode": "lines",
         "name": "",
         "orientation": "v",
         "showlegend": false,
         "type": "scatter",
         "x": [
          1880,
          1882,
          1883,
          1884,
          1886,
          1887,
          1888,
          1889,
          1890,
          1891,
          1892,
          1893,
          1894,
          1895,
          1896,
          1897,
          1898,
          1899,
          1900,
          1901,
          1902,
          1903,
          1904,
          1905,
          1906,
          1907,
          1908,
          1909,
          1910,
          1911,
          1912,
          1913,
          1914,
          1915,
          1916,
          1917,
          1918,
          1919,
          1920,
          1921,
          1922,
          1923,
          1924,
          1925,
          1926,
          1927,
          1928,
          1929,
          1930,
          1931,
          1932,
          1933,
          1934,
          1935,
          1936,
          1937,
          1938,
          1939,
          1940,
          1941,
          1942,
          1943,
          1944,
          1945,
          1946,
          1947,
          1948,
          1949,
          1950,
          1951,
          1952,
          1953,
          1954,
          1955,
          1956,
          1957,
          1958,
          1959,
          1960,
          1961,
          1962,
          1963,
          1964,
          1965,
          1966,
          1967,
          1968,
          1969,
          1970,
          1971,
          1972,
          1973,
          1974,
          1975,
          1976,
          1977,
          1978,
          1979,
          1980,
          1981,
          1982,
          1983,
          1984,
          1985,
          1986,
          1987,
          1988,
          1989,
          1990,
          1991,
          1992,
          1993,
          1994,
          1995,
          1996,
          1997,
          1998,
          1999,
          2000,
          2001,
          2002,
          2003,
          2004,
          2005,
          2006,
          2007,
          2008,
          2009,
          2010,
          2011,
          2012,
          2013,
          2014,
          2015,
          2016,
          2017,
          2018,
          2019,
          2020,
          2021,
          2022
         ],
         "xaxis": "x5",
         "y": [
          6,
          5,
          8,
          9,
          13,
          11,
          7,
          14,
          7,
          16,
          5,
          6,
          13,
          22,
          22,
          20,
          21,
          15,
          25,
          12,
          26,
          15,
          22,
          20,
          14,
          24,
          17,
          20,
          22,
          27,
          30,
          39,
          38,
          72,
          79,
          55,
          67,
          63,
          54,
          67,
          53,
          65,
          48,
          46,
          35,
          39,
          45,
          28,
          41,
          35,
          29,
          27,
          29,
          14,
          21,
          22,
          12,
          21,
          16,
          18,
          21,
          23,
          15,
          23,
          29,
          35,
          26,
          49,
          55,
          35,
          56,
          50,
          73,
          104,
          152,
          130,
          131,
          301,
          180,
          228,
          182,
          215,
          193,
          177,
          181,
          223,
          159,
          161,
          213,
          274,
          289,
          303,
          315,
          306,
          324,
          330,
          329,
          358,
          346,
          305,
          319,
          249,
          208,
          208,
          227,
          359,
          336,
          369,
          400,
          391,
          400,
          418,
          418,
          473,
          526,
          709,
          675,
          641,
          748,
          740,
          793,
          857,
          874,
          892,
          865,
          828,
          800,
          798,
          792,
          752,
          850,
          859,
          1019,
          996,
          974,
          936,
          940,
          953,
          873,
          964,
          1033
         ],
         "yaxis": "y5"
        },
        {
         "hovertemplate": "category=evangelical<br>Year=%{x}<br>Count=%{y}<extra></extra>",
         "legendgroup": "",
         "line": {
          "color": "#1F77B4",
          "dash": "solid"
         },
         "marker": {
          "symbol": "circle"
         },
         "mode": "lines",
         "name": "",
         "orientation": "v",
         "showlegend": false,
         "type": "scatter",
         "x": [
          1880,
          1883,
          1884,
          1887,
          1888,
          1891,
          1892,
          1894,
          1896,
          1897,
          1904,
          1907,
          1908,
          1910,
          1911,
          1912,
          1913,
          1914,
          1915,
          1916,
          1917,
          1918,
          1919,
          1920,
          1921,
          1922,
          1923,
          1924,
          1925,
          1926,
          1927,
          1928,
          1929,
          1930,
          1931,
          1932,
          1933,
          1934,
          1935,
          1936,
          1937,
          1938,
          1939,
          1940,
          1941,
          1942,
          1943,
          1944,
          1945,
          1946,
          1947,
          1948,
          1949,
          1950,
          1951,
          1952,
          1953,
          1954,
          1955,
          1957,
          1958,
          1959,
          1960,
          1961,
          1962,
          1964,
          1965,
          1966,
          1968,
          1969,
          1970,
          1971,
          1972,
          1973,
          1974,
          1975,
          1976,
          1977,
          1978,
          1979,
          1980,
          1981,
          1982,
          1983,
          1984,
          1985,
          1986,
          1987,
          1988,
          1989,
          1990,
          1991,
          1992,
          1993,
          1994,
          1995,
          1996,
          1997,
          1998,
          1999,
          2000,
          2001,
          2002,
          2003,
          2004,
          2005,
          2006,
          2007,
          2008,
          2009,
          2010,
          2011,
          2012,
          2013,
          2014,
          2015,
          2016,
          2017,
          2018,
          2019,
          2020,
          2021,
          2022
         ],
         "xaxis": "x6",
         "y": [
          7,
          7,
          8,
          6,
          5,
          11,
          8,
          6,
          10,
          14,
          6,
          5,
          6,
          12,
          6,
          5,
          11,
          22,
          41,
          38,
          34,
          38,
          35,
          42,
          42,
          41,
          35,
          37,
          33,
          32,
          28,
          33,
          17,
          21,
          23,
          17,
          21,
          29,
          24,
          17,
          21,
          15,
          22,
          20,
          23,
          21,
          21,
          13,
          16,
          12,
          26,
          20,
          22,
          22,
          11,
          21,
          24,
          19,
          19,
          27,
          15,
          17,
          15,
          17,
          9,
          7,
          6,
          10,
          10,
          22,
          10,
          13,
          8,
          26,
          30,
          23,
          23,
          51,
          31,
          29,
          39,
          26,
          24,
          51,
          41,
          39,
          22,
          52,
          48,
          48,
          73,
          71,
          70,
          93,
          86,
          86,
          111,
          119,
          154,
          156,
          182,
          232,
          198,
          237,
          246,
          246,
          284,
          269,
          294,
          350,
          362,
          332,
          422,
          417,
          461,
          626,
          844,
          821,
          944,
          1066,
          1207,
          1513,
          1756
         ],
         "yaxis": "y6"
        },
        {
         "hovertemplate": "category=forbidden<br>Year=%{x}<br>Count=%{y}<extra></extra>",
         "legendgroup": "",
         "line": {
          "color": "#1F77B4",
          "dash": "solid"
         },
         "marker": {
          "symbol": "circle"
         },
         "mode": "lines",
         "name": "",
         "orientation": "v",
         "showlegend": false,
         "type": "scatter",
         "x": [
          1913,
          1914,
          1915,
          1917,
          1918,
          1919,
          1920,
          1921,
          1922,
          1930,
          1942,
          1963,
          1964,
          1966,
          1967,
          1970,
          1971,
          1973,
          1974,
          1975,
          1978,
          1985,
          1987,
          1989,
          1990,
          1991,
          1992,
          1993,
          1994,
          1995,
          1996,
          1997,
          1998,
          1999,
          2000,
          2001,
          2002,
          2003,
          2004,
          2005,
          2006,
          2007,
          2008,
          2009,
          2010,
          2011,
          2012,
          2013,
          2014,
          2015,
          2016,
          2017,
          2018,
          2019,
          2020,
          2021,
          2022
         ],
         "xaxis": "x",
         "y": [
          6,
          5,
          6,
          5,
          7,
          6,
          9,
          8,
          6,
          9,
          5,
          6,
          5,
          8,
          7,
          8,
          9,
          6,
          5,
          6,
          7,
          7,
          5,
          5,
          7,
          10,
          13,
          9,
          9,
          15,
          12,
          29,
          63,
          89,
          89,
          98,
          109,
          121,
          115,
          130,
          141,
          165,
          187,
          235,
          265,
          290,
          341,
          337,
          471,
          529,
          606,
          669,
          627,
          828,
          1068,
          1236,
          1231
         ],
         "yaxis": "y"
        },
        {
         "hovertemplate": "category=mineral<br>Year=%{x}<br>Count=%{y}<extra></extra>",
         "legendgroup": "",
         "line": {
          "color": "#1F77B4",
          "dash": "solid"
         },
         "marker": {
          "symbol": "circle"
         },
         "mode": "lines",
         "name": "",
         "orientation": "v",
         "showlegend": false,
         "type": "scatter",
         "x": [
          1918,
          1967,
          1968,
          1969,
          1971,
          1973,
          1974,
          1975,
          1976,
          1977,
          1978,
          1979,
          1980,
          1981,
          1982,
          1983,
          1984,
          1985,
          1986,
          1987,
          1988,
          1989,
          1990,
          1991,
          1992,
          1993,
          1994,
          1995,
          1996,
          1997,
          1998,
          1999,
          2000,
          2001,
          2002,
          2003,
          2004,
          2005,
          2006,
          2007,
          2008,
          2009,
          2010,
          2011,
          2012,
          2013,
          2014,
          2015,
          2016,
          2017,
          2018,
          2019,
          2020,
          2021,
          2022
         ],
         "xaxis": "x2",
         "y": [
          5,
          5,
          6,
          5,
          5,
          10,
          9,
          17,
          15,
          15,
          14,
          15,
          22,
          21,
          33,
          18,
          37,
          37,
          37,
          30,
          51,
          72,
          91,
          82,
          109,
          118,
          112,
          112,
          116,
          132,
          127,
          117,
          128,
          128,
          133,
          134,
          133,
          109,
          136,
          126,
          99,
          146,
          143,
          137,
          187,
          166,
          232,
          285,
          392,
          435,
          499,
          605,
          744,
          1152,
          1324
         ],
         "yaxis": "y2"
        },
        {
         "hovertemplate": "category=mythology<br>Year=%{x}<br>Count=%{y}<extra></extra>",
         "legendgroup": "",
         "line": {
          "color": "#1F77B4",
          "dash": "solid"
         },
         "marker": {
          "symbol": "circle"
         },
         "mode": "lines",
         "name": "",
         "orientation": "v",
         "showlegend": false,
         "type": "scatter",
         "x": [
          1880,
          1881,
          1882,
          1883,
          1884,
          1885,
          1886,
          1887,
          1888,
          1889,
          1890,
          1891,
          1892,
          1893,
          1894,
          1895,
          1896,
          1897,
          1898,
          1899,
          1900,
          1901,
          1902,
          1903,
          1904,
          1905,
          1906,
          1907,
          1908,
          1909,
          1910,
          1911,
          1912,
          1913,
          1914,
          1915,
          1916,
          1917,
          1918,
          1919,
          1920,
          1921,
          1922,
          1923,
          1924,
          1925,
          1926,
          1927,
          1928,
          1929,
          1930,
          1931,
          1932,
          1933,
          1934,
          1935,
          1936,
          1937,
          1938,
          1939,
          1940,
          1941,
          1942,
          1943,
          1944,
          1945,
          1946,
          1947,
          1948,
          1949,
          1950,
          1951,
          1952,
          1953,
          1954,
          1955,
          1956,
          1957,
          1958,
          1959,
          1960,
          1961,
          1962,
          1963,
          1964,
          1965,
          1966,
          1967,
          1968,
          1969,
          1970,
          1971,
          1972,
          1973,
          1974,
          1975,
          1976,
          1977,
          1978,
          1979,
          1980,
          1981,
          1982,
          1983,
          1984,
          1985,
          1986,
          1987,
          1988,
          1989,
          1990,
          1991,
          1992,
          1993,
          1994,
          1995,
          1996,
          1997,
          1998,
          1999,
          2000,
          2001,
          2002,
          2003,
          2004,
          2005,
          2006,
          2007,
          2008,
          2009,
          2010,
          2011,
          2012,
          2013,
          2014,
          2015,
          2016,
          2017,
          2018,
          2019,
          2020,
          2021,
          2022
         ],
         "xaxis": "x3",
         "y": [
          160,
          138,
          180,
          170,
          168,
          157,
          173,
          169,
          212,
          165,
          166,
          161,
          198,
          203,
          178,
          171,
          174,
          159,
          181,
          161,
          206,
          168,
          159,
          173,
          189,
          190,
          190,
          231,
          268,
          269,
          355,
          368,
          766,
          846,
          1064,
          1379,
          1383,
          1408,
          1438,
          1331,
          1339,
          1346,
          1297,
          1211,
          1144,
          1104,
          1058,
          935,
          880,
          864,
          831,
          733,
          723,
          559,
          584,
          574,
          548,
          570,
          560,
          545,
          602,
          596,
          601,
          639,
          570,
          497,
          565,
          624,
          567,
          566,
          524,
          524,
          489,
          566,
          607,
          621,
          525,
          607,
          507,
          525,
          513,
          448,
          450,
          510,
          511,
          467,
          440,
          410,
          391,
          405,
          405,
          424,
          386,
          370,
          386,
          366,
          387,
          486,
          494,
          529,
          562,
          578,
          593,
          623,
          569,
          546,
          509,
          569,
          575,
          596,
          666,
          625,
          606,
          508,
          476,
          522,
          532,
          584,
          573,
          589,
          663,
          816,
          867,
          899,
          973,
          1124,
          1377,
          1514,
          1563,
          1457,
          1404,
          1443,
          1467,
          1670,
          2147,
          2490,
          2673,
          2799,
          2947,
          3330,
          3516,
          3895,
          4049
         ],
         "yaxis": "y3"
        }
       ],
       "layout": {
        "annotations": [
         {
          "font": {},
          "showarrow": false,
          "text": "category=forbidden",
          "x": 0.15999999999999998,
          "xanchor": "center",
          "xref": "paper",
          "y": 0.425,
          "yanchor": "bottom",
          "yref": "paper"
         },
         {
          "font": {},
          "showarrow": false,
          "text": "category=mineral",
          "x": 0.49999999999999994,
          "xanchor": "center",
          "xref": "paper",
          "y": 0.425,
          "yanchor": "bottom",
          "yref": "paper"
         },
         {
          "font": {},
          "showarrow": false,
          "text": "category=mythology",
          "x": 0.8399999999999999,
          "xanchor": "center",
          "xref": "paper",
          "y": 0.425,
          "yanchor": "bottom",
          "yref": "paper"
         },
         {
          "font": {},
          "showarrow": false,
          "text": "category=boomer",
          "x": 0.15999999999999998,
          "xanchor": "center",
          "xref": "paper",
          "y": 1,
          "yanchor": "bottom",
          "yref": "paper"
         },
         {
          "font": {},
          "showarrow": false,
          "text": "category=celestial",
          "x": 0.49999999999999994,
          "xanchor": "center",
          "xref": "paper",
          "y": 1,
          "yanchor": "bottom",
          "yref": "paper"
         },
         {
          "font": {},
          "showarrow": false,
          "text": "category=evangelical",
          "x": 0.8399999999999999,
          "xanchor": "center",
          "xref": "paper",
          "y": 1,
          "yanchor": "bottom",
          "yref": "paper"
         }
        ],
        "height": 400,
        "legend": {
         "tracegroupgap": 0
        },
        "template": {
         "data": {
          "bar": [
           {
            "error_x": {
             "color": "rgb(36,36,36)"
            },
            "error_y": {
             "color": "rgb(36,36,36)"
            },
            "marker": {
             "line": {
              "color": "white",
              "width": 0.5
             },
             "pattern": {
              "fillmode": "overlay",
              "size": 10,
              "solidity": 0.2
             }
            },
            "type": "bar"
           }
          ],
          "barpolar": [
           {
            "marker": {
             "line": {
              "color": "white",
              "width": 0.5
             },
             "pattern": {
              "fillmode": "overlay",
              "size": 10,
              "solidity": 0.2
             }
            },
            "type": "barpolar"
           }
          ],
          "carpet": [
           {
            "aaxis": {
             "endlinecolor": "rgb(36,36,36)",
             "gridcolor": "white",
             "linecolor": "white",
             "minorgridcolor": "white",
             "startlinecolor": "rgb(36,36,36)"
            },
            "baxis": {
             "endlinecolor": "rgb(36,36,36)",
             "gridcolor": "white",
             "linecolor": "white",
             "minorgridcolor": "white",
             "startlinecolor": "rgb(36,36,36)"
            },
            "type": "carpet"
           }
          ],
          "choropleth": [
           {
            "colorbar": {
             "outlinewidth": 1,
             "tickcolor": "rgb(36,36,36)",
             "ticks": "outside"
            },
            "type": "choropleth"
           }
          ],
          "contour": [
           {
            "colorbar": {
             "outlinewidth": 1,
             "tickcolor": "rgb(36,36,36)",
             "ticks": "outside"
            },
            "colorscale": [
             [
              0,
              "#440154"
             ],
             [
              0.1111111111111111,
              "#482878"
             ],
             [
              0.2222222222222222,
              "#3e4989"
             ],
             [
              0.3333333333333333,
              "#31688e"
             ],
             [
              0.4444444444444444,
              "#26828e"
             ],
             [
              0.5555555555555556,
              "#1f9e89"
             ],
             [
              0.6666666666666666,
              "#35b779"
             ],
             [
              0.7777777777777778,
              "#6ece58"
             ],
             [
              0.8888888888888888,
              "#b5de2b"
             ],
             [
              1,
              "#fde725"
             ]
            ],
            "type": "contour"
           }
          ],
          "contourcarpet": [
           {
            "colorbar": {
             "outlinewidth": 1,
             "tickcolor": "rgb(36,36,36)",
             "ticks": "outside"
            },
            "type": "contourcarpet"
           }
          ],
          "heatmap": [
           {
            "colorbar": {
             "outlinewidth": 1,
             "tickcolor": "rgb(36,36,36)",
             "ticks": "outside"
            },
            "colorscale": [
             [
              0,
              "#440154"
             ],
             [
              0.1111111111111111,
              "#482878"
             ],
             [
              0.2222222222222222,
              "#3e4989"
             ],
             [
              0.3333333333333333,
              "#31688e"
             ],
             [
              0.4444444444444444,
              "#26828e"
             ],
             [
              0.5555555555555556,
              "#1f9e89"
             ],
             [
              0.6666666666666666,
              "#35b779"
             ],
             [
              0.7777777777777778,
              "#6ece58"
             ],
             [
              0.8888888888888888,
              "#b5de2b"
             ],
             [
              1,
              "#fde725"
             ]
            ],
            "type": "heatmap"
           }
          ],
          "heatmapgl": [
           {
            "colorbar": {
             "outlinewidth": 1,
             "tickcolor": "rgb(36,36,36)",
             "ticks": "outside"
            },
            "colorscale": [
             [
              0,
              "#440154"
             ],
             [
              0.1111111111111111,
              "#482878"
             ],
             [
              0.2222222222222222,
              "#3e4989"
             ],
             [
              0.3333333333333333,
              "#31688e"
             ],
             [
              0.4444444444444444,
              "#26828e"
             ],
             [
              0.5555555555555556,
              "#1f9e89"
             ],
             [
              0.6666666666666666,
              "#35b779"
             ],
             [
              0.7777777777777778,
              "#6ece58"
             ],
             [
              0.8888888888888888,
              "#b5de2b"
             ],
             [
              1,
              "#fde725"
             ]
            ],
            "type": "heatmapgl"
           }
          ],
          "histogram": [
           {
            "marker": {
             "line": {
              "color": "white",
              "width": 0.6
             }
            },
            "type": "histogram"
           }
          ],
          "histogram2d": [
           {
            "colorbar": {
             "outlinewidth": 1,
             "tickcolor": "rgb(36,36,36)",
             "ticks": "outside"
            },
            "colorscale": [
             [
              0,
              "#440154"
             ],
             [
              0.1111111111111111,
              "#482878"
             ],
             [
              0.2222222222222222,
              "#3e4989"
             ],
             [
              0.3333333333333333,
              "#31688e"
             ],
             [
              0.4444444444444444,
              "#26828e"
             ],
             [
              0.5555555555555556,
              "#1f9e89"
             ],
             [
              0.6666666666666666,
              "#35b779"
             ],
             [
              0.7777777777777778,
              "#6ece58"
             ],
             [
              0.8888888888888888,
              "#b5de2b"
             ],
             [
              1,
              "#fde725"
             ]
            ],
            "type": "histogram2d"
           }
          ],
          "histogram2dcontour": [
           {
            "colorbar": {
             "outlinewidth": 1,
             "tickcolor": "rgb(36,36,36)",
             "ticks": "outside"
            },
            "colorscale": [
             [
              0,
              "#440154"
             ],
             [
              0.1111111111111111,
              "#482878"
             ],
             [
              0.2222222222222222,
              "#3e4989"
             ],
             [
              0.3333333333333333,
              "#31688e"
             ],
             [
              0.4444444444444444,
              "#26828e"
             ],
             [
              0.5555555555555556,
              "#1f9e89"
             ],
             [
              0.6666666666666666,
              "#35b779"
             ],
             [
              0.7777777777777778,
              "#6ece58"
             ],
             [
              0.8888888888888888,
              "#b5de2b"
             ],
             [
              1,
              "#fde725"
             ]
            ],
            "type": "histogram2dcontour"
           }
          ],
          "mesh3d": [
           {
            "colorbar": {
             "outlinewidth": 1,
             "tickcolor": "rgb(36,36,36)",
             "ticks": "outside"
            },
            "type": "mesh3d"
           }
          ],
          "parcoords": [
           {
            "line": {
             "colorbar": {
              "outlinewidth": 1,
              "tickcolor": "rgb(36,36,36)",
              "ticks": "outside"
             }
            },
            "type": "parcoords"
           }
          ],
          "pie": [
           {
            "automargin": true,
            "type": "pie"
           }
          ],
          "scatter": [
           {
            "fillpattern": {
             "fillmode": "overlay",
             "size": 10,
             "solidity": 0.2
            },
            "type": "scatter"
           }
          ],
          "scatter3d": [
           {
            "line": {
             "colorbar": {
              "outlinewidth": 1,
              "tickcolor": "rgb(36,36,36)",
              "ticks": "outside"
             }
            },
            "marker": {
             "colorbar": {
              "outlinewidth": 1,
              "tickcolor": "rgb(36,36,36)",
              "ticks": "outside"
             }
            },
            "type": "scatter3d"
           }
          ],
          "scattercarpet": [
           {
            "marker": {
             "colorbar": {
              "outlinewidth": 1,
              "tickcolor": "rgb(36,36,36)",
              "ticks": "outside"
             }
            },
            "type": "scattercarpet"
           }
          ],
          "scattergeo": [
           {
            "marker": {
             "colorbar": {
              "outlinewidth": 1,
              "tickcolor": "rgb(36,36,36)",
              "ticks": "outside"
             }
            },
            "type": "scattergeo"
           }
          ],
          "scattergl": [
           {
            "marker": {
             "colorbar": {
              "outlinewidth": 1,
              "tickcolor": "rgb(36,36,36)",
              "ticks": "outside"
             }
            },
            "type": "scattergl"
           }
          ],
          "scattermapbox": [
           {
            "marker": {
             "colorbar": {
              "outlinewidth": 1,
              "tickcolor": "rgb(36,36,36)",
              "ticks": "outside"
             }
            },
            "type": "scattermapbox"
           }
          ],
          "scatterpolar": [
           {
            "marker": {
             "colorbar": {
              "outlinewidth": 1,
              "tickcolor": "rgb(36,36,36)",
              "ticks": "outside"
             }
            },
            "type": "scatterpolar"
           }
          ],
          "scatterpolargl": [
           {
            "marker": {
             "colorbar": {
              "outlinewidth": 1,
              "tickcolor": "rgb(36,36,36)",
              "ticks": "outside"
             }
            },
            "type": "scatterpolargl"
           }
          ],
          "scatterternary": [
           {
            "marker": {
             "colorbar": {
              "outlinewidth": 1,
              "tickcolor": "rgb(36,36,36)",
              "ticks": "outside"
             }
            },
            "type": "scatterternary"
           }
          ],
          "surface": [
           {
            "colorbar": {
             "outlinewidth": 1,
             "tickcolor": "rgb(36,36,36)",
             "ticks": "outside"
            },
            "colorscale": [
             [
              0,
              "#440154"
             ],
             [
              0.1111111111111111,
              "#482878"
             ],
             [
              0.2222222222222222,
              "#3e4989"
             ],
             [
              0.3333333333333333,
              "#31688e"
             ],
             [
              0.4444444444444444,
              "#26828e"
             ],
             [
              0.5555555555555556,
              "#1f9e89"
             ],
             [
              0.6666666666666666,
              "#35b779"
             ],
             [
              0.7777777777777778,
              "#6ece58"
             ],
             [
              0.8888888888888888,
              "#b5de2b"
             ],
             [
              1,
              "#fde725"
             ]
            ],
            "type": "surface"
           }
          ],
          "table": [
           {
            "cells": {
             "fill": {
              "color": "rgb(237,237,237)"
             },
             "line": {
              "color": "white"
             }
            },
            "header": {
             "fill": {
              "color": "rgb(217,217,217)"
             },
             "line": {
              "color": "white"
             }
            },
            "type": "table"
           }
          ]
         },
         "layout": {
          "annotationdefaults": {
           "arrowhead": 0,
           "arrowwidth": 1
          },
          "autosize": true,
          "autotypenumbers": "strict",
          "coloraxis": {
           "colorbar": {
            "outlinewidth": 1,
            "tickcolor": "rgb(36,36,36)",
            "ticks": "outside"
           }
          },
          "colorscale": {
           "diverging": [
            [
             0,
             "rgb(103,0,31)"
            ],
            [
             0.1,
             "rgb(178,24,43)"
            ],
            [
             0.2,
             "rgb(214,96,77)"
            ],
            [
             0.3,
             "rgb(244,165,130)"
            ],
            [
             0.4,
             "rgb(253,219,199)"
            ],
            [
             0.5,
             "rgb(247,247,247)"
            ],
            [
             0.6,
             "rgb(209,229,240)"
            ],
            [
             0.7,
             "rgb(146,197,222)"
            ],
            [
             0.8,
             "rgb(67,147,195)"
            ],
            [
             0.9,
             "rgb(33,102,172)"
            ],
            [
             1,
             "rgb(5,48,97)"
            ]
           ],
           "sequential": [
            [
             0,
             "#440154"
            ],
            [
             0.1111111111111111,
             "#482878"
            ],
            [
             0.2222222222222222,
             "#3e4989"
            ],
            [
             0.3333333333333333,
             "#31688e"
            ],
            [
             0.4444444444444444,
             "#26828e"
            ],
            [
             0.5555555555555556,
             "#1f9e89"
            ],
            [
             0.6666666666666666,
             "#35b779"
            ],
            [
             0.7777777777777778,
             "#6ece58"
            ],
            [
             0.8888888888888888,
             "#b5de2b"
            ],
            [
             1,
             "#fde725"
            ]
           ],
           "sequentialminus": [
            [
             0,
             "#440154"
            ],
            [
             0.1111111111111111,
             "#482878"
            ],
            [
             0.2222222222222222,
             "#3e4989"
            ],
            [
             0.3333333333333333,
             "#31688e"
            ],
            [
             0.4444444444444444,
             "#26828e"
            ],
            [
             0.5555555555555556,
             "#1f9e89"
            ],
            [
             0.6666666666666666,
             "#35b779"
            ],
            [
             0.7777777777777778,
             "#6ece58"
            ],
            [
             0.8888888888888888,
             "#b5de2b"
            ],
            [
             1,
             "#fde725"
            ]
           ]
          },
          "colorway": [
           "#1F77B4",
           "#FF7F0E",
           "#2CA02C",
           "#D62728",
           "#9467BD",
           "#8C564B",
           "#E377C2",
           "#7F7F7F",
           "#BCBD22",
           "#17BECF"
          ],
          "font": {
           "color": "rgb(36,36,36)"
          },
          "geo": {
           "bgcolor": "white",
           "lakecolor": "white",
           "landcolor": "white",
           "showlakes": true,
           "showland": true,
           "subunitcolor": "white"
          },
          "height": 400,
          "hoverlabel": {
           "align": "left"
          },
          "hovermode": "closest",
          "mapbox": {
           "style": "light"
          },
          "margin": {
           "b": 30,
           "l": 30,
           "r": 30,
           "t": 30
          },
          "paper_bgcolor": "white",
          "plot_bgcolor": "white",
          "polar": {
           "angularaxis": {
            "gridcolor": "rgb(232,232,232)",
            "linecolor": "rgb(36,36,36)",
            "showgrid": false,
            "showline": true,
            "ticks": "outside"
           },
           "bgcolor": "white",
           "radialaxis": {
            "gridcolor": "rgb(232,232,232)",
            "linecolor": "rgb(36,36,36)",
            "showgrid": false,
            "showline": true,
            "ticks": "outside"
           }
          },
          "scene": {
           "xaxis": {
            "backgroundcolor": "white",
            "gridcolor": "rgb(232,232,232)",
            "gridwidth": 2,
            "linecolor": "rgb(36,36,36)",
            "showbackground": true,
            "showgrid": false,
            "showline": true,
            "ticks": "outside",
            "zeroline": false,
            "zerolinecolor": "rgb(36,36,36)"
           },
           "yaxis": {
            "backgroundcolor": "white",
            "gridcolor": "rgb(232,232,232)",
            "gridwidth": 2,
            "linecolor": "rgb(36,36,36)",
            "showbackground": true,
            "showgrid": false,
            "showline": true,
            "ticks": "outside",
            "zeroline": false,
            "zerolinecolor": "rgb(36,36,36)"
           },
           "zaxis": {
            "backgroundcolor": "white",
            "gridcolor": "rgb(232,232,232)",
            "gridwidth": 2,
            "linecolor": "rgb(36,36,36)",
            "showbackground": true,
            "showgrid": false,
            "showline": true,
            "ticks": "outside",
            "zeroline": false,
            "zerolinecolor": "rgb(36,36,36)"
           }
          },
          "shapedefaults": {
           "fillcolor": "black",
           "line": {
            "width": 0
           },
           "opacity": 0.3
          },
          "ternary": {
           "aaxis": {
            "gridcolor": "rgb(232,232,232)",
            "linecolor": "rgb(36,36,36)",
            "showgrid": false,
            "showline": true,
            "ticks": "outside"
           },
           "baxis": {
            "gridcolor": "rgb(232,232,232)",
            "linecolor": "rgb(36,36,36)",
            "showgrid": false,
            "showline": true,
            "ticks": "outside"
           },
           "bgcolor": "white",
           "caxis": {
            "gridcolor": "rgb(232,232,232)",
            "linecolor": "rgb(36,36,36)",
            "showgrid": false,
            "showline": true,
            "ticks": "outside"
           }
          },
          "title": {
           "x": 0.5,
           "xanchor": "center"
          },
          "width": 600,
          "xaxis": {
           "automargin": true,
           "gridcolor": "rgb(232,232,232)",
           "linecolor": "rgb(36,36,36)",
           "showgrid": true,
           "showline": true,
           "ticks": "outside",
           "title": {
            "standoff": 15
           },
           "zeroline": false,
           "zerolinecolor": "rgb(36,36,36)"
          },
          "yaxis": {
           "automargin": true,
           "gridcolor": "rgb(232,232,232)",
           "linecolor": "rgb(36,36,36)",
           "showgrid": true,
           "showline": true,
           "ticks": "outside",
           "title": {
            "standoff": 15
           },
           "zeroline": false,
           "zerolinecolor": "rgb(36,36,36)"
          }
         }
        },
        "width": 600,
        "xaxis": {
         "anchor": "y",
         "domain": [
          0,
          0.31999999999999995
         ],
         "title": {
          "text": "Year"
         }
        },
        "xaxis2": {
         "anchor": "y2",
         "domain": [
          0.33999999999999997,
          0.6599999999999999
         ],
         "matches": "x",
         "title": {
          "text": "Year"
         }
        },
        "xaxis3": {
         "anchor": "y3",
         "domain": [
          0.6799999999999999,
          0.9999999999999999
         ],
         "matches": "x",
         "title": {
          "text": "Year"
         }
        },
        "xaxis4": {
         "anchor": "y4",
         "domain": [
          0,
          0.31999999999999995
         ],
         "matches": "x",
         "showticklabels": false
        },
        "xaxis5": {
         "anchor": "y5",
         "domain": [
          0.33999999999999997,
          0.6599999999999999
         ],
         "matches": "x",
         "showticklabels": false
        },
        "xaxis6": {
         "anchor": "y6",
         "domain": [
          0.6799999999999999,
          0.9999999999999999
         ],
         "matches": "x",
         "showticklabels": false
        },
        "yaxis": {
         "anchor": "x",
         "domain": [
          0,
          0.425
         ],
         "showticklabels": false,
         "title": {
          "text": "Count"
         }
        },
        "yaxis2": {
         "anchor": "x2",
         "domain": [
          0,
          0.425
         ],
         "showticklabels": false
        },
        "yaxis3": {
         "anchor": "x3",
         "domain": [
          0,
          0.425
         ],
         "showticklabels": false
        },
        "yaxis4": {
         "anchor": "x4",
         "domain": [
          0.575,
          1
         ],
         "showticklabels": false,
         "title": {
          "text": "Count"
         }
        },
        "yaxis5": {
         "anchor": "x5",
         "domain": [
          0.575,
          1
         ],
         "showticklabels": false
        },
        "yaxis6": {
         "anchor": "x6",
         "domain": [
          0.575,
          1
         ],
         "showticklabels": false
        }
       }
      },
      "text/html": [
       "<div>                        <script type=\"text/javascript\">window.PlotlyConfig = {MathJaxConfig: 'local'};</script>\n",
       "        <script charset=\"utf-8\" src=\"https://cdn.plot.ly/plotly-2.35.2.min.js\"></script>                <div id=\"0acdb188-ff02-4e5a-bd58-8cb1da8279f0\" class=\"plotly-graph-div\" style=\"height:400px; width:600px;\"></div>            <script type=\"text/javascript\">                                    window.PLOTLYENV=window.PLOTLYENV || {};                                    if (document.getElementById(\"0acdb188-ff02-4e5a-bd58-8cb1da8279f0\")) {                    Plotly.newPlot(                        \"0acdb188-ff02-4e5a-bd58-8cb1da8279f0\",                        [{\"hovertemplate\":\"category=boomer\\u003cbr\\u003eYear=%{x}\\u003cbr\\u003eCount=%{y}\\u003cextra\\u003e\\u003c\\u002fextra\\u003e\",\"legendgroup\":\"\",\"line\":{\"color\":\"#1F77B4\",\"dash\":\"solid\"},\"marker\":{\"symbol\":\"circle\"},\"mode\":\"lines\",\"name\":\"\",\"orientation\":\"v\",\"showlegend\":false,\"x\":[1880,1881,1882,1883,1884,1885,1886,1887,1888,1889,1890,1891,1892,1893,1894,1895,1896,1897,1898,1899,1900,1901,1902,1903,1904,1905,1906,1907,1908,1909,1910,1911,1912,1913,1914,1915,1916,1917,1918,1919,1920,1921,1922,1923,1924,1925,1926,1927,1928,1929,1930,1931,1932,1933,1934,1935,1936,1937,1938,1939,1940,1941,1942,1943,1944,1945,1946,1947,1948,1949,1950,1951,1952,1953,1954,1955,1956,1957,1958,1959,1960,1961,1962,1963,1964,1965,1966,1967,1968,1969,1970,1971,1972,1973,1974,1975,1976,1977,1978,1979,1980,1981,1982,1983,1984,1985,1986,1987,1988,1989,1990,1991,1992,1993,1994,1995,1996,1997,1998,1999,2000,2001,2002,2003,2004,2005,2006,2007,2008,2009,2010,2011,2012,2013,2014,2015,2016,2017,2018,2019,2020,2021,2022],\"xaxis\":\"x4\",\"y\":[292,298,326,322,335,312,342,344,375,372,377,383,384,368,379,402,364,351,396,367,435,363,342,322,351,353,356,392,376,406,430,499,599,582,760,937,983,981,1108,993,1127,1212,1293,1414,1730,2117,2670,3409,4069,5098,6560,7270,8405,8491,9890,10908,11849,12893,15840,17723,21195,26642,33989,38162,38090,40328,54232,60599,64633,66485,68551,75155,77944,82811,90052,93369,102101,106883,107529,103938,98586,92820,89643,82413,75540,70106,58360,51548,45926,41994,38653,33954,26729,22950,21164,19403,17418,16691,14931,14112,13127,12019,11289,9971,9227,8296,7663,7075,6671,6698,6420,5873,5761,5470,4860,4389,4465,4090,3786,3722,3703,3586,3567,3547,3364,3106,3149,3232,2813,2316,2157,1841,1597,1437,1316,1286,1266,1168,1001,969,885,705,645],\"yaxis\":\"y4\",\"type\":\"scatter\"},{\"hovertemplate\":\"category=celestial\\u003cbr\\u003eYear=%{x}\\u003cbr\\u003eCount=%{y}\\u003cextra\\u003e\\u003c\\u002fextra\\u003e\",\"legendgroup\":\"\",\"line\":{\"color\":\"#1F77B4\",\"dash\":\"solid\"},\"marker\":{\"symbol\":\"circle\"},\"mode\":\"lines\",\"name\":\"\",\"orientation\":\"v\",\"showlegend\":false,\"x\":[1880,1882,1883,1884,1886,1887,1888,1889,1890,1891,1892,1893,1894,1895,1896,1897,1898,1899,1900,1901,1902,1903,1904,1905,1906,1907,1908,1909,1910,1911,1912,1913,1914,1915,1916,1917,1918,1919,1920,1921,1922,1923,1924,1925,1926,1927,1928,1929,1930,1931,1932,1933,1934,1935,1936,1937,1938,1939,1940,1941,1942,1943,1944,1945,1946,1947,1948,1949,1950,1951,1952,1953,1954,1955,1956,1957,1958,1959,1960,1961,1962,1963,1964,1965,1966,1967,1968,1969,1970,1971,1972,1973,1974,1975,1976,1977,1978,1979,1980,1981,1982,1983,1984,1985,1986,1987,1988,1989,1990,1991,1992,1993,1994,1995,1996,1997,1998,1999,2000,2001,2002,2003,2004,2005,2006,2007,2008,2009,2010,2011,2012,2013,2014,2015,2016,2017,2018,2019,2020,2021,2022],\"xaxis\":\"x5\",\"y\":[6,5,8,9,13,11,7,14,7,16,5,6,13,22,22,20,21,15,25,12,26,15,22,20,14,24,17,20,22,27,30,39,38,72,79,55,67,63,54,67,53,65,48,46,35,39,45,28,41,35,29,27,29,14,21,22,12,21,16,18,21,23,15,23,29,35,26,49,55,35,56,50,73,104,152,130,131,301,180,228,182,215,193,177,181,223,159,161,213,274,289,303,315,306,324,330,329,358,346,305,319,249,208,208,227,359,336,369,400,391,400,418,418,473,526,709,675,641,748,740,793,857,874,892,865,828,800,798,792,752,850,859,1019,996,974,936,940,953,873,964,1033],\"yaxis\":\"y5\",\"type\":\"scatter\"},{\"hovertemplate\":\"category=evangelical\\u003cbr\\u003eYear=%{x}\\u003cbr\\u003eCount=%{y}\\u003cextra\\u003e\\u003c\\u002fextra\\u003e\",\"legendgroup\":\"\",\"line\":{\"color\":\"#1F77B4\",\"dash\":\"solid\"},\"marker\":{\"symbol\":\"circle\"},\"mode\":\"lines\",\"name\":\"\",\"orientation\":\"v\",\"showlegend\":false,\"x\":[1880,1883,1884,1887,1888,1891,1892,1894,1896,1897,1904,1907,1908,1910,1911,1912,1913,1914,1915,1916,1917,1918,1919,1920,1921,1922,1923,1924,1925,1926,1927,1928,1929,1930,1931,1932,1933,1934,1935,1936,1937,1938,1939,1940,1941,1942,1943,1944,1945,1946,1947,1948,1949,1950,1951,1952,1953,1954,1955,1957,1958,1959,1960,1961,1962,1964,1965,1966,1968,1969,1970,1971,1972,1973,1974,1975,1976,1977,1978,1979,1980,1981,1982,1983,1984,1985,1986,1987,1988,1989,1990,1991,1992,1993,1994,1995,1996,1997,1998,1999,2000,2001,2002,2003,2004,2005,2006,2007,2008,2009,2010,2011,2012,2013,2014,2015,2016,2017,2018,2019,2020,2021,2022],\"xaxis\":\"x6\",\"y\":[7,7,8,6,5,11,8,6,10,14,6,5,6,12,6,5,11,22,41,38,34,38,35,42,42,41,35,37,33,32,28,33,17,21,23,17,21,29,24,17,21,15,22,20,23,21,21,13,16,12,26,20,22,22,11,21,24,19,19,27,15,17,15,17,9,7,6,10,10,22,10,13,8,26,30,23,23,51,31,29,39,26,24,51,41,39,22,52,48,48,73,71,70,93,86,86,111,119,154,156,182,232,198,237,246,246,284,269,294,350,362,332,422,417,461,626,844,821,944,1066,1207,1513,1756],\"yaxis\":\"y6\",\"type\":\"scatter\"},{\"hovertemplate\":\"category=forbidden\\u003cbr\\u003eYear=%{x}\\u003cbr\\u003eCount=%{y}\\u003cextra\\u003e\\u003c\\u002fextra\\u003e\",\"legendgroup\":\"\",\"line\":{\"color\":\"#1F77B4\",\"dash\":\"solid\"},\"marker\":{\"symbol\":\"circle\"},\"mode\":\"lines\",\"name\":\"\",\"orientation\":\"v\",\"showlegend\":false,\"x\":[1913,1914,1915,1917,1918,1919,1920,1921,1922,1930,1942,1963,1964,1966,1967,1970,1971,1973,1974,1975,1978,1985,1987,1989,1990,1991,1992,1993,1994,1995,1996,1997,1998,1999,2000,2001,2002,2003,2004,2005,2006,2007,2008,2009,2010,2011,2012,2013,2014,2015,2016,2017,2018,2019,2020,2021,2022],\"xaxis\":\"x\",\"y\":[6,5,6,5,7,6,9,8,6,9,5,6,5,8,7,8,9,6,5,6,7,7,5,5,7,10,13,9,9,15,12,29,63,89,89,98,109,121,115,130,141,165,187,235,265,290,341,337,471,529,606,669,627,828,1068,1236,1231],\"yaxis\":\"y\",\"type\":\"scatter\"},{\"hovertemplate\":\"category=mineral\\u003cbr\\u003eYear=%{x}\\u003cbr\\u003eCount=%{y}\\u003cextra\\u003e\\u003c\\u002fextra\\u003e\",\"legendgroup\":\"\",\"line\":{\"color\":\"#1F77B4\",\"dash\":\"solid\"},\"marker\":{\"symbol\":\"circle\"},\"mode\":\"lines\",\"name\":\"\",\"orientation\":\"v\",\"showlegend\":false,\"x\":[1918,1967,1968,1969,1971,1973,1974,1975,1976,1977,1978,1979,1980,1981,1982,1983,1984,1985,1986,1987,1988,1989,1990,1991,1992,1993,1994,1995,1996,1997,1998,1999,2000,2001,2002,2003,2004,2005,2006,2007,2008,2009,2010,2011,2012,2013,2014,2015,2016,2017,2018,2019,2020,2021,2022],\"xaxis\":\"x2\",\"y\":[5,5,6,5,5,10,9,17,15,15,14,15,22,21,33,18,37,37,37,30,51,72,91,82,109,118,112,112,116,132,127,117,128,128,133,134,133,109,136,126,99,146,143,137,187,166,232,285,392,435,499,605,744,1152,1324],\"yaxis\":\"y2\",\"type\":\"scatter\"},{\"hovertemplate\":\"category=mythology\\u003cbr\\u003eYear=%{x}\\u003cbr\\u003eCount=%{y}\\u003cextra\\u003e\\u003c\\u002fextra\\u003e\",\"legendgroup\":\"\",\"line\":{\"color\":\"#1F77B4\",\"dash\":\"solid\"},\"marker\":{\"symbol\":\"circle\"},\"mode\":\"lines\",\"name\":\"\",\"orientation\":\"v\",\"showlegend\":false,\"x\":[1880,1881,1882,1883,1884,1885,1886,1887,1888,1889,1890,1891,1892,1893,1894,1895,1896,1897,1898,1899,1900,1901,1902,1903,1904,1905,1906,1907,1908,1909,1910,1911,1912,1913,1914,1915,1916,1917,1918,1919,1920,1921,1922,1923,1924,1925,1926,1927,1928,1929,1930,1931,1932,1933,1934,1935,1936,1937,1938,1939,1940,1941,1942,1943,1944,1945,1946,1947,1948,1949,1950,1951,1952,1953,1954,1955,1956,1957,1958,1959,1960,1961,1962,1963,1964,1965,1966,1967,1968,1969,1970,1971,1972,1973,1974,1975,1976,1977,1978,1979,1980,1981,1982,1983,1984,1985,1986,1987,1988,1989,1990,1991,1992,1993,1994,1995,1996,1997,1998,1999,2000,2001,2002,2003,2004,2005,2006,2007,2008,2009,2010,2011,2012,2013,2014,2015,2016,2017,2018,2019,2020,2021,2022],\"xaxis\":\"x3\",\"y\":[160,138,180,170,168,157,173,169,212,165,166,161,198,203,178,171,174,159,181,161,206,168,159,173,189,190,190,231,268,269,355,368,766,846,1064,1379,1383,1408,1438,1331,1339,1346,1297,1211,1144,1104,1058,935,880,864,831,733,723,559,584,574,548,570,560,545,602,596,601,639,570,497,565,624,567,566,524,524,489,566,607,621,525,607,507,525,513,448,450,510,511,467,440,410,391,405,405,424,386,370,386,366,387,486,494,529,562,578,593,623,569,546,509,569,575,596,666,625,606,508,476,522,532,584,573,589,663,816,867,899,973,1124,1377,1514,1563,1457,1404,1443,1467,1670,2147,2490,2673,2799,2947,3330,3516,3895,4049],\"yaxis\":\"y3\",\"type\":\"scatter\"}],                        {\"template\":{\"data\":{\"barpolar\":[{\"marker\":{\"line\":{\"color\":\"white\",\"width\":0.5},\"pattern\":{\"fillmode\":\"overlay\",\"size\":10,\"solidity\":0.2}},\"type\":\"barpolar\"}],\"bar\":[{\"error_x\":{\"color\":\"rgb(36,36,36)\"},\"error_y\":{\"color\":\"rgb(36,36,36)\"},\"marker\":{\"line\":{\"color\":\"white\",\"width\":0.5},\"pattern\":{\"fillmode\":\"overlay\",\"size\":10,\"solidity\":0.2}},\"type\":\"bar\"}],\"carpet\":[{\"aaxis\":{\"endlinecolor\":\"rgb(36,36,36)\",\"gridcolor\":\"white\",\"linecolor\":\"white\",\"minorgridcolor\":\"white\",\"startlinecolor\":\"rgb(36,36,36)\"},\"baxis\":{\"endlinecolor\":\"rgb(36,36,36)\",\"gridcolor\":\"white\",\"linecolor\":\"white\",\"minorgridcolor\":\"white\",\"startlinecolor\":\"rgb(36,36,36)\"},\"type\":\"carpet\"}],\"choropleth\":[{\"colorbar\":{\"outlinewidth\":1,\"tickcolor\":\"rgb(36,36,36)\",\"ticks\":\"outside\"},\"type\":\"choropleth\"}],\"contourcarpet\":[{\"colorbar\":{\"outlinewidth\":1,\"tickcolor\":\"rgb(36,36,36)\",\"ticks\":\"outside\"},\"type\":\"contourcarpet\"}],\"contour\":[{\"colorbar\":{\"outlinewidth\":1,\"tickcolor\":\"rgb(36,36,36)\",\"ticks\":\"outside\"},\"colorscale\":[[0.0,\"#440154\"],[0.1111111111111111,\"#482878\"],[0.2222222222222222,\"#3e4989\"],[0.3333333333333333,\"#31688e\"],[0.4444444444444444,\"#26828e\"],[0.5555555555555556,\"#1f9e89\"],[0.6666666666666666,\"#35b779\"],[0.7777777777777778,\"#6ece58\"],[0.8888888888888888,\"#b5de2b\"],[1.0,\"#fde725\"]],\"type\":\"contour\"}],\"heatmapgl\":[{\"colorbar\":{\"outlinewidth\":1,\"tickcolor\":\"rgb(36,36,36)\",\"ticks\":\"outside\"},\"colorscale\":[[0.0,\"#440154\"],[0.1111111111111111,\"#482878\"],[0.2222222222222222,\"#3e4989\"],[0.3333333333333333,\"#31688e\"],[0.4444444444444444,\"#26828e\"],[0.5555555555555556,\"#1f9e89\"],[0.6666666666666666,\"#35b779\"],[0.7777777777777778,\"#6ece58\"],[0.8888888888888888,\"#b5de2b\"],[1.0,\"#fde725\"]],\"type\":\"heatmapgl\"}],\"heatmap\":[{\"colorbar\":{\"outlinewidth\":1,\"tickcolor\":\"rgb(36,36,36)\",\"ticks\":\"outside\"},\"colorscale\":[[0.0,\"#440154\"],[0.1111111111111111,\"#482878\"],[0.2222222222222222,\"#3e4989\"],[0.3333333333333333,\"#31688e\"],[0.4444444444444444,\"#26828e\"],[0.5555555555555556,\"#1f9e89\"],[0.6666666666666666,\"#35b779\"],[0.7777777777777778,\"#6ece58\"],[0.8888888888888888,\"#b5de2b\"],[1.0,\"#fde725\"]],\"type\":\"heatmap\"}],\"histogram2dcontour\":[{\"colorbar\":{\"outlinewidth\":1,\"tickcolor\":\"rgb(36,36,36)\",\"ticks\":\"outside\"},\"colorscale\":[[0.0,\"#440154\"],[0.1111111111111111,\"#482878\"],[0.2222222222222222,\"#3e4989\"],[0.3333333333333333,\"#31688e\"],[0.4444444444444444,\"#26828e\"],[0.5555555555555556,\"#1f9e89\"],[0.6666666666666666,\"#35b779\"],[0.7777777777777778,\"#6ece58\"],[0.8888888888888888,\"#b5de2b\"],[1.0,\"#fde725\"]],\"type\":\"histogram2dcontour\"}],\"histogram2d\":[{\"colorbar\":{\"outlinewidth\":1,\"tickcolor\":\"rgb(36,36,36)\",\"ticks\":\"outside\"},\"colorscale\":[[0.0,\"#440154\"],[0.1111111111111111,\"#482878\"],[0.2222222222222222,\"#3e4989\"],[0.3333333333333333,\"#31688e\"],[0.4444444444444444,\"#26828e\"],[0.5555555555555556,\"#1f9e89\"],[0.6666666666666666,\"#35b779\"],[0.7777777777777778,\"#6ece58\"],[0.8888888888888888,\"#b5de2b\"],[1.0,\"#fde725\"]],\"type\":\"histogram2d\"}],\"histogram\":[{\"marker\":{\"line\":{\"color\":\"white\",\"width\":0.6}},\"type\":\"histogram\"}],\"mesh3d\":[{\"colorbar\":{\"outlinewidth\":1,\"tickcolor\":\"rgb(36,36,36)\",\"ticks\":\"outside\"},\"type\":\"mesh3d\"}],\"parcoords\":[{\"line\":{\"colorbar\":{\"outlinewidth\":1,\"tickcolor\":\"rgb(36,36,36)\",\"ticks\":\"outside\"}},\"type\":\"parcoords\"}],\"pie\":[{\"automargin\":true,\"type\":\"pie\"}],\"scatter3d\":[{\"line\":{\"colorbar\":{\"outlinewidth\":1,\"tickcolor\":\"rgb(36,36,36)\",\"ticks\":\"outside\"}},\"marker\":{\"colorbar\":{\"outlinewidth\":1,\"tickcolor\":\"rgb(36,36,36)\",\"ticks\":\"outside\"}},\"type\":\"scatter3d\"}],\"scattercarpet\":[{\"marker\":{\"colorbar\":{\"outlinewidth\":1,\"tickcolor\":\"rgb(36,36,36)\",\"ticks\":\"outside\"}},\"type\":\"scattercarpet\"}],\"scattergeo\":[{\"marker\":{\"colorbar\":{\"outlinewidth\":1,\"tickcolor\":\"rgb(36,36,36)\",\"ticks\":\"outside\"}},\"type\":\"scattergeo\"}],\"scattergl\":[{\"marker\":{\"colorbar\":{\"outlinewidth\":1,\"tickcolor\":\"rgb(36,36,36)\",\"ticks\":\"outside\"}},\"type\":\"scattergl\"}],\"scattermapbox\":[{\"marker\":{\"colorbar\":{\"outlinewidth\":1,\"tickcolor\":\"rgb(36,36,36)\",\"ticks\":\"outside\"}},\"type\":\"scattermapbox\"}],\"scatterpolargl\":[{\"marker\":{\"colorbar\":{\"outlinewidth\":1,\"tickcolor\":\"rgb(36,36,36)\",\"ticks\":\"outside\"}},\"type\":\"scatterpolargl\"}],\"scatterpolar\":[{\"marker\":{\"colorbar\":{\"outlinewidth\":1,\"tickcolor\":\"rgb(36,36,36)\",\"ticks\":\"outside\"}},\"type\":\"scatterpolar\"}],\"scatter\":[{\"fillpattern\":{\"fillmode\":\"overlay\",\"size\":10,\"solidity\":0.2},\"type\":\"scatter\"}],\"scatterternary\":[{\"marker\":{\"colorbar\":{\"outlinewidth\":1,\"tickcolor\":\"rgb(36,36,36)\",\"ticks\":\"outside\"}},\"type\":\"scatterternary\"}],\"surface\":[{\"colorbar\":{\"outlinewidth\":1,\"tickcolor\":\"rgb(36,36,36)\",\"ticks\":\"outside\"},\"colorscale\":[[0.0,\"#440154\"],[0.1111111111111111,\"#482878\"],[0.2222222222222222,\"#3e4989\"],[0.3333333333333333,\"#31688e\"],[0.4444444444444444,\"#26828e\"],[0.5555555555555556,\"#1f9e89\"],[0.6666666666666666,\"#35b779\"],[0.7777777777777778,\"#6ece58\"],[0.8888888888888888,\"#b5de2b\"],[1.0,\"#fde725\"]],\"type\":\"surface\"}],\"table\":[{\"cells\":{\"fill\":{\"color\":\"rgb(237,237,237)\"},\"line\":{\"color\":\"white\"}},\"header\":{\"fill\":{\"color\":\"rgb(217,217,217)\"},\"line\":{\"color\":\"white\"}},\"type\":\"table\"}]},\"layout\":{\"annotationdefaults\":{\"arrowhead\":0,\"arrowwidth\":1},\"autotypenumbers\":\"strict\",\"coloraxis\":{\"colorbar\":{\"outlinewidth\":1,\"tickcolor\":\"rgb(36,36,36)\",\"ticks\":\"outside\"}},\"colorscale\":{\"diverging\":[[0.0,\"rgb(103,0,31)\"],[0.1,\"rgb(178,24,43)\"],[0.2,\"rgb(214,96,77)\"],[0.3,\"rgb(244,165,130)\"],[0.4,\"rgb(253,219,199)\"],[0.5,\"rgb(247,247,247)\"],[0.6,\"rgb(209,229,240)\"],[0.7,\"rgb(146,197,222)\"],[0.8,\"rgb(67,147,195)\"],[0.9,\"rgb(33,102,172)\"],[1.0,\"rgb(5,48,97)\"]],\"sequential\":[[0.0,\"#440154\"],[0.1111111111111111,\"#482878\"],[0.2222222222222222,\"#3e4989\"],[0.3333333333333333,\"#31688e\"],[0.4444444444444444,\"#26828e\"],[0.5555555555555556,\"#1f9e89\"],[0.6666666666666666,\"#35b779\"],[0.7777777777777778,\"#6ece58\"],[0.8888888888888888,\"#b5de2b\"],[1.0,\"#fde725\"]],\"sequentialminus\":[[0.0,\"#440154\"],[0.1111111111111111,\"#482878\"],[0.2222222222222222,\"#3e4989\"],[0.3333333333333333,\"#31688e\"],[0.4444444444444444,\"#26828e\"],[0.5555555555555556,\"#1f9e89\"],[0.6666666666666666,\"#35b779\"],[0.7777777777777778,\"#6ece58\"],[0.8888888888888888,\"#b5de2b\"],[1.0,\"#fde725\"]]},\"colorway\":[\"#1F77B4\",\"#FF7F0E\",\"#2CA02C\",\"#D62728\",\"#9467BD\",\"#8C564B\",\"#E377C2\",\"#7F7F7F\",\"#BCBD22\",\"#17BECF\"],\"font\":{\"color\":\"rgb(36,36,36)\"},\"geo\":{\"bgcolor\":\"white\",\"lakecolor\":\"white\",\"landcolor\":\"white\",\"showlakes\":true,\"showland\":true,\"subunitcolor\":\"white\"},\"hoverlabel\":{\"align\":\"left\"},\"hovermode\":\"closest\",\"mapbox\":{\"style\":\"light\"},\"paper_bgcolor\":\"white\",\"plot_bgcolor\":\"white\",\"polar\":{\"angularaxis\":{\"gridcolor\":\"rgb(232,232,232)\",\"linecolor\":\"rgb(36,36,36)\",\"showgrid\":false,\"showline\":true,\"ticks\":\"outside\"},\"bgcolor\":\"white\",\"radialaxis\":{\"gridcolor\":\"rgb(232,232,232)\",\"linecolor\":\"rgb(36,36,36)\",\"showgrid\":false,\"showline\":true,\"ticks\":\"outside\"}},\"scene\":{\"xaxis\":{\"backgroundcolor\":\"white\",\"gridcolor\":\"rgb(232,232,232)\",\"gridwidth\":2,\"linecolor\":\"rgb(36,36,36)\",\"showbackground\":true,\"showgrid\":false,\"showline\":true,\"ticks\":\"outside\",\"zeroline\":false,\"zerolinecolor\":\"rgb(36,36,36)\"},\"yaxis\":{\"backgroundcolor\":\"white\",\"gridcolor\":\"rgb(232,232,232)\",\"gridwidth\":2,\"linecolor\":\"rgb(36,36,36)\",\"showbackground\":true,\"showgrid\":false,\"showline\":true,\"ticks\":\"outside\",\"zeroline\":false,\"zerolinecolor\":\"rgb(36,36,36)\"},\"zaxis\":{\"backgroundcolor\":\"white\",\"gridcolor\":\"rgb(232,232,232)\",\"gridwidth\":2,\"linecolor\":\"rgb(36,36,36)\",\"showbackground\":true,\"showgrid\":false,\"showline\":true,\"ticks\":\"outside\",\"zeroline\":false,\"zerolinecolor\":\"rgb(36,36,36)\"}},\"shapedefaults\":{\"fillcolor\":\"black\",\"line\":{\"width\":0},\"opacity\":0.3},\"ternary\":{\"aaxis\":{\"gridcolor\":\"rgb(232,232,232)\",\"linecolor\":\"rgb(36,36,36)\",\"showgrid\":false,\"showline\":true,\"ticks\":\"outside\"},\"baxis\":{\"gridcolor\":\"rgb(232,232,232)\",\"linecolor\":\"rgb(36,36,36)\",\"showgrid\":false,\"showline\":true,\"ticks\":\"outside\"},\"bgcolor\":\"white\",\"caxis\":{\"gridcolor\":\"rgb(232,232,232)\",\"linecolor\":\"rgb(36,36,36)\",\"showgrid\":false,\"showline\":true,\"ticks\":\"outside\"}},\"title\":{\"x\":0.5,\"xanchor\":\"center\"},\"xaxis\":{\"automargin\":true,\"gridcolor\":\"rgb(232,232,232)\",\"linecolor\":\"rgb(36,36,36)\",\"showgrid\":true,\"showline\":true,\"ticks\":\"outside\",\"title\":{\"standoff\":15},\"zeroline\":false,\"zerolinecolor\":\"rgb(36,36,36)\"},\"yaxis\":{\"automargin\":true,\"gridcolor\":\"rgb(232,232,232)\",\"linecolor\":\"rgb(36,36,36)\",\"showgrid\":true,\"showline\":true,\"ticks\":\"outside\",\"title\":{\"standoff\":15},\"zeroline\":false,\"zerolinecolor\":\"rgb(36,36,36)\"},\"autosize\":true,\"height\":400,\"margin\":{\"b\":30,\"l\":30,\"r\":30,\"t\":30},\"width\":600}},\"xaxis\":{\"anchor\":\"y\",\"domain\":[0.0,0.31999999999999995],\"title\":{\"text\":\"Year\"}},\"yaxis\":{\"anchor\":\"x\",\"domain\":[0.0,0.425],\"title\":{\"text\":\"Count\"},\"showticklabels\":false},\"xaxis2\":{\"anchor\":\"y2\",\"domain\":[0.33999999999999997,0.6599999999999999],\"matches\":\"x\",\"title\":{\"text\":\"Year\"}},\"yaxis2\":{\"anchor\":\"x2\",\"domain\":[0.0,0.425],\"showticklabels\":false},\"xaxis3\":{\"anchor\":\"y3\",\"domain\":[0.6799999999999999,0.9999999999999999],\"matches\":\"x\",\"title\":{\"text\":\"Year\"}},\"yaxis3\":{\"anchor\":\"x3\",\"domain\":[0.0,0.425],\"showticklabels\":false},\"xaxis4\":{\"anchor\":\"y4\",\"domain\":[0.0,0.31999999999999995],\"matches\":\"x\",\"showticklabels\":false},\"yaxis4\":{\"anchor\":\"x4\",\"domain\":[0.575,1.0],\"title\":{\"text\":\"Count\"},\"showticklabels\":false},\"xaxis5\":{\"anchor\":\"y5\",\"domain\":[0.33999999999999997,0.6599999999999999],\"matches\":\"x\",\"showticklabels\":false},\"yaxis5\":{\"anchor\":\"x5\",\"domain\":[0.575,1.0],\"showticklabels\":false},\"xaxis6\":{\"anchor\":\"y6\",\"domain\":[0.6799999999999999,0.9999999999999999],\"matches\":\"x\",\"showticklabels\":false},\"yaxis6\":{\"anchor\":\"x6\",\"domain\":[0.575,1.0],\"showticklabels\":false},\"annotations\":[{\"font\":{},\"showarrow\":false,\"text\":\"category=forbidden\",\"x\":0.15999999999999998,\"xanchor\":\"center\",\"xref\":\"paper\",\"y\":0.425,\"yanchor\":\"bottom\",\"yref\":\"paper\"},{\"font\":{},\"showarrow\":false,\"text\":\"category=mineral\",\"x\":0.49999999999999994,\"xanchor\":\"center\",\"xref\":\"paper\",\"y\":0.425,\"yanchor\":\"bottom\",\"yref\":\"paper\"},{\"font\":{},\"showarrow\":false,\"text\":\"category=mythology\",\"x\":0.8399999999999999,\"xanchor\":\"center\",\"xref\":\"paper\",\"y\":0.425,\"yanchor\":\"bottom\",\"yref\":\"paper\"},{\"font\":{},\"showarrow\":false,\"text\":\"category=boomer\",\"x\":0.15999999999999998,\"xanchor\":\"center\",\"xref\":\"paper\",\"y\":1.0,\"yanchor\":\"bottom\",\"yref\":\"paper\"},{\"font\":{},\"showarrow\":false,\"text\":\"category=celestial\",\"x\":0.49999999999999994,\"xanchor\":\"center\",\"xref\":\"paper\",\"y\":1.0,\"yanchor\":\"bottom\",\"yref\":\"paper\"},{\"font\":{},\"showarrow\":false,\"text\":\"category=evangelical\",\"x\":0.8399999999999999,\"xanchor\":\"center\",\"xref\":\"paper\",\"y\":1.0,\"yanchor\":\"bottom\",\"yref\":\"paper\"}],\"legend\":{\"tracegroupgap\":0},\"height\":400,\"width\":600},                        {\"responsive\": true}                    )                };                            </script>        </div>"
      ],
      "text/plain": [
       "Figure({\n",
       "    'data': [{'hovertemplate': 'category=boomer<br>Year=%{x}<br>Count=%{y}<extra></extra>',\n",
       "              'legendgroup': '',\n",
       "              'line': {'color': '#1F77B4', 'dash': 'solid'},\n",
       "              'marker': {'symbol': 'circle'},\n",
       "              'mode': 'lines',\n",
       "              'name': '',\n",
       "              'orientation': 'v',\n",
       "              'showlegend': False,\n",
       "              'type': 'scatter',\n",
       "              'x': array([1880, 1881, 1882, 1883, 1884, 1885, 1886, 1887, 1888, 1889, 1890, 1891,\n",
       "                          1892, 1893, 1894, 1895, 1896, 1897, 1898, 1899, 1900, 1901, 1902, 1903,\n",
       "                          1904, 1905, 1906, 1907, 1908, 1909, 1910, 1911, 1912, 1913, 1914, 1915,\n",
       "                          1916, 1917, 1918, 1919, 1920, 1921, 1922, 1923, 1924, 1925, 1926, 1927,\n",
       "                          1928, 1929, 1930, 1931, 1932, 1933, 1934, 1935, 1936, 1937, 1938, 1939,\n",
       "                          1940, 1941, 1942, 1943, 1944, 1945, 1946, 1947, 1948, 1949, 1950, 1951,\n",
       "                          1952, 1953, 1954, 1955, 1956, 1957, 1958, 1959, 1960, 1961, 1962, 1963,\n",
       "                          1964, 1965, 1966, 1967, 1968, 1969, 1970, 1971, 1972, 1973, 1974, 1975,\n",
       "                          1976, 1977, 1978, 1979, 1980, 1981, 1982, 1983, 1984, 1985, 1986, 1987,\n",
       "                          1988, 1989, 1990, 1991, 1992, 1993, 1994, 1995, 1996, 1997, 1998, 1999,\n",
       "                          2000, 2001, 2002, 2003, 2004, 2005, 2006, 2007, 2008, 2009, 2010, 2011,\n",
       "                          2012, 2013, 2014, 2015, 2016, 2017, 2018, 2019, 2020, 2021, 2022]),\n",
       "              'xaxis': 'x4',\n",
       "              'y': array([   292,    298,    326,    322,    335,    312,    342,    344,    375,\n",
       "                             372,    377,    383,    384,    368,    379,    402,    364,    351,\n",
       "                             396,    367,    435,    363,    342,    322,    351,    353,    356,\n",
       "                             392,    376,    406,    430,    499,    599,    582,    760,    937,\n",
       "                             983,    981,   1108,    993,   1127,   1212,   1293,   1414,   1730,\n",
       "                            2117,   2670,   3409,   4069,   5098,   6560,   7270,   8405,   8491,\n",
       "                            9890,  10908,  11849,  12893,  15840,  17723,  21195,  26642,  33989,\n",
       "                           38162,  38090,  40328,  54232,  60599,  64633,  66485,  68551,  75155,\n",
       "                           77944,  82811,  90052,  93369, 102101, 106883, 107529, 103938,  98586,\n",
       "                           92820,  89643,  82413,  75540,  70106,  58360,  51548,  45926,  41994,\n",
       "                           38653,  33954,  26729,  22950,  21164,  19403,  17418,  16691,  14931,\n",
       "                           14112,  13127,  12019,  11289,   9971,   9227,   8296,   7663,   7075,\n",
       "                            6671,   6698,   6420,   5873,   5761,   5470,   4860,   4389,   4465,\n",
       "                            4090,   3786,   3722,   3703,   3586,   3567,   3547,   3364,   3106,\n",
       "                            3149,   3232,   2813,   2316,   2157,   1841,   1597,   1437,   1316,\n",
       "                            1286,   1266,   1168,   1001,    969,    885,    705,    645]),\n",
       "              'yaxis': 'y4'},\n",
       "             {'hovertemplate': 'category=celestial<br>Year=%{x}<br>Count=%{y}<extra></extra>',\n",
       "              'legendgroup': '',\n",
       "              'line': {'color': '#1F77B4', 'dash': 'solid'},\n",
       "              'marker': {'symbol': 'circle'},\n",
       "              'mode': 'lines',\n",
       "              'name': '',\n",
       "              'orientation': 'v',\n",
       "              'showlegend': False,\n",
       "              'type': 'scatter',\n",
       "              'x': array([1880, 1882, 1883, 1884, 1886, 1887, 1888, 1889, 1890, 1891, 1892, 1893,\n",
       "                          1894, 1895, 1896, 1897, 1898, 1899, 1900, 1901, 1902, 1903, 1904, 1905,\n",
       "                          1906, 1907, 1908, 1909, 1910, 1911, 1912, 1913, 1914, 1915, 1916, 1917,\n",
       "                          1918, 1919, 1920, 1921, 1922, 1923, 1924, 1925, 1926, 1927, 1928, 1929,\n",
       "                          1930, 1931, 1932, 1933, 1934, 1935, 1936, 1937, 1938, 1939, 1940, 1941,\n",
       "                          1942, 1943, 1944, 1945, 1946, 1947, 1948, 1949, 1950, 1951, 1952, 1953,\n",
       "                          1954, 1955, 1956, 1957, 1958, 1959, 1960, 1961, 1962, 1963, 1964, 1965,\n",
       "                          1966, 1967, 1968, 1969, 1970, 1971, 1972, 1973, 1974, 1975, 1976, 1977,\n",
       "                          1978, 1979, 1980, 1981, 1982, 1983, 1984, 1985, 1986, 1987, 1988, 1989,\n",
       "                          1990, 1991, 1992, 1993, 1994, 1995, 1996, 1997, 1998, 1999, 2000, 2001,\n",
       "                          2002, 2003, 2004, 2005, 2006, 2007, 2008, 2009, 2010, 2011, 2012, 2013,\n",
       "                          2014, 2015, 2016, 2017, 2018, 2019, 2020, 2021, 2022]),\n",
       "              'xaxis': 'x5',\n",
       "              'y': array([   6,    5,    8,    9,   13,   11,    7,   14,    7,   16,    5,    6,\n",
       "                            13,   22,   22,   20,   21,   15,   25,   12,   26,   15,   22,   20,\n",
       "                            14,   24,   17,   20,   22,   27,   30,   39,   38,   72,   79,   55,\n",
       "                            67,   63,   54,   67,   53,   65,   48,   46,   35,   39,   45,   28,\n",
       "                            41,   35,   29,   27,   29,   14,   21,   22,   12,   21,   16,   18,\n",
       "                            21,   23,   15,   23,   29,   35,   26,   49,   55,   35,   56,   50,\n",
       "                            73,  104,  152,  130,  131,  301,  180,  228,  182,  215,  193,  177,\n",
       "                           181,  223,  159,  161,  213,  274,  289,  303,  315,  306,  324,  330,\n",
       "                           329,  358,  346,  305,  319,  249,  208,  208,  227,  359,  336,  369,\n",
       "                           400,  391,  400,  418,  418,  473,  526,  709,  675,  641,  748,  740,\n",
       "                           793,  857,  874,  892,  865,  828,  800,  798,  792,  752,  850,  859,\n",
       "                          1019,  996,  974,  936,  940,  953,  873,  964, 1033]),\n",
       "              'yaxis': 'y5'},\n",
       "             {'hovertemplate': 'category=evangelical<br>Year=%{x}<br>Count=%{y}<extra></extra>',\n",
       "              'legendgroup': '',\n",
       "              'line': {'color': '#1F77B4', 'dash': 'solid'},\n",
       "              'marker': {'symbol': 'circle'},\n",
       "              'mode': 'lines',\n",
       "              'name': '',\n",
       "              'orientation': 'v',\n",
       "              'showlegend': False,\n",
       "              'type': 'scatter',\n",
       "              'x': array([1880, 1883, 1884, 1887, 1888, 1891, 1892, 1894, 1896, 1897, 1904, 1907,\n",
       "                          1908, 1910, 1911, 1912, 1913, 1914, 1915, 1916, 1917, 1918, 1919, 1920,\n",
       "                          1921, 1922, 1923, 1924, 1925, 1926, 1927, 1928, 1929, 1930, 1931, 1932,\n",
       "                          1933, 1934, 1935, 1936, 1937, 1938, 1939, 1940, 1941, 1942, 1943, 1944,\n",
       "                          1945, 1946, 1947, 1948, 1949, 1950, 1951, 1952, 1953, 1954, 1955, 1957,\n",
       "                          1958, 1959, 1960, 1961, 1962, 1964, 1965, 1966, 1968, 1969, 1970, 1971,\n",
       "                          1972, 1973, 1974, 1975, 1976, 1977, 1978, 1979, 1980, 1981, 1982, 1983,\n",
       "                          1984, 1985, 1986, 1987, 1988, 1989, 1990, 1991, 1992, 1993, 1994, 1995,\n",
       "                          1996, 1997, 1998, 1999, 2000, 2001, 2002, 2003, 2004, 2005, 2006, 2007,\n",
       "                          2008, 2009, 2010, 2011, 2012, 2013, 2014, 2015, 2016, 2017, 2018, 2019,\n",
       "                          2020, 2021, 2022]),\n",
       "              'xaxis': 'x6',\n",
       "              'y': array([   7,    7,    8,    6,    5,   11,    8,    6,   10,   14,    6,    5,\n",
       "                             6,   12,    6,    5,   11,   22,   41,   38,   34,   38,   35,   42,\n",
       "                            42,   41,   35,   37,   33,   32,   28,   33,   17,   21,   23,   17,\n",
       "                            21,   29,   24,   17,   21,   15,   22,   20,   23,   21,   21,   13,\n",
       "                            16,   12,   26,   20,   22,   22,   11,   21,   24,   19,   19,   27,\n",
       "                            15,   17,   15,   17,    9,    7,    6,   10,   10,   22,   10,   13,\n",
       "                             8,   26,   30,   23,   23,   51,   31,   29,   39,   26,   24,   51,\n",
       "                            41,   39,   22,   52,   48,   48,   73,   71,   70,   93,   86,   86,\n",
       "                           111,  119,  154,  156,  182,  232,  198,  237,  246,  246,  284,  269,\n",
       "                           294,  350,  362,  332,  422,  417,  461,  626,  844,  821,  944, 1066,\n",
       "                          1207, 1513, 1756]),\n",
       "              'yaxis': 'y6'},\n",
       "             {'hovertemplate': 'category=forbidden<br>Year=%{x}<br>Count=%{y}<extra></extra>',\n",
       "              'legendgroup': '',\n",
       "              'line': {'color': '#1F77B4', 'dash': 'solid'},\n",
       "              'marker': {'symbol': 'circle'},\n",
       "              'mode': 'lines',\n",
       "              'name': '',\n",
       "              'orientation': 'v',\n",
       "              'showlegend': False,\n",
       "              'type': 'scatter',\n",
       "              'x': array([1913, 1914, 1915, 1917, 1918, 1919, 1920, 1921, 1922, 1930, 1942, 1963,\n",
       "                          1964, 1966, 1967, 1970, 1971, 1973, 1974, 1975, 1978, 1985, 1987, 1989,\n",
       "                          1990, 1991, 1992, 1993, 1994, 1995, 1996, 1997, 1998, 1999, 2000, 2001,\n",
       "                          2002, 2003, 2004, 2005, 2006, 2007, 2008, 2009, 2010, 2011, 2012, 2013,\n",
       "                          2014, 2015, 2016, 2017, 2018, 2019, 2020, 2021, 2022]),\n",
       "              'xaxis': 'x',\n",
       "              'y': array([   6,    5,    6,    5,    7,    6,    9,    8,    6,    9,    5,    6,\n",
       "                             5,    8,    7,    8,    9,    6,    5,    6,    7,    7,    5,    5,\n",
       "                             7,   10,   13,    9,    9,   15,   12,   29,   63,   89,   89,   98,\n",
       "                           109,  121,  115,  130,  141,  165,  187,  235,  265,  290,  341,  337,\n",
       "                           471,  529,  606,  669,  627,  828, 1068, 1236, 1231]),\n",
       "              'yaxis': 'y'},\n",
       "             {'hovertemplate': 'category=mineral<br>Year=%{x}<br>Count=%{y}<extra></extra>',\n",
       "              'legendgroup': '',\n",
       "              'line': {'color': '#1F77B4', 'dash': 'solid'},\n",
       "              'marker': {'symbol': 'circle'},\n",
       "              'mode': 'lines',\n",
       "              'name': '',\n",
       "              'orientation': 'v',\n",
       "              'showlegend': False,\n",
       "              'type': 'scatter',\n",
       "              'x': array([1918, 1967, 1968, 1969, 1971, 1973, 1974, 1975, 1976, 1977, 1978, 1979,\n",
       "                          1980, 1981, 1982, 1983, 1984, 1985, 1986, 1987, 1988, 1989, 1990, 1991,\n",
       "                          1992, 1993, 1994, 1995, 1996, 1997, 1998, 1999, 2000, 2001, 2002, 2003,\n",
       "                          2004, 2005, 2006, 2007, 2008, 2009, 2010, 2011, 2012, 2013, 2014, 2015,\n",
       "                          2016, 2017, 2018, 2019, 2020, 2021, 2022]),\n",
       "              'xaxis': 'x2',\n",
       "              'y': array([   5,    5,    6,    5,    5,   10,    9,   17,   15,   15,   14,   15,\n",
       "                            22,   21,   33,   18,   37,   37,   37,   30,   51,   72,   91,   82,\n",
       "                           109,  118,  112,  112,  116,  132,  127,  117,  128,  128,  133,  134,\n",
       "                           133,  109,  136,  126,   99,  146,  143,  137,  187,  166,  232,  285,\n",
       "                           392,  435,  499,  605,  744, 1152, 1324]),\n",
       "              'yaxis': 'y2'},\n",
       "             {'hovertemplate': 'category=mythology<br>Year=%{x}<br>Count=%{y}<extra></extra>',\n",
       "              'legendgroup': '',\n",
       "              'line': {'color': '#1F77B4', 'dash': 'solid'},\n",
       "              'marker': {'symbol': 'circle'},\n",
       "              'mode': 'lines',\n",
       "              'name': '',\n",
       "              'orientation': 'v',\n",
       "              'showlegend': False,\n",
       "              'type': 'scatter',\n",
       "              'x': array([1880, 1881, 1882, 1883, 1884, 1885, 1886, 1887, 1888, 1889, 1890, 1891,\n",
       "                          1892, 1893, 1894, 1895, 1896, 1897, 1898, 1899, 1900, 1901, 1902, 1903,\n",
       "                          1904, 1905, 1906, 1907, 1908, 1909, 1910, 1911, 1912, 1913, 1914, 1915,\n",
       "                          1916, 1917, 1918, 1919, 1920, 1921, 1922, 1923, 1924, 1925, 1926, 1927,\n",
       "                          1928, 1929, 1930, 1931, 1932, 1933, 1934, 1935, 1936, 1937, 1938, 1939,\n",
       "                          1940, 1941, 1942, 1943, 1944, 1945, 1946, 1947, 1948, 1949, 1950, 1951,\n",
       "                          1952, 1953, 1954, 1955, 1956, 1957, 1958, 1959, 1960, 1961, 1962, 1963,\n",
       "                          1964, 1965, 1966, 1967, 1968, 1969, 1970, 1971, 1972, 1973, 1974, 1975,\n",
       "                          1976, 1977, 1978, 1979, 1980, 1981, 1982, 1983, 1984, 1985, 1986, 1987,\n",
       "                          1988, 1989, 1990, 1991, 1992, 1993, 1994, 1995, 1996, 1997, 1998, 1999,\n",
       "                          2000, 2001, 2002, 2003, 2004, 2005, 2006, 2007, 2008, 2009, 2010, 2011,\n",
       "                          2012, 2013, 2014, 2015, 2016, 2017, 2018, 2019, 2020, 2021, 2022]),\n",
       "              'xaxis': 'x3',\n",
       "              'y': array([ 160,  138,  180,  170,  168,  157,  173,  169,  212,  165,  166,  161,\n",
       "                           198,  203,  178,  171,  174,  159,  181,  161,  206,  168,  159,  173,\n",
       "                           189,  190,  190,  231,  268,  269,  355,  368,  766,  846, 1064, 1379,\n",
       "                          1383, 1408, 1438, 1331, 1339, 1346, 1297, 1211, 1144, 1104, 1058,  935,\n",
       "                           880,  864,  831,  733,  723,  559,  584,  574,  548,  570,  560,  545,\n",
       "                           602,  596,  601,  639,  570,  497,  565,  624,  567,  566,  524,  524,\n",
       "                           489,  566,  607,  621,  525,  607,  507,  525,  513,  448,  450,  510,\n",
       "                           511,  467,  440,  410,  391,  405,  405,  424,  386,  370,  386,  366,\n",
       "                           387,  486,  494,  529,  562,  578,  593,  623,  569,  546,  509,  569,\n",
       "                           575,  596,  666,  625,  606,  508,  476,  522,  532,  584,  573,  589,\n",
       "                           663,  816,  867,  899,  973, 1124, 1377, 1514, 1563, 1457, 1404, 1443,\n",
       "                          1467, 1670, 2147, 2490, 2673, 2799, 2947, 3330, 3516, 3895, 4049]),\n",
       "              'yaxis': 'y3'}],\n",
       "    'layout': {'annotations': [{'font': {},\n",
       "                                'showarrow': False,\n",
       "                                'text': 'category=forbidden',\n",
       "                                'x': 0.15999999999999998,\n",
       "                                'xanchor': 'center',\n",
       "                                'xref': 'paper',\n",
       "                                'y': 0.425,\n",
       "                                'yanchor': 'bottom',\n",
       "                                'yref': 'paper'},\n",
       "                               {'font': {},\n",
       "                                'showarrow': False,\n",
       "                                'text': 'category=mineral',\n",
       "                                'x': 0.49999999999999994,\n",
       "                                'xanchor': 'center',\n",
       "                                'xref': 'paper',\n",
       "                                'y': 0.425,\n",
       "                                'yanchor': 'bottom',\n",
       "                                'yref': 'paper'},\n",
       "                               {'font': {},\n",
       "                                'showarrow': False,\n",
       "                                'text': 'category=mythology',\n",
       "                                'x': 0.8399999999999999,\n",
       "                                'xanchor': 'center',\n",
       "                                'xref': 'paper',\n",
       "                                'y': 0.425,\n",
       "                                'yanchor': 'bottom',\n",
       "                                'yref': 'paper'},\n",
       "                               {'font': {},\n",
       "                                'showarrow': False,\n",
       "                                'text': 'category=boomer',\n",
       "                                'x': 0.15999999999999998,\n",
       "                                'xanchor': 'center',\n",
       "                                'xref': 'paper',\n",
       "                                'y': 1.0,\n",
       "                                'yanchor': 'bottom',\n",
       "                                'yref': 'paper'},\n",
       "                               {'font': {},\n",
       "                                'showarrow': False,\n",
       "                                'text': 'category=celestial',\n",
       "                                'x': 0.49999999999999994,\n",
       "                                'xanchor': 'center',\n",
       "                                'xref': 'paper',\n",
       "                                'y': 1.0,\n",
       "                                'yanchor': 'bottom',\n",
       "                                'yref': 'paper'},\n",
       "                               {'font': {},\n",
       "                                'showarrow': False,\n",
       "                                'text': 'category=evangelical',\n",
       "                                'x': 0.8399999999999999,\n",
       "                                'xanchor': 'center',\n",
       "                                'xref': 'paper',\n",
       "                                'y': 1.0,\n",
       "                                'yanchor': 'bottom',\n",
       "                                'yref': 'paper'}],\n",
       "               'height': 400,\n",
       "               'legend': {'tracegroupgap': 0},\n",
       "               'template': '...',\n",
       "               'width': 600,\n",
       "               'xaxis': {'anchor': 'y', 'domain': [0.0, 0.31999999999999995], 'title': {'text': 'Year'}},\n",
       "               'xaxis2': {'anchor': 'y2',\n",
       "                          'domain': [0.33999999999999997, 0.6599999999999999],\n",
       "                          'matches': 'x',\n",
       "                          'title': {'text': 'Year'}},\n",
       "               'xaxis3': {'anchor': 'y3',\n",
       "                          'domain': [0.6799999999999999, 0.9999999999999999],\n",
       "                          'matches': 'x',\n",
       "                          'title': {'text': 'Year'}},\n",
       "               'xaxis4': {'anchor': 'y4', 'domain': [0.0, 0.31999999999999995], 'matches': 'x', 'showticklabels': False},\n",
       "               'xaxis5': {'anchor': 'y5',\n",
       "                          'domain': [0.33999999999999997, 0.6599999999999999],\n",
       "                          'matches': 'x',\n",
       "                          'showticklabels': False},\n",
       "               'xaxis6': {'anchor': 'y6',\n",
       "                          'domain': [0.6799999999999999, 0.9999999999999999],\n",
       "                          'matches': 'x',\n",
       "                          'showticklabels': False},\n",
       "               'yaxis': {'anchor': 'x', 'domain': [0.0, 0.425], 'showticklabels': False, 'title': {'text': 'Count'}},\n",
       "               'yaxis2': {'anchor': 'x2', 'domain': [0.0, 0.425], 'showticklabels': False},\n",
       "               'yaxis3': {'anchor': 'x3', 'domain': [0.0, 0.425], 'showticklabels': False},\n",
       "               'yaxis4': {'anchor': 'x4', 'domain': [0.575, 1.0], 'showticklabels': False, 'title': {'text': 'Count'}},\n",
       "               'yaxis5': {'anchor': 'x5', 'domain': [0.575, 1.0], 'showticklabels': False},\n",
       "               'yaxis6': {'anchor': 'x6', 'domain': [0.575, 1.0], 'showticklabels': False}}\n",
       "})"
      ]
     },
     "execution_count": 52,
     "metadata": {},
     "output_type": "execute_result"
    }
   ],
   "source": [
    "# We'll talk about plotting code soon!\n",
    "import plotly.express as px\n",
    "fig = px.line(cate_counts, x='Year', y='Count',\n",
    "              facet_col='category', facet_col_wrap=3,\n",
    "              facet_row_spacing=0.15,\n",
    "              width=600, height=400)\n",
    "fig.update_yaxes(matches=None, showticklabels=False)"
   ]
  },
  {
   "cell_type": "markdown",
   "id": "e2bd3643",
   "metadata": {
    "editable": true,
    "slideshow": {
     "slide_type": "slide"
    },
    "tags": []
   },
   "source": [
    "<div class=\"alert alert-info\">\n",
    "    <h3>Questions? 🤔</h3>\n",
    "</div>"
   ]
  },
  {
   "cell_type": "code",
   "execution_count": 53,
   "id": "995da2be",
   "metadata": {
    "editable": true,
    "slideshow": {
     "slide_type": ""
    },
    "tags": []
   },
   "outputs": [
    {
     "ename": "NameError",
     "evalue": "name 'number_of_vowels' is not defined",
     "output_type": "error",
     "traceback": [
      "\u001b[1;31m---------------------------------------------------------------------------\u001b[0m",
      "\u001b[1;31mNameError\u001b[0m                                 Traceback (most recent call last)",
      "Cell \u001b[1;32mIn[53], line 1\u001b[0m\n\u001b[1;32m----> 1\u001b[0m \u001b[43mget_ipython\u001b[49m\u001b[43m(\u001b[49m\u001b[43m)\u001b[49m\u001b[38;5;241;43m.\u001b[39;49m\u001b[43mrun_cell_magic\u001b[49m\u001b[43m(\u001b[49m\u001b[38;5;124;43m'\u001b[39;49m\u001b[38;5;124;43mtimeit\u001b[39;49m\u001b[38;5;124;43m'\u001b[39;49m\u001b[43m,\u001b[49m\u001b[43m \u001b[49m\u001b[38;5;124;43m'\u001b[39;49m\u001b[38;5;124;43m'\u001b[39;49m\u001b[43m,\u001b[49m\u001b[43m \u001b[49m\u001b[38;5;124;43m\"\u001b[39;49m\u001b[38;5;124;43mbaby[\u001b[39;49m\u001b[38;5;124;43m'\u001b[39;49m\u001b[38;5;124;43mName\u001b[39;49m\u001b[38;5;124;43m'\u001b[39;49m\u001b[38;5;124;43m].apply(number_of_vowels)\u001b[39;49m\u001b[38;5;130;43;01m\\n\u001b[39;49;00m\u001b[38;5;124;43m\"\u001b[39;49m\u001b[43m)\u001b[49m\n",
      "File \u001b[1;32mc:\\miniforge3\\envs\\dsc80\\Lib\\site-packages\\IPython\\core\\interactiveshell.py:2541\u001b[0m, in \u001b[0;36mInteractiveShell.run_cell_magic\u001b[1;34m(self, magic_name, line, cell)\u001b[0m\n\u001b[0;32m   2539\u001b[0m \u001b[38;5;28;01mwith\u001b[39;00m \u001b[38;5;28mself\u001b[39m\u001b[38;5;241m.\u001b[39mbuiltin_trap:\n\u001b[0;32m   2540\u001b[0m     args \u001b[38;5;241m=\u001b[39m (magic_arg_s, cell)\n\u001b[1;32m-> 2541\u001b[0m     result \u001b[38;5;241m=\u001b[39m \u001b[43mfn\u001b[49m\u001b[43m(\u001b[49m\u001b[38;5;241;43m*\u001b[39;49m\u001b[43margs\u001b[49m\u001b[43m,\u001b[49m\u001b[43m \u001b[49m\u001b[38;5;241;43m*\u001b[39;49m\u001b[38;5;241;43m*\u001b[39;49m\u001b[43mkwargs\u001b[49m\u001b[43m)\u001b[49m\n\u001b[0;32m   2543\u001b[0m \u001b[38;5;66;03m# The code below prevents the output from being displayed\u001b[39;00m\n\u001b[0;32m   2544\u001b[0m \u001b[38;5;66;03m# when using magics with decorator @output_can_be_silenced\u001b[39;00m\n\u001b[0;32m   2545\u001b[0m \u001b[38;5;66;03m# when the last Python token in the expression is a ';'.\u001b[39;00m\n\u001b[0;32m   2546\u001b[0m \u001b[38;5;28;01mif\u001b[39;00m \u001b[38;5;28mgetattr\u001b[39m(fn, magic\u001b[38;5;241m.\u001b[39mMAGIC_OUTPUT_CAN_BE_SILENCED, \u001b[38;5;28;01mFalse\u001b[39;00m):\n",
      "File \u001b[1;32mc:\\miniforge3\\envs\\dsc80\\Lib\\site-packages\\IPython\\core\\magics\\execution.py:1195\u001b[0m, in \u001b[0;36mExecutionMagics.timeit\u001b[1;34m(self, line, cell, local_ns)\u001b[0m\n\u001b[0;32m   1193\u001b[0m \u001b[38;5;28;01mfor\u001b[39;00m index \u001b[38;5;129;01min\u001b[39;00m \u001b[38;5;28mrange\u001b[39m(\u001b[38;5;241m0\u001b[39m, \u001b[38;5;241m10\u001b[39m):\n\u001b[0;32m   1194\u001b[0m     number \u001b[38;5;241m=\u001b[39m \u001b[38;5;241m10\u001b[39m \u001b[38;5;241m*\u001b[39m\u001b[38;5;241m*\u001b[39m index\n\u001b[1;32m-> 1195\u001b[0m     time_number \u001b[38;5;241m=\u001b[39m \u001b[43mtimer\u001b[49m\u001b[38;5;241;43m.\u001b[39;49m\u001b[43mtimeit\u001b[49m\u001b[43m(\u001b[49m\u001b[43mnumber\u001b[49m\u001b[43m)\u001b[49m\n\u001b[0;32m   1196\u001b[0m     \u001b[38;5;28;01mif\u001b[39;00m time_number \u001b[38;5;241m>\u001b[39m\u001b[38;5;241m=\u001b[39m \u001b[38;5;241m0.2\u001b[39m:\n\u001b[0;32m   1197\u001b[0m         \u001b[38;5;28;01mbreak\u001b[39;00m\n",
      "File \u001b[1;32mc:\\miniforge3\\envs\\dsc80\\Lib\\site-packages\\IPython\\core\\magics\\execution.py:173\u001b[0m, in \u001b[0;36mTimer.timeit\u001b[1;34m(self, number)\u001b[0m\n\u001b[0;32m    171\u001b[0m gc\u001b[38;5;241m.\u001b[39mdisable()\n\u001b[0;32m    172\u001b[0m \u001b[38;5;28;01mtry\u001b[39;00m:\n\u001b[1;32m--> 173\u001b[0m     timing \u001b[38;5;241m=\u001b[39m \u001b[38;5;28;43mself\u001b[39;49m\u001b[38;5;241;43m.\u001b[39;49m\u001b[43minner\u001b[49m\u001b[43m(\u001b[49m\u001b[43mit\u001b[49m\u001b[43m,\u001b[49m\u001b[43m \u001b[49m\u001b[38;5;28;43mself\u001b[39;49m\u001b[38;5;241;43m.\u001b[39;49m\u001b[43mtimer\u001b[49m\u001b[43m)\u001b[49m\n\u001b[0;32m    174\u001b[0m \u001b[38;5;28;01mfinally\u001b[39;00m:\n\u001b[0;32m    175\u001b[0m     \u001b[38;5;28;01mif\u001b[39;00m gcold:\n",
      "File \u001b[1;32m<magic-timeit>:1\u001b[0m, in \u001b[0;36minner\u001b[1;34m(_it, _timer)\u001b[0m\n",
      "\u001b[1;31mNameError\u001b[0m: name 'number_of_vowels' is not defined"
     ]
    }
   ],
   "source": [
    "%%timeit\n",
    "baby['Name'].apply(number_of_vowels)"
   ]
  },
  {
   "cell_type": "code",
   "execution_count": null,
   "id": "f698c9b0",
   "metadata": {
    "editable": true,
    "slideshow": {
     "slide_type": ""
    },
    "tags": []
   },
   "outputs": [],
   "source": [
    "%%timeit\n",
    "res = []\n",
    "for name in baby['Name']:\n",
    "    res.append(number_of_vowels(name))"
   ]
  },
  {
   "cell_type": "markdown",
   "id": "cb249fb8",
   "metadata": {
    "editable": true,
    "slideshow": {
     "slide_type": "fragment"
    },
    "tags": []
   },
   "source": [
    "**Internally, `apply` actually just runs a `for`-loop!**\n",
    "\n",
    "**So, when possible – say, when applying arithmetic operations – we should work on Series objects directly and avoid `apply`!**"
   ]
  },
  {
   "cell_type": "markdown",
   "id": "5b989f24",
   "metadata": {
    "editable": true,
    "slideshow": {
     "slide_type": "slide"
    },
    "tags": []
   },
   "source": [
    "## Other data representations"
   ]
  },
  {
   "cell_type": "markdown",
   "id": "62f289f4",
   "metadata": {
    "editable": true,
    "slideshow": {
     "slide_type": "slide"
    },
    "tags": []
   },
   "source": [
    "### Representations of tabular data\n",
    "\n",
    "- In DSC 80, we work with DataFrames in `pandas`.\n",
    "    - When we say `pandas` DataFrame, we're talking about the `pandas` API for its DataFrame objects.\n",
    "        - API stands for \"application programming interface.\" We'll learn about these more soon.\n",
    "    - When we say \"DataFrame\", we're referring to a general way to represent data (rows and columns, with labels for both rows and columns).\n",
    "\n",
    "- There many other ways to work with data tables! \n",
    "    - Examples: R data frames, SQL databases, spreadsheets, or even matrices from linear algebra.\n",
    "    - When you learn SQL in DSC 100, you'll find many similaries (e.g. slicing columns, filtering rows, grouping, joining, etc.).\n",
    "    - **Relational algebra** captures common data operations between many data table systems.\n",
    "\n",
    "- Why use DataFrames over something else?"
   ]
  },
  {
   "cell_type": "markdown",
   "id": "2e3f5cb6",
   "metadata": {
    "editable": true,
    "slideshow": {
     "slide_type": "slide"
    },
    "tags": []
   },
   "source": [
    "### DataFrames vs. spreadsheets\n",
    "\n",
    "- DataFrames give us a **data lineage**: the code records down data changes. Not so in spreadsheets!\n",
    "- Using a general-purpose programming language gives us the ability to handle much larger datasets, and we can use distributed computing systems to handle massive datasets."
   ]
  },
  {
   "cell_type": "markdown",
   "id": "91460c02",
   "metadata": {
    "editable": true,
    "slideshow": {
     "slide_type": "slide"
    },
    "tags": []
   },
   "source": [
    "### DataFrames vs. matrices\n",
    "\n",
    "\\begin{split}\n",
    "\\begin{aligned}\n",
    "\\mathbf{X} = \\begin{bmatrix}\n",
    "1 & 0 \\\\\n",
    "0 & 4 \\\\\n",
    "0 & 0 \\\\\n",
    "\\end{bmatrix}\n",
    "\\end{aligned}\n",
    "\\end{split}\n",
    "\n",
    "- Matrices are mathematical objects. They only hold numbers, but have many useful properties (which you've learned about in your linear algebra class, Math 18).\n",
    "- Often, we process data from a DataFrame into matrix format for machine learning models. You saw this a bit in DSC 40A, and we'll see this more in DSC 80 in a few weeks."
   ]
  },
  {
   "cell_type": "markdown",
   "id": "6d2a834c",
   "metadata": {
    "editable": true,
    "slideshow": {
     "slide_type": "slide"
    },
    "tags": []
   },
   "source": [
    "### DataFrames vs. relations\n",
    "\n",
    "- Relations are the data representation for relational database systems (e.g. MySQL, PostgreSQL, etc.).\n",
    "- You'll learn all about these in DSC 100.\n",
    "- Database systems are much better than DataFrames at storing **many large** data tables and handling concurrency (many people reading and writing data at the same time).\n",
    "- Common workflow: load a subset of data in from a database system into `pandas`, then make a plot.\n",
    "- Or: load and clean data in `pandas`, then store it in a database system for others to use."
   ]
  },
  {
   "cell_type": "markdown",
   "id": "cb70d254",
   "metadata": {
    "editable": true,
    "slideshow": {
     "slide_type": "slide"
    },
    "tags": []
   },
   "source": [
    "## Summary\n",
    "\n",
    "- There is no \"formula\" to automatically resolve Simpson's paradox! Domain knowledge is important.\n",
    "- We've covered most of the primary DataFrame operations: subsetting, aggregating, joining, and transforming.\n",
    "\n",
    "### Next time\n",
    "\n",
    "Data cleaning: applying what we've already learned to real-world, messy data!"
   ]
  }
 ],
 "metadata": {
  "kernelspec": {
   "display_name": "dsc80",
   "language": "python",
   "name": "python3"
  },
  "language_info": {
   "codemirror_mode": {
    "name": "ipython",
    "version": 3
   },
   "file_extension": ".py",
   "mimetype": "text/x-python",
   "name": "python",
   "nbconvert_exporter": "python",
   "pygments_lexer": "ipython3",
   "version": "3.12.10"
  },
  "livereveal": {
   "scroll": true
  },
  "rise": {
   "transition": "none"
  }
 },
 "nbformat": 4,
 "nbformat_minor": 5
}
